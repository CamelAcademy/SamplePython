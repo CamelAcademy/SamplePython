{
 "cells": [
  {
   "cell_type": "markdown",
   "metadata": {},
   "source": [
    "# Tips Dataset\n",
    "\n",
    "\n",
    "`Data Features:`\n",
    "\n",
    "**total_bill**: a numeric vector, the bill amount (dollars)\n",
    "\n",
    "\n",
    "**tip**: a numeric vector, the tip amount (dollars)\n",
    "\n",
    "\n",
    "**sex**: a factor with levels Female Male, gender of the payer of the bill\n",
    "\n",
    "\n",
    "**smoker**: a factor with levels No Yes, whether the party included smokers\n",
    "\n",
    "\n",
    "**day**: a factor with levels Friday Saturday Sunday Thursday, day of the week\n",
    "\n",
    "\n",
    "**time**: a factor with levels Day Night, rough time of day\n",
    "\n",
    "\n",
    "**size**: a numeric vector, number of people in a table/Party"
   ]
  },
  {
   "cell_type": "markdown",
   "metadata": {},
   "source": [
    "### Q1] Import the libraries"
   ]
  },
  {
   "cell_type": "code",
   "execution_count": null,
   "metadata": {},
   "outputs": [],
   "source": []
  },
  {
   "cell_type": "markdown",
   "metadata": {},
   "source": [
    "### Q2] Get the Dataset. Check info and shape. Display first 5 rows."
   ]
  },
  {
   "cell_type": "code",
   "execution_count": null,
   "metadata": {},
   "outputs": [],
   "source": []
  },
  {
   "cell_type": "markdown",
   "metadata": {},
   "source": [
    "### Q3] Understand the distribution of 'tip' and 'total_bill' using different plots\n",
    "\n",
    "Hint: Use distplot and boxplot"
   ]
  },
  {
   "cell_type": "code",
   "execution_count": null,
   "metadata": {},
   "outputs": [],
   "source": []
  },
  {
   "cell_type": "markdown",
   "metadata": {},
   "source": [
    "### Q4] Relationship between 'total_bill' and 'tip'\n",
    "\n",
    "Implement jointplot, hex jointplot, pairplot and lmplot"
   ]
  },
  {
   "cell_type": "code",
   "execution_count": null,
   "metadata": {},
   "outputs": [],
   "source": []
  },
  {
   "cell_type": "markdown",
   "metadata": {},
   "source": [
    "### Q5] Make plots to check distribution of tip with different gender. \n",
    "\n",
    "Use striplot and boxplot"
   ]
  },
  {
   "cell_type": "code",
   "execution_count": null,
   "metadata": {},
   "outputs": [],
   "source": []
  },
  {
   "cell_type": "markdown",
   "metadata": {},
   "source": [
    "### Q6] Draw relationship between 'total_bill', 'tip' and 'sex'\n",
    "\n",
    "use lmplot"
   ]
  },
  {
   "cell_type": "code",
   "execution_count": null,
   "metadata": {},
   "outputs": [],
   "source": []
  },
  {
   "cell_type": "markdown",
   "metadata": {},
   "source": [
    "### Q7] Which day bring in higher bill amount?\n",
    "\n",
    "use stripplot, swarmplot and boxplot"
   ]
  },
  {
   "cell_type": "code",
   "execution_count": null,
   "metadata": {},
   "outputs": [],
   "source": []
  },
  {
   "cell_type": "markdown",
   "metadata": {},
   "source": [
    "### Q8] Find out count of total males and females visiting each day.\n",
    "\n",
    "use countplot"
   ]
  },
  {
   "cell_type": "code",
   "execution_count": null,
   "metadata": {},
   "outputs": [],
   "source": []
  },
  {
   "cell_type": "markdown",
   "metadata": {},
   "source": [
    "### Q9] At what time of which day does the restaurant get higher amount of bill (consider for male and female separately)\n",
    "\n",
    "use lmplot"
   ]
  },
  {
   "cell_type": "code",
   "execution_count": null,
   "metadata": {},
   "outputs": [],
   "source": []
  },
  {
   "cell_type": "markdown",
   "metadata": {},
   "source": [
    "### Q10] Plot graphs for smoker and non-smoker (try drawing relationship with 'tip').\n",
    "\n",
    "use stripplot and boxplot"
   ]
  },
  {
   "cell_type": "code",
   "execution_count": null,
   "metadata": {},
   "outputs": [],
   "source": []
  },
  {
   "cell_type": "markdown",
   "metadata": {},
   "source": [
    "### Q11] Draw relationship between 'total_bill', 'tip' and 'smokers'"
   ]
  },
  {
   "cell_type": "code",
   "execution_count": null,
   "metadata": {},
   "outputs": [],
   "source": []
  }
 ],
 "metadata": {
  "kernelspec": {
   "display_name": "Python 3",
   "language": "python",
   "name": "python3"
  },
  "language_info": {
   "codemirror_mode": {
    "name": "ipython",
    "version": 3
   },
   "file_extension": ".py",
   "mimetype": "text/x-python",
   "name": "python",
   "nbconvert_exporter": "python",
   "pygments_lexer": "ipython3",
   "version": "3.7.4"
  }
 },
 "nbformat": 4,
 "nbformat_minor": 2
}
