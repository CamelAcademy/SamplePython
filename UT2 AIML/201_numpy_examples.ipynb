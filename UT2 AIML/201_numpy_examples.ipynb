{
 "cells": [
  {
   "cell_type": "markdown",
   "metadata": {},
   "source": [
    "# NumPy\n",
    "\n",
    "numpy is python's package for doing math that is more advanced than +-*/\n",
    "\n",
    "This includes special functions like cosine, exponential, sqrt, ...\n",
    "\n",
    "On top of this we can use numpy to generate samples from many types of random variables\n",
    "\n",
    "numpy also has a powerful data type to define vectors, matrices, and tensors\n",
    "\n",
    "With these data types numpy also allows us to do linear algebra - matrix multiplication and matrix-vector solutions"
   ]
  },
  {
   "cell_type": "code",
   "execution_count": 1,
   "metadata": {},
   "outputs": [],
   "source": [
    "# the first step of using numpy is to tell python to use it\n",
    "import numpy as np"
   ]
  },
  {
   "cell_type": "code",
   "execution_count": 2,
   "metadata": {},
   "outputs": [
    {
     "name": "stdout",
     "output_type": "stream",
     "text": [
      "-1.0\n",
      "1.1\n",
      "5.2\n"
     ]
    }
   ],
   "source": [
    "print(np.cos(np.pi))\n",
    "print(np.sqrt(1.21))\n",
    "print(np.log(np.exp(5.2)))"
   ]
  },
  {
   "cell_type": "code",
   "execution_count": 3,
   "metadata": {},
   "outputs": [
    {
     "name": "stdout",
     "output_type": "stream",
     "text": [
      "[1 2 3]\n",
      "\n",
      "[[1 2 1]\n",
      " [4 5 9]\n",
      " [1 8 9]]\n",
      "\n",
      "[[1 4 1]\n",
      " [2 5 8]\n",
      " [1 9 9]]\n"
     ]
    }
   ],
   "source": [
    "# we can create numpy arrays by converting lists\n",
    "# this is a vector\n",
    "vec = np.array([1,2,3])\n",
    "print(vec)\n",
    "# we can create matrices by converting lists of lists\n",
    "mat = np.array([[1,2,1],[4,5,9],[1,8,9]])\n",
    "print('')\n",
    "print(mat)\n",
    "print('')\n",
    "print(mat.T)"
   ]
  },
  {
   "cell_type": "code",
   "execution_count": 4,
   "metadata": {},
   "outputs": [
    {
     "name": "stdout",
     "output_type": "stream",
     "text": [
      "[ 0  1  2  3  4  5  6  7  8  9 10 11 12 13 14]\n",
      "\n",
      "[ 3  9 15]\n"
     ]
    }
   ],
   "source": [
    "# there are lots of other ways to create numpy arrays\n",
    "vec2 = np.arange(0,15)\n",
    "print(vec2)\n",
    "print('')\n",
    "vec3 = np.arange(3,21,6)\n",
    "print(vec3)\n"
   ]
  },
  {
   "cell_type": "code",
   "execution_count": 5,
   "metadata": {},
   "outputs": [
    {
     "name": "stdout",
     "output_type": "stream",
     "text": [
      "[0.         0.55555556 1.11111111 1.66666667 2.22222222 2.77777778\n",
      " 3.33333333 3.88888889 4.44444444 5.        ]\n",
      "\n",
      "[[0.         0.55555556]\n",
      " [1.11111111 1.66666667]\n",
      " [2.22222222 2.77777778]\n",
      " [3.33333333 3.88888889]\n",
      " [4.44444444 5.        ]]\n",
      "[[0.         0.55555556]\n",
      " [1.11111111 1.66666667]\n",
      " [2.22222222 2.77777778]\n",
      " [3.33333333 3.88888889]\n",
      " [4.44444444 5.        ]]\n",
      "[0.         0.55555556 1.11111111 1.66666667 2.22222222 2.77777778\n",
      " 3.33333333 3.88888889 4.44444444 5.        ]\n"
     ]
    }
   ],
   "source": [
    "\n",
    "vec4 = np.linspace(0,5,10)\n",
    "print(vec4)\n",
    "print('')\n",
    "print(vec4.reshape(5,2))\n",
    "vec4_reshaped = vec4.reshape(5,2)\n",
    "print(vec4_reshaped)\n",
    "print(vec4)"
   ]
  },
  {
   "cell_type": "code",
   "execution_count": 6,
   "metadata": {},
   "outputs": [
    {
     "name": "stdout",
     "output_type": "stream",
     "text": [
      "[[0. 0. 0.]\n",
      " [0. 0. 0.]\n",
      " [0. 0. 0.]\n",
      " [0. 0. 0.]\n",
      " [0. 0. 0.]]\n",
      "\n",
      "[[1. 1. 1. 1. 1.]\n",
      " [1. 1. 1. 1. 1.]\n",
      " [1. 1. 1. 1. 1.]]\n",
      "\n",
      "[[1. 0. 0. 0. 0.]\n",
      " [0. 1. 0. 0. 0.]\n",
      " [0. 0. 1. 0. 0.]\n",
      " [0. 0. 0. 1. 0.]\n",
      " [0. 0. 0. 0. 1.]]\n"
     ]
    }
   ],
   "source": [
    "mat2 = np.zeros([5,3])\n",
    "print(mat2)\n",
    "mat3 = np.ones((3,5))\n",
    "print('')\n",
    "print(mat3)\n",
    "mat4 = np.eye(5)\n",
    "print('')\n",
    "print(mat4)"
   ]
  },
  {
   "cell_type": "code",
   "execution_count": 7,
   "metadata": {},
   "outputs": [
    {
     "name": "stdout",
     "output_type": "stream",
     "text": [
      "[1 2 3 4 5]\n",
      "[3 4 5 6 7]\n",
      "[ 4  6  8 10 12]\n",
      "[ 3  8 15 24 35]\n",
      "[1.         0.5        0.33333333 0.25       0.2       ]\n",
      "[1.73205081 2.         2.23606798 2.44948974 2.64575131]\n"
     ]
    }
   ],
   "source": [
    "# we can +-*/ arrays together if they're the right size\n",
    "vec5 = np.arange(1,6)\n",
    "vec6 = np.arange(3,8)\n",
    "print(vec5)\n",
    "print(vec6)\n",
    "print(vec5+vec6)\n",
    "print(vec5*vec6)\n",
    "print(1/vec5)\n",
    "print(np.sqrt(vec6))"
   ]
  },
  {
   "cell_type": "code",
   "execution_count": 8,
   "metadata": {},
   "outputs": [
    {
     "name": "stdout",
     "output_type": "stream",
     "text": [
      "[[1 2 1]\n",
      " [4 5 9]\n",
      " [1 8 9]]\n",
      "\n",
      "[1 2 3]\n",
      "\n",
      "[ 8 41 44]\n"
     ]
    }
   ],
   "source": [
    "# we can do matrix multiplication\n",
    "print(mat)\n",
    "print('')\n",
    "print(vec)\n",
    "print()\n",
    "product = np.matmul(mat,vec)\n",
    "print(product)"
   ]
  },
  {
   "cell_type": "code",
   "execution_count": 9,
   "metadata": {},
   "outputs": [
    {
     "name": "stdout",
     "output_type": "stream",
     "text": [
      "[1. 2. 3.]\n",
      "\n",
      "[[ 0.5         0.18518519 -0.24074074]\n",
      " [ 0.5        -0.14814815  0.09259259]\n",
      " [-0.5         0.11111111  0.05555556]]\n"
     ]
    }
   ],
   "source": [
    "print(np.linalg.solve(mat,product))\n",
    "print('')\n",
    "print(np.linalg.inv(mat))"
   ]
  },
  {
   "cell_type": "code",
   "execution_count": 10,
   "metadata": {},
   "outputs": [
    {
     "name": "stdout",
     "output_type": "stream",
     "text": [
      "['blue' 'red' 'orange' 'purple' 'purple' 'orange' 'Red' '6']\n",
      "['6' 'Red' 'blue' 'orange' 'purple' 'red']\n"
     ]
    }
   ],
   "source": [
    "# we can find the unique values in an array\n",
    "vec7 = np.array(['blue','red','orange','purple','purple','orange','Red',6])\n",
    "print(vec7)\n",
    "print(np.unique(vec7))"
   ]
  },
  {
   "cell_type": "code",
   "execution_count": 11,
   "metadata": {},
   "outputs": [
    {
     "name": "stdout",
     "output_type": "stream",
     "text": [
      "[[0.86719737 0.60637567 0.14408614 0.74362284 0.83590232]\n",
      " [0.40927565 0.13616299 0.53503969 0.17582132 0.86985041]\n",
      " [0.52386551 0.0549992  0.59922782 0.04695566 0.08391784]\n",
      " [0.51080859 0.33192905 0.62776194 0.80776548 0.34194012]\n",
      " [0.73237008 0.80811929 0.5587043  0.61282078 0.80843071]]\n",
      "\n",
      "[[ 0.97039139 -1.69069369 -1.42657277 -0.83405234 -0.29964714]\n",
      " [-1.08068071 -0.81629364  0.06264283  0.09108538 -0.80041883]\n",
      " [-0.53076813 -0.221841   -0.10229567 -0.05823318  0.01880008]\n",
      " [-0.20712121 -0.22819849  0.2360927  -0.89234939  0.10044719]\n",
      " [ 0.74028166  0.51911865  0.08026382  0.77773939 -0.1353489 ]\n",
      " [ 0.84705737  1.11026937 -1.55905001 -0.88210821  2.10111854]\n",
      " [ 1.50341347  0.65662915  0.21780362  0.91378603 -0.22795237]\n",
      " [-0.87121709 -2.6374445  -0.29516075  2.19210716 -0.2418202 ]\n",
      " [ 0.73023195 -0.71133774 -1.16987076  0.74699062  0.99014452]\n",
      " [ 0.08482309 -0.33032127 -0.87243517 -0.40003749  1.31653152]]\n"
     ]
    }
   ],
   "source": [
    "# we can also use numpy to generate samples of a random variable\n",
    "rand_mat = np.random.rand(5,5) # uniform random variable\n",
    "print(rand_mat)\n",
    "rand_mat2 = np.random.randn(10,5) # standard normal random variable\n",
    "print('')\n",
    "print(rand_mat2)"
   ]
  },
  {
   "cell_type": "code",
   "execution_count": 12,
   "metadata": {},
   "outputs": [
    {
     "name": "stdout",
     "output_type": "stream",
     "text": [
      "0.5109180306369986\n",
      "0.9414143593746063\n"
     ]
    }
   ],
   "source": [
    "# we can also use numpy for statistical tools on arrays\n",
    "print(np.mean(rand_mat))\n",
    "print(np.std(rand_mat2))"
   ]
  },
  {
   "cell_type": "code",
   "execution_count": 13,
   "metadata": {},
   "outputs": [
    {
     "name": "stdout",
     "output_type": "stream",
     "text": [
      "0.04695565552423342\n",
      "2.192107160659584\n"
     ]
    }
   ],
   "source": [
    "print(np.min(rand_mat))\n",
    "print(np.max(rand_mat2))"
   ]
  },
  {
   "cell_type": "code",
   "execution_count": 14,
   "metadata": {},
   "outputs": [],
   "source": [
    "# break here for next video!"
   ]
  },
  {
   "cell_type": "code",
   "execution_count": 15,
   "metadata": {},
   "outputs": [
    {
     "name": "stdout",
     "output_type": "stream",
     "text": [
      "[ 0.86269066 -0.27135463 -0.92471296  0.05604029 -1.14799456  2.99980045\n",
      " -1.95957149 -0.20968748 -0.23479469  1.58447068 -0.38100676 -0.98449877\n",
      "  0.28595329  0.16116738  0.32552933  1.28212243 -1.07126812 -1.93450055\n",
      " -1.77276575]\n",
      "-1.9595714857714015\n"
     ]
    }
   ],
   "source": [
    "# how do we access entries in a numpy vector\n",
    "rand_vec = np.random.randn(19)\n",
    "print(rand_vec)\n",
    "print(rand_vec[6])"
   ]
  },
  {
   "cell_type": "code",
   "execution_count": 16,
   "metadata": {},
   "outputs": [
    {
     "name": "stdout",
     "output_type": "stream",
     "text": [
      "[-1.14799456  2.99980045 -1.95957149 -0.20968748 -0.23479469]\n"
     ]
    }
   ],
   "source": [
    "# we can access multiple entries at once using :\n",
    "print(rand_vec[4:9])"
   ]
  },
  {
   "cell_type": "code",
   "execution_count": 17,
   "metadata": {},
   "outputs": [
    {
     "name": "stdout",
     "output_type": "stream",
     "text": [
      "[ 0  3  6  9 12]\n",
      "[ 0.86269066  0.05604029 -1.95957149  1.58447068  0.28595329]\n"
     ]
    }
   ],
   "source": [
    "# we can also access multiple non-consecutive entries using np.arange\n",
    "print(np.arange(0,15,3))\n",
    "print(rand_vec[np.arange(0,15,3)])"
   ]
  },
  {
   "cell_type": "code",
   "execution_count": 18,
   "metadata": {},
   "outputs": [
    {
     "name": "stdout",
     "output_type": "stream",
     "text": [
      "[[0.86719737 0.60637567 0.14408614 0.74362284 0.83590232]\n",
      " [0.40927565 0.13616299 0.53503969 0.17582132 0.86985041]\n",
      " [0.52386551 0.0549992  0.59922782 0.04695566 0.08391784]\n",
      " [0.51080859 0.33192905 0.62776194 0.80776548 0.34194012]\n",
      " [0.73237008 0.80811929 0.5587043  0.61282078 0.80843071]]\n",
      "0.5350396854035203\n",
      "0.5350396854035203\n"
     ]
    }
   ],
   "source": [
    "# what about matrices\n",
    "print(rand_mat)\n",
    "print(rand_mat[1][2])\n",
    "print(rand_mat[1,2])\n"
   ]
  },
  {
   "cell_type": "code",
   "execution_count": 19,
   "metadata": {},
   "outputs": [
    {
     "name": "stdout",
     "output_type": "stream",
     "text": [
      "[[0.60637567 0.14408614]\n",
      " [0.13616299 0.53503969]]\n"
     ]
    }
   ],
   "source": [
    "print(rand_mat[0:2,1:3])"
   ]
  },
  {
   "cell_type": "code",
   "execution_count": 20,
   "metadata": {},
   "outputs": [
    {
     "name": "stdout",
     "output_type": "stream",
     "text": [
      "[ 0.86269066 -0.27135463 -0.92471296  0.05604029 -1.14799456  2.99980045\n",
      " -1.95957149 -0.20968748 -0.23479469  1.58447068 -0.38100676 -0.98449877\n",
      "  0.28595329  0.16116738  0.32552933  1.28212243 -1.07126812 -1.93450055\n",
      " -1.77276575]\n",
      "\n",
      "[ 0.86269066 -0.27135463 -0.92471296  4.          4.          2.99980045\n",
      " -1.95957149 -0.20968748 -0.23479469  1.58447068 -0.38100676 -0.98449877\n",
      "  0.28595329  0.16116738  0.32552933  1.28212243 -1.07126812 -1.93450055\n",
      " -1.77276575]\n",
      "\n",
      "[ 0.86269066 -0.27135463 -0.92471296  1.          2.          2.99980045\n",
      " -1.95957149 -0.20968748 -0.23479469  1.58447068 -0.38100676 -0.98449877\n",
      "  0.28595329  0.16116738  0.32552933  1.28212243 -1.07126812 -1.93450055\n",
      " -1.77276575]\n"
     ]
    }
   ],
   "source": [
    "# let's change some values in an array!\n",
    "print(rand_vec)\n",
    "rand_vec[3:5] = 4\n",
    "print('')\n",
    "print(rand_vec)\n",
    "rand_vec[3:5] = [1,2]\n",
    "print('')\n",
    "print(rand_vec)"
   ]
  },
  {
   "cell_type": "code",
   "execution_count": 21,
   "metadata": {},
   "outputs": [
    {
     "name": "stdout",
     "output_type": "stream",
     "text": [
      "[[0.86719737 0.60637567 0.14408614 0.74362284 0.83590232]\n",
      " [0.40927565 0.13616299 0.53503969 0.17582132 0.86985041]\n",
      " [0.52386551 0.0549992  0.59922782 0.04695566 0.08391784]\n",
      " [0.51080859 0.33192905 0.62776194 0.80776548 0.34194012]\n",
      " [0.73237008 0.80811929 0.5587043  0.61282078 0.80843071]]\n",
      "\n",
      "[[0.86719737 0.60637567 0.14408614 0.74362284 0.83590232]\n",
      " [0.40927565 0.13616299 0.53503969 0.         0.        ]\n",
      " [0.52386551 0.0549992  0.59922782 0.         0.        ]\n",
      " [0.51080859 0.33192905 0.62776194 0.80776548 0.34194012]\n",
      " [0.73237008 0.80811929 0.5587043  0.61282078 0.80843071]]\n"
     ]
    }
   ],
   "source": [
    "print(rand_mat)\n",
    "rand_mat[1:3,3:5] = 0\n",
    "print('')\n",
    "print(rand_mat)"
   ]
  },
  {
   "cell_type": "code",
   "execution_count": 22,
   "metadata": {},
   "outputs": [
    {
     "name": "stdout",
     "output_type": "stream",
     "text": [
      "[[0.86719737 0.60637567 0.14408614]\n",
      " [0.40927565 0.13616299 0.53503969]]\n",
      "[[3. 3. 3.]\n",
      " [3. 3. 3.]]\n"
     ]
    }
   ],
   "source": [
    "sub_mat = rand_mat[0:2,0:3]\n",
    "print(sub_mat)\n",
    "sub_mat[:] = 3\n",
    "print(sub_mat)\n"
   ]
  },
  {
   "cell_type": "code",
   "execution_count": 23,
   "metadata": {},
   "outputs": [
    {
     "name": "stdout",
     "output_type": "stream",
     "text": [
      "[[3.         3.         3.         0.74362284 0.83590232]\n",
      " [3.         3.         3.         0.         0.        ]\n",
      " [0.52386551 0.0549992  0.59922782 0.         0.        ]\n",
      " [0.51080859 0.33192905 0.62776194 0.80776548 0.34194012]\n",
      " [0.73237008 0.80811929 0.5587043  0.61282078 0.80843071]]\n"
     ]
    }
   ],
   "source": [
    "print(rand_mat)"
   ]
  },
  {
   "cell_type": "code",
   "execution_count": 24,
   "metadata": {},
   "outputs": [
    {
     "name": "stdout",
     "output_type": "stream",
     "text": [
      "[[99. 99. 99.]\n",
      " [99. 99. 99.]]\n",
      "[[3.         3.         3.         0.74362284 0.83590232]\n",
      " [3.         3.         3.         0.         0.        ]\n",
      " [0.52386551 0.0549992  0.59922782 0.         0.        ]\n",
      " [0.51080859 0.33192905 0.62776194 0.80776548 0.34194012]\n",
      " [0.73237008 0.80811929 0.5587043  0.61282078 0.80843071]]\n"
     ]
    }
   ],
   "source": [
    "sub_mat2 = rand_mat[0:2,0:3].copy()\n",
    "sub_mat2[:] = 99\n",
    "print(sub_mat2)\n",
    "print(rand_mat)\n"
   ]
  },
  {
   "cell_type": "code",
   "execution_count": 25,
   "metadata": {},
   "outputs": [],
   "source": [
    "# break here for next video"
   ]
  },
  {
   "cell_type": "code",
   "execution_count": 26,
   "metadata": {},
   "outputs": [
    {
     "name": "stdout",
     "output_type": "stream",
     "text": [
      "[ 0.07014389 -1.15976426  0.82292618  0.80829885  0.05692692  0.51378946\n",
      " -0.56597524  0.57364602  1.01147424  0.26639868  0.24526605  0.96480312\n",
      " -1.0610314  -1.24564598 -0.74538523]\n",
      "[ True False  True  True  True  True False  True  True  True  True  True\n",
      " False False False]\n",
      "[0.07014389 0.82292618 0.80829885 0.05692692 0.51378946 0.57364602\n",
      " 1.01147424 0.26639868 0.24526605 0.96480312]\n"
     ]
    }
   ],
   "source": [
    "# we can also access entries with logicals\n",
    "rand_vec = np.random.randn(15)\n",
    "\n",
    "print(rand_vec)\n",
    "print(rand_vec>0)\n",
    "print(rand_vec[rand_vec>0])"
   ]
  },
  {
   "cell_type": "code",
   "execution_count": 27,
   "metadata": {},
   "outputs": [
    {
     "name": "stdout",
     "output_type": "stream",
     "text": [
      "[[ 0.97039139 -1.69069369 -1.42657277 -0.83405234 -0.29964714]\n",
      " [-1.08068071 -0.81629364  0.06264283  0.09108538 -0.80041883]\n",
      " [-0.53076813 -0.221841   -0.10229567 -0.05823318  0.01880008]\n",
      " [-0.20712121 -0.22819849  0.2360927  -0.89234939  0.10044719]\n",
      " [ 0.74028166  0.51911865  0.08026382  0.77773939 -0.1353489 ]\n",
      " [ 0.84705737  1.11026937 -1.55905001 -0.88210821  2.10111854]\n",
      " [ 1.50341347  0.65662915  0.21780362  0.91378603 -0.22795237]\n",
      " [-0.87121709 -2.6374445  -0.29516075  2.19210716 -0.2418202 ]\n",
      " [ 0.73023195 -0.71133774 -1.16987076  0.74699062  0.99014452]\n",
      " [ 0.08482309 -0.33032127 -0.87243517 -0.40003749  1.31653152]]\n",
      "[0.97039139 0.06264283 0.09108538 0.01880008 0.2360927  0.10044719\n",
      " 0.74028166 0.51911865 0.08026382 0.77773939 0.84705737 1.11026937\n",
      " 2.10111854 1.50341347 0.65662915 0.21780362 0.91378603 2.19210716\n",
      " 0.73023195 0.74699062 0.99014452 0.08482309 1.31653152]\n"
     ]
    }
   ],
   "source": [
    "print(rand_mat2)\n",
    "print(rand_mat2[rand_mat2>0])"
   ]
  },
  {
   "cell_type": "code",
   "execution_count": 28,
   "metadata": {},
   "outputs": [
    {
     "name": "stdout",
     "output_type": "stream",
     "text": [
      "[ 0.07014389 -1.15976426  0.82292618  0.80829885  0.05692692  0.51378946\n",
      " -0.56597524  0.57364602  1.01147424  0.26639868  0.24526605  0.96480312\n",
      " -1.0610314  -1.24564598 -0.74538523]\n",
      "\n",
      "[ 0.07014389 -1.15976426 -5.         -5.          0.05692692 -5.\n",
      " -0.56597524 -5.         -5.          0.26639868  0.24526605 -5.\n",
      " -1.0610314  -1.24564598 -0.74538523]\n"
     ]
    }
   ],
   "source": [
    "\n",
    "print(rand_vec)\n",
    "print('')\n",
    "rand_vec[rand_vec>0.5] = -5\n",
    "print(rand_vec)"
   ]
  },
  {
   "cell_type": "code",
   "execution_count": 30,
   "metadata": {},
   "outputs": [
    {
     "data": {
      "text/plain": [
       "array([ 0.        ,  0.84147098,  0.90929743,  0.14112001, -0.7568025 ,\n",
       "       -0.95892427, -0.2794155 ,  0.6569866 ,  0.98935825,  0.41211849])"
      ]
     },
     "execution_count": 30,
     "metadata": {},
     "output_type": "execute_result"
    }
   ],
   "source": [
    "x1 = np.arange(10)\n",
    "y2 = np.sin(x1)\n",
    "from tempfile import TemporaryFile\n",
    "outfile = TemporaryFile()\n",
    "np.savez(outfile, x=x1, y=y2)\n",
    "_ = outfile.seek(0)\n",
    "npzfile = np.load(outfile)\n",
    "npzfile.files\n",
    "npzfile['y']"
   ]
  },
  {
   "cell_type": "code",
   "execution_count": 31,
   "metadata": {},
   "outputs": [],
   "source": [
    "# let's save some arrays on the disk for use later!\n",
    "np.save('saved_file_name',rand_mat2)\n"
   ]
  },
  {
   "cell_type": "code",
   "execution_count": 32,
   "metadata": {},
   "outputs": [],
   "source": [
    "np.savez('zipped_file_name',rand_mat=rand_mat,rand_mat2=rand_mat2)"
   ]
  },
  {
   "cell_type": "code",
   "execution_count": 33,
   "metadata": {},
   "outputs": [
    {
     "name": "stdout",
     "output_type": "stream",
     "text": [
      "[[ 0.97039139 -1.69069369 -1.42657277 -0.83405234 -0.29964714]\n",
      " [-1.08068071 -0.81629364  0.06264283  0.09108538 -0.80041883]\n",
      " [-0.53076813 -0.221841   -0.10229567 -0.05823318  0.01880008]\n",
      " [-0.20712121 -0.22819849  0.2360927  -0.89234939  0.10044719]\n",
      " [ 0.74028166  0.51911865  0.08026382  0.77773939 -0.1353489 ]\n",
      " [ 0.84705737  1.11026937 -1.55905001 -0.88210821  2.10111854]\n",
      " [ 1.50341347  0.65662915  0.21780362  0.91378603 -0.22795237]\n",
      " [-0.87121709 -2.6374445  -0.29516075  2.19210716 -0.2418202 ]\n",
      " [ 0.73023195 -0.71133774 -1.16987076  0.74699062  0.99014452]\n",
      " [ 0.08482309 -0.33032127 -0.87243517 -0.40003749  1.31653152]]\n",
      "\n",
      "<numpy.lib.npyio.NpzFile object at 0x06281D90>\n"
     ]
    }
   ],
   "source": [
    "# now let's load it\n",
    "loaded_vec = np.load('saved_file_name.npy')\n",
    "loaded_zip = np.load('zipped_file_name.npz')\n",
    "\n",
    "print(loaded_vec)\n",
    "print('')\n",
    "print(loaded_zip)"
   ]
  },
  {
   "cell_type": "code",
   "execution_count": 34,
   "metadata": {},
   "outputs": [
    {
     "name": "stdout",
     "output_type": "stream",
     "text": [
      "[[3.         3.         3.         0.74362284 0.83590232]\n",
      " [3.         3.         3.         0.         0.        ]\n",
      " [0.52386551 0.0549992  0.59922782 0.         0.        ]\n",
      " [0.51080859 0.33192905 0.62776194 0.80776548 0.34194012]\n",
      " [0.73237008 0.80811929 0.5587043  0.61282078 0.80843071]]\n",
      "\n",
      "[[ 0.97039139 -1.69069369 -1.42657277 -0.83405234 -0.29964714]\n",
      " [-1.08068071 -0.81629364  0.06264283  0.09108538 -0.80041883]\n",
      " [-0.53076813 -0.221841   -0.10229567 -0.05823318  0.01880008]\n",
      " [-0.20712121 -0.22819849  0.2360927  -0.89234939  0.10044719]\n",
      " [ 0.74028166  0.51911865  0.08026382  0.77773939 -0.1353489 ]\n",
      " [ 0.84705737  1.11026937 -1.55905001 -0.88210821  2.10111854]\n",
      " [ 1.50341347  0.65662915  0.21780362  0.91378603 -0.22795237]\n",
      " [-0.87121709 -2.6374445  -0.29516075  2.19210716 -0.2418202 ]\n",
      " [ 0.73023195 -0.71133774 -1.16987076  0.74699062  0.99014452]\n",
      " [ 0.08482309 -0.33032127 -0.87243517 -0.40003749  1.31653152]]\n",
      "[[3.         3.         3.         0.74362284 0.83590232]\n",
      " [3.         3.         3.         0.         0.        ]\n",
      " [0.52386551 0.0549992  0.59922782 0.         0.        ]\n",
      " [0.51080859 0.33192905 0.62776194 0.80776548 0.34194012]\n",
      " [0.73237008 0.80811929 0.5587043  0.61282078 0.80843071]]\n"
     ]
    }
   ],
   "source": [
    "print(loaded_zip['rand_mat'])\n",
    "print('')\n",
    "print(loaded_zip['rand_mat2'])\n",
    "\n",
    "new_array  = loaded_zip['rand_mat']\n",
    "print(new_array)"
   ]
  },
  {
   "cell_type": "code",
   "execution_count": 35,
   "metadata": {},
   "outputs": [
    {
     "name": "stdout",
     "output_type": "stream",
     "text": [
      "[[3.         3.         3.         0.74362284 0.83590232]\n",
      " [3.         3.         3.         0.         0.        ]\n",
      " [0.52386551 0.0549992  0.59922782 0.         0.        ]\n",
      " [0.51080859 0.33192905 0.62776194 0.80776548 0.34194012]\n",
      " [0.73237008 0.80811929 0.5587043  0.61282078 0.80843071]]\n",
      "\n",
      "[[3.         3.         3.         0.74362284 0.83590232]\n",
      " [3.         3.         3.         0.         0.        ]\n",
      " [0.52386551 0.0549992  0.59922782 0.         0.        ]\n",
      " [0.51080859 0.33192905 0.62776194 0.80776548 0.34194012]\n",
      " [0.73237008 0.80811929 0.5587043  0.61282078 0.80843071]]\n"
     ]
    }
   ],
   "source": [
    "# we can also save/load as text files...but only single variables\n",
    "np.savetxt('text_file_name.txt',rand_mat,delimiter=',')\n",
    "rand_mat_txt = np.loadtxt('text_file_name.txt',delimiter=',')\n",
    "print(rand_mat)\n",
    "print('')\n",
    "print(rand_mat_txt)"
   ]
  },
  {
   "cell_type": "code",
   "execution_count": null,
   "metadata": {},
   "outputs": [],
   "source": []
  }
 ],
 "metadata": {
  "kernelspec": {
   "display_name": "Python 3",
   "language": "python",
   "name": "python3"
  },
  "language_info": {
   "codemirror_mode": {
    "name": "ipython",
    "version": 3
   },
   "file_extension": ".py",
   "mimetype": "text/x-python",
   "name": "python",
   "nbconvert_exporter": "python",
   "pygments_lexer": "ipython3",
   "version": "3.8.3"
  }
 },
 "nbformat": 4,
 "nbformat_minor": 2
}
