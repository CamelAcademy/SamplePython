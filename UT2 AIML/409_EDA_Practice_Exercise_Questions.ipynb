{
  "nbformat": 4,
  "nbformat_minor": 0,
  "metadata": {
    "kernelspec": {
      "display_name": "Python 3",
      "language": "python",
      "name": "python3"
    },
    "language_info": {
      "codemirror_mode": {
        "name": "ipython",
        "version": 3
      },
      "file_extension": ".py",
      "mimetype": "text/x-python",
      "name": "python",
      "nbconvert_exporter": "python",
      "pygments_lexer": "ipython3",
      "version": "3.7.3"
    },
    "colab": {
      "name": "EDA-Practice Exercise Questions.ipynb",
      "provenance": []
    }
  },
  "cells": [
    {
      "cell_type": "markdown",
      "metadata": {
        "id": "ADSiE-szRZUL",
        "colab_type": "text"
      },
      "source": [
        "# Practice Exercise: Exploratory Data Analysis"
      ]
    },
    {
      "cell_type": "markdown",
      "metadata": {
        "id": "aAVdmSedTBbX",
        "colab_type": "text"
      },
      "source": [
        "## Context:\n",
        "\n",
        "- The dataset is related to the Portuguese \"Vinho Verde\" wine.\n",
        "- Due to privacy and logistic issues, only physicochemical (inputs) and sensory (the output) variables are available (e.g. there is no data about grape types, wine brand, wine selling price, etc.).\n",
        "\n",
        "- This datasets can be viewed as classification or regression tasks.\n",
        "- The classes are ordered and not balanced (e.g. there are many more normal wines than excellent or poor ones).\n",
        "- Outlier detection algorithms could be used to detect the few excellent or poor wines.\n",
        "- Also, we are not sure if all input variables are relevant. So it could be interesting to test feature selection methods.\n"
      ]
    },
    {
      "cell_type": "markdown",
      "metadata": {
        "id": "WhN1urxjTd6K",
        "colab_type": "text"
      },
      "source": [
        "## Objective:\n",
        "\n",
        "- The objective of this exercise is to analyse the characteristics of wine using statistical techniques (also known as Exploratory Data Analysis)."
      ]
    },
    {
      "cell_type": "markdown",
      "metadata": {
        "id": "vanyJ5n0RZUM",
        "colab_type": "text"
      },
      "source": [
        "## Data Description:\n",
        "\n",
        "Attribute Information: \n",
        "\n",
        "  - fixed acidity\n",
        "  - volatile acidity\n",
        "  - citric acid\n",
        "  - residual sugar\n",
        "  - chlorides\n",
        "  - free sulfur dioxide\n",
        "  - total sulfur dioxide\n",
        "  - density\n",
        "  - pH\n",
        "  - sulphates\n",
        "  - alcohol Output variable (based on sensory data)\n",
        "  - quality (score between 0 and 10)"
      ]
    },
    {
      "cell_type": "markdown",
      "metadata": {
        "id": "f2UaOo7zRZUO",
        "colab_type": "text"
      },
      "source": [
        "## 1. Import the libraries:"
      ]
    },
    {
      "cell_type": "code",
      "metadata": {
        "id": "gz5FRlWWRZUP",
        "colab_type": "code",
        "colab": {}
      },
      "source": [
        "# code here"
      ],
      "execution_count": 1,
      "outputs": []
    },
    {
      "cell_type": "markdown",
      "metadata": {
        "id": "27yIvreXRZUX",
        "colab_type": "text"
      },
      "source": [
        "## 2. Importing the dataset:"
      ]
    },
    {
      "cell_type": "code",
      "metadata": {
        "id": "KqmvG5BDRZUY",
        "colab_type": "code",
        "colab": {}
      },
      "source": [
        "# code here"
      ],
      "execution_count": 2,
      "outputs": []
    },
    {
      "cell_type": "markdown",
      "metadata": {
        "id": "r_oAtEkOXcBV",
        "colab_type": "text"
      },
      "source": [
        "## 3. Check the information about data and data-types of each respective attributes:"
      ]
    },
    {
      "cell_type": "code",
      "metadata": {
        "id": "BeW5i7Wihswt",
        "colab_type": "code",
        "colab": {}
      },
      "source": [
        "# code here"
      ],
      "execution_count": 3,
      "outputs": []
    },
    {
      "cell_type": "markdown",
      "metadata": {
        "id": "hCXorJbp3w2w",
        "colab_type": "text"
      },
      "source": [
        "## 3.1 Check the number of null values."
      ]
    },
    {
      "cell_type": "code",
      "metadata": {
        "id": "rzP86zFShvfE",
        "colab_type": "code",
        "colab": {}
      },
      "source": [
        "# code here"
      ],
      "execution_count": 4,
      "outputs": []
    },
    {
      "cell_type": "markdown",
      "metadata": {
        "id": "egnMfUtPRZUi",
        "colab_type": "text"
      },
      "source": [
        "## 4. EDA Descriptive Statistics:"
      ]
    },
    {
      "cell_type": "markdown",
      "metadata": {
        "id": "Li0OsajYRZUk",
        "colab_type": "text"
      },
      "source": [
        "### 4.1.  Measures of Central Tendency\n",
        "\n",
        "Measures of Central Tendency define significant, representative and adequate values for a set of data, depending on what you want to analyze. They are the \n",
        "\n",
        "1. mean\n",
        "2. median\n",
        "3. quantiles and mode."
      ]
    },
    {
      "cell_type": "markdown",
      "metadata": {
        "id": "NqQk1t6uRZUl",
        "colab_type": "text"
      },
      "source": [
        "### 4.2 Check the  mean ,Mode, Median and Quantile for dataset?"
      ]
    },
    {
      "cell_type": "markdown",
      "metadata": {
        "id": "eiylhNTqRZUm",
        "colab_type": "text"
      },
      "source": [
        "#### Mean"
      ]
    },
    {
      "cell_type": "code",
      "metadata": {
        "id": "UAKycN3JRZUn",
        "colab_type": "code",
        "colab": {}
      },
      "source": [
        "# code here"
      ],
      "execution_count": 5,
      "outputs": []
    },
    {
      "cell_type": "markdown",
      "metadata": {
        "id": "aBtjmvSBRZUr",
        "colab_type": "text"
      },
      "source": [
        "#### Mode"
      ]
    },
    {
      "cell_type": "code",
      "metadata": {
        "id": "p0RcwJafRZUr",
        "colab_type": "code",
        "colab": {}
      },
      "source": [
        "# code here"
      ],
      "execution_count": 6,
      "outputs": []
    },
    {
      "cell_type": "markdown",
      "metadata": {
        "id": "4aZjRrPqRZUv",
        "colab_type": "text"
      },
      "source": [
        "#### Median and Quantile"
      ]
    },
    {
      "cell_type": "code",
      "metadata": {
        "id": "6mx6bo70RZUv",
        "colab_type": "code",
        "colab": {}
      },
      "source": [
        "# code here"
      ],
      "execution_count": 7,
      "outputs": []
    },
    {
      "cell_type": "markdown",
      "metadata": {
        "id": "2LYcQsDlRZUz",
        "colab_type": "text"
      },
      "source": [
        "### check (Quantile 25%,50%,75%) for dataset"
      ]
    },
    {
      "cell_type": "markdown",
      "metadata": {
        "id": "3yFX0bXsRZU0",
        "colab_type": "text"
      },
      "source": [
        "#### Quantile 25%"
      ]
    },
    {
      "cell_type": "code",
      "metadata": {
        "id": "OqGxc72vRZU1",
        "colab_type": "code",
        "colab": {}
      },
      "source": [
        "# code here"
      ],
      "execution_count": 8,
      "outputs": []
    },
    {
      "cell_type": "markdown",
      "metadata": {
        "id": "ImadZnDyRZU4",
        "colab_type": "text"
      },
      "source": [
        "\n",
        "#### Quantile 50%"
      ]
    },
    {
      "cell_type": "code",
      "metadata": {
        "id": "uElDLgWXRZU4",
        "colab_type": "code",
        "colab": {}
      },
      "source": [
        "# code here"
      ],
      "execution_count": 9,
      "outputs": []
    },
    {
      "cell_type": "markdown",
      "metadata": {
        "id": "80OVdL0lRZU6",
        "colab_type": "text"
      },
      "source": [
        "#### Quantile 75%"
      ]
    },
    {
      "cell_type": "code",
      "metadata": {
        "id": "5MGzq3g4RZU7",
        "colab_type": "code",
        "colab": {}
      },
      "source": [
        "# code here"
      ],
      "execution_count": 10,
      "outputs": []
    },
    {
      "cell_type": "markdown",
      "metadata": {
        "id": "GU8t-7WoZZTz",
        "colab_type": "text"
      },
      "source": [
        "## 5. Check the data description:"
      ]
    },
    {
      "cell_type": "code",
      "metadata": {
        "id": "vSEdoQeLZllp",
        "colab_type": "code",
        "colab": {}
      },
      "source": [
        "# code here"
      ],
      "execution_count": 11,
      "outputs": []
    },
    {
      "cell_type": "markdown",
      "metadata": {
        "id": "sILEhROjRZU9",
        "colab_type": "text"
      },
      "source": [
        "## 6. Measures of Dispersion"
      ]
    },
    {
      "cell_type": "markdown",
      "metadata": {
        "id": "OSP6GCYDRZU9",
        "colab_type": "text"
      },
      "source": [
        "Measures of Dispersion are measures that indicate how spread the data is, or how they vary. The measures of dispersion are range, variance, standard deviation and the absolute deviation, or mean absolute deviation."
      ]
    },
    {
      "cell_type": "markdown",
      "metadata": {
        "id": "aZ9NpFV0RZU-",
        "colab_type": "text"
      },
      "source": [
        "### 6.1 check the Range,Variance,Standard Deviation,Absolute Deviation or Mean Absolute Deviation?"
      ]
    },
    {
      "cell_type": "code",
      "metadata": {
        "id": "__OsTeRgbD49",
        "colab_type": "code",
        "colab": {}
      },
      "source": [
        "# code here"
      ],
      "execution_count": 12,
      "outputs": []
    },
    {
      "cell_type": "markdown",
      "metadata": {
        "id": "ix2kuSnnbReE",
        "colab_type": "text"
      },
      "source": [
        "#### The above output represents the IQR values for all the attributes."
      ]
    },
    {
      "cell_type": "markdown",
      "metadata": {
        "id": "ucXf0qGfRZU_",
        "colab_type": "text"
      },
      "source": [
        "#### Range"
      ]
    },
    {
      "cell_type": "code",
      "metadata": {
        "id": "SCARooUDRZU_",
        "colab_type": "code",
        "colab": {}
      },
      "source": [
        "# code here"
      ],
      "execution_count": 13,
      "outputs": []
    },
    {
      "cell_type": "markdown",
      "metadata": {
        "id": "N5_sraojbdxK",
        "colab_type": "text"
      },
      "source": [
        "#### The above output represents the difference between the highest and the lowest values for each individual attributes."
      ]
    },
    {
      "cell_type": "markdown",
      "metadata": {
        "id": "GD2vOTlsRZVC",
        "colab_type": "text"
      },
      "source": [
        "#### Variance"
      ]
    },
    {
      "cell_type": "code",
      "metadata": {
        "id": "g6dr_g5URZVC",
        "colab_type": "code",
        "colab": {}
      },
      "source": [
        "# code here"
      ],
      "execution_count": 14,
      "outputs": []
    },
    {
      "cell_type": "markdown",
      "metadata": {
        "id": "5YgikMgSbu-9",
        "colab_type": "text"
      },
      "source": [
        "#### The above output represents the data dispersion on the square scale."
      ]
    },
    {
      "cell_type": "markdown",
      "metadata": {
        "id": "ntsqjDckRZVF",
        "colab_type": "text"
      },
      "source": [
        "#### Standard Deviation"
      ]
    },
    {
      "cell_type": "code",
      "metadata": {
        "id": "wwehAzyyRZVG",
        "colab_type": "code",
        "colab": {}
      },
      "source": [
        "# code here"
      ],
      "execution_count": 15,
      "outputs": []
    },
    {
      "cell_type": "markdown",
      "metadata": {
        "id": "fOVqgO31cIlC",
        "colab_type": "text"
      },
      "source": [
        "#### The above output shows how much the data deviated from the mean."
      ]
    },
    {
      "cell_type": "markdown",
      "metadata": {
        "id": "VjvzPXwWRZVM",
        "colab_type": "text"
      },
      "source": [
        "## 7. Covariance and Correlation"
      ]
    },
    {
      "cell_type": "markdown",
      "metadata": {
        "id": "xM6QgDB0RZVM",
        "colab_type": "text"
      },
      "source": [
        "1. Covariance is a numerical measure that indicates the inter-dependency between two variables. \n",
        "2. Covariance indicates how two variables behave together in relation to their averages. \n",
        "3. A covariance of 0 indicates that the variables are totally independant, while a high and positive covariance value means that a variable is big when the other is big. Analogously, a negative covariance with a high absolute value means that one variable is big when the other is small.\n",
        "4. Covariance can be calculated through the cov() function. "
      ]
    },
    {
      "cell_type": "markdown",
      "metadata": {
        "id": "JPtlE6piRZVN",
        "colab_type": "text"
      },
      "source": [
        "### 7.1 Check the Covariance and Correlation scores . write your Observations?"
      ]
    },
    {
      "cell_type": "markdown",
      "metadata": {
        "id": "Z3wbbtXBRZVN",
        "colab_type": "text"
      },
      "source": [
        "#### Covariance"
      ]
    },
    {
      "cell_type": "code",
      "metadata": {
        "id": "GaZ3d_qWRZVN",
        "colab_type": "code",
        "colab": {}
      },
      "source": [
        "# code here"
      ],
      "execution_count": 16,
      "outputs": []
    },
    {
      "cell_type": "markdown",
      "metadata": {
        "id": "U6oZaGLeRZVQ",
        "colab_type": "text"
      },
      "source": [
        "#### Observation:\n",
        "\n",
        "- Hard to be understood and compared, because it gives us values in different scales as the variables change. \n",
        "- For a better comparison, we normalize covariance to a value that will always be between -1 and 1, so it can be better understood."
      ]
    },
    {
      "cell_type": "markdown",
      "metadata": {
        "id": "CxJzOR-rRZVR",
        "colab_type": "text"
      },
      "source": [
        "#### Correlation"
      ]
    },
    {
      "cell_type": "code",
      "metadata": {
        "id": "xGr2J0JYRZVR",
        "colab_type": "code",
        "colab": {}
      },
      "source": [
        "# code here"
      ],
      "execution_count": 17,
      "outputs": []
    },
    {
      "cell_type": "markdown",
      "metadata": {
        "id": "u_3PAdStRZVT",
        "colab_type": "text"
      },
      "source": [
        "#### Observation:\n",
        "    \n",
        "1. This value is the correlation. Correlation is always between -1, a perfect anti-correlation, and 1, perfect correlation\n",
        "2. Finally, it is also important to note the famous concept that says that “correlation does not imply causation”."
      ]
    },
    {
      "cell_type": "markdown",
      "metadata": {
        "id": "ipczwe7Wehe-",
        "colab_type": "text"
      },
      "source": [
        "## 8. Pairplot for checking correlation:"
      ]
    },
    {
      "cell_type": "code",
      "metadata": {
        "id": "hBGAdrBxelHG",
        "colab_type": "code",
        "colab": {}
      },
      "source": [
        "# code here"
      ],
      "execution_count": 18,
      "outputs": []
    },
    {
      "cell_type": "markdown",
      "metadata": {
        "id": "CObFaZdCf40g",
        "colab_type": "text"
      },
      "source": [
        "## 9. Heatmap of correlation:"
      ]
    },
    {
      "cell_type": "code",
      "metadata": {
        "id": "2uFytxQVfz2t",
        "colab_type": "code",
        "colab": {}
      },
      "source": [
        "# code here"
      ],
      "execution_count": 19,
      "outputs": []
    },
    {
      "cell_type": "markdown",
      "metadata": {
        "id": "PYovcTLVglyk",
        "colab_type": "text"
      },
      "source": [
        "## 10. Check the skewness:"
      ]
    },
    {
      "cell_type": "code",
      "metadata": {
        "id": "J9MKDmhxgokK",
        "colab_type": "code",
        "colab": {}
      },
      "source": [
        "# code here"
      ],
      "execution_count": 20,
      "outputs": []
    },
    {
      "cell_type": "markdown",
      "metadata": {
        "id": "gJ5cF2rjnNaD",
        "colab_type": "text"
      },
      "source": [
        "## 11. Check the distribution of 'quality' column using distplot."
      ]
    },
    {
      "cell_type": "code",
      "metadata": {
        "id": "7VjLqc2zmIHR",
        "colab_type": "code",
        "colab": {}
      },
      "source": [
        "# code here"
      ],
      "execution_count": 21,
      "outputs": []
    },
    {
      "cell_type": "markdown",
      "metadata": {
        "id": "sz4qI6s0nwcS",
        "colab_type": "text"
      },
      "source": [
        "## 12. Make a separate dataframe of all columns except the \"quality\" column."
      ]
    },
    {
      "cell_type": "code",
      "metadata": {
        "id": "8uol5Uuym6G7",
        "colab_type": "code",
        "colab": {}
      },
      "source": [
        "# code here"
      ],
      "execution_count": 22,
      "outputs": []
    },
    {
      "cell_type": "markdown",
      "metadata": {
        "id": "xK8E2zr4oWoD",
        "colab_type": "text"
      },
      "source": [
        "## 13. Apply the feature scaling on the dataframe obtained in above step using StandardScalar():"
      ]
    },
    {
      "cell_type": "code",
      "metadata": {
        "id": "D84-n4WQoWEU",
        "colab_type": "code",
        "colab": {}
      },
      "source": [
        "# code here"
      ],
      "execution_count": 23,
      "outputs": []
    }
  ]
}