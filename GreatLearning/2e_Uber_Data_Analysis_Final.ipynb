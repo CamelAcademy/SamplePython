{
 "cells": [
  {
   "cell_type": "markdown",
   "metadata": {},
   "source": [
    "### Case study  - Uber Data Analysis\n",
    "\n",
    "The data of a driver’s uber trips are available for year 2016.\n",
    "Your manager wants you to explore this data to give him some useful insights about the trip behaviour of a Uber driver.\n",
    "\n",
    "#### Dataset - \n",
    "The dataset contains Start Date, End Date, Start Location, End Location, Miles Driven and Purpose of drive (Business, Personal, Meals, Errands, Meetings, Customer Support etc.)\n"
   ]
  },
  {
   "cell_type": "markdown",
   "metadata": {},
   "source": [
    "#### Steps - \n",
    "\n",
    "1.Import the libraries\n",
    "\n",
    "2.Get the data and observe it\n",
    "\n",
    "3.Check missing values, either remove it or fill it.\n",
    "\n",
    "4.Get summary of data using python function.\n",
    "\n",
    "5.Explore the data parameter wise\n",
    "\n",
    "Here we have information of destination(start and stop), time(start and stop), category and purpose of trip, miles covered.\n"
   ]
  },
  {
   "cell_type": "code",
   "execution_count": 1,
   "metadata": {},
   "outputs": [],
   "source": [
    "# ----------------------\n",
    "# Concepts To cover \n",
    "# ----------------------\n",
    "# 1. Data profiling\n",
    "# 2. group by function\n",
    "# 3. Apply function \n",
    "# 4. DateTime operations "
   ]
  },
  {
   "cell_type": "code",
   "execution_count": 1,
   "metadata": {},
   "outputs": [],
   "source": [
    "# Import the libraries \n",
    "import numpy as np\n",
    "import pandas as pd"
   ]
  },
  {
   "cell_type": "code",
   "execution_count": 28,
   "metadata": {},
   "outputs": [],
   "source": [
    "# Read the Data \n",
    "\n",
    "\n",
    "# df = pd.read_csv('2d_uberdrive.csv', skiprows = 100)  # To skip first n nows \n",
    "# df = pd.read_csv('2d_uberdrive.csv', nrows = 100)  # Load only the first n rows\n",
    "#df = pd.read_csv('2d_uberdrive.csv', usecols = ['START_DATE*', 'END_DATE*'])  # Load only selected columns\n",
    "\n",
    "df = pd.read_csv('2d_uberdrive.csv',)"
   ]
  },
  {
   "cell_type": "code",
   "execution_count": 4,
   "metadata": {},
   "outputs": [
    {
     "data": {
      "text/html": [
       "<div>\n",
       "<style scoped>\n",
       "    .dataframe tbody tr th:only-of-type {\n",
       "        vertical-align: middle;\n",
       "    }\n",
       "\n",
       "    .dataframe tbody tr th {\n",
       "        vertical-align: top;\n",
       "    }\n",
       "\n",
       "    .dataframe thead th {\n",
       "        text-align: right;\n",
       "    }\n",
       "</style>\n",
       "<table border=\"1\" class=\"dataframe\">\n",
       "  <thead>\n",
       "    <tr style=\"text-align: right;\">\n",
       "      <th></th>\n",
       "      <th>START_DATE*</th>\n",
       "      <th>END_DATE*</th>\n",
       "      <th>CATEGORY*</th>\n",
       "      <th>START*</th>\n",
       "      <th>STOP*</th>\n",
       "      <th>MILES*</th>\n",
       "      <th>PURPOSE*</th>\n",
       "    </tr>\n",
       "  </thead>\n",
       "  <tbody>\n",
       "    <tr>\n",
       "      <td>0</td>\n",
       "      <td>1/1/2016 21:11</td>\n",
       "      <td>1/1/2016 21:17</td>\n",
       "      <td>Business</td>\n",
       "      <td>Fort Pierce</td>\n",
       "      <td>Fort Pierce</td>\n",
       "      <td>5.1</td>\n",
       "      <td>Meal/Entertain</td>\n",
       "    </tr>\n",
       "    <tr>\n",
       "      <td>1</td>\n",
       "      <td>1/2/2016 1:25</td>\n",
       "      <td>1/2/2016 1:37</td>\n",
       "      <td>Business</td>\n",
       "      <td>Fort Pierce</td>\n",
       "      <td>Fort Pierce</td>\n",
       "      <td>5.0</td>\n",
       "      <td>NaN</td>\n",
       "    </tr>\n",
       "    <tr>\n",
       "      <td>2</td>\n",
       "      <td>1/2/2016 20:25</td>\n",
       "      <td>1/2/2016 20:38</td>\n",
       "      <td>Business</td>\n",
       "      <td>Fort Pierce</td>\n",
       "      <td>Fort Pierce</td>\n",
       "      <td>4.8</td>\n",
       "      <td>Errand/Supplies</td>\n",
       "    </tr>\n",
       "    <tr>\n",
       "      <td>3</td>\n",
       "      <td>1/5/2016 17:31</td>\n",
       "      <td>1/5/2016 17:45</td>\n",
       "      <td>Business</td>\n",
       "      <td>Fort Pierce</td>\n",
       "      <td>Fort Pierce</td>\n",
       "      <td>4.7</td>\n",
       "      <td>Meeting</td>\n",
       "    </tr>\n",
       "    <tr>\n",
       "      <td>4</td>\n",
       "      <td>1/6/2016 14:42</td>\n",
       "      <td>1/6/2016 15:49</td>\n",
       "      <td>Business</td>\n",
       "      <td>Fort Pierce</td>\n",
       "      <td>West Palm Beach</td>\n",
       "      <td>63.7</td>\n",
       "      <td>Customer Visit</td>\n",
       "    </tr>\n",
       "    <tr>\n",
       "      <td>5</td>\n",
       "      <td>1/6/2016 17:15</td>\n",
       "      <td>1/6/2016 17:19</td>\n",
       "      <td>Business</td>\n",
       "      <td>West Palm Beach</td>\n",
       "      <td>West Palm Beach</td>\n",
       "      <td>4.3</td>\n",
       "      <td>Meal/Entertain</td>\n",
       "    </tr>\n",
       "    <tr>\n",
       "      <td>6</td>\n",
       "      <td>1/6/2016 17:30</td>\n",
       "      <td>1/6/2016 17:35</td>\n",
       "      <td>Business</td>\n",
       "      <td>West Palm Beach</td>\n",
       "      <td>Palm Beach</td>\n",
       "      <td>7.1</td>\n",
       "      <td>Meeting</td>\n",
       "    </tr>\n",
       "    <tr>\n",
       "      <td>7</td>\n",
       "      <td>1/7/2016 13:27</td>\n",
       "      <td>1/7/2016 13:33</td>\n",
       "      <td>Business</td>\n",
       "      <td>Cary</td>\n",
       "      <td>Cary</td>\n",
       "      <td>0.8</td>\n",
       "      <td>Meeting</td>\n",
       "    </tr>\n",
       "    <tr>\n",
       "      <td>8</td>\n",
       "      <td>1/10/2016 8:05</td>\n",
       "      <td>1/10/2016 8:25</td>\n",
       "      <td>Business</td>\n",
       "      <td>Cary</td>\n",
       "      <td>Morrisville</td>\n",
       "      <td>8.3</td>\n",
       "      <td>Meeting</td>\n",
       "    </tr>\n",
       "  </tbody>\n",
       "</table>\n",
       "</div>"
      ],
      "text/plain": [
       "      START_DATE*       END_DATE* CATEGORY*           START*            STOP*  \\\n",
       "0  1/1/2016 21:11  1/1/2016 21:17  Business      Fort Pierce      Fort Pierce   \n",
       "1   1/2/2016 1:25   1/2/2016 1:37  Business      Fort Pierce      Fort Pierce   \n",
       "2  1/2/2016 20:25  1/2/2016 20:38  Business      Fort Pierce      Fort Pierce   \n",
       "3  1/5/2016 17:31  1/5/2016 17:45  Business      Fort Pierce      Fort Pierce   \n",
       "4  1/6/2016 14:42  1/6/2016 15:49  Business      Fort Pierce  West Palm Beach   \n",
       "5  1/6/2016 17:15  1/6/2016 17:19  Business  West Palm Beach  West Palm Beach   \n",
       "6  1/6/2016 17:30  1/6/2016 17:35  Business  West Palm Beach       Palm Beach   \n",
       "7  1/7/2016 13:27  1/7/2016 13:33  Business             Cary             Cary   \n",
       "8  1/10/2016 8:05  1/10/2016 8:25  Business             Cary      Morrisville   \n",
       "\n",
       "   MILES*         PURPOSE*  \n",
       "0     5.1   Meal/Entertain  \n",
       "1     5.0              NaN  \n",
       "2     4.8  Errand/Supplies  \n",
       "3     4.7          Meeting  \n",
       "4    63.7   Customer Visit  \n",
       "5     4.3   Meal/Entertain  \n",
       "6     7.1          Meeting  \n",
       "7     0.8          Meeting  \n",
       "8     8.3          Meeting  "
      ]
     },
     "execution_count": 4,
     "metadata": {},
     "output_type": "execute_result"
    }
   ],
   "source": [
    "df.head(9) # View first n rows of data"
   ]
  },
  {
   "cell_type": "code",
   "execution_count": 5,
   "metadata": {},
   "outputs": [
    {
     "data": {
      "text/html": [
       "<div>\n",
       "<style scoped>\n",
       "    .dataframe tbody tr th:only-of-type {\n",
       "        vertical-align: middle;\n",
       "    }\n",
       "\n",
       "    .dataframe tbody tr th {\n",
       "        vertical-align: top;\n",
       "    }\n",
       "\n",
       "    .dataframe thead th {\n",
       "        text-align: right;\n",
       "    }\n",
       "</style>\n",
       "<table border=\"1\" class=\"dataframe\">\n",
       "  <thead>\n",
       "    <tr style=\"text-align: right;\">\n",
       "      <th></th>\n",
       "      <th>START_DATE*</th>\n",
       "      <th>END_DATE*</th>\n",
       "      <th>CATEGORY*</th>\n",
       "      <th>START*</th>\n",
       "      <th>STOP*</th>\n",
       "      <th>MILES*</th>\n",
       "      <th>PURPOSE*</th>\n",
       "    </tr>\n",
       "  </thead>\n",
       "  <tbody>\n",
       "    <tr>\n",
       "      <td>1147</td>\n",
       "      <td>12/30/2016 15:41</td>\n",
       "      <td>12/30/2016 16:03</td>\n",
       "      <td>Business</td>\n",
       "      <td>Kar?chi</td>\n",
       "      <td>Kar?chi</td>\n",
       "      <td>4.6</td>\n",
       "      <td>Errand/Supplies</td>\n",
       "    </tr>\n",
       "    <tr>\n",
       "      <td>1148</td>\n",
       "      <td>12/30/2016 16:45</td>\n",
       "      <td>12/30/2016 17:08</td>\n",
       "      <td>Business</td>\n",
       "      <td>Kar?chi</td>\n",
       "      <td>Kar?chi</td>\n",
       "      <td>4.6</td>\n",
       "      <td>Meeting</td>\n",
       "    </tr>\n",
       "    <tr>\n",
       "      <td>1149</td>\n",
       "      <td>12/30/2016 23:06</td>\n",
       "      <td>12/30/2016 23:10</td>\n",
       "      <td>Business</td>\n",
       "      <td>Kar?chi</td>\n",
       "      <td>Kar?chi</td>\n",
       "      <td>0.8</td>\n",
       "      <td>Customer Visit</td>\n",
       "    </tr>\n",
       "    <tr>\n",
       "      <td>1150</td>\n",
       "      <td>12/31/2016 1:07</td>\n",
       "      <td>12/31/2016 1:14</td>\n",
       "      <td>Business</td>\n",
       "      <td>Kar?chi</td>\n",
       "      <td>Kar?chi</td>\n",
       "      <td>0.7</td>\n",
       "      <td>Meeting</td>\n",
       "    </tr>\n",
       "    <tr>\n",
       "      <td>1151</td>\n",
       "      <td>12/31/2016 13:24</td>\n",
       "      <td>12/31/2016 13:42</td>\n",
       "      <td>Business</td>\n",
       "      <td>Kar?chi</td>\n",
       "      <td>Unknown Location</td>\n",
       "      <td>3.9</td>\n",
       "      <td>Temporary Site</td>\n",
       "    </tr>\n",
       "    <tr>\n",
       "      <td>1152</td>\n",
       "      <td>12/31/2016 15:03</td>\n",
       "      <td>12/31/2016 15:38</td>\n",
       "      <td>Business</td>\n",
       "      <td>Unknown Location</td>\n",
       "      <td>Unknown Location</td>\n",
       "      <td>16.2</td>\n",
       "      <td>Meeting</td>\n",
       "    </tr>\n",
       "    <tr>\n",
       "      <td>1153</td>\n",
       "      <td>12/31/2016 21:32</td>\n",
       "      <td>12/31/2016 21:50</td>\n",
       "      <td>Business</td>\n",
       "      <td>Katunayake</td>\n",
       "      <td>Gampaha</td>\n",
       "      <td>6.4</td>\n",
       "      <td>Temporary Site</td>\n",
       "    </tr>\n",
       "    <tr>\n",
       "      <td>1154</td>\n",
       "      <td>12/31/2016 22:08</td>\n",
       "      <td>12/31/2016 23:51</td>\n",
       "      <td>Business</td>\n",
       "      <td>Gampaha</td>\n",
       "      <td>Ilukwatta</td>\n",
       "      <td>48.2</td>\n",
       "      <td>Temporary Site</td>\n",
       "    </tr>\n",
       "    <tr>\n",
       "      <td>1155</td>\n",
       "      <td>Totals</td>\n",
       "      <td>NaN</td>\n",
       "      <td>NaN</td>\n",
       "      <td>NaN</td>\n",
       "      <td>NaN</td>\n",
       "      <td>12204.7</td>\n",
       "      <td>NaN</td>\n",
       "    </tr>\n",
       "  </tbody>\n",
       "</table>\n",
       "</div>"
      ],
      "text/plain": [
       "           START_DATE*         END_DATE* CATEGORY*            START*  \\\n",
       "1147  12/30/2016 15:41  12/30/2016 16:03  Business           Kar?chi   \n",
       "1148  12/30/2016 16:45  12/30/2016 17:08  Business           Kar?chi   \n",
       "1149  12/30/2016 23:06  12/30/2016 23:10  Business           Kar?chi   \n",
       "1150   12/31/2016 1:07   12/31/2016 1:14  Business           Kar?chi   \n",
       "1151  12/31/2016 13:24  12/31/2016 13:42  Business           Kar?chi   \n",
       "1152  12/31/2016 15:03  12/31/2016 15:38  Business  Unknown Location   \n",
       "1153  12/31/2016 21:32  12/31/2016 21:50  Business        Katunayake   \n",
       "1154  12/31/2016 22:08  12/31/2016 23:51  Business           Gampaha   \n",
       "1155            Totals               NaN       NaN               NaN   \n",
       "\n",
       "                 STOP*   MILES*         PURPOSE*  \n",
       "1147           Kar?chi      4.6  Errand/Supplies  \n",
       "1148           Kar?chi      4.6          Meeting  \n",
       "1149           Kar?chi      0.8   Customer Visit  \n",
       "1150           Kar?chi      0.7          Meeting  \n",
       "1151  Unknown Location      3.9   Temporary Site  \n",
       "1152  Unknown Location     16.2          Meeting  \n",
       "1153           Gampaha      6.4   Temporary Site  \n",
       "1154         Ilukwatta     48.2   Temporary Site  \n",
       "1155               NaN  12204.7              NaN  "
      ]
     },
     "execution_count": 5,
     "metadata": {},
     "output_type": "execute_result"
    }
   ],
   "source": [
    "#View the last n rows of data\n",
    "df.tail(9)"
   ]
  },
  {
   "cell_type": "code",
   "execution_count": 5,
   "metadata": {},
   "outputs": [
    {
     "name": "stdout",
     "output_type": "stream",
     "text": [
      "(1156, 7)\n",
      "8092\n"
     ]
    }
   ],
   "source": [
    "# understand shape and size of data \n",
    "print(df.shape)\n",
    "print(df.size)"
   ]
  },
  {
   "cell_type": "code",
   "execution_count": 6,
   "metadata": {},
   "outputs": [
    {
     "name": "stdout",
     "output_type": "stream",
     "text": [
      "<class 'pandas.core.frame.DataFrame'>\n",
      "RangeIndex: 1156 entries, 0 to 1155\n",
      "Data columns (total 7 columns):\n",
      "START_DATE*    1156 non-null object\n",
      "END_DATE*      1155 non-null object\n",
      "CATEGORY*      1155 non-null object\n",
      "START*         1155 non-null object\n",
      "STOP*          1155 non-null object\n",
      "MILES*         1156 non-null float64\n",
      "PURPOSE*       653 non-null object\n",
      "dtypes: float64(1), object(6)\n",
      "memory usage: 63.3+ KB\n"
     ]
    }
   ],
   "source": [
    "df.info()"
   ]
  },
  {
   "cell_type": "code",
   "execution_count": 7,
   "metadata": {},
   "outputs": [
    {
     "data": {
      "text/plain": [
       "START_DATE*    1156\n",
       "END_DATE*      1155\n",
       "CATEGORY*      1155\n",
       "START*         1155\n",
       "STOP*          1155\n",
       "MILES*         1156\n",
       "PURPOSE*        653\n",
       "dtype: int64"
      ]
     },
     "execution_count": 7,
     "metadata": {},
     "output_type": "execute_result"
    }
   ],
   "source": [
    "# Same as above, gives non-null number of records\n",
    "df.count()"
   ]
  },
  {
   "cell_type": "markdown",
   "metadata": {},
   "source": [
    "1. PURPOSE column has lots of missing values  \n",
    "2. 1155 or 1156 records ??"
   ]
  },
  {
   "cell_type": "code",
   "execution_count": 8,
   "metadata": {},
   "outputs": [
    {
     "data": {
      "text/html": [
       "<div>\n",
       "<style scoped>\n",
       "    .dataframe tbody tr th:only-of-type {\n",
       "        vertical-align: middle;\n",
       "    }\n",
       "\n",
       "    .dataframe tbody tr th {\n",
       "        vertical-align: top;\n",
       "    }\n",
       "\n",
       "    .dataframe thead th {\n",
       "        text-align: right;\n",
       "    }\n",
       "</style>\n",
       "<table border=\"1\" class=\"dataframe\">\n",
       "  <thead>\n",
       "    <tr style=\"text-align: right;\">\n",
       "      <th></th>\n",
       "      <th>START_DATE*</th>\n",
       "      <th>END_DATE*</th>\n",
       "      <th>CATEGORY*</th>\n",
       "      <th>START*</th>\n",
       "      <th>STOP*</th>\n",
       "      <th>MILES*</th>\n",
       "      <th>PURPOSE*</th>\n",
       "    </tr>\n",
       "  </thead>\n",
       "  <tbody>\n",
       "    <tr>\n",
       "      <td>0</td>\n",
       "      <td>False</td>\n",
       "      <td>False</td>\n",
       "      <td>False</td>\n",
       "      <td>False</td>\n",
       "      <td>False</td>\n",
       "      <td>False</td>\n",
       "      <td>False</td>\n",
       "    </tr>\n",
       "    <tr>\n",
       "      <td>1</td>\n",
       "      <td>False</td>\n",
       "      <td>False</td>\n",
       "      <td>False</td>\n",
       "      <td>False</td>\n",
       "      <td>False</td>\n",
       "      <td>False</td>\n",
       "      <td>True</td>\n",
       "    </tr>\n",
       "    <tr>\n",
       "      <td>2</td>\n",
       "      <td>False</td>\n",
       "      <td>False</td>\n",
       "      <td>False</td>\n",
       "      <td>False</td>\n",
       "      <td>False</td>\n",
       "      <td>False</td>\n",
       "      <td>False</td>\n",
       "    </tr>\n",
       "    <tr>\n",
       "      <td>3</td>\n",
       "      <td>False</td>\n",
       "      <td>False</td>\n",
       "      <td>False</td>\n",
       "      <td>False</td>\n",
       "      <td>False</td>\n",
       "      <td>False</td>\n",
       "      <td>False</td>\n",
       "    </tr>\n",
       "    <tr>\n",
       "      <td>4</td>\n",
       "      <td>False</td>\n",
       "      <td>False</td>\n",
       "      <td>False</td>\n",
       "      <td>False</td>\n",
       "      <td>False</td>\n",
       "      <td>False</td>\n",
       "      <td>False</td>\n",
       "    </tr>\n",
       "    <tr>\n",
       "      <td>...</td>\n",
       "      <td>...</td>\n",
       "      <td>...</td>\n",
       "      <td>...</td>\n",
       "      <td>...</td>\n",
       "      <td>...</td>\n",
       "      <td>...</td>\n",
       "      <td>...</td>\n",
       "    </tr>\n",
       "    <tr>\n",
       "      <td>1151</td>\n",
       "      <td>False</td>\n",
       "      <td>False</td>\n",
       "      <td>False</td>\n",
       "      <td>False</td>\n",
       "      <td>False</td>\n",
       "      <td>False</td>\n",
       "      <td>False</td>\n",
       "    </tr>\n",
       "    <tr>\n",
       "      <td>1152</td>\n",
       "      <td>False</td>\n",
       "      <td>False</td>\n",
       "      <td>False</td>\n",
       "      <td>False</td>\n",
       "      <td>False</td>\n",
       "      <td>False</td>\n",
       "      <td>False</td>\n",
       "    </tr>\n",
       "    <tr>\n",
       "      <td>1153</td>\n",
       "      <td>False</td>\n",
       "      <td>False</td>\n",
       "      <td>False</td>\n",
       "      <td>False</td>\n",
       "      <td>False</td>\n",
       "      <td>False</td>\n",
       "      <td>False</td>\n",
       "    </tr>\n",
       "    <tr>\n",
       "      <td>1154</td>\n",
       "      <td>False</td>\n",
       "      <td>False</td>\n",
       "      <td>False</td>\n",
       "      <td>False</td>\n",
       "      <td>False</td>\n",
       "      <td>False</td>\n",
       "      <td>False</td>\n",
       "    </tr>\n",
       "    <tr>\n",
       "      <td>1155</td>\n",
       "      <td>False</td>\n",
       "      <td>True</td>\n",
       "      <td>True</td>\n",
       "      <td>True</td>\n",
       "      <td>True</td>\n",
       "      <td>False</td>\n",
       "      <td>True</td>\n",
       "    </tr>\n",
       "  </tbody>\n",
       "</table>\n",
       "<p>1156 rows × 7 columns</p>\n",
       "</div>"
      ],
      "text/plain": [
       "      START_DATE*  END_DATE*  CATEGORY*  START*  STOP*  MILES*  PURPOSE*\n",
       "0           False      False      False   False  False   False     False\n",
       "1           False      False      False   False  False   False      True\n",
       "2           False      False      False   False  False   False     False\n",
       "3           False      False      False   False  False   False     False\n",
       "4           False      False      False   False  False   False     False\n",
       "...           ...        ...        ...     ...    ...     ...       ...\n",
       "1151        False      False      False   False  False   False     False\n",
       "1152        False      False      False   False  False   False     False\n",
       "1153        False      False      False   False  False   False     False\n",
       "1154        False      False      False   False  False   False     False\n",
       "1155        False       True       True    True   True   False      True\n",
       "\n",
       "[1156 rows x 7 columns]"
      ]
     },
     "execution_count": 8,
     "metadata": {},
     "output_type": "execute_result"
    }
   ],
   "source": [
    "df.isnull()"
   ]
  },
  {
   "cell_type": "code",
   "execution_count": 9,
   "metadata": {
    "scrolled": true
   },
   "outputs": [
    {
     "data": {
      "text/plain": [
       "START_DATE*      0\n",
       "END_DATE*        1\n",
       "CATEGORY*        1\n",
       "START*           1\n",
       "STOP*            1\n",
       "MILES*           0\n",
       "PURPOSE*       503\n",
       "dtype: int64"
      ]
     },
     "execution_count": 9,
     "metadata": {},
     "output_type": "execute_result"
    }
   ],
   "source": [
    "#Shows  the column wise values of missing data\n",
    "df.isnull().sum()"
   ]
  },
  {
   "cell_type": "code",
   "execution_count": 11,
   "metadata": {
    "scrolled": true
   },
   "outputs": [
    {
     "data": {
      "text/plain": [
       "START_DATE*    False\n",
       "END_DATE*       True\n",
       "CATEGORY*       True\n",
       "START*          True\n",
       "STOP*           True\n",
       "MILES*         False\n",
       "PURPOSE*        True\n",
       "dtype: bool"
      ]
     },
     "execution_count": 11,
     "metadata": {},
     "output_type": "execute_result"
    }
   ],
   "source": [
    "#Is any(atleast 1 value) of the values in columns of the df null ?\n",
    "# Useful in writing validation scripts on large number of files\n",
    "df.isnull().any()"
   ]
  },
  {
   "cell_type": "code",
   "execution_count": 12,
   "metadata": {},
   "outputs": [
    {
     "data": {
      "text/plain": [
       "True"
      ]
     },
     "execution_count": 12,
     "metadata": {},
     "output_type": "execute_result"
    }
   ],
   "source": [
    "#Is any(atleast 1 value) of the values in the df null ? \n",
    "# Useful in writing validation scripts on large number of files\n",
    "df.isnull().any().any()"
   ]
  },
  {
   "cell_type": "code",
   "execution_count": 10,
   "metadata": {},
   "outputs": [
    {
     "name": "stdout",
     "output_type": "stream",
     "text": [
      "Index(['END_DATE*', 'CATEGORY*', 'START*', 'STOP*', 'PURPOSE*'], dtype='object')\n",
      "['END_DATE*', 'CATEGORY*', 'START*', 'STOP*', 'PURPOSE*']\n"
     ]
    }
   ],
   "source": [
    "#Get the columns into a list and do use it to do some operations\n",
    "\n",
    "null_cols = df.columns[df.isnull().any()]\n",
    "print(null_cols)\n",
    "\n",
    "null_cols = list(null_cols)\n",
    "print(null_cols)"
   ]
  },
  {
   "cell_type": "markdown",
   "metadata": {},
   "source": [
    "Show the records with missing values for column= PURPOSE "
   ]
  },
  {
   "cell_type": "code",
   "execution_count": 14,
   "metadata": {},
   "outputs": [
    {
     "data": {
      "text/html": [
       "<div>\n",
       "<style scoped>\n",
       "    .dataframe tbody tr th:only-of-type {\n",
       "        vertical-align: middle;\n",
       "    }\n",
       "\n",
       "    .dataframe tbody tr th {\n",
       "        vertical-align: top;\n",
       "    }\n",
       "\n",
       "    .dataframe thead th {\n",
       "        text-align: right;\n",
       "    }\n",
       "</style>\n",
       "<table border=\"1\" class=\"dataframe\">\n",
       "  <thead>\n",
       "    <tr style=\"text-align: right;\">\n",
       "      <th></th>\n",
       "      <th>START_DATE*</th>\n",
       "      <th>END_DATE*</th>\n",
       "      <th>CATEGORY*</th>\n",
       "      <th>START*</th>\n",
       "      <th>STOP*</th>\n",
       "      <th>MILES*</th>\n",
       "      <th>PURPOSE*</th>\n",
       "    </tr>\n",
       "  </thead>\n",
       "  <tbody>\n",
       "    <tr>\n",
       "      <td>1</td>\n",
       "      <td>1/2/2016 1:25</td>\n",
       "      <td>1/2/2016 1:37</td>\n",
       "      <td>Business</td>\n",
       "      <td>Fort Pierce</td>\n",
       "      <td>Fort Pierce</td>\n",
       "      <td>5.0</td>\n",
       "      <td>NaN</td>\n",
       "    </tr>\n",
       "    <tr>\n",
       "      <td>32</td>\n",
       "      <td>1/19/2016 9:09</td>\n",
       "      <td>1/19/2016 9:23</td>\n",
       "      <td>Business</td>\n",
       "      <td>Whitebridge</td>\n",
       "      <td>Lake Wellingborough</td>\n",
       "      <td>7.2</td>\n",
       "      <td>NaN</td>\n",
       "    </tr>\n",
       "    <tr>\n",
       "      <td>85</td>\n",
       "      <td>2/9/2016 10:54</td>\n",
       "      <td>2/9/2016 11:07</td>\n",
       "      <td>Personal</td>\n",
       "      <td>Whitebridge</td>\n",
       "      <td>Northwoods</td>\n",
       "      <td>5.3</td>\n",
       "      <td>NaN</td>\n",
       "    </tr>\n",
       "    <tr>\n",
       "      <td>86</td>\n",
       "      <td>2/9/2016 11:43</td>\n",
       "      <td>2/9/2016 11:50</td>\n",
       "      <td>Personal</td>\n",
       "      <td>Northwoods</td>\n",
       "      <td>Tanglewood</td>\n",
       "      <td>3.0</td>\n",
       "      <td>NaN</td>\n",
       "    </tr>\n",
       "    <tr>\n",
       "      <td>87</td>\n",
       "      <td>2/9/2016 13:36</td>\n",
       "      <td>2/9/2016 13:52</td>\n",
       "      <td>Personal</td>\n",
       "      <td>Tanglewood</td>\n",
       "      <td>Preston</td>\n",
       "      <td>5.1</td>\n",
       "      <td>NaN</td>\n",
       "    </tr>\n",
       "    <tr>\n",
       "      <td>...</td>\n",
       "      <td>...</td>\n",
       "      <td>...</td>\n",
       "      <td>...</td>\n",
       "      <td>...</td>\n",
       "      <td>...</td>\n",
       "      <td>...</td>\n",
       "      <td>...</td>\n",
       "    </tr>\n",
       "    <tr>\n",
       "      <td>1066</td>\n",
       "      <td>12/19/2016 14:37</td>\n",
       "      <td>12/19/2016 14:50</td>\n",
       "      <td>Business</td>\n",
       "      <td>Unknown Location</td>\n",
       "      <td>Unknown Location</td>\n",
       "      <td>5.4</td>\n",
       "      <td>NaN</td>\n",
       "    </tr>\n",
       "    <tr>\n",
       "      <td>1069</td>\n",
       "      <td>12/19/2016 19:05</td>\n",
       "      <td>12/19/2016 19:17</td>\n",
       "      <td>Business</td>\n",
       "      <td>Islamabad</td>\n",
       "      <td>Unknown Location</td>\n",
       "      <td>2.2</td>\n",
       "      <td>NaN</td>\n",
       "    </tr>\n",
       "    <tr>\n",
       "      <td>1071</td>\n",
       "      <td>12/20/2016 8:49</td>\n",
       "      <td>12/20/2016 9:24</td>\n",
       "      <td>Business</td>\n",
       "      <td>Unknown Location</td>\n",
       "      <td>Rawalpindi</td>\n",
       "      <td>12.0</td>\n",
       "      <td>NaN</td>\n",
       "    </tr>\n",
       "    <tr>\n",
       "      <td>1143</td>\n",
       "      <td>12/29/2016 20:53</td>\n",
       "      <td>12/29/2016 21:42</td>\n",
       "      <td>Business</td>\n",
       "      <td>Kar?chi</td>\n",
       "      <td>Unknown Location</td>\n",
       "      <td>6.4</td>\n",
       "      <td>NaN</td>\n",
       "    </tr>\n",
       "    <tr>\n",
       "      <td>1155</td>\n",
       "      <td>Totals</td>\n",
       "      <td>NaN</td>\n",
       "      <td>NaN</td>\n",
       "      <td>NaN</td>\n",
       "      <td>NaN</td>\n",
       "      <td>12204.7</td>\n",
       "      <td>NaN</td>\n",
       "    </tr>\n",
       "  </tbody>\n",
       "</table>\n",
       "<p>503 rows × 7 columns</p>\n",
       "</div>"
      ],
      "text/plain": [
       "           START_DATE*         END_DATE* CATEGORY*            START*  \\\n",
       "1        1/2/2016 1:25     1/2/2016 1:37  Business       Fort Pierce   \n",
       "32      1/19/2016 9:09    1/19/2016 9:23  Business       Whitebridge   \n",
       "85      2/9/2016 10:54    2/9/2016 11:07  Personal       Whitebridge   \n",
       "86      2/9/2016 11:43    2/9/2016 11:50  Personal        Northwoods   \n",
       "87      2/9/2016 13:36    2/9/2016 13:52  Personal        Tanglewood   \n",
       "...                ...               ...       ...               ...   \n",
       "1066  12/19/2016 14:37  12/19/2016 14:50  Business  Unknown Location   \n",
       "1069  12/19/2016 19:05  12/19/2016 19:17  Business         Islamabad   \n",
       "1071   12/20/2016 8:49   12/20/2016 9:24  Business  Unknown Location   \n",
       "1143  12/29/2016 20:53  12/29/2016 21:42  Business           Kar?chi   \n",
       "1155            Totals               NaN       NaN               NaN   \n",
       "\n",
       "                    STOP*   MILES* PURPOSE*  \n",
       "1             Fort Pierce      5.0      NaN  \n",
       "32    Lake Wellingborough      7.2      NaN  \n",
       "85             Northwoods      5.3      NaN  \n",
       "86             Tanglewood      3.0      NaN  \n",
       "87                Preston      5.1      NaN  \n",
       "...                   ...      ...      ...  \n",
       "1066     Unknown Location      5.4      NaN  \n",
       "1069     Unknown Location      2.2      NaN  \n",
       "1071           Rawalpindi     12.0      NaN  \n",
       "1143     Unknown Location      6.4      NaN  \n",
       "1155                  NaN  12204.7      NaN  \n",
       "\n",
       "[503 rows x 7 columns]"
      ]
     },
     "execution_count": 14,
     "metadata": {},
     "output_type": "execute_result"
    }
   ],
   "source": [
    "# you can as well do a head() function on this to just view the first n rows\n",
    "\n",
    "df[df['PURPOSE*'].isnull()]"
   ]
  },
  {
   "cell_type": "markdown",
   "metadata": {},
   "source": [
    "How many records are non-null  / have values ( in a particular column )"
   ]
  },
  {
   "cell_type": "code",
   "execution_count": 15,
   "metadata": {},
   "outputs": [
    {
     "data": {
      "text/plain": [
       "653"
      ]
     },
     "execution_count": 15,
     "metadata": {},
     "output_type": "execute_result"
    }
   ],
   "source": [
    "# Count non-NA cells for each column or row.\n",
    "df['PURPOSE*'].count()"
   ]
  },
  {
   "cell_type": "markdown",
   "metadata": {},
   "source": [
    "### Renaming columns"
   ]
  },
  {
   "cell_type": "code",
   "execution_count": 31,
   "metadata": {},
   "outputs": [
    {
     "data": {
      "text/html": [
       "<div>\n",
       "<style scoped>\n",
       "    .dataframe tbody tr th:only-of-type {\n",
       "        vertical-align: middle;\n",
       "    }\n",
       "\n",
       "    .dataframe tbody tr th {\n",
       "        vertical-align: top;\n",
       "    }\n",
       "\n",
       "    .dataframe thead th {\n",
       "        text-align: right;\n",
       "    }\n",
       "</style>\n",
       "<table border=\"1\" class=\"dataframe\">\n",
       "  <thead>\n",
       "    <tr style=\"text-align: right;\">\n",
       "      <th></th>\n",
       "      <th>START_DATE</th>\n",
       "      <th>END_DATE</th>\n",
       "      <th>CAT</th>\n",
       "      <th>START</th>\n",
       "      <th>STOP</th>\n",
       "      <th>MILES</th>\n",
       "      <th>PURPOSE</th>\n",
       "    </tr>\n",
       "  </thead>\n",
       "  <tbody>\n",
       "    <tr>\n",
       "      <td>0</td>\n",
       "      <td>1/1/2016 21:11</td>\n",
       "      <td>1/1/2016 21:17</td>\n",
       "      <td>Business</td>\n",
       "      <td>Fort Pierce</td>\n",
       "      <td>Fort Pierce</td>\n",
       "      <td>5.1</td>\n",
       "      <td>Meal/Entertain</td>\n",
       "    </tr>\n",
       "    <tr>\n",
       "      <td>1</td>\n",
       "      <td>1/2/2016 1:25</td>\n",
       "      <td>1/2/2016 1:37</td>\n",
       "      <td>Business</td>\n",
       "      <td>Fort Pierce</td>\n",
       "      <td>Fort Pierce</td>\n",
       "      <td>5.0</td>\n",
       "      <td>NaN</td>\n",
       "    </tr>\n",
       "    <tr>\n",
       "      <td>2</td>\n",
       "      <td>1/2/2016 20:25</td>\n",
       "      <td>1/2/2016 20:38</td>\n",
       "      <td>Business</td>\n",
       "      <td>Fort Pierce</td>\n",
       "      <td>Fort Pierce</td>\n",
       "      <td>4.8</td>\n",
       "      <td>Errand/Supplies</td>\n",
       "    </tr>\n",
       "    <tr>\n",
       "      <td>3</td>\n",
       "      <td>1/5/2016 17:31</td>\n",
       "      <td>1/5/2016 17:45</td>\n",
       "      <td>Business</td>\n",
       "      <td>Fort Pierce</td>\n",
       "      <td>Fort Pierce</td>\n",
       "      <td>4.7</td>\n",
       "      <td>Meeting</td>\n",
       "    </tr>\n",
       "    <tr>\n",
       "      <td>4</td>\n",
       "      <td>1/6/2016 14:42</td>\n",
       "      <td>1/6/2016 15:49</td>\n",
       "      <td>Business</td>\n",
       "      <td>Fort Pierce</td>\n",
       "      <td>West Palm Beach</td>\n",
       "      <td>63.7</td>\n",
       "      <td>Customer Visit</td>\n",
       "    </tr>\n",
       "  </tbody>\n",
       "</table>\n",
       "</div>"
      ],
      "text/plain": [
       "       START_DATE        END_DATE       CAT        START             STOP  \\\n",
       "0  1/1/2016 21:11  1/1/2016 21:17  Business  Fort Pierce      Fort Pierce   \n",
       "1   1/2/2016 1:25   1/2/2016 1:37  Business  Fort Pierce      Fort Pierce   \n",
       "2  1/2/2016 20:25  1/2/2016 20:38  Business  Fort Pierce      Fort Pierce   \n",
       "3  1/5/2016 17:31  1/5/2016 17:45  Business  Fort Pierce      Fort Pierce   \n",
       "4  1/6/2016 14:42  1/6/2016 15:49  Business  Fort Pierce  West Palm Beach   \n",
       "\n",
       "   MILES          PURPOSE  \n",
       "0    5.1   Meal/Entertain  \n",
       "1    5.0              NaN  \n",
       "2    4.8  Errand/Supplies  \n",
       "3    4.7          Meeting  \n",
       "4   63.7   Customer Visit  "
      ]
     },
     "execution_count": 31,
     "metadata": {},
     "output_type": "execute_result"
    }
   ],
   "source": [
    "# Rename the columns to remove the * from the names\n",
    "# Why ? we can use df.START_DATE same way as  df['START_DATE*']\n",
    "col_names = ['START_DATE','END_DATE','CAT', 'START' , 'STOP' , 'MILES','PURPOSE']\n",
    "df.columns = col_names\n",
    "\n",
    "# or Replace the * character from all the  columns, in case you have many columns\n",
    "# and cant manually write the column names. Thanks for pointing this out.\n",
    "df.columns = df.columns.str.replace(\"*\", \"\")\n",
    "\n",
    "# You can also rename the specific column names \n",
    "df.rename( columns = {'CAT':'CATEGORY'})\n",
    "df.head()"
   ]
  },
  {
   "cell_type": "code",
   "execution_count": 17,
   "metadata": {},
   "outputs": [
    {
     "data": {
      "text/html": [
       "<div>\n",
       "<style scoped>\n",
       "    .dataframe tbody tr th:only-of-type {\n",
       "        vertical-align: middle;\n",
       "    }\n",
       "\n",
       "    .dataframe tbody tr th {\n",
       "        vertical-align: top;\n",
       "    }\n",
       "\n",
       "    .dataframe thead th {\n",
       "        text-align: right;\n",
       "    }\n",
       "</style>\n",
       "<table border=\"1\" class=\"dataframe\">\n",
       "  <thead>\n",
       "    <tr style=\"text-align: right;\">\n",
       "      <th></th>\n",
       "      <th>START_DATE</th>\n",
       "      <th>END_DATE</th>\n",
       "      <th>CAT</th>\n",
       "      <th>START</th>\n",
       "      <th>STOP</th>\n",
       "      <th>MILES</th>\n",
       "      <th>PURPOSE</th>\n",
       "    </tr>\n",
       "  </thead>\n",
       "  <tbody>\n",
       "    <tr>\n",
       "      <td>0</td>\n",
       "      <td>1/1/2016 21:11</td>\n",
       "      <td>1/1/2016 21:17</td>\n",
       "      <td>Business</td>\n",
       "      <td>Fort Pierce</td>\n",
       "      <td>Fort Pierce</td>\n",
       "      <td>5.1</td>\n",
       "      <td>Meal/Entertain</td>\n",
       "    </tr>\n",
       "    <tr>\n",
       "      <td>1</td>\n",
       "      <td>1/2/2016 1:25</td>\n",
       "      <td>1/2/2016 1:37</td>\n",
       "      <td>Business</td>\n",
       "      <td>Fort Pierce</td>\n",
       "      <td>Fort Pierce</td>\n",
       "      <td>5.0</td>\n",
       "      <td>NaN</td>\n",
       "    </tr>\n",
       "    <tr>\n",
       "      <td>2</td>\n",
       "      <td>1/2/2016 20:25</td>\n",
       "      <td>1/2/2016 20:38</td>\n",
       "      <td>Business</td>\n",
       "      <td>Fort Pierce</td>\n",
       "      <td>Fort Pierce</td>\n",
       "      <td>4.8</td>\n",
       "      <td>Errand/Supplies</td>\n",
       "    </tr>\n",
       "    <tr>\n",
       "      <td>3</td>\n",
       "      <td>1/5/2016 17:31</td>\n",
       "      <td>1/5/2016 17:45</td>\n",
       "      <td>Business</td>\n",
       "      <td>Fort Pierce</td>\n",
       "      <td>Fort Pierce</td>\n",
       "      <td>4.7</td>\n",
       "      <td>Meeting</td>\n",
       "    </tr>\n",
       "    <tr>\n",
       "      <td>4</td>\n",
       "      <td>1/6/2016 14:42</td>\n",
       "      <td>1/6/2016 15:49</td>\n",
       "      <td>Business</td>\n",
       "      <td>Fort Pierce</td>\n",
       "      <td>West Palm Beach</td>\n",
       "      <td>63.7</td>\n",
       "      <td>Customer Visit</td>\n",
       "    </tr>\n",
       "  </tbody>\n",
       "</table>\n",
       "</div>"
      ],
      "text/plain": [
       "       START_DATE        END_DATE       CAT        START             STOP  \\\n",
       "0  1/1/2016 21:11  1/1/2016 21:17  Business  Fort Pierce      Fort Pierce   \n",
       "1   1/2/2016 1:25   1/2/2016 1:37  Business  Fort Pierce      Fort Pierce   \n",
       "2  1/2/2016 20:25  1/2/2016 20:38  Business  Fort Pierce      Fort Pierce   \n",
       "3  1/5/2016 17:31  1/5/2016 17:45  Business  Fort Pierce      Fort Pierce   \n",
       "4  1/6/2016 14:42  1/6/2016 15:49  Business  Fort Pierce  West Palm Beach   \n",
       "\n",
       "   MILES          PURPOSE  \n",
       "0    5.1   Meal/Entertain  \n",
       "1    5.0              NaN  \n",
       "2    4.8  Errand/Supplies  \n",
       "3    4.7          Meeting  \n",
       "4   63.7   Customer Visit  "
      ]
     },
     "execution_count": 17,
     "metadata": {},
     "output_type": "execute_result"
    }
   ],
   "source": [
    "df.head()"
   ]
  },
  {
   "cell_type": "markdown",
   "metadata": {},
   "source": [
    "### Filtering dataframes -1 "
   ]
  },
  {
   "cell_type": "code",
   "execution_count": 14,
   "metadata": {},
   "outputs": [
    {
     "data": {
      "text/html": [
       "<div>\n",
       "<style scoped>\n",
       "    .dataframe tbody tr th:only-of-type {\n",
       "        vertical-align: middle;\n",
       "    }\n",
       "\n",
       "    .dataframe tbody tr th {\n",
       "        vertical-align: top;\n",
       "    }\n",
       "\n",
       "    .dataframe thead th {\n",
       "        text-align: right;\n",
       "    }\n",
       "</style>\n",
       "<table border=\"1\" class=\"dataframe\">\n",
       "  <thead>\n",
       "    <tr style=\"text-align: right;\">\n",
       "      <th></th>\n",
       "      <th>START_DATE</th>\n",
       "      <th>END_DATE</th>\n",
       "      <th>CAT</th>\n",
       "      <th>START</th>\n",
       "      <th>STOP</th>\n",
       "      <th>MILES</th>\n",
       "      <th>PURPOSE</th>\n",
       "    </tr>\n",
       "  </thead>\n",
       "  <tbody>\n",
       "    <tr>\n",
       "      <td>0</td>\n",
       "      <td>1/1/2016 21:11</td>\n",
       "      <td>1/1/2016 21:17</td>\n",
       "      <td>Business</td>\n",
       "      <td>Fort Pierce</td>\n",
       "      <td>Fort Pierce</td>\n",
       "      <td>5.1</td>\n",
       "      <td>Meal/Entertain</td>\n",
       "    </tr>\n",
       "    <tr>\n",
       "      <td>2</td>\n",
       "      <td>1/2/2016 20:25</td>\n",
       "      <td>1/2/2016 20:38</td>\n",
       "      <td>Business</td>\n",
       "      <td>Fort Pierce</td>\n",
       "      <td>Fort Pierce</td>\n",
       "      <td>4.8</td>\n",
       "      <td>Errand/Supplies</td>\n",
       "    </tr>\n",
       "    <tr>\n",
       "      <td>3</td>\n",
       "      <td>1/5/2016 17:31</td>\n",
       "      <td>1/5/2016 17:45</td>\n",
       "      <td>Business</td>\n",
       "      <td>Fort Pierce</td>\n",
       "      <td>Fort Pierce</td>\n",
       "      <td>4.7</td>\n",
       "      <td>Meeting</td>\n",
       "    </tr>\n",
       "    <tr>\n",
       "      <td>4</td>\n",
       "      <td>1/6/2016 14:42</td>\n",
       "      <td>1/6/2016 15:49</td>\n",
       "      <td>Business</td>\n",
       "      <td>Fort Pierce</td>\n",
       "      <td>West Palm Beach</td>\n",
       "      <td>63.7</td>\n",
       "      <td>Customer Visit</td>\n",
       "    </tr>\n",
       "    <tr>\n",
       "      <td>5</td>\n",
       "      <td>1/6/2016 17:15</td>\n",
       "      <td>1/6/2016 17:19</td>\n",
       "      <td>Business</td>\n",
       "      <td>West Palm Beach</td>\n",
       "      <td>West Palm Beach</td>\n",
       "      <td>4.3</td>\n",
       "      <td>Meal/Entertain</td>\n",
       "    </tr>\n",
       "    <tr>\n",
       "      <td>...</td>\n",
       "      <td>...</td>\n",
       "      <td>...</td>\n",
       "      <td>...</td>\n",
       "      <td>...</td>\n",
       "      <td>...</td>\n",
       "      <td>...</td>\n",
       "      <td>...</td>\n",
       "    </tr>\n",
       "    <tr>\n",
       "      <td>1150</td>\n",
       "      <td>12/31/2016 1:07</td>\n",
       "      <td>12/31/2016 1:14</td>\n",
       "      <td>Business</td>\n",
       "      <td>Kar?chi</td>\n",
       "      <td>Kar?chi</td>\n",
       "      <td>0.7</td>\n",
       "      <td>Meeting</td>\n",
       "    </tr>\n",
       "    <tr>\n",
       "      <td>1151</td>\n",
       "      <td>12/31/2016 13:24</td>\n",
       "      <td>12/31/2016 13:42</td>\n",
       "      <td>Business</td>\n",
       "      <td>Kar?chi</td>\n",
       "      <td>Unknown Location</td>\n",
       "      <td>3.9</td>\n",
       "      <td>Temporary Site</td>\n",
       "    </tr>\n",
       "    <tr>\n",
       "      <td>1152</td>\n",
       "      <td>12/31/2016 15:03</td>\n",
       "      <td>12/31/2016 15:38</td>\n",
       "      <td>Business</td>\n",
       "      <td>Unknown Location</td>\n",
       "      <td>Unknown Location</td>\n",
       "      <td>16.2</td>\n",
       "      <td>Meeting</td>\n",
       "    </tr>\n",
       "    <tr>\n",
       "      <td>1153</td>\n",
       "      <td>12/31/2016 21:32</td>\n",
       "      <td>12/31/2016 21:50</td>\n",
       "      <td>Business</td>\n",
       "      <td>Katunayake</td>\n",
       "      <td>Gampaha</td>\n",
       "      <td>6.4</td>\n",
       "      <td>Temporary Site</td>\n",
       "    </tr>\n",
       "    <tr>\n",
       "      <td>1154</td>\n",
       "      <td>12/31/2016 22:08</td>\n",
       "      <td>12/31/2016 23:51</td>\n",
       "      <td>Business</td>\n",
       "      <td>Gampaha</td>\n",
       "      <td>Ilukwatta</td>\n",
       "      <td>48.2</td>\n",
       "      <td>Temporary Site</td>\n",
       "    </tr>\n",
       "  </tbody>\n",
       "</table>\n",
       "<p>653 rows × 7 columns</p>\n",
       "</div>"
      ],
      "text/plain": [
       "            START_DATE          END_DATE       CAT             START  \\\n",
       "0       1/1/2016 21:11    1/1/2016 21:17  Business       Fort Pierce   \n",
       "2       1/2/2016 20:25    1/2/2016 20:38  Business       Fort Pierce   \n",
       "3       1/5/2016 17:31    1/5/2016 17:45  Business       Fort Pierce   \n",
       "4       1/6/2016 14:42    1/6/2016 15:49  Business       Fort Pierce   \n",
       "5       1/6/2016 17:15    1/6/2016 17:19  Business   West Palm Beach   \n",
       "...                ...               ...       ...               ...   \n",
       "1150   12/31/2016 1:07   12/31/2016 1:14  Business           Kar?chi   \n",
       "1151  12/31/2016 13:24  12/31/2016 13:42  Business           Kar?chi   \n",
       "1152  12/31/2016 15:03  12/31/2016 15:38  Business  Unknown Location   \n",
       "1153  12/31/2016 21:32  12/31/2016 21:50  Business        Katunayake   \n",
       "1154  12/31/2016 22:08  12/31/2016 23:51  Business           Gampaha   \n",
       "\n",
       "                  STOP  MILES          PURPOSE  \n",
       "0          Fort Pierce    5.1   Meal/Entertain  \n",
       "2          Fort Pierce    4.8  Errand/Supplies  \n",
       "3          Fort Pierce    4.7          Meeting  \n",
       "4      West Palm Beach   63.7   Customer Visit  \n",
       "5      West Palm Beach    4.3   Meal/Entertain  \n",
       "...                ...    ...              ...  \n",
       "1150           Kar?chi    0.7          Meeting  \n",
       "1151  Unknown Location    3.9   Temporary Site  \n",
       "1152  Unknown Location   16.2          Meeting  \n",
       "1153           Gampaha    6.4   Temporary Site  \n",
       "1154         Ilukwatta   48.2   Temporary Site  \n",
       "\n",
       "[653 rows x 7 columns]"
      ]
     },
     "execution_count": 14,
     "metadata": {},
     "output_type": "execute_result"
    }
   ],
   "source": [
    "# shows the entries where PURPOSE is null\n",
    "df[df.PURPOSE.isnull()]\n",
    "\n",
    "# inverting the selection ( not null ) ( works for booleans cases)\n",
    "df[~df.PURPOSE.isnull()]"
   ]
  },
  {
   "cell_type": "markdown",
   "metadata": {},
   "source": [
    "### Filtering dataframe - 2 "
   ]
  },
  {
   "cell_type": "code",
   "execution_count": 19,
   "metadata": {},
   "outputs": [
    {
     "data": {
      "text/html": [
       "<div>\n",
       "<style scoped>\n",
       "    .dataframe tbody tr th:only-of-type {\n",
       "        vertical-align: middle;\n",
       "    }\n",
       "\n",
       "    .dataframe tbody tr th {\n",
       "        vertical-align: top;\n",
       "    }\n",
       "\n",
       "    .dataframe thead th {\n",
       "        text-align: right;\n",
       "    }\n",
       "</style>\n",
       "<table border=\"1\" class=\"dataframe\">\n",
       "  <thead>\n",
       "    <tr style=\"text-align: right;\">\n",
       "      <th></th>\n",
       "      <th>START_DATE</th>\n",
       "      <th>END_DATE</th>\n",
       "      <th>CAT</th>\n",
       "      <th>START</th>\n",
       "      <th>STOP</th>\n",
       "      <th>MILES</th>\n",
       "      <th>PURPOSE</th>\n",
       "    </tr>\n",
       "  </thead>\n",
       "  <tbody>\n",
       "    <tr>\n",
       "      <td>0</td>\n",
       "      <td>1/1/2016 21:11</td>\n",
       "      <td>1/1/2016 21:17</td>\n",
       "      <td>Business</td>\n",
       "      <td>Fort Pierce</td>\n",
       "      <td>Fort Pierce</td>\n",
       "      <td>5.1</td>\n",
       "      <td>Meal/Entertain</td>\n",
       "    </tr>\n",
       "    <tr>\n",
       "      <td>1</td>\n",
       "      <td>1/2/2016 1:25</td>\n",
       "      <td>1/2/2016 1:37</td>\n",
       "      <td>Business</td>\n",
       "      <td>Fort Pierce</td>\n",
       "      <td>Fort Pierce</td>\n",
       "      <td>5.0</td>\n",
       "      <td>NaN</td>\n",
       "    </tr>\n",
       "    <tr>\n",
       "      <td>2</td>\n",
       "      <td>1/2/2016 20:25</td>\n",
       "      <td>1/2/2016 20:38</td>\n",
       "      <td>Business</td>\n",
       "      <td>Fort Pierce</td>\n",
       "      <td>Fort Pierce</td>\n",
       "      <td>4.8</td>\n",
       "      <td>Errand/Supplies</td>\n",
       "    </tr>\n",
       "    <tr>\n",
       "      <td>3</td>\n",
       "      <td>1/5/2016 17:31</td>\n",
       "      <td>1/5/2016 17:45</td>\n",
       "      <td>Business</td>\n",
       "      <td>Fort Pierce</td>\n",
       "      <td>Fort Pierce</td>\n",
       "      <td>4.7</td>\n",
       "      <td>Meeting</td>\n",
       "    </tr>\n",
       "    <tr>\n",
       "      <td>4</td>\n",
       "      <td>1/6/2016 14:42</td>\n",
       "      <td>1/6/2016 15:49</td>\n",
       "      <td>Business</td>\n",
       "      <td>Fort Pierce</td>\n",
       "      <td>West Palm Beach</td>\n",
       "      <td>63.7</td>\n",
       "      <td>Customer Visit</td>\n",
       "    </tr>\n",
       "    <tr>\n",
       "      <td>...</td>\n",
       "      <td>...</td>\n",
       "      <td>...</td>\n",
       "      <td>...</td>\n",
       "      <td>...</td>\n",
       "      <td>...</td>\n",
       "      <td>...</td>\n",
       "      <td>...</td>\n",
       "    </tr>\n",
       "    <tr>\n",
       "      <td>1151</td>\n",
       "      <td>12/31/2016 13:24</td>\n",
       "      <td>12/31/2016 13:42</td>\n",
       "      <td>Business</td>\n",
       "      <td>Kar?chi</td>\n",
       "      <td>Unknown Location</td>\n",
       "      <td>3.9</td>\n",
       "      <td>Temporary Site</td>\n",
       "    </tr>\n",
       "    <tr>\n",
       "      <td>1152</td>\n",
       "      <td>12/31/2016 15:03</td>\n",
       "      <td>12/31/2016 15:38</td>\n",
       "      <td>Business</td>\n",
       "      <td>Unknown Location</td>\n",
       "      <td>Unknown Location</td>\n",
       "      <td>16.2</td>\n",
       "      <td>Meeting</td>\n",
       "    </tr>\n",
       "    <tr>\n",
       "      <td>1153</td>\n",
       "      <td>12/31/2016 21:32</td>\n",
       "      <td>12/31/2016 21:50</td>\n",
       "      <td>Business</td>\n",
       "      <td>Katunayake</td>\n",
       "      <td>Gampaha</td>\n",
       "      <td>6.4</td>\n",
       "      <td>Temporary Site</td>\n",
       "    </tr>\n",
       "    <tr>\n",
       "      <td>1154</td>\n",
       "      <td>12/31/2016 22:08</td>\n",
       "      <td>12/31/2016 23:51</td>\n",
       "      <td>Business</td>\n",
       "      <td>Gampaha</td>\n",
       "      <td>Ilukwatta</td>\n",
       "      <td>48.2</td>\n",
       "      <td>Temporary Site</td>\n",
       "    </tr>\n",
       "    <tr>\n",
       "      <td>1155</td>\n",
       "      <td>Totals</td>\n",
       "      <td>NaN</td>\n",
       "      <td>NaN</td>\n",
       "      <td>NaN</td>\n",
       "      <td>NaN</td>\n",
       "      <td>12204.7</td>\n",
       "      <td>NaN</td>\n",
       "    </tr>\n",
       "  </tbody>\n",
       "</table>\n",
       "<p>1155 rows × 7 columns</p>\n",
       "</div>"
      ],
      "text/plain": [
       "            START_DATE          END_DATE       CAT             START  \\\n",
       "0       1/1/2016 21:11    1/1/2016 21:17  Business       Fort Pierce   \n",
       "1        1/2/2016 1:25     1/2/2016 1:37  Business       Fort Pierce   \n",
       "2       1/2/2016 20:25    1/2/2016 20:38  Business       Fort Pierce   \n",
       "3       1/5/2016 17:31    1/5/2016 17:45  Business       Fort Pierce   \n",
       "4       1/6/2016 14:42    1/6/2016 15:49  Business       Fort Pierce   \n",
       "...                ...               ...       ...               ...   \n",
       "1151  12/31/2016 13:24  12/31/2016 13:42  Business           Kar?chi   \n",
       "1152  12/31/2016 15:03  12/31/2016 15:38  Business  Unknown Location   \n",
       "1153  12/31/2016 21:32  12/31/2016 21:50  Business        Katunayake   \n",
       "1154  12/31/2016 22:08  12/31/2016 23:51  Business           Gampaha   \n",
       "1155            Totals               NaN       NaN               NaN   \n",
       "\n",
       "                  STOP    MILES          PURPOSE  \n",
       "0          Fort Pierce      5.1   Meal/Entertain  \n",
       "1          Fort Pierce      5.0              NaN  \n",
       "2          Fort Pierce      4.8  Errand/Supplies  \n",
       "3          Fort Pierce      4.7          Meeting  \n",
       "4      West Palm Beach     63.7   Customer Visit  \n",
       "...                ...      ...              ...  \n",
       "1151  Unknown Location      3.9   Temporary Site  \n",
       "1152  Unknown Location     16.2          Meeting  \n",
       "1153           Gampaha      6.4   Temporary Site  \n",
       "1154         Ilukwatta     48.2   Temporary Site  \n",
       "1155               NaN  12204.7              NaN  \n",
       "\n",
       "[1155 rows x 7 columns]"
      ]
     },
     "execution_count": 19,
     "metadata": {},
     "output_type": "execute_result"
    }
   ],
   "source": [
    "#1. Conditions within dataframe \n",
    "df[df['MILES'] > 30]\n",
    "\n",
    "#2. SQL-like query\n",
    "df.query('MILES > 30')\n",
    "\n",
    "# inverting the selection \n",
    "df[df.MILES == 30 ]\n",
    "df[df.MILES != 30 ]"
   ]
  },
  {
   "cell_type": "markdown",
   "metadata": {},
   "source": [
    "Explore the details from the MILES column\n"
   ]
  },
  {
   "cell_type": "code",
   "execution_count": 20,
   "metadata": {},
   "outputs": [
    {
     "data": {
      "text/plain": [
       "Int64Index([0, 1, 2, 3, 9999], dtype='int64')"
      ]
     },
     "execution_count": 20,
     "metadata": {},
     "output_type": "execute_result"
    }
   ],
   "source": [
    "# ????\n",
    "pd.Index([0,1, 2, 3,9999])"
   ]
  },
  {
   "cell_type": "code",
   "execution_count": 27,
   "metadata": {},
   "outputs": [
    {
     "data": {
      "text/html": [
       "<div>\n",
       "<style scoped>\n",
       "    .dataframe tbody tr th:only-of-type {\n",
       "        vertical-align: middle;\n",
       "    }\n",
       "\n",
       "    .dataframe tbody tr th {\n",
       "        vertical-align: top;\n",
       "    }\n",
       "\n",
       "    .dataframe thead th {\n",
       "        text-align: right;\n",
       "    }\n",
       "</style>\n",
       "<table border=\"1\" class=\"dataframe\">\n",
       "  <thead>\n",
       "    <tr style=\"text-align: right;\">\n",
       "      <th></th>\n",
       "      <th>START_DATE</th>\n",
       "      <th>END_DATE</th>\n",
       "      <th>CAT</th>\n",
       "      <th>START</th>\n",
       "      <th>STOP</th>\n",
       "      <th>MILES</th>\n",
       "      <th>PURPOSE</th>\n",
       "    </tr>\n",
       "  </thead>\n",
       "  <tbody>\n",
       "  </tbody>\n",
       "</table>\n",
       "</div>"
      ],
      "text/plain": [
       "Empty DataFrame\n",
       "Columns: [START_DATE, END_DATE, CAT, START, STOP, MILES, PURPOSE]\n",
       "Index: []"
      ]
     },
     "execution_count": 27,
     "metadata": {},
     "output_type": "execute_result"
    }
   ],
   "source": [
    "df.MILES.max()\n",
    "df.MILES.sort_values(ascending = False).head(10) # Show the top 10 rides (*in terms of distance driven)\n",
    "df[df.MILES ==df.MILES.max()]  # Show the row that has the max miles \n",
    "df.sort_values(by = 'MILES' , ascending = False).head(10) # Shows the top 10 rows of MILES ( decreasing value )"
   ]
  },
  {
   "cell_type": "markdown",
   "metadata": {},
   "source": [
    "Remove the last row which has some anomalous number in MILES "
   ]
  },
  {
   "cell_type": "code",
   "execution_count": 26,
   "metadata": {},
   "outputs": [
    {
     "name": "stdout",
     "output_type": "stream",
     "text": [
      "0\n"
     ]
    }
   ],
   "source": [
    "print(len(df))\n",
    "df = df [df.MILES < 1000] # \n",
    "# Or use other filters to remove this row"
   ]
  },
  {
   "cell_type": "code",
   "execution_count": 25,
   "metadata": {},
   "outputs": [
    {
     "data": {
      "text/plain": [
       "0"
      ]
     },
     "execution_count": 25,
     "metadata": {},
     "output_type": "execute_result"
    }
   ],
   "source": [
    "len(df)"
   ]
  },
  {
   "cell_type": "code",
   "execution_count": 30,
   "metadata": {},
   "outputs": [
    {
     "data": {
      "text/plain": [
       "START_DATE*     object\n",
       "END_DATE*       object\n",
       "CATEGORY*       object\n",
       "START*          object\n",
       "STOP*           object\n",
       "MILES*         float64\n",
       "PURPOSE*        object\n",
       "dtype: object"
      ]
     },
     "execution_count": 30,
     "metadata": {},
     "output_type": "execute_result"
    }
   ],
   "source": [
    "df.dtypes"
   ]
  },
  {
   "cell_type": "code",
   "execution_count": 29,
   "metadata": {},
   "outputs": [
    {
     "data": {
      "text/html": [
       "<div>\n",
       "<style scoped>\n",
       "    .dataframe tbody tr th:only-of-type {\n",
       "        vertical-align: middle;\n",
       "    }\n",
       "\n",
       "    .dataframe tbody tr th {\n",
       "        vertical-align: top;\n",
       "    }\n",
       "\n",
       "    .dataframe thead th {\n",
       "        text-align: right;\n",
       "    }\n",
       "</style>\n",
       "<table border=\"1\" class=\"dataframe\">\n",
       "  <thead>\n",
       "    <tr style=\"text-align: right;\">\n",
       "      <th></th>\n",
       "      <th>MILES*</th>\n",
       "    </tr>\n",
       "  </thead>\n",
       "  <tbody>\n",
       "    <tr>\n",
       "      <td>count</td>\n",
       "      <td>1156.000000</td>\n",
       "    </tr>\n",
       "    <tr>\n",
       "      <td>mean</td>\n",
       "      <td>21.115398</td>\n",
       "    </tr>\n",
       "    <tr>\n",
       "      <td>std</td>\n",
       "      <td>359.299007</td>\n",
       "    </tr>\n",
       "    <tr>\n",
       "      <td>min</td>\n",
       "      <td>0.500000</td>\n",
       "    </tr>\n",
       "    <tr>\n",
       "      <td>25%</td>\n",
       "      <td>2.900000</td>\n",
       "    </tr>\n",
       "    <tr>\n",
       "      <td>50%</td>\n",
       "      <td>6.000000</td>\n",
       "    </tr>\n",
       "    <tr>\n",
       "      <td>75%</td>\n",
       "      <td>10.400000</td>\n",
       "    </tr>\n",
       "    <tr>\n",
       "      <td>max</td>\n",
       "      <td>12204.700000</td>\n",
       "    </tr>\n",
       "  </tbody>\n",
       "</table>\n",
       "</div>"
      ],
      "text/plain": [
       "             MILES*\n",
       "count   1156.000000\n",
       "mean      21.115398\n",
       "std      359.299007\n",
       "min        0.500000\n",
       "25%        2.900000\n",
       "50%        6.000000\n",
       "75%       10.400000\n",
       "max    12204.700000"
      ]
     },
     "execution_count": 29,
     "metadata": {},
     "output_type": "execute_result"
    }
   ],
   "source": [
    "#Get a summary of the numerical columns in the data\n",
    "df.describe()"
   ]
  },
  {
   "cell_type": "markdown",
   "metadata": {},
   "source": [
    "The miles driven ranges from 0.5 miles to 12204 miles with an average of 21 miles\n",
    "\n",
    "Max miles - looks suspect"
   ]
  },
  {
   "cell_type": "markdown",
   "metadata": {},
   "source": [
    "#### Dropping rows  which have null values"
   ]
  },
  {
   "cell_type": "code",
   "execution_count": 26,
   "metadata": {},
   "outputs": [
    {
     "data": {
      "text/plain": [
       "(653, 7)"
      ]
     },
     "execution_count": 26,
     "metadata": {},
     "output_type": "execute_result"
    }
   ],
   "source": [
    "# Get the initial data with dropping the NA values\n",
    "df_dropped = df.dropna()  # Dont do this on the original dataframe, you will lose good rows with values , make a copy\n",
    "\n",
    "#Get the shape of the dataframe after removing the null values\n",
    "df_dropped.shape"
   ]
  },
  {
   "cell_type": "markdown",
   "metadata": {},
   "source": [
    "The filtered dataset with no nulls ( in PURPOSE column )  contains 653 rows of non-null values"
   ]
  },
  {
   "cell_type": "markdown",
   "metadata": {},
   "source": [
    "### PANDAS PROFILING\n",
    "Use some packages that will auto profile your data ( than having to manually type in all the commands )\n",
    "\n",
    "You can find the documentation here ( https://pandas-profiling.github.io/pandas-profiling/docs/ )\n",
    "\n",
    "Github page here - https://github.com/pandas-profiling/pandas-profiling"
   ]
  },
  {
   "cell_type": "code",
   "execution_count": 27,
   "metadata": {},
   "outputs": [
    {
     "ename": "ModuleNotFoundError",
     "evalue": "No module named 'pandas_profiling'",
     "output_type": "error",
     "traceback": [
      "\u001b[0;31m---------------------------------------------------------------------------\u001b[0m",
      "\u001b[0;31mModuleNotFoundError\u001b[0m                       Traceback (most recent call last)",
      "\u001b[0;32m<ipython-input-27-f54aa4ee62c2>\u001b[0m in \u001b[0;36m<module>\u001b[0;34m\u001b[0m\n\u001b[0;32m----> 1\u001b[0;31m \u001b[0;32mimport\u001b[0m \u001b[0mpandas_profiling\u001b[0m\u001b[0;34m\u001b[0m\u001b[0;34m\u001b[0m\u001b[0m\n\u001b[0m\u001b[1;32m      2\u001b[0m \u001b[0;34m\u001b[0m\u001b[0m\n\u001b[1;32m      3\u001b[0m \u001b[0;31m#pandas_profiling.ProfileReport(df)  # Of you just want to show here\u001b[0m\u001b[0;34m\u001b[0m\u001b[0;34m\u001b[0m\u001b[0;34m\u001b[0m\u001b[0m\n\u001b[1;32m      4\u001b[0m \u001b[0;31m#Or if you want to\u001b[0m\u001b[0;34m\u001b[0m\u001b[0;34m\u001b[0m\u001b[0;34m\u001b[0m\u001b[0m\n\u001b[1;32m      5\u001b[0m \u001b[0mprofile\u001b[0m\u001b[0;34m=\u001b[0m \u001b[0mpandas_profiling\u001b[0m\u001b[0;34m.\u001b[0m\u001b[0mProfileReport\u001b[0m\u001b[0;34m(\u001b[0m\u001b[0mdf\u001b[0m\u001b[0;34m)\u001b[0m\u001b[0;34m\u001b[0m\u001b[0;34m\u001b[0m\u001b[0m\n",
      "\u001b[0;31mModuleNotFoundError\u001b[0m: No module named 'pandas_profiling'"
     ]
    }
   ],
   "source": [
    "import pandas_profiling \n",
    "\n",
    "#pandas_profiling.ProfileReport(df)  # Of you just want to show here \n",
    "#Or if you want to \n",
    "profile= pandas_profiling.ProfileReport(df)\n",
    "profile.to_file('./output.html')   # output into an html file "
   ]
  },
  {
   "cell_type": "markdown",
   "metadata": {},
   "source": [
    "### Lets explore the data parameter wise - \n",
    "\n",
    "1.Destination - (starting and stopping)\n",
    "\n",
    "2.Time - (hour of the day, day of week, month of year)\n",
    "\n",
    "3.Categories\n",
    "\n",
    "4.Purpose \n",
    "\n",
    "5.Grouping two parameters to get more insights\n"
   ]
  },
  {
   "cell_type": "markdown",
   "metadata": {},
   "source": [
    "## 1. Understanding  the start and stop points "
   ]
  },
  {
   "cell_type": "code",
   "execution_count": 28,
   "metadata": {},
   "outputs": [
    {
     "name": "stdout",
     "output_type": "stream",
     "text": [
      "['Fort Pierce' 'West Palm Beach' 'Cary' 'Jamaica' 'New York' 'Elmhurst'\n",
      " 'Midtown' 'East Harlem' 'Flatiron District' 'Midtown East'\n",
      " 'Hudson Square' 'Lower Manhattan' \"Hell's Kitchen\" 'Downtown' 'Gulfton'\n",
      " 'Houston' 'Eagan Park' 'Morrisville' 'Durham' 'Farmington Woods'\n",
      " 'Whitebridge' 'Lake Wellingborough' 'Fayetteville Street' 'Raleigh'\n",
      " 'Hazelwood' 'Fairmont' 'Meredith Townes' 'Apex' 'Chapel Hill'\n",
      " 'Northwoods' 'Edgehill Farms' 'Tanglewood' 'Preston' 'Eastgate'\n",
      " 'East Elmhurst' 'Jackson Heights' 'Long Island City' 'Katunayaka'\n",
      " 'Unknown Location' 'Colombo' 'Nugegoda' 'Islamabad' 'R?walpindi'\n",
      " 'Noorpur Shahan' 'Heritage Pines' 'Westpark Place' 'Waverly Place'\n",
      " 'Wayne Ridge' 'Weston' 'East Austin' 'West University' 'South Congress'\n",
      " 'The Drag' 'Congress Ave District' 'Red River District' 'Georgian Acres'\n",
      " 'North Austin' 'Coxville' 'Convention Center District' 'Austin' 'Katy'\n",
      " 'Sharpstown' 'Sugar Land' 'Galveston' 'Port Bolivar' 'Washington Avenue'\n",
      " 'Briar Meadow' 'Latta' 'Jacksonville' 'Couples Glen' 'Kissimmee'\n",
      " 'Lake Reams' 'Orlando' 'Sand Lake Commons' 'Sky Lake' 'Daytona Beach'\n",
      " 'Ridgeland' 'Florence' 'Meredith' 'Holly Springs' 'Chessington'\n",
      " 'Burtrose' 'Parkway' 'Mcvan' 'Capitol One' 'University District'\n",
      " 'Seattle' 'Redmond' 'Bellevue' 'San Francisco' 'Palo Alto' 'Sunnyvale'\n",
      " 'Newark' 'Menlo Park' 'Old City' 'Savon Height' 'Kilarney Woods'\n",
      " 'Townes at Everett Crossing' 'Huntington Woods' 'Seaport'\n",
      " 'Medical Centre' 'Rose Hill' 'Soho' 'Tribeca' 'Financial District'\n",
      " 'Oakland' 'Emeryville' 'Berkeley' 'Kenner' 'CBD' 'Lower Garden District'\n",
      " 'Lakeview' 'Storyville' 'New Orleans' 'Metairie' 'Chalmette' 'Arabi'\n",
      " 'Pontchartrain Shores' 'Marigny' 'Covington' 'Mandeville'\n",
      " 'Jamestown Court' 'Summerwinds' 'Parkwood' 'Pontchartrain Beach'\n",
      " 'St Thomas' 'Banner Elk' 'Elk Park' 'Newland' 'Boone' 'Stonewater'\n",
      " 'Lexington Park at Amberly' 'Arlington Park at Amberly' 'Arlington'\n",
      " 'Kalorama Triangle' 'K Street' 'West End' 'Connecticut Avenue'\n",
      " 'Columbia Heights' 'Washington' 'Wake Forest' 'Lahore' 'Karachi'\n",
      " 'SOMISSPO' 'West Berkeley' 'North Berkeley Hills' 'San Jose' 'Eagle Rock'\n",
      " 'Winston Salem' 'Asheville' 'Topton' 'Hayesville' 'Bryson City' 'Almond'\n",
      " 'Mebane' 'Agnew' 'Cory' 'Renaissance' 'Santa Clara' 'NOMA' 'Sunnyside'\n",
      " 'Ingleside' 'Central' 'Tenderloin' 'College Avenue' 'South' 'Southside'\n",
      " 'South Berkeley' 'Mountain View' 'El Cerrito' 'Krendle Woods' 'Wake Co.'\n",
      " 'Fuquay-Varina' 'Rawalpindi' 'Kar?chi' 'Katunayake' 'Gampaha']\n"
     ]
    }
   ],
   "source": [
    "# Get the unique starting point, unique destination\n",
    "# names of unique start points\n",
    "print(df['START'].unique())"
   ]
  },
  {
   "cell_type": "code",
   "execution_count": 29,
   "metadata": {},
   "outputs": [
    {
     "data": {
      "text/plain": [
       "177"
      ]
     },
     "execution_count": 29,
     "metadata": {},
     "output_type": "execute_result"
    }
   ],
   "source": [
    "len(df['START'].unique()) #count of unique start points using  len()"
   ]
  },
  {
   "cell_type": "code",
   "execution_count": 30,
   "metadata": {},
   "outputs": [
    {
     "name": "stdout",
     "output_type": "stream",
     "text": [
      "177\n"
     ]
    }
   ],
   "source": [
    "print(df['START'].nunique()) # or use can use the nunique function"
   ]
  },
  {
   "cell_type": "code",
   "execution_count": 31,
   "metadata": {},
   "outputs": [
    {
     "name": "stdout",
     "output_type": "stream",
     "text": [
      "['Fort Pierce' 'West Palm Beach' 'Palm Beach' 'Cary' 'Morrisville'\n",
      " 'New York' 'Queens' 'East Harlem' 'NoMad' 'Midtown' 'Midtown East'\n",
      " 'Hudson Square' 'Lower Manhattan' \"Hell's Kitchen\" 'Queens County'\n",
      " 'Gulfton' 'Downtown' 'Houston' 'Jamestown Court' 'Durham' 'Whitebridge'\n",
      " 'Lake Wellingborough' 'Raleigh' 'Umstead' 'Hazelwood' 'Westpark Place'\n",
      " 'Meredith Townes' 'Leesville Hollow' 'Apex' 'Chapel Hill'\n",
      " 'Williamsburg Manor' 'Macgregor Downs' 'Edgehill Farms' 'Northwoods'\n",
      " 'Tanglewood' 'Preston' 'Walnut Terrace' 'Jackson Heights' 'East Elmhurst'\n",
      " 'Midtown West' 'Long Island City' 'Jamaica' 'Unknown Location' 'Colombo'\n",
      " 'Nugegoda' 'Katunayaka' 'Islamabad' 'R?walpindi' 'Noorpur Shahan'\n",
      " 'Heritage Pines' 'Waverly Place' 'Wayne Ridge' 'Depot Historic District'\n",
      " 'Weston' 'West University' 'South Congress' 'Arts District'\n",
      " 'Congress Ave District' 'Red River District' 'The Drag'\n",
      " 'Convention Center District' 'North Austin' 'Coxville' 'Katy' 'Alief'\n",
      " 'Sharpstown' 'Sugar Land' 'Galveston' 'Port Bolivar' 'Washington Avenue'\n",
      " 'Briar Meadow' 'Greater Greenspoint' 'Latta' 'Jacksonville' 'Kissimmee'\n",
      " 'Isles of Buena Vista' 'Orlando' 'Lake Reams' 'Vista East' 'Sky Lake'\n",
      " 'Sand Lake Commons' 'Daytona Beach' 'Ridgeland' 'Florence' 'Cedar Hill'\n",
      " 'Holly Springs' 'Harden Place' 'Chessington' 'Burtrose' 'Parkway'\n",
      " 'Capitol One' 'University District' 'Redmond' 'Bellevue' 'Seattle'\n",
      " 'Mcvan' 'Palo Alto' 'Sunnyvale' 'Newark' 'Menlo Park' 'San Francisco'\n",
      " 'Parkway Museums' 'Hog Island' 'Savon Height' 'Kildaire Farms'\n",
      " 'Kilarney Woods' 'Gramercy-Flatiron' 'Tudor City' 'Soho' 'Tribeca'\n",
      " 'Financial District' 'Kips Bay' 'Emeryville' 'Berkeley' 'Oakland'\n",
      " 'Bay Farm Island' 'New Orleans' 'Lower Garden District' 'Lakeview'\n",
      " 'Storyville' 'Faubourg Marigny' 'Metairie' 'Kenner' 'Bywater' 'Chalmette'\n",
      " 'Arabi' 'Pontchartrain Shores' 'Marigny' 'Covington' 'Mandeville'\n",
      " 'Summerwinds' 'Parkwood' 'Pontchartrain Beach' 'CBD' 'St Thomas'\n",
      " 'Banner Elk' 'Elk Park' 'Newland' 'Boone' 'Stonewater'\n",
      " 'Lexington Park at Amberly' 'Arlington Park at Amberly' 'Washington'\n",
      " 'K Street' 'Kalorama Triangle' 'Northwest Rectangle' 'Columbia Heights'\n",
      " 'Arlington' 'Farmington Woods' 'Wake Forest' 'Lahore' 'Karachi'\n",
      " 'French Quarter' 'North Berkeley Hills' 'Southside' 'San Jose'\n",
      " 'Eagle Rock' 'Huntington Woods' 'Winston Salem' 'Asheville' 'Topton'\n",
      " 'Hayesville' 'Bryson City' 'Almond' 'Mebane' 'Santa Clara' 'Cory' 'Agnew'\n",
      " 'Renaissance' 'West Berkeley' 'Central' 'Sunnyside' 'Ingleside'\n",
      " 'Potrero Flats' 'SOMISSPO' 'Tenderloin' 'College Avenue' 'South'\n",
      " 'Southwest Berkeley' 'South Berkeley' 'Mountain View' 'El Cerrito'\n",
      " 'Wake Co.' 'Fuquay-Varina' 'Rawalpindi' 'Kar?chi' 'Gampaha' 'Ilukwatta']\n"
     ]
    }
   ],
   "source": [
    "# Get the starting destination, unique destination\n",
    "print(df['STOP'].unique()) #names of unique start points"
   ]
  },
  {
   "cell_type": "code",
   "execution_count": 32,
   "metadata": {},
   "outputs": [
    {
     "name": "stdout",
     "output_type": "stream",
     "text": [
      "188\n"
     ]
    }
   ],
   "source": [
    "print(len(df['STOP'].unique())) #count of unique start points"
   ]
  },
  {
   "cell_type": "code",
   "execution_count": 33,
   "metadata": {},
   "outputs": [
    {
     "name": "stdout",
     "output_type": "stream",
     "text": [
      "177\n",
      "188\n"
     ]
    }
   ],
   "source": [
    "# To take it one level up in the ease of comparing between two series/lists, use sets \n",
    "\n",
    "s_start  = set(df['START']) #names of unique start points\n",
    "s_stop =  set(df['STOP']) #names of unique start points\n",
    "\n",
    "print(len(s_start))\n",
    "print(len(s_stop))"
   ]
  },
  {
   "cell_type": "code",
   "execution_count": 34,
   "metadata": {},
   "outputs": [
    {
     "data": {
      "text/plain": [
       "{3, 4}"
      ]
     },
     "execution_count": 34,
     "metadata": {},
     "output_type": "execute_result"
    }
   ],
   "source": [
    "#Example on how to use sets to do intersection, union and difference\n",
    "\n",
    "l1 = [1,2,3,4,4]\n",
    "l2 = [3,4,5,6]\n",
    "\n",
    "set(l2) - set(l1) # difference  ( whats in l2 and not in l1 )\n",
    "set(l1) - set(l2) # difference ( whats in l1 and not in l2 )\n",
    "set(l2) | set(l1) # union \n",
    "set(l2) & set(l1) # intersection"
   ]
  },
  {
   "cell_type": "markdown",
   "metadata": {},
   "source": [
    "Stations which are appeared in both start and stop locations "
   ]
  },
  {
   "cell_type": "code",
   "execution_count": 35,
   "metadata": {},
   "outputs": [
    {
     "data": {
      "text/plain": [
       "{'Agnew',\n",
       " 'Almond',\n",
       " 'Apex',\n",
       " 'Arabi',\n",
       " 'Arlington',\n",
       " 'Arlington Park at Amberly',\n",
       " 'Asheville',\n",
       " 'Banner Elk',\n",
       " 'Bellevue',\n",
       " 'Berkeley',\n",
       " 'Boone',\n",
       " 'Briar Meadow',\n",
       " 'Bryson City',\n",
       " 'Burtrose',\n",
       " 'CBD',\n",
       " 'Capitol One',\n",
       " 'Cary',\n",
       " 'Central',\n",
       " 'Chalmette',\n",
       " 'Chapel Hill',\n",
       " 'Chessington',\n",
       " 'College Avenue',\n",
       " 'Colombo',\n",
       " 'Columbia Heights',\n",
       " 'Congress Ave District',\n",
       " 'Convention Center District',\n",
       " 'Cory',\n",
       " 'Covington',\n",
       " 'Coxville',\n",
       " 'Daytona Beach',\n",
       " 'Downtown',\n",
       " 'Durham',\n",
       " 'Eagle Rock',\n",
       " 'East Elmhurst',\n",
       " 'East Harlem',\n",
       " 'Edgehill Farms',\n",
       " 'El Cerrito',\n",
       " 'Elk Park',\n",
       " 'Emeryville',\n",
       " 'Farmington Woods',\n",
       " 'Financial District',\n",
       " 'Florence',\n",
       " 'Fort Pierce',\n",
       " 'Fuquay-Varina',\n",
       " 'Galveston',\n",
       " 'Gampaha',\n",
       " 'Gulfton',\n",
       " 'Hayesville',\n",
       " 'Hazelwood',\n",
       " \"Hell's Kitchen\",\n",
       " 'Heritage Pines',\n",
       " 'Holly Springs',\n",
       " 'Houston',\n",
       " 'Hudson Square',\n",
       " 'Huntington Woods',\n",
       " 'Ingleside',\n",
       " 'Islamabad',\n",
       " 'Jackson Heights',\n",
       " 'Jacksonville',\n",
       " 'Jamaica',\n",
       " 'Jamestown Court',\n",
       " 'K Street',\n",
       " 'Kalorama Triangle',\n",
       " 'Kar?chi',\n",
       " 'Karachi',\n",
       " 'Katunayaka',\n",
       " 'Katy',\n",
       " 'Kenner',\n",
       " 'Kilarney Woods',\n",
       " 'Kissimmee',\n",
       " 'Lahore',\n",
       " 'Lake Reams',\n",
       " 'Lake Wellingborough',\n",
       " 'Lakeview',\n",
       " 'Latta',\n",
       " 'Lexington Park at Amberly',\n",
       " 'Long Island City',\n",
       " 'Lower Garden District',\n",
       " 'Lower Manhattan',\n",
       " 'Mandeville',\n",
       " 'Marigny',\n",
       " 'Mcvan',\n",
       " 'Mebane',\n",
       " 'Menlo Park',\n",
       " 'Meredith Townes',\n",
       " 'Metairie',\n",
       " 'Midtown',\n",
       " 'Midtown East',\n",
       " 'Morrisville',\n",
       " 'Mountain View',\n",
       " 'New Orleans',\n",
       " 'New York',\n",
       " 'Newark',\n",
       " 'Newland',\n",
       " 'Noorpur Shahan',\n",
       " 'North Austin',\n",
       " 'North Berkeley Hills',\n",
       " 'Northwoods',\n",
       " 'Nugegoda',\n",
       " 'Oakland',\n",
       " 'Orlando',\n",
       " 'Palo Alto',\n",
       " 'Parkway',\n",
       " 'Parkwood',\n",
       " 'Pontchartrain Beach',\n",
       " 'Pontchartrain Shores',\n",
       " 'Port Bolivar',\n",
       " 'Preston',\n",
       " 'R?walpindi',\n",
       " 'Raleigh',\n",
       " 'Rawalpindi',\n",
       " 'Red River District',\n",
       " 'Redmond',\n",
       " 'Renaissance',\n",
       " 'Ridgeland',\n",
       " 'SOMISSPO',\n",
       " 'San Francisco',\n",
       " 'San Jose',\n",
       " 'Sand Lake Commons',\n",
       " 'Santa Clara',\n",
       " 'Savon Height',\n",
       " 'Seattle',\n",
       " 'Sharpstown',\n",
       " 'Sky Lake',\n",
       " 'Soho',\n",
       " 'South',\n",
       " 'South Berkeley',\n",
       " 'South Congress',\n",
       " 'Southside',\n",
       " 'St Thomas',\n",
       " 'Stonewater',\n",
       " 'Storyville',\n",
       " 'Sugar Land',\n",
       " 'Summerwinds',\n",
       " 'Sunnyside',\n",
       " 'Sunnyvale',\n",
       " 'Tanglewood',\n",
       " 'Tenderloin',\n",
       " 'The Drag',\n",
       " 'Topton',\n",
       " 'Tribeca',\n",
       " 'University District',\n",
       " 'Unknown Location',\n",
       " 'Wake Co.',\n",
       " 'Wake Forest',\n",
       " 'Washington',\n",
       " 'Washington Avenue',\n",
       " 'Waverly Place',\n",
       " 'Wayne Ridge',\n",
       " 'West Berkeley',\n",
       " 'West Palm Beach',\n",
       " 'West University',\n",
       " 'Weston',\n",
       " 'Westpark Place',\n",
       " 'Whitebridge',\n",
       " 'Winston Salem'}"
      ]
     },
     "execution_count": 35,
     "metadata": {},
     "output_type": "execute_result"
    }
   ],
   "source": [
    "s_stop & s_start"
   ]
  },
  {
   "cell_type": "code",
   "execution_count": 36,
   "metadata": {},
   "outputs": [
    {
     "data": {
      "text/plain": [
       "Cary                201\n",
       "Unknown Location    148\n",
       "Morrisville          85\n",
       "Whitebridge          68\n",
       "Islamabad            57\n",
       "Durham               37\n",
       "Lahore               36\n",
       "Raleigh              28\n",
       "Kar?chi              27\n",
       "Name: START, dtype: int64"
      ]
     },
     "execution_count": 36,
     "metadata": {},
     "output_type": "execute_result"
    }
   ],
   "source": [
    "#Identify popular start points - top 10\n",
    "df['START'].value_counts().head(9)"
   ]
  },
  {
   "cell_type": "code",
   "execution_count": 37,
   "metadata": {},
   "outputs": [
    {
     "data": {
      "text/plain": [
       "Cary                203\n",
       "Unknown Location    149\n",
       "Morrisville          84\n",
       "Whitebridge          65\n",
       "Islamabad            58\n",
       "Lahore               36\n",
       "Durham               36\n",
       "Raleigh              29\n",
       "Kar?chi              26\n",
       "Apex                 17\n",
       "Name: STOP, dtype: int64"
      ]
     },
     "execution_count": 37,
     "metadata": {},
     "output_type": "execute_result"
    }
   ],
   "source": [
    "#Identify popular stop destinations - top 10\n",
    "df['STOP'].value_counts().head(10)"
   ]
  },
  {
   "cell_type": "code",
   "execution_count": 38,
   "metadata": {},
   "outputs": [
    {
     "data": {
      "text/html": [
       "<div>\n",
       "<style scoped>\n",
       "    .dataframe tbody tr th:only-of-type {\n",
       "        vertical-align: middle;\n",
       "    }\n",
       "\n",
       "    .dataframe tbody tr th {\n",
       "        vertical-align: top;\n",
       "    }\n",
       "\n",
       "    .dataframe thead th {\n",
       "        text-align: right;\n",
       "    }\n",
       "</style>\n",
       "<table border=\"1\" class=\"dataframe\">\n",
       "  <thead>\n",
       "    <tr style=\"text-align: right;\">\n",
       "      <th></th>\n",
       "      <th>START_DATE</th>\n",
       "      <th>END_DATE</th>\n",
       "      <th>CAT</th>\n",
       "      <th>START</th>\n",
       "      <th>STOP</th>\n",
       "      <th>MILES</th>\n",
       "      <th>PURPOSE</th>\n",
       "    </tr>\n",
       "  </thead>\n",
       "  <tbody>\n",
       "    <tr>\n",
       "      <td>0</td>\n",
       "      <td>1/1/2016 21:11</td>\n",
       "      <td>1/1/2016 21:17</td>\n",
       "      <td>Business</td>\n",
       "      <td>Fort Pierce</td>\n",
       "      <td>Fort Pierce</td>\n",
       "      <td>5.1</td>\n",
       "      <td>Meal/Entertain</td>\n",
       "    </tr>\n",
       "    <tr>\n",
       "      <td>1</td>\n",
       "      <td>1/2/2016 1:25</td>\n",
       "      <td>1/2/2016 1:37</td>\n",
       "      <td>Business</td>\n",
       "      <td>Fort Pierce</td>\n",
       "      <td>Fort Pierce</td>\n",
       "      <td>5.0</td>\n",
       "      <td>NaN</td>\n",
       "    </tr>\n",
       "    <tr>\n",
       "      <td>2</td>\n",
       "      <td>1/2/2016 20:25</td>\n",
       "      <td>1/2/2016 20:38</td>\n",
       "      <td>Business</td>\n",
       "      <td>Fort Pierce</td>\n",
       "      <td>Fort Pierce</td>\n",
       "      <td>4.8</td>\n",
       "      <td>Errand/Supplies</td>\n",
       "    </tr>\n",
       "    <tr>\n",
       "      <td>3</td>\n",
       "      <td>1/5/2016 17:31</td>\n",
       "      <td>1/5/2016 17:45</td>\n",
       "      <td>Business</td>\n",
       "      <td>Fort Pierce</td>\n",
       "      <td>Fort Pierce</td>\n",
       "      <td>4.7</td>\n",
       "      <td>Meeting</td>\n",
       "    </tr>\n",
       "    <tr>\n",
       "      <td>5</td>\n",
       "      <td>1/6/2016 17:15</td>\n",
       "      <td>1/6/2016 17:19</td>\n",
       "      <td>Business</td>\n",
       "      <td>West Palm Beach</td>\n",
       "      <td>West Palm Beach</td>\n",
       "      <td>4.3</td>\n",
       "      <td>Meal/Entertain</td>\n",
       "    </tr>\n",
       "    <tr>\n",
       "      <td>...</td>\n",
       "      <td>...</td>\n",
       "      <td>...</td>\n",
       "      <td>...</td>\n",
       "      <td>...</td>\n",
       "      <td>...</td>\n",
       "      <td>...</td>\n",
       "      <td>...</td>\n",
       "    </tr>\n",
       "    <tr>\n",
       "      <td>1147</td>\n",
       "      <td>12/30/2016 15:41</td>\n",
       "      <td>12/30/2016 16:03</td>\n",
       "      <td>Business</td>\n",
       "      <td>Kar?chi</td>\n",
       "      <td>Kar?chi</td>\n",
       "      <td>4.6</td>\n",
       "      <td>Errand/Supplies</td>\n",
       "    </tr>\n",
       "    <tr>\n",
       "      <td>1148</td>\n",
       "      <td>12/30/2016 16:45</td>\n",
       "      <td>12/30/2016 17:08</td>\n",
       "      <td>Business</td>\n",
       "      <td>Kar?chi</td>\n",
       "      <td>Kar?chi</td>\n",
       "      <td>4.6</td>\n",
       "      <td>Meeting</td>\n",
       "    </tr>\n",
       "    <tr>\n",
       "      <td>1149</td>\n",
       "      <td>12/30/2016 23:06</td>\n",
       "      <td>12/30/2016 23:10</td>\n",
       "      <td>Business</td>\n",
       "      <td>Kar?chi</td>\n",
       "      <td>Kar?chi</td>\n",
       "      <td>0.8</td>\n",
       "      <td>Customer Visit</td>\n",
       "    </tr>\n",
       "    <tr>\n",
       "      <td>1150</td>\n",
       "      <td>12/31/2016 1:07</td>\n",
       "      <td>12/31/2016 1:14</td>\n",
       "      <td>Business</td>\n",
       "      <td>Kar?chi</td>\n",
       "      <td>Kar?chi</td>\n",
       "      <td>0.7</td>\n",
       "      <td>Meeting</td>\n",
       "    </tr>\n",
       "    <tr>\n",
       "      <td>1152</td>\n",
       "      <td>12/31/2016 15:03</td>\n",
       "      <td>12/31/2016 15:38</td>\n",
       "      <td>Business</td>\n",
       "      <td>Unknown Location</td>\n",
       "      <td>Unknown Location</td>\n",
       "      <td>16.2</td>\n",
       "      <td>Meeting</td>\n",
       "    </tr>\n",
       "  </tbody>\n",
       "</table>\n",
       "<p>288 rows × 7 columns</p>\n",
       "</div>"
      ],
      "text/plain": [
       "            START_DATE          END_DATE       CAT             START  \\\n",
       "0       1/1/2016 21:11    1/1/2016 21:17  Business       Fort Pierce   \n",
       "1        1/2/2016 1:25     1/2/2016 1:37  Business       Fort Pierce   \n",
       "2       1/2/2016 20:25    1/2/2016 20:38  Business       Fort Pierce   \n",
       "3       1/5/2016 17:31    1/5/2016 17:45  Business       Fort Pierce   \n",
       "5       1/6/2016 17:15    1/6/2016 17:19  Business   West Palm Beach   \n",
       "...                ...               ...       ...               ...   \n",
       "1147  12/30/2016 15:41  12/30/2016 16:03  Business           Kar?chi   \n",
       "1148  12/30/2016 16:45  12/30/2016 17:08  Business           Kar?chi   \n",
       "1149  12/30/2016 23:06  12/30/2016 23:10  Business           Kar?chi   \n",
       "1150   12/31/2016 1:07   12/31/2016 1:14  Business           Kar?chi   \n",
       "1152  12/31/2016 15:03  12/31/2016 15:38  Business  Unknown Location   \n",
       "\n",
       "                  STOP  MILES          PURPOSE  \n",
       "0          Fort Pierce    5.1   Meal/Entertain  \n",
       "1          Fort Pierce    5.0              NaN  \n",
       "2          Fort Pierce    4.8  Errand/Supplies  \n",
       "3          Fort Pierce    4.7          Meeting  \n",
       "5      West Palm Beach    4.3   Meal/Entertain  \n",
       "...                ...    ...              ...  \n",
       "1147           Kar?chi    4.6  Errand/Supplies  \n",
       "1148           Kar?chi    4.6          Meeting  \n",
       "1149           Kar?chi    0.8   Customer Visit  \n",
       "1150           Kar?chi    0.7          Meeting  \n",
       "1152  Unknown Location   16.2          Meeting  \n",
       "\n",
       "[288 rows x 7 columns]"
      ]
     },
     "execution_count": 38,
     "metadata": {},
     "output_type": "execute_result"
    }
   ],
   "source": [
    "# Are there cases where the start and the stop location are the same  ? \n",
    "df[df['START'] == df['STOP']]"
   ]
  },
  {
   "cell_type": "code",
   "execution_count": 39,
   "metadata": {},
   "outputs": [
    {
     "data": {
      "text/plain": [
       "START\n",
       "Unknown Location    1976.5\n",
       "Cary                1791.3\n",
       "Morrisville          671.7\n",
       "Raleigh              433.0\n",
       "Islamabad            401.2\n",
       "Durham               384.4\n",
       "Jacksonville         375.2\n",
       "Latta                310.3\n",
       "Asheville            287.7\n",
       "Whitebridge          273.4\n",
       "Name: MILES, dtype: float64"
      ]
     },
     "execution_count": 39,
     "metadata": {},
     "output_type": "execute_result"
    }
   ],
   "source": [
    "# Favorite starting point wrt the total miles covered \n",
    "df.groupby('START')['MILES'].sum().sort_values(ascending = False ).head(10)"
   ]
  },
  {
   "cell_type": "markdown",
   "metadata": {},
   "source": [
    "#### Find out most farthest start and stop pair - top10 ( aggregation ) ( BY TOTAL miles COVERED EVER ! )"
   ]
  },
  {
   "cell_type": "code",
   "execution_count": 40,
   "metadata": {},
   "outputs": [
    {
     "data": {
      "text/plain": [
       "<matplotlib.axes._subplots.AxesSubplot at 0x1a1ebe7910>"
      ]
     },
     "execution_count": 40,
     "metadata": {},
     "output_type": "execute_result"
    },
    {
     "data": {
      "image/png": "[encoded data removed]",
      "text/plain": [
       "<Figure size 432x288 with 1 Axes>"
      ]
     },
     "metadata": {
      "needs_background": "light"
     },
     "output_type": "display_data"
    }
   ],
   "source": [
    "#Doing a quick plot \n",
    "k3 = df.groupby('START')['MILES'].sum().sort_values(ascending=False).head(10) \n",
    "k3= k3.reset_index() # flatten the dataframe \n",
    "k3.columns = ['START' ,'sum_of_miles']\n",
    "%matplotlib inline \n",
    "import seaborn as sns\n",
    "sns.barplot(data= k3 , y= 'START' , x ='sum_of_miles')"
   ]
  },
  {
   "cell_type": "code",
   "execution_count": 41,
   "metadata": {},
   "outputs": [
    {
     "data": {
      "text/plain": [
       "START             STOP            \n",
       "Unknown Location  Unknown Location    1360.8\n",
       "Morrisville       Cary                 395.7\n",
       "Cary              Durham               390.0\n",
       "                  Morrisville          380.0\n",
       "Raleigh           Cary                 365.7\n",
       "Cary              Raleigh              336.5\n",
       "Durham            Cary                 334.4\n",
       "Latta             Jacksonville         310.3\n",
       "Islamabad         Unknown Location     267.0\n",
       "Name: MILES, dtype: float64"
      ]
     },
     "execution_count": 41,
     "metadata": {},
     "output_type": "execute_result"
    }
   ],
   "source": [
    "df.groupby(['START','STOP'])['MILES'].sum().sort_values(ascending=False).head(9)"
   ]
  },
  {
   "cell_type": "code",
   "execution_count": 42,
   "metadata": {},
   "outputs": [
    {
     "data": {
      "text/plain": [
       "START         STOP        \n",
       "Morrisville   Cary            395.7\n",
       "Cary          Durham          390.0\n",
       "              Morrisville     380.0\n",
       "Raleigh       Cary            365.7\n",
       "Cary          Raleigh         336.5\n",
       "Durham        Cary            334.4\n",
       "Latta         Jacksonville    310.3\n",
       "Cary          Cary            255.9\n",
       "Jacksonville  Kissimmee       201.0\n",
       "Asheville     Mebane          195.9\n",
       "Name: MILES, dtype: float64"
      ]
     },
     "execution_count": 42,
     "metadata": {},
     "output_type": "execute_result"
    }
   ],
   "source": [
    "#Dropping Unknown Location Value  - Save into anothe dataframe ( you dont want to overwrite the original df)\n",
    "df2 = df[df['START']!= 'Unknown Location']\n",
    "df2 = df2[df2['STOP']!= 'Unknown Location']\n",
    "\n",
    "df2.groupby(['START','STOP'])['MILES'].sum().sort_values(ascending=False).head(10)"
   ]
  },
  {
   "cell_type": "markdown",
   "metadata": {},
   "source": [
    "The most popular start and stop pair - ( BY COUNT of travels! )"
   ]
  },
  {
   "cell_type": "code",
   "execution_count": 43,
   "metadata": {
    "scrolled": true
   },
   "outputs": [
    {
     "data": {
      "text/plain": [
       "START        STOP       \n",
       "Morrisville  Cary           75\n",
       "Cary         Morrisville    67\n",
       "             Cary           53\n",
       "             Durham         36\n",
       "Durham       Cary           32\n",
       "Lahore       Lahore         27\n",
       "Islamabad    Islamabad      25\n",
       "Cary         Raleigh        23\n",
       "Raleigh      Cary           21\n",
       "Kar?chi      Kar?chi        20\n",
       "Name: MILES, dtype: int64"
      ]
     },
     "execution_count": 43,
     "metadata": {},
     "output_type": "execute_result"
    }
   ],
   "source": [
    "df2.groupby(['START','STOP'])['MILES'].size().sort_values(ascending=False).head(10)"
   ]
  },
  {
   "cell_type": "markdown",
   "metadata": {},
   "source": [
    "**The most popular start to destination pair is Morrisville-Cary**"
   ]
  },
  {
   "cell_type": "markdown",
   "metadata": {},
   "source": [
    "## 2. Manipulating date & time objects"
   ]
  },
  {
   "cell_type": "code",
   "execution_count": 44,
   "metadata": {},
   "outputs": [
    {
     "data": {
      "text/html": [
       "<div>\n",
       "<style scoped>\n",
       "    .dataframe tbody tr th:only-of-type {\n",
       "        vertical-align: middle;\n",
       "    }\n",
       "\n",
       "    .dataframe tbody tr th {\n",
       "        vertical-align: top;\n",
       "    }\n",
       "\n",
       "    .dataframe thead th {\n",
       "        text-align: right;\n",
       "    }\n",
       "</style>\n",
       "<table border=\"1\" class=\"dataframe\">\n",
       "  <thead>\n",
       "    <tr style=\"text-align: right;\">\n",
       "      <th></th>\n",
       "      <th>START_DATE</th>\n",
       "      <th>END_DATE</th>\n",
       "      <th>CAT</th>\n",
       "      <th>START</th>\n",
       "      <th>STOP</th>\n",
       "      <th>MILES</th>\n",
       "      <th>PURPOSE</th>\n",
       "    </tr>\n",
       "  </thead>\n",
       "  <tbody>\n",
       "    <tr>\n",
       "      <td>0</td>\n",
       "      <td>1/1/2016 21:11</td>\n",
       "      <td>1/1/2016 21:17</td>\n",
       "      <td>Business</td>\n",
       "      <td>Fort Pierce</td>\n",
       "      <td>Fort Pierce</td>\n",
       "      <td>5.1</td>\n",
       "      <td>Meal/Entertain</td>\n",
       "    </tr>\n",
       "    <tr>\n",
       "      <td>1</td>\n",
       "      <td>1/2/2016 1:25</td>\n",
       "      <td>1/2/2016 1:37</td>\n",
       "      <td>Business</td>\n",
       "      <td>Fort Pierce</td>\n",
       "      <td>Fort Pierce</td>\n",
       "      <td>5.0</td>\n",
       "      <td>NaN</td>\n",
       "    </tr>\n",
       "    <tr>\n",
       "      <td>2</td>\n",
       "      <td>1/2/2016 20:25</td>\n",
       "      <td>1/2/2016 20:38</td>\n",
       "      <td>Business</td>\n",
       "      <td>Fort Pierce</td>\n",
       "      <td>Fort Pierce</td>\n",
       "      <td>4.8</td>\n",
       "      <td>Errand/Supplies</td>\n",
       "    </tr>\n",
       "    <tr>\n",
       "      <td>3</td>\n",
       "      <td>1/5/2016 17:31</td>\n",
       "      <td>1/5/2016 17:45</td>\n",
       "      <td>Business</td>\n",
       "      <td>Fort Pierce</td>\n",
       "      <td>Fort Pierce</td>\n",
       "      <td>4.7</td>\n",
       "      <td>Meeting</td>\n",
       "    </tr>\n",
       "    <tr>\n",
       "      <td>4</td>\n",
       "      <td>1/6/2016 14:42</td>\n",
       "      <td>1/6/2016 15:49</td>\n",
       "      <td>Business</td>\n",
       "      <td>Fort Pierce</td>\n",
       "      <td>West Palm Beach</td>\n",
       "      <td>63.7</td>\n",
       "      <td>Customer Visit</td>\n",
       "    </tr>\n",
       "  </tbody>\n",
       "</table>\n",
       "</div>"
      ],
      "text/plain": [
       "       START_DATE        END_DATE       CAT        START             STOP  \\\n",
       "0  1/1/2016 21:11  1/1/2016 21:17  Business  Fort Pierce      Fort Pierce   \n",
       "1   1/2/2016 1:25   1/2/2016 1:37  Business  Fort Pierce      Fort Pierce   \n",
       "2  1/2/2016 20:25  1/2/2016 20:38  Business  Fort Pierce      Fort Pierce   \n",
       "3  1/5/2016 17:31  1/5/2016 17:45  Business  Fort Pierce      Fort Pierce   \n",
       "4  1/6/2016 14:42  1/6/2016 15:49  Business  Fort Pierce  West Palm Beach   \n",
       "\n",
       "   MILES          PURPOSE  \n",
       "0    5.1   Meal/Entertain  \n",
       "1    5.0              NaN  \n",
       "2    4.8  Errand/Supplies  \n",
       "3    4.7          Meeting  \n",
       "4   63.7   Customer Visit  "
      ]
     },
     "execution_count": 44,
     "metadata": {},
     "output_type": "execute_result"
    }
   ],
   "source": [
    "df.head()"
   ]
  },
  {
   "cell_type": "markdown",
   "metadata": {},
   "source": [
    "We will be using the datetime module (  https://docs.python.org/3/library/datetime.html  )\n",
    "\n",
    "Search for \"strftime() and strptime() Format Codes\" in the documentation page"
   ]
  },
  {
   "cell_type": "code",
   "execution_count": 45,
   "metadata": {},
   "outputs": [
    {
     "data": {
      "text/plain": [
       "START_DATE     object\n",
       "END_DATE       object\n",
       "CAT            object\n",
       "START          object\n",
       "STOP           object\n",
       "MILES         float64\n",
       "PURPOSE        object\n",
       "dtype: object"
      ]
     },
     "execution_count": 45,
     "metadata": {},
     "output_type": "execute_result"
    }
   ],
   "source": [
    "df.dtypes"
   ]
  },
  {
   "cell_type": "code",
   "execution_count": 46,
   "metadata": {},
   "outputs": [],
   "source": [
    "# Create columns by converting the start and end date into a datatime format\n",
    "# You can also over write the same column - but for the sake of understanding the difference in formats , we create new columns\n",
    "from datetime import datetime\n",
    "df['start_dt'] = df['START_DATE'].apply(lambda x : datetime.strptime(x, '%m/%d/%Y %H:%M'))\n",
    "df['end_dt'] = df['END_DATE'].apply(lambda x : datetime.strptime(x, '%m/%d/%Y %H:%M'))"
   ]
  },
  {
   "cell_type": "code",
   "execution_count": 80,
   "metadata": {},
   "outputs": [
    {
     "data": {
      "text/plain": [
       "START_DATE                 object\n",
       "END_DATE                   object\n",
       "CAT                        object\n",
       "START                      object\n",
       "STOP                       object\n",
       "MILES                     float64\n",
       "PURPOSE                    object\n",
       "start_dt           datetime64[ns]\n",
       "end_dt             datetime64[ns]\n",
       "start_day                   int64\n",
       "start_hour                  int64\n",
       "start_month                 int64\n",
       "d_of_wk                     int64\n",
       "weekday                    object\n",
       "cal_month                  object\n",
       "stop_hour                   int64\n",
       "diff              timedelta64[ns]\n",
       "diff_hr                   float64\n",
       "diff_mins                 float64\n",
       "Duration_hours            float64\n",
       "Speed                     float64\n",
       "dtype: object"
      ]
     },
     "execution_count": 80,
     "metadata": {},
     "output_type": "execute_result"
    }
   ],
   "source": [
    "df.head()\n",
    "df.dtypes  # See how the dtype is different ?"
   ]
  },
  {
   "cell_type": "code",
   "execution_count": 48,
   "metadata": {},
   "outputs": [],
   "source": [
    "#Create more columns by using the inbuilt functionalities of datatime module\n",
    "\n",
    "df['start_day'] = df['start_dt'].dt.day\n",
    "df['start_hour'] = df['start_dt'].dt.hour\n",
    "df['start_month'] = df['start_dt'].dt.month\n",
    "df['d_of_wk'] = df['start_dt'].dt.dayofweek   # Days encoded as 0-6  ( monday =0, Tue =1 .... )\n"
   ]
  },
  {
   "cell_type": "code",
   "execution_count": 49,
   "metadata": {},
   "outputs": [],
   "source": [
    "# You can convert the numeric encoding of weekdays into short form by manually writing the mapping \n",
    "# days = {0:'Mon',1:'Tue',2:'Wed',3:'Thur',4:'Fri',5:'Sat',6:'Sun'}\n",
    "# df['day_of_week'] = df['day_of_week'].apply(lambda x: days[x])\n",
    "\n",
    "#or use the builtin functions \n",
    "\n",
    "df['weekday'] = df['start_dt'].apply(lambda x : datetime.strftime(x,'%a'))  # ( or directly convert into the short form)"
   ]
  },
  {
   "cell_type": "code",
   "execution_count": 50,
   "metadata": {},
   "outputs": [],
   "source": [
    "# Similarly you can use the calendar library to get the month abbreviation \n",
    "\n",
    "#import calendar\n",
    "#df['start_month_cal'] = df['start_month'].apply(lambda x: calendar.month_abbr[x])\n",
    "\n",
    "# or \n",
    "# use the built in functions in datatime module\n",
    "df['cal_month'] =  df['start_dt'].apply(lambda x : datetime.strftime(x,'%b'))"
   ]
  },
  {
   "cell_type": "code",
   "execution_count": 51,
   "metadata": {},
   "outputs": [
    {
     "data": {
      "text/html": [
       "<div>\n",
       "<style scoped>\n",
       "    .dataframe tbody tr th:only-of-type {\n",
       "        vertical-align: middle;\n",
       "    }\n",
       "\n",
       "    .dataframe tbody tr th {\n",
       "        vertical-align: top;\n",
       "    }\n",
       "\n",
       "    .dataframe thead th {\n",
       "        text-align: right;\n",
       "    }\n",
       "</style>\n",
       "<table border=\"1\" class=\"dataframe\">\n",
       "  <thead>\n",
       "    <tr style=\"text-align: right;\">\n",
       "      <th></th>\n",
       "      <th>START_DATE</th>\n",
       "      <th>END_DATE</th>\n",
       "      <th>CAT</th>\n",
       "      <th>START</th>\n",
       "      <th>STOP</th>\n",
       "      <th>MILES</th>\n",
       "      <th>PURPOSE</th>\n",
       "      <th>start_dt</th>\n",
       "      <th>end_dt</th>\n",
       "      <th>start_day</th>\n",
       "      <th>start_hour</th>\n",
       "      <th>start_month</th>\n",
       "      <th>d_of_wk</th>\n",
       "      <th>weekday</th>\n",
       "      <th>cal_month</th>\n",
       "    </tr>\n",
       "  </thead>\n",
       "  <tbody>\n",
       "    <tr>\n",
       "      <td>0</td>\n",
       "      <td>1/1/2016 21:11</td>\n",
       "      <td>1/1/2016 21:17</td>\n",
       "      <td>Business</td>\n",
       "      <td>Fort Pierce</td>\n",
       "      <td>Fort Pierce</td>\n",
       "      <td>5.1</td>\n",
       "      <td>Meal/Entertain</td>\n",
       "      <td>2016-01-01 21:11:00</td>\n",
       "      <td>2016-01-01 21:17:00</td>\n",
       "      <td>1</td>\n",
       "      <td>21</td>\n",
       "      <td>1</td>\n",
       "      <td>4</td>\n",
       "      <td>Fri</td>\n",
       "      <td>Jan</td>\n",
       "    </tr>\n",
       "    <tr>\n",
       "      <td>1</td>\n",
       "      <td>1/2/2016 1:25</td>\n",
       "      <td>1/2/2016 1:37</td>\n",
       "      <td>Business</td>\n",
       "      <td>Fort Pierce</td>\n",
       "      <td>Fort Pierce</td>\n",
       "      <td>5.0</td>\n",
       "      <td>NaN</td>\n",
       "      <td>2016-01-02 01:25:00</td>\n",
       "      <td>2016-01-02 01:37:00</td>\n",
       "      <td>2</td>\n",
       "      <td>1</td>\n",
       "      <td>1</td>\n",
       "      <td>5</td>\n",
       "      <td>Sat</td>\n",
       "      <td>Jan</td>\n",
       "    </tr>\n",
       "    <tr>\n",
       "      <td>2</td>\n",
       "      <td>1/2/2016 20:25</td>\n",
       "      <td>1/2/2016 20:38</td>\n",
       "      <td>Business</td>\n",
       "      <td>Fort Pierce</td>\n",
       "      <td>Fort Pierce</td>\n",
       "      <td>4.8</td>\n",
       "      <td>Errand/Supplies</td>\n",
       "      <td>2016-01-02 20:25:00</td>\n",
       "      <td>2016-01-02 20:38:00</td>\n",
       "      <td>2</td>\n",
       "      <td>20</td>\n",
       "      <td>1</td>\n",
       "      <td>5</td>\n",
       "      <td>Sat</td>\n",
       "      <td>Jan</td>\n",
       "    </tr>\n",
       "    <tr>\n",
       "      <td>3</td>\n",
       "      <td>1/5/2016 17:31</td>\n",
       "      <td>1/5/2016 17:45</td>\n",
       "      <td>Business</td>\n",
       "      <td>Fort Pierce</td>\n",
       "      <td>Fort Pierce</td>\n",
       "      <td>4.7</td>\n",
       "      <td>Meeting</td>\n",
       "      <td>2016-01-05 17:31:00</td>\n",
       "      <td>2016-01-05 17:45:00</td>\n",
       "      <td>5</td>\n",
       "      <td>17</td>\n",
       "      <td>1</td>\n",
       "      <td>1</td>\n",
       "      <td>Tue</td>\n",
       "      <td>Jan</td>\n",
       "    </tr>\n",
       "    <tr>\n",
       "      <td>4</td>\n",
       "      <td>1/6/2016 14:42</td>\n",
       "      <td>1/6/2016 15:49</td>\n",
       "      <td>Business</td>\n",
       "      <td>Fort Pierce</td>\n",
       "      <td>West Palm Beach</td>\n",
       "      <td>63.7</td>\n",
       "      <td>Customer Visit</td>\n",
       "      <td>2016-01-06 14:42:00</td>\n",
       "      <td>2016-01-06 15:49:00</td>\n",
       "      <td>6</td>\n",
       "      <td>14</td>\n",
       "      <td>1</td>\n",
       "      <td>2</td>\n",
       "      <td>Wed</td>\n",
       "      <td>Jan</td>\n",
       "    </tr>\n",
       "  </tbody>\n",
       "</table>\n",
       "</div>"
      ],
      "text/plain": [
       "       START_DATE        END_DATE       CAT        START             STOP  \\\n",
       "0  1/1/2016 21:11  1/1/2016 21:17  Business  Fort Pierce      Fort Pierce   \n",
       "1   1/2/2016 1:25   1/2/2016 1:37  Business  Fort Pierce      Fort Pierce   \n",
       "2  1/2/2016 20:25  1/2/2016 20:38  Business  Fort Pierce      Fort Pierce   \n",
       "3  1/5/2016 17:31  1/5/2016 17:45  Business  Fort Pierce      Fort Pierce   \n",
       "4  1/6/2016 14:42  1/6/2016 15:49  Business  Fort Pierce  West Palm Beach   \n",
       "\n",
       "   MILES          PURPOSE            start_dt              end_dt  start_day  \\\n",
       "0    5.1   Meal/Entertain 2016-01-01 21:11:00 2016-01-01 21:17:00          1   \n",
       "1    5.0              NaN 2016-01-02 01:25:00 2016-01-02 01:37:00          2   \n",
       "2    4.8  Errand/Supplies 2016-01-02 20:25:00 2016-01-02 20:38:00          2   \n",
       "3    4.7          Meeting 2016-01-05 17:31:00 2016-01-05 17:45:00          5   \n",
       "4   63.7   Customer Visit 2016-01-06 14:42:00 2016-01-06 15:49:00          6   \n",
       "\n",
       "   start_hour  start_month  d_of_wk weekday cal_month  \n",
       "0          21            1        4     Fri       Jan  \n",
       "1           1            1        5     Sat       Jan  \n",
       "2          20            1        5     Sat       Jan  \n",
       "3          17            1        1     Tue       Jan  \n",
       "4          14            1        2     Wed       Jan  "
      ]
     },
     "execution_count": 51,
     "metadata": {},
     "output_type": "execute_result"
    }
   ],
   "source": [
    "df.head()"
   ]
  },
  {
   "cell_type": "code",
   "execution_count": 52,
   "metadata": {},
   "outputs": [
    {
     "data": {
      "text/plain": [
       "start_month\n",
       "1      61\n",
       "2     115\n",
       "3     113\n",
       "4      54\n",
       "5      49\n",
       "6     108\n",
       "7     112\n",
       "8     133\n",
       "9      36\n",
       "10    106\n",
       "11    122\n",
       "12    146\n",
       "dtype: int64"
      ]
     },
     "execution_count": 52,
     "metadata": {},
     "output_type": "execute_result"
    }
   ],
   "source": [
    "# Which month did he get most drives  ? \n",
    "df.groupby(['start_month']).size() #['start_day']"
   ]
  },
  {
   "cell_type": "code",
   "execution_count": 53,
   "metadata": {},
   "outputs": [
    {
     "data": {
      "text/plain": [
       "cal_month\n",
       "Oct    1810.0\n",
       "Mar    1693.9\n",
       "Aug    1335.5\n",
       "Jul    1224.6\n",
       "Apr    1113.0\n",
       "Dec     981.3\n",
       "Feb     908.2\n",
       "Jun     842.8\n",
       "Nov     816.9\n",
       "Sep     601.8\n",
       "Jan     512.9\n",
       "May     363.8\n",
       "Name: MILES, dtype: float64"
      ]
     },
     "execution_count": 53,
     "metadata": {},
     "output_type": "execute_result"
    }
   ],
   "source": [
    "df.groupby('cal_month').sum()['MILES'].sort_values(ascending = False)"
   ]
  },
  {
   "cell_type": "code",
   "execution_count": 54,
   "metadata": {},
   "outputs": [
    {
     "data": {
      "text/plain": [
       "cal_month\n",
       "Apr    20.611111\n",
       "Oct    17.075472\n",
       "Sep    16.716667\n",
       "Mar    14.990265\n",
       "Jul    10.933929\n",
       "Aug    10.041353\n",
       "Jan     8.408197\n",
       "Feb     7.897391\n",
       "Jun     7.803704\n",
       "May     7.424490\n",
       "Dec     6.721233\n",
       "Nov     6.695902\n",
       "Name: MILES, dtype: float64"
      ]
     },
     "execution_count": 54,
     "metadata": {},
     "output_type": "execute_result"
    }
   ],
   "source": [
    "# Getting the average distance covered each month\n",
    "df.groupby('cal_month').mean()['MILES'].sort_values(ascending = False)"
   ]
  },
  {
   "cell_type": "code",
   "execution_count": 55,
   "metadata": {},
   "outputs": [],
   "source": [
    "# Write your inferences here based on the last 3 outputs "
   ]
  },
  {
   "cell_type": "code",
   "execution_count": 56,
   "metadata": {},
   "outputs": [
    {
     "data": {
      "text/plain": [
       "weekday\n",
       "Fri    206\n",
       "Mon    174\n",
       "Sat    150\n",
       "Sun    148\n",
       "Thu    154\n",
       "Tue    176\n",
       "Wed    147\n",
       "dtype: int64"
      ]
     },
     "execution_count": 56,
     "metadata": {},
     "output_type": "execute_result"
    }
   ],
   "source": [
    "#Which day did he get most drives  ? \n",
    "df.groupby(['weekday']).size()  "
   ]
  },
  {
   "cell_type": "markdown",
   "metadata": {},
   "source": [
    "**When does he usually start the trip ?**"
   ]
  },
  {
   "cell_type": "code",
   "execution_count": 57,
   "metadata": {},
   "outputs": [
    {
     "data": {
      "text/plain": [
       "start_hour\n",
       "0     19\n",
       "1      5\n",
       "2      2\n",
       "3      3\n",
       "5      4\n",
       "6      4\n",
       "7     13\n",
       "8     35\n",
       "9     51\n",
       "10    65\n",
       "11    72\n",
       "12    77\n",
       "13    94\n",
       "14    89\n",
       "15    98\n",
       "16    88\n",
       "17    95\n",
       "18    94\n",
       "19    68\n",
       "20    71\n",
       "21    51\n",
       "22    31\n",
       "23    26\n",
       "dtype: int64"
      ]
     },
     "execution_count": 57,
     "metadata": {},
     "output_type": "execute_result"
    }
   ],
   "source": [
    "df.groupby('start_hour').size()"
   ]
  },
  {
   "cell_type": "markdown",
   "metadata": {},
   "source": [
    "This looks like an interesting data \n",
    "\n",
    "Does he have a prefered time of start ?"
   ]
  },
  {
   "cell_type": "code",
   "execution_count": 58,
   "metadata": {},
   "outputs": [],
   "source": [
    "df['stop_hour'] = df['end_dt'].dt.hour"
   ]
  },
  {
   "cell_type": "code",
   "execution_count": 59,
   "metadata": {},
   "outputs": [
    {
     "data": {
      "text/plain": [
       "<matplotlib.axes._subplots.AxesSubplot at 0x1a1f3f3d90>"
      ]
     },
     "execution_count": 59,
     "metadata": {},
     "output_type": "execute_result"
    },
    {
     "data": {
      "image/png": "[encoded data removed]",
      "text/plain": [
       "<Figure size 432x288 with 1 Axes>"
      ]
     },
     "metadata": {
      "needs_background": "light"
     },
     "output_type": "display_data"
    }
   ],
   "source": [
    "df_hrs = df.groupby('stop_hour').size()\n",
    "df_hrs = df_hrs.reset_index()\n",
    "df_hrs.columns = ['start_hour' ,'count']\n",
    "sns.barplot(data= df_hrs , x ='start_hour' , y = 'count')"
   ]
  },
  {
   "cell_type": "markdown",
   "metadata": {},
   "source": [
    "Looks like he mostly starts the trip around 9-10 and the peak hours seem to be between 12- 5 PM "
   ]
  },
  {
   "cell_type": "markdown",
   "metadata": {},
   "source": [
    "### Duration of the trips "
   ]
  },
  {
   "cell_type": "code",
   "execution_count": 60,
   "metadata": {},
   "outputs": [],
   "source": [
    "df['diff'] = (df['end_dt'] - df['start_dt'])"
   ]
  },
  {
   "cell_type": "code",
   "execution_count": 61,
   "metadata": {},
   "outputs": [
    {
     "data": {
      "text/plain": [
       "START_DATE              object\n",
       "END_DATE                object\n",
       "CAT                     object\n",
       "START                   object\n",
       "STOP                    object\n",
       "MILES                  float64\n",
       "PURPOSE                 object\n",
       "start_dt        datetime64[ns]\n",
       "end_dt          datetime64[ns]\n",
       "start_day                int64\n",
       "start_hour               int64\n",
       "start_month              int64\n",
       "d_of_wk                  int64\n",
       "weekday                 object\n",
       "cal_month               object\n",
       "stop_hour                int64\n",
       "diff           timedelta64[ns]\n",
       "dtype: object"
      ]
     },
     "execution_count": 61,
     "metadata": {},
     "output_type": "execute_result"
    }
   ],
   "source": [
    "df.dtypes"
   ]
  },
  {
   "cell_type": "markdown",
   "metadata": {},
   "source": [
    "This creates a timedelta datatype"
   ]
  },
  {
   "cell_type": "markdown",
   "metadata": {},
   "source": [
    "### How long did the trips last "
   ]
  },
  {
   "cell_type": "code",
   "execution_count": 62,
   "metadata": {},
   "outputs": [],
   "source": [
    "df['diff_hr'] = df['diff'].astype('timedelta64[h]')"
   ]
  },
  {
   "cell_type": "markdown",
   "metadata": {},
   "source": [
    "Find the date time units in  https://docs.scipy.org/doc/numpy/reference/arrays.datetime.html\n",
    "\n",
    "search for 'Datetime Units'"
   ]
  },
  {
   "cell_type": "code",
   "execution_count": 63,
   "metadata": {},
   "outputs": [
    {
     "data": {
      "text/plain": [
       "count                      1155\n",
       "mean     0 days 00:23:14.597402\n",
       "std      0 days 00:27:19.096606\n",
       "min             0 days 00:00:00\n",
       "25%             0 days 00:10:00\n",
       "50%             0 days 00:16:00\n",
       "75%             0 days 00:27:30\n",
       "max             0 days 05:36:00\n",
       "Name: diff, dtype: object"
      ]
     },
     "execution_count": 63,
     "metadata": {},
     "output_type": "execute_result"
    }
   ],
   "source": [
    "df['diff'].describe()"
   ]
  },
  {
   "cell_type": "code",
   "execution_count": 64,
   "metadata": {},
   "outputs": [],
   "source": [
    "# View in terms of minutes \n",
    "df['diff_mins'] = df['diff'].astype('timedelta64[m]')"
   ]
  },
  {
   "cell_type": "code",
   "execution_count": 65,
   "metadata": {},
   "outputs": [
    {
     "data": {
      "text/plain": [
       "count    1155.000000\n",
       "mean       23.243290\n",
       "std        27.318277\n",
       "min         0.000000\n",
       "25%        10.000000\n",
       "50%        16.000000\n",
       "75%        27.500000\n",
       "max       336.000000\n",
       "Name: diff_mins, dtype: float64"
      ]
     },
     "execution_count": 65,
     "metadata": {},
     "output_type": "execute_result"
    }
   ],
   "source": [
    "df['diff_mins'].describe()"
   ]
  },
  {
   "cell_type": "markdown",
   "metadata": {},
   "source": [
    "There seems to be somethin strange with the minumum time ( in minutes ) - it is 0 "
   ]
  },
  {
   "cell_type": "code",
   "execution_count": 66,
   "metadata": {},
   "outputs": [
    {
     "data": {
      "text/html": [
       "<div>\n",
       "<style scoped>\n",
       "    .dataframe tbody tr th:only-of-type {\n",
       "        vertical-align: middle;\n",
       "    }\n",
       "\n",
       "    .dataframe tbody tr th {\n",
       "        vertical-align: top;\n",
       "    }\n",
       "\n",
       "    .dataframe thead th {\n",
       "        text-align: right;\n",
       "    }\n",
       "</style>\n",
       "<table border=\"1\" class=\"dataframe\">\n",
       "  <thead>\n",
       "    <tr style=\"text-align: right;\">\n",
       "      <th></th>\n",
       "      <th>START_DATE</th>\n",
       "      <th>END_DATE</th>\n",
       "      <th>CAT</th>\n",
       "      <th>START</th>\n",
       "      <th>STOP</th>\n",
       "      <th>MILES</th>\n",
       "      <th>PURPOSE</th>\n",
       "      <th>start_dt</th>\n",
       "      <th>end_dt</th>\n",
       "      <th>start_day</th>\n",
       "      <th>start_hour</th>\n",
       "      <th>start_month</th>\n",
       "      <th>d_of_wk</th>\n",
       "      <th>weekday</th>\n",
       "      <th>cal_month</th>\n",
       "      <th>stop_hour</th>\n",
       "      <th>diff</th>\n",
       "      <th>diff_hr</th>\n",
       "      <th>diff_mins</th>\n",
       "    </tr>\n",
       "  </thead>\n",
       "  <tbody>\n",
       "    <tr>\n",
       "      <td>751</td>\n",
       "      <td>9/6/2016 17:49</td>\n",
       "      <td>9/6/2016 17:49</td>\n",
       "      <td>Business</td>\n",
       "      <td>Unknown Location</td>\n",
       "      <td>Unknown Location</td>\n",
       "      <td>69.1</td>\n",
       "      <td>NaN</td>\n",
       "      <td>2016-09-06 17:49:00</td>\n",
       "      <td>2016-09-06 17:49:00</td>\n",
       "      <td>6</td>\n",
       "      <td>17</td>\n",
       "      <td>9</td>\n",
       "      <td>1</td>\n",
       "      <td>Tue</td>\n",
       "      <td>Sep</td>\n",
       "      <td>17</td>\n",
       "      <td>0 days</td>\n",
       "      <td>0.0</td>\n",
       "      <td>0.0</td>\n",
       "    </tr>\n",
       "    <tr>\n",
       "      <td>761</td>\n",
       "      <td>9/16/2016 7:08</td>\n",
       "      <td>9/16/2016 7:08</td>\n",
       "      <td>Business</td>\n",
       "      <td>Unknown Location</td>\n",
       "      <td>Unknown Location</td>\n",
       "      <td>1.6</td>\n",
       "      <td>NaN</td>\n",
       "      <td>2016-09-16 07:08:00</td>\n",
       "      <td>2016-09-16 07:08:00</td>\n",
       "      <td>16</td>\n",
       "      <td>7</td>\n",
       "      <td>9</td>\n",
       "      <td>4</td>\n",
       "      <td>Fri</td>\n",
       "      <td>Sep</td>\n",
       "      <td>7</td>\n",
       "      <td>0 days</td>\n",
       "      <td>0.0</td>\n",
       "      <td>0.0</td>\n",
       "    </tr>\n",
       "    <tr>\n",
       "      <td>798</td>\n",
       "      <td>10/8/2016 15:03</td>\n",
       "      <td>10/8/2016 15:03</td>\n",
       "      <td>Business</td>\n",
       "      <td>Karachi</td>\n",
       "      <td>Karachi</td>\n",
       "      <td>3.6</td>\n",
       "      <td>NaN</td>\n",
       "      <td>2016-10-08 15:03:00</td>\n",
       "      <td>2016-10-08 15:03:00</td>\n",
       "      <td>8</td>\n",
       "      <td>15</td>\n",
       "      <td>10</td>\n",
       "      <td>5</td>\n",
       "      <td>Sat</td>\n",
       "      <td>Oct</td>\n",
       "      <td>15</td>\n",
       "      <td>0 days</td>\n",
       "      <td>0.0</td>\n",
       "      <td>0.0</td>\n",
       "    </tr>\n",
       "    <tr>\n",
       "      <td>807</td>\n",
       "      <td>10/13/2016 13:02</td>\n",
       "      <td>10/13/2016 13:02</td>\n",
       "      <td>Business</td>\n",
       "      <td>Islamabad</td>\n",
       "      <td>Islamabad</td>\n",
       "      <td>0.7</td>\n",
       "      <td>NaN</td>\n",
       "      <td>2016-10-13 13:02:00</td>\n",
       "      <td>2016-10-13 13:02:00</td>\n",
       "      <td>13</td>\n",
       "      <td>13</td>\n",
       "      <td>10</td>\n",
       "      <td>3</td>\n",
       "      <td>Thu</td>\n",
       "      <td>Oct</td>\n",
       "      <td>13</td>\n",
       "      <td>0 days</td>\n",
       "      <td>0.0</td>\n",
       "      <td>0.0</td>\n",
       "    </tr>\n",
       "  </tbody>\n",
       "</table>\n",
       "</div>"
      ],
      "text/plain": [
       "           START_DATE          END_DATE       CAT             START  \\\n",
       "751    9/6/2016 17:49    9/6/2016 17:49  Business  Unknown Location   \n",
       "761    9/16/2016 7:08    9/16/2016 7:08  Business  Unknown Location   \n",
       "798   10/8/2016 15:03   10/8/2016 15:03  Business           Karachi   \n",
       "807  10/13/2016 13:02  10/13/2016 13:02  Business         Islamabad   \n",
       "\n",
       "                 STOP  MILES PURPOSE            start_dt              end_dt  \\\n",
       "751  Unknown Location   69.1     NaN 2016-09-06 17:49:00 2016-09-06 17:49:00   \n",
       "761  Unknown Location    1.6     NaN 2016-09-16 07:08:00 2016-09-16 07:08:00   \n",
       "798           Karachi    3.6     NaN 2016-10-08 15:03:00 2016-10-08 15:03:00   \n",
       "807         Islamabad    0.7     NaN 2016-10-13 13:02:00 2016-10-13 13:02:00   \n",
       "\n",
       "     start_day  start_hour  start_month  d_of_wk weekday cal_month  stop_hour  \\\n",
       "751          6          17            9        1     Tue       Sep         17   \n",
       "761         16           7            9        4     Fri       Sep          7   \n",
       "798          8          15           10        5     Sat       Oct         15   \n",
       "807         13          13           10        3     Thu       Oct         13   \n",
       "\n",
       "      diff  diff_hr  diff_mins  \n",
       "751 0 days      0.0        0.0  \n",
       "761 0 days      0.0        0.0  \n",
       "798 0 days      0.0        0.0  \n",
       "807 0 days      0.0        0.0  "
      ]
     },
     "execution_count": 66,
     "metadata": {},
     "output_type": "execute_result"
    }
   ],
   "source": [
    "len(df[df['START_DATE'] == df['END_DATE']])\n",
    "\n",
    "df[df['START_DATE'] == df['END_DATE']]"
   ]
  },
  {
   "cell_type": "markdown",
   "metadata": {},
   "source": [
    "There are some values where the start and end dates are the same - remove them ?"
   ]
  },
  {
   "cell_type": "code",
   "execution_count": 67,
   "metadata": {},
   "outputs": [
    {
     "data": {
      "text/plain": [
       "944"
      ]
     },
     "execution_count": 67,
     "metadata": {},
     "output_type": "execute_result"
    }
   ],
   "source": [
    "len(df2)"
   ]
  },
  {
   "cell_type": "markdown",
   "metadata": {},
   "source": [
    "### Speed "
   ]
  },
  {
   "cell_type": "code",
   "execution_count": 68,
   "metadata": {},
   "outputs": [
    {
     "data": {
      "text/plain": [
       "count    1155.000000\n",
       "mean             inf\n",
       "std              NaN\n",
       "min         3.917355\n",
       "25%        14.888276\n",
       "50%        21.000000\n",
       "75%        28.569805\n",
       "max              inf\n",
       "Name: Speed, dtype: float64"
      ]
     },
     "execution_count": 68,
     "metadata": {},
     "output_type": "execute_result"
    }
   ],
   "source": [
    "# calculate trip speed for each trip\n",
    "df['Duration_hours'] = df['diff_mins'] / 60\n",
    "df['Speed'] = df['MILES'] / df['Duration_hours']\n",
    "df['Speed'].describe()"
   ]
  },
  {
   "cell_type": "markdown",
   "metadata": {},
   "source": [
    "Remove the ones with unknown location"
   ]
  },
  {
   "cell_type": "code",
   "execution_count": 69,
   "metadata": {},
   "outputs": [],
   "source": [
    "# df2 = df[df.START != 'Unknown Location']\n",
    "# df2 = df2[df2.STOP != 'Unknown Location']\n",
    "\n",
    "#or \n",
    "#you can filter using one single conditional statement\n",
    "df2 = df[(df.START != 'Unknown Location') & ( df.STOP != 'Unknown Location')]"
   ]
  },
  {
   "cell_type": "code",
   "execution_count": 70,
   "metadata": {},
   "outputs": [
    {
     "data": {
      "text/html": [
       "<div>\n",
       "<style scoped>\n",
       "    .dataframe tbody tr th:only-of-type {\n",
       "        vertical-align: middle;\n",
       "    }\n",
       "\n",
       "    .dataframe tbody tr th {\n",
       "        vertical-align: top;\n",
       "    }\n",
       "\n",
       "    .dataframe thead th {\n",
       "        text-align: right;\n",
       "    }\n",
       "</style>\n",
       "<table border=\"1\" class=\"dataframe\">\n",
       "  <thead>\n",
       "    <tr style=\"text-align: right;\">\n",
       "      <th></th>\n",
       "      <th>START_DATE</th>\n",
       "      <th>END_DATE</th>\n",
       "      <th>CAT</th>\n",
       "      <th>START</th>\n",
       "      <th>STOP</th>\n",
       "      <th>MILES</th>\n",
       "      <th>PURPOSE</th>\n",
       "      <th>start_dt</th>\n",
       "      <th>end_dt</th>\n",
       "      <th>start_day</th>\n",
       "      <th>...</th>\n",
       "      <th>start_month</th>\n",
       "      <th>d_of_wk</th>\n",
       "      <th>weekday</th>\n",
       "      <th>cal_month</th>\n",
       "      <th>stop_hour</th>\n",
       "      <th>diff</th>\n",
       "      <th>diff_hr</th>\n",
       "      <th>diff_mins</th>\n",
       "      <th>Duration_hours</th>\n",
       "      <th>Speed</th>\n",
       "    </tr>\n",
       "  </thead>\n",
       "  <tbody>\n",
       "    <tr>\n",
       "      <td>646</td>\n",
       "      <td>8/10/2016 18:49</td>\n",
       "      <td>8/10/2016 18:50</td>\n",
       "      <td>Business</td>\n",
       "      <td>Apex</td>\n",
       "      <td>Apex</td>\n",
       "      <td>1.0</td>\n",
       "      <td>NaN</td>\n",
       "      <td>2016-08-10 18:49:00</td>\n",
       "      <td>2016-08-10 18:50:00</td>\n",
       "      <td>10</td>\n",
       "      <td>...</td>\n",
       "      <td>8</td>\n",
       "      <td>2</td>\n",
       "      <td>Wed</td>\n",
       "      <td>Aug</td>\n",
       "      <td>18</td>\n",
       "      <td>00:01:00</td>\n",
       "      <td>0.0</td>\n",
       "      <td>1.0</td>\n",
       "      <td>0.016667</td>\n",
       "      <td>60.0</td>\n",
       "    </tr>\n",
       "    <tr>\n",
       "      <td>786</td>\n",
       "      <td>10/4/2016 12:17</td>\n",
       "      <td>10/4/2016 12:18</td>\n",
       "      <td>Business</td>\n",
       "      <td>Unknown Location</td>\n",
       "      <td>Unknown Location</td>\n",
       "      <td>15.1</td>\n",
       "      <td>NaN</td>\n",
       "      <td>2016-10-04 12:17:00</td>\n",
       "      <td>2016-10-04 12:18:00</td>\n",
       "      <td>4</td>\n",
       "      <td>...</td>\n",
       "      <td>10</td>\n",
       "      <td>1</td>\n",
       "      <td>Tue</td>\n",
       "      <td>Oct</td>\n",
       "      <td>12</td>\n",
       "      <td>00:01:00</td>\n",
       "      <td>0.0</td>\n",
       "      <td>1.0</td>\n",
       "      <td>0.016667</td>\n",
       "      <td>906.0</td>\n",
       "    </tr>\n",
       "    <tr>\n",
       "      <td>789</td>\n",
       "      <td>10/6/2016 18:37</td>\n",
       "      <td>10/6/2016 18:39</td>\n",
       "      <td>Business</td>\n",
       "      <td>Unknown Location</td>\n",
       "      <td>Unknown Location</td>\n",
       "      <td>18.4</td>\n",
       "      <td>NaN</td>\n",
       "      <td>2016-10-06 18:37:00</td>\n",
       "      <td>2016-10-06 18:39:00</td>\n",
       "      <td>6</td>\n",
       "      <td>...</td>\n",
       "      <td>10</td>\n",
       "      <td>3</td>\n",
       "      <td>Thu</td>\n",
       "      <td>Oct</td>\n",
       "      <td>18</td>\n",
       "      <td>00:02:00</td>\n",
       "      <td>0.0</td>\n",
       "      <td>2.0</td>\n",
       "      <td>0.033333</td>\n",
       "      <td>552.0</td>\n",
       "    </tr>\n",
       "    <tr>\n",
       "      <td>607</td>\n",
       "      <td>7/29/2016 15:45</td>\n",
       "      <td>7/29/2016 15:47</td>\n",
       "      <td>Business</td>\n",
       "      <td>Whitebridge</td>\n",
       "      <td>Westpark Place</td>\n",
       "      <td>2.2</td>\n",
       "      <td>NaN</td>\n",
       "      <td>2016-07-29 15:45:00</td>\n",
       "      <td>2016-07-29 15:47:00</td>\n",
       "      <td>29</td>\n",
       "      <td>...</td>\n",
       "      <td>7</td>\n",
       "      <td>4</td>\n",
       "      <td>Fri</td>\n",
       "      <td>Jul</td>\n",
       "      <td>15</td>\n",
       "      <td>00:02:00</td>\n",
       "      <td>0.0</td>\n",
       "      <td>2.0</td>\n",
       "      <td>0.033333</td>\n",
       "      <td>66.0</td>\n",
       "    </tr>\n",
       "    <tr>\n",
       "      <td>44</td>\n",
       "      <td>1/26/2016 17:27</td>\n",
       "      <td>1/26/2016 17:29</td>\n",
       "      <td>Business</td>\n",
       "      <td>Cary</td>\n",
       "      <td>Cary</td>\n",
       "      <td>0.5</td>\n",
       "      <td>Errand/Supplies</td>\n",
       "      <td>2016-01-26 17:27:00</td>\n",
       "      <td>2016-01-26 17:29:00</td>\n",
       "      <td>26</td>\n",
       "      <td>...</td>\n",
       "      <td>1</td>\n",
       "      <td>1</td>\n",
       "      <td>Tue</td>\n",
       "      <td>Jan</td>\n",
       "      <td>17</td>\n",
       "      <td>00:02:00</td>\n",
       "      <td>0.0</td>\n",
       "      <td>2.0</td>\n",
       "      <td>0.033333</td>\n",
       "      <td>15.0</td>\n",
       "    </tr>\n",
       "  </tbody>\n",
       "</table>\n",
       "<p>5 rows × 21 columns</p>\n",
       "</div>"
      ],
      "text/plain": [
       "          START_DATE         END_DATE       CAT             START  \\\n",
       "646  8/10/2016 18:49  8/10/2016 18:50  Business              Apex   \n",
       "786  10/4/2016 12:17  10/4/2016 12:18  Business  Unknown Location   \n",
       "789  10/6/2016 18:37  10/6/2016 18:39  Business  Unknown Location   \n",
       "607  7/29/2016 15:45  7/29/2016 15:47  Business       Whitebridge   \n",
       "44   1/26/2016 17:27  1/26/2016 17:29  Business              Cary   \n",
       "\n",
       "                 STOP  MILES          PURPOSE            start_dt  \\\n",
       "646              Apex    1.0              NaN 2016-08-10 18:49:00   \n",
       "786  Unknown Location   15.1              NaN 2016-10-04 12:17:00   \n",
       "789  Unknown Location   18.4              NaN 2016-10-06 18:37:00   \n",
       "607    Westpark Place    2.2              NaN 2016-07-29 15:45:00   \n",
       "44               Cary    0.5  Errand/Supplies 2016-01-26 17:27:00   \n",
       "\n",
       "                 end_dt  start_day  ...  start_month  d_of_wk  weekday  \\\n",
       "646 2016-08-10 18:50:00         10  ...            8        2      Wed   \n",
       "786 2016-10-04 12:18:00          4  ...           10        1      Tue   \n",
       "789 2016-10-06 18:39:00          6  ...           10        3      Thu   \n",
       "607 2016-07-29 15:47:00         29  ...            7        4      Fri   \n",
       "44  2016-01-26 17:29:00         26  ...            1        1      Tue   \n",
       "\n",
       "    cal_month stop_hour     diff diff_hr  diff_mins  Duration_hours  Speed  \n",
       "646       Aug        18 00:01:00     0.0        1.0        0.016667   60.0  \n",
       "786       Oct        12 00:01:00     0.0        1.0        0.016667  906.0  \n",
       "789       Oct        18 00:02:00     0.0        2.0        0.033333  552.0  \n",
       "607       Jul        15 00:02:00     0.0        2.0        0.033333   66.0  \n",
       "44        Jan        17 00:02:00     0.0        2.0        0.033333   15.0  \n",
       "\n",
       "[5 rows x 21 columns]"
      ]
     },
     "execution_count": 70,
     "metadata": {},
     "output_type": "execute_result"
    }
   ],
   "source": [
    "# Remove the ones that have the same start and end time  ( and redo the analysis )\n",
    "df2 = df[df.start_dt != df.end_dt]\n",
    "\n",
    "\n",
    "# we still see some really fast driving !! \n",
    "df2.sort_values(by ='diff_mins', ascending = True).head(5)\n",
    "\n",
    "# To do \n",
    "# Take a cut off for the time taken to drive to  do the speed analysis again \n",
    "# something like ( df.diff_mins > 5 ) # analyse only the trips that lasted atleast 5 mins "
   ]
  },
  {
   "cell_type": "markdown",
   "metadata": {},
   "source": [
    "## 3. Category & Purpose"
   ]
  },
  {
   "cell_type": "code",
   "execution_count": 71,
   "metadata": {},
   "outputs": [
    {
     "data": {
      "text/plain": [
       "Business    1078\n",
       "Personal      77\n",
       "Name: CAT, dtype: int64"
      ]
     },
     "execution_count": 71,
     "metadata": {},
     "output_type": "execute_result"
    }
   ],
   "source": [
    "df['CAT'].value_counts()"
   ]
  },
  {
   "cell_type": "markdown",
   "metadata": {},
   "source": [
    "**Most trips are in the business category**"
   ]
  },
  {
   "cell_type": "code",
   "execution_count": 72,
   "metadata": {},
   "outputs": [
    {
     "data": {
      "text/plain": [
       "Meeting            187\n",
       "Meal/Entertain     160\n",
       "Errand/Supplies    128\n",
       "Customer Visit     101\n",
       "Temporary Site      50\n",
       "Between Offices     18\n",
       "Moving               4\n",
       "Airport/Travel       3\n",
       "Charity ($)          1\n",
       "Commute              1\n",
       "Name: PURPOSE, dtype: int64"
      ]
     },
     "execution_count": 72,
     "metadata": {},
     "output_type": "execute_result"
    }
   ],
   "source": [
    "#Purpose\n",
    "df['PURPOSE'].value_counts()"
   ]
  },
  {
   "cell_type": "markdown",
   "metadata": {},
   "source": [
    "**Most trips are for meetings**"
   ]
  },
  {
   "cell_type": "code",
   "execution_count": 73,
   "metadata": {},
   "outputs": [
    {
     "data": {
      "text/plain": [
       "PURPOSE\n",
       "Commute            180.200000\n",
       "Customer Visit      20.688119\n",
       "Meeting             15.247594\n",
       "Charity ($)         15.100000\n",
       "Between Offices     10.944444\n",
       "Temporary Site      10.474000\n",
       "Meal/Entertain       5.698125\n",
       "Airport/Travel       5.500000\n",
       "Moving               4.550000\n",
       "Errand/Supplies      3.968750\n",
       "Name: MILES, dtype: float64"
      ]
     },
     "execution_count": 73,
     "metadata": {},
     "output_type": "execute_result"
    }
   ],
   "source": [
    "#Average distance traveled for each activity\n",
    "df.groupby('PURPOSE').mean()['MILES'].sort_values(ascending = False)"
   ]
  },
  {
   "cell_type": "markdown",
   "metadata": {},
   "source": [
    "Now lets try to answer some questions from this data.\n",
    "\n",
    "Question1: How many miles was earned per category and purpose ?\n",
    "\n",
    "Question2: What is percentage of business miles vs personal?\n",
    "\n",
    "Question3: How much time was spend for drives per category and purpose? \n"
   ]
  },
  {
   "cell_type": "code",
   "execution_count": 74,
   "metadata": {},
   "outputs": [
    {
     "data": {
      "text/plain": [
       "PURPOSE\n",
       "Meeting            2851.3\n",
       "Customer Visit     2089.5\n",
       "Meal/Entertain      911.7\n",
       "Temporary Site      523.7\n",
       "Errand/Supplies     508.0\n",
       "Between Offices     197.0\n",
       "Commute             180.2\n",
       "Moving               18.2\n",
       "Airport/Travel       16.5\n",
       "Charity ($)          15.1\n",
       "Name: MILES, dtype: float64"
      ]
     },
     "execution_count": 74,
     "metadata": {},
     "output_type": "execute_result"
    }
   ],
   "source": [
    "#Question1: How many miles was earned per category and purpose ?\n",
    "df.groupby('PURPOSE').sum()['MILES'].sort_values(ascending = False)"
   ]
  },
  {
   "cell_type": "code",
   "execution_count": 75,
   "metadata": {},
   "outputs": [
    {
     "data": {
      "text/plain": [
       "CAT\n",
       "Business    11487.0\n",
       "Personal      717.7\n",
       "Name: MILES, dtype: float64"
      ]
     },
     "execution_count": 75,
     "metadata": {},
     "output_type": "execute_result"
    }
   ],
   "source": [
    "#Question1: How many miles was earned per category and purpose ?\n",
    "df.groupby('CAT').sum()['MILES'].sort_values(ascending = False)"
   ]
  },
  {
   "cell_type": "code",
   "execution_count": 76,
   "metadata": {},
   "outputs": [
    {
     "data": {
      "text/html": [
       "<div>\n",
       "<style scoped>\n",
       "    .dataframe tbody tr th:only-of-type {\n",
       "        vertical-align: middle;\n",
       "    }\n",
       "\n",
       "    .dataframe tbody tr th {\n",
       "        vertical-align: top;\n",
       "    }\n",
       "\n",
       "    .dataframe thead th {\n",
       "        text-align: right;\n",
       "    }\n",
       "</style>\n",
       "<table border=\"1\" class=\"dataframe\">\n",
       "  <thead>\n",
       "    <tr style=\"text-align: right;\">\n",
       "      <th></th>\n",
       "      <th>% of Miles</th>\n",
       "    </tr>\n",
       "    <tr>\n",
       "      <th>CAT</th>\n",
       "      <th></th>\n",
       "    </tr>\n",
       "  </thead>\n",
       "  <tbody>\n",
       "    <tr>\n",
       "      <td>Business</td>\n",
       "      <td>94.119479</td>\n",
       "    </tr>\n",
       "    <tr>\n",
       "      <td>Personal</td>\n",
       "      <td>5.880521</td>\n",
       "    </tr>\n",
       "  </tbody>\n",
       "</table>\n",
       "</div>"
      ],
      "text/plain": [
       "          % of Miles\n",
       "CAT                 \n",
       "Business   94.119479\n",
       "Personal    5.880521"
      ]
     },
     "execution_count": 76,
     "metadata": {},
     "output_type": "execute_result"
    }
   ],
   "source": [
    "#Question2: What is percentage of business miles vs personal?\n",
    "df1 = df.groupby('CAT').agg({'MILES':'sum'})\n",
    "df1\n",
    "df1.apply(lambda x: x/x.sum()*100).rename(columns = {'MILES':'% of Miles'})"
   ]
  },
  {
   "cell_type": "code",
   "execution_count": 77,
   "metadata": {
    "scrolled": true
   },
   "outputs": [
    {
     "data": {
      "text/plain": [
       "CAT\n",
       "Business    421.183333\n",
       "Personal     26.250000\n",
       "Name: diff_mins, dtype: float64"
      ]
     },
     "execution_count": 77,
     "metadata": {},
     "output_type": "execute_result"
    }
   ],
   "source": [
    "#Question3: How much time was spend for drives per category and purpose?\n",
    "dfk= df.groupby('CAT').sum()['diff_mins'].sort_values(ascending = False)\n",
    "dfk.apply(lambda x: x/60)"
   ]
  },
  {
   "cell_type": "code",
   "execution_count": 78,
   "metadata": {
    "scrolled": true
   },
   "outputs": [
    {
     "data": {
      "text/plain": [
       "PURPOSE\n",
       "Meeting            5561.0\n",
       "Customer Visit     3375.0\n",
       "Meal/Entertain     2580.0\n",
       "Errand/Supplies    1661.0\n",
       "Temporary Site     1293.0\n",
       "Between Offices     459.0\n",
       "Commute             185.0\n",
       "Airport/Travel       78.0\n",
       "Moving               60.0\n",
       "Charity ($)          27.0\n",
       "Name: diff_mins, dtype: float64"
      ]
     },
     "execution_count": 78,
     "metadata": {},
     "output_type": "execute_result"
    }
   ],
   "source": [
    "#Question3: How much time was spend for drives per category and purpose? \n",
    "df.groupby('PURPOSE').sum()['diff_mins'].sort_values(ascending = False)"
   ]
  }
 ],
 "metadata": {
  "kernelspec": {
   "display_name": "Python 3",
   "language": "python",
   "name": "python3"
  },
  "language_info": {
   "codemirror_mode": {
    "name": "ipython",
    "version": 3
   },
   "file_extension": ".py",
   "mimetype": "text/x-python",
   "name": "python",
   "nbconvert_exporter": "python",
   "pygments_lexer": "ipython3",
   "version": "3.7.4"
  }
 },
 "nbformat": 4,
 "nbformat_minor": 2
}
