{
 "cells": [
  {
   "cell_type": "markdown",
   "metadata": {},
   "source": [
    "# NumPy\n",
    "\n",
    "numpy is python's package for doing math that is more advanced than +-*/\n",
    "\n",
    "This includes special functions like cosine, exponential, sqrt, ...\n",
    "\n",
    "On top of this we can use numpy to generate samples from many types of random variables\n",
    "\n",
    "numpy also has a powerful data type to define vectors, matrices, and tensors\n",
    "\n",
    "With these data types numpy also allows us to do linear algebra - matrix multiplication and matrix-vector solutions"
   ]
  },
  {
   "cell_type": "code",
   "execution_count": 1,
   "metadata": {},
   "outputs": [],
   "source": [
    "# the first step of using numpy is to tell python to use it\n",
    "import numpy as np"
   ]
  },
  {
   "cell_type": "code",
   "execution_count": 2,
   "metadata": {},
   "outputs": [
    {
     "name": "stdout",
     "output_type": "stream",
     "text": [
      "-1.0\n",
      "1.1\n",
      "5.2\n"
     ]
    }
   ],
   "source": [
    "print(np.cos(np.pi))\n",
    "print(np.sqrt(1.21))\n",
    "print(np.log(np.exp(5.2)))"
   ]
  },
  {
   "cell_type": "code",
   "execution_count": 3,
   "metadata": {},
   "outputs": [
    {
     "name": "stdout",
     "output_type": "stream",
     "text": [
      "[1 2 3]\n",
      "\n",
      "[[1 2 1]\n",
      " [4 5 9]\n",
      " [1 8 9]]\n",
      "\n",
      "[[1 4 1]\n",
      " [2 5 8]\n",
      " [1 9 9]]\n"
     ]
    }
   ],
   "source": [
    "# we can create numpy arrays by converting lists\n",
    "# this is a vector\n",
    "vec = np.array([1,2,3])\n",
    "print(vec)\n",
    "# we can create matrices by converting lists of lists\n",
    "mat = np.array([[1,2,1],[4,5,9],[1,8,9]])\n",
    "print('')\n",
    "print(mat)\n",
    "print('')\n",
    "print(mat.T)"
   ]
  },
  {
   "cell_type": "code",
   "execution_count": 4,
   "metadata": {},
   "outputs": [
    {
     "name": "stdout",
     "output_type": "stream",
     "text": [
      "[ 0  1  2  3  4  5  6  7  8  9 10 11 12 13 14]\n",
      "\n",
      "[ 3  9 15]\n"
     ]
    }
   ],
   "source": [
    "# there are lots of other ways to create numpy arrays\n",
    "vec2 = np.arange(0,15)\n",
    "print(vec2)\n",
    "print('')\n",
    "vec3 = np.arange(3,21,6)\n",
    "print(vec3)\n"
   ]
  },
  {
   "cell_type": "code",
   "execution_count": 5,
   "metadata": {},
   "outputs": [
    {
     "name": "stdout",
     "output_type": "stream",
     "text": [
      "[0.         0.55555556 1.11111111 1.66666667 2.22222222 2.77777778\n",
      " 3.33333333 3.88888889 4.44444444 5.        ]\n",
      "\n",
      "[[0.         0.55555556]\n",
      " [1.11111111 1.66666667]\n",
      " [2.22222222 2.77777778]\n",
      " [3.33333333 3.88888889]\n",
      " [4.44444444 5.        ]]\n",
      "[[0.         0.55555556]\n",
      " [1.11111111 1.66666667]\n",
      " [2.22222222 2.77777778]\n",
      " [3.33333333 3.88888889]\n",
      " [4.44444444 5.        ]]\n",
      "[0.         0.55555556 1.11111111 1.66666667 2.22222222 2.77777778\n",
      " 3.33333333 3.88888889 4.44444444 5.        ]\n"
     ]
    }
   ],
   "source": [
    "\n",
    "vec4 = np.linspace(0,5,10)\n",
    "print(vec4)\n",
    "print('')\n",
    "print(vec4.reshape(5,2))\n",
    "vec4_reshaped = vec4.reshape(5,2)\n",
    "print(vec4_reshaped)\n",
    "print(vec4)"
   ]
  },
  {
   "cell_type": "code",
   "execution_count": 6,
   "metadata": {},
   "outputs": [
    {
     "name": "stdout",
     "output_type": "stream",
     "text": [
      "[[0. 0. 0.]\n",
      " [0. 0. 0.]\n",
      " [0. 0. 0.]\n",
      " [0. 0. 0.]\n",
      " [0. 0. 0.]]\n",
      "\n",
      "[[1. 1. 1. 1. 1.]\n",
      " [1. 1. 1. 1. 1.]\n",
      " [1. 1. 1. 1. 1.]]\n",
      "\n",
      "[[1. 0. 0. 0. 0.]\n",
      " [0. 1. 0. 0. 0.]\n",
      " [0. 0. 1. 0. 0.]\n",
      " [0. 0. 0. 1. 0.]\n",
      " [0. 0. 0. 0. 1.]]\n"
     ]
    }
   ],
   "source": [
    "mat2 = np.zeros([5,3])\n",
    "print(mat2)\n",
    "mat3 = np.ones((3,5))\n",
    "print('')\n",
    "print(mat3)\n",
    "mat4 = np.eye(5)\n",
    "print('')\n",
    "print(mat4)"
   ]
  },
  {
   "cell_type": "code",
   "execution_count": 7,
   "metadata": {},
   "outputs": [
    {
     "name": "stdout",
     "output_type": "stream",
     "text": [
      "[1 2 3 4 5]\n",
      "[3 4 5 6 7]\n",
      "[ 4  6  8 10 12]\n",
      "[ 3  8 15 24 35]\n",
      "[1.         0.5        0.33333333 0.25       0.2       ]\n",
      "[1.73205081 2.         2.23606798 2.44948974 2.64575131]\n"
     ]
    }
   ],
   "source": [
    "# we can +-*/ arrays together if they're the right size\n",
    "vec5 = np.arange(1,6)\n",
    "vec6 = np.arange(3,8)\n",
    "print(vec5)\n",
    "print(vec6)\n",
    "print(vec5+vec6)\n",
    "print(vec5*vec6)\n",
    "print(1/vec5)\n",
    "print(np.sqrt(vec6))"
   ]
  },
  {
   "cell_type": "code",
   "execution_count": 8,
   "metadata": {},
   "outputs": [
    {
     "name": "stdout",
     "output_type": "stream",
     "text": [
      "[[1 2 1]\n",
      " [4 5 9]\n",
      " [1 8 9]]\n",
      "\n",
      "[1 2 3]\n",
      "\n",
      "[ 8 41 44]\n"
     ]
    }
   ],
   "source": [
    "# we can do matrix multiplication\n",
    "print(mat)\n",
    "print('')\n",
    "print(vec)\n",
    "print()\n",
    "product = np.matmul(mat,vec)\n",
    "print(product)"
   ]
  },
  {
   "cell_type": "code",
   "execution_count": 9,
   "metadata": {},
   "outputs": [
    {
     "name": "stdout",
     "output_type": "stream",
     "text": [
      "[1. 2. 3.]\n",
      "\n",
      "[[ 0.5         0.18518519 -0.24074074]\n",
      " [ 0.5        -0.14814815  0.09259259]\n",
      " [-0.5         0.11111111  0.05555556]]\n"
     ]
    }
   ],
   "source": [
    "print(np.linalg.solve(mat,product))\n",
    "print('')\n",
    "print(np.linalg.inv(mat))"
   ]
  },
  {
   "cell_type": "code",
   "execution_count": 10,
   "metadata": {},
   "outputs": [
    {
     "name": "stdout",
     "output_type": "stream",
     "text": [
      "['blue' 'red' 'orange' 'purple' 'purple' 'orange' 'Red' '6']\n",
      "['6' 'Red' 'blue' 'orange' 'purple' 'red']\n"
     ]
    }
   ],
   "source": [
    "# we can find the unique values in an array\n",
    "vec7 = np.array(['blue','red','orange','purple','purple','orange','Red',6])\n",
    "print(vec7)\n",
    "print(np.unique(vec7))"
   ]
  },
  {
   "cell_type": "code",
   "execution_count": 11,
   "metadata": {},
   "outputs": [
    {
     "name": "stdout",
     "output_type": "stream",
     "text": [
      "[[0.87247701 0.23280561 0.37966397 0.48549622 0.71509266]\n",
      " [0.97970721 0.79009401 0.44483511 0.85494318 0.08011277]\n",
      " [0.01657601 0.24577272 0.01008251 0.01059923 0.30108359]\n",
      " [0.9350639  0.70351917 0.19293365 0.40922105 0.23320991]\n",
      " [0.37973059 0.52744986 0.35198727 0.60977189 0.47998122]]\n",
      "\n",
      "[[-0.16647622  0.60619004  1.04371555  1.67468897  0.43064653]\n",
      " [-1.66266096 -0.08278658  0.59089703  0.03695263  0.12247359]\n",
      " [ 0.65480065 -0.37738775  0.34312795  1.77992028 -1.0200996 ]\n",
      " [-1.26971172 -0.34145866  0.6742134   0.60261082 -1.62053257]\n",
      " [-1.09535768  1.2044175  -0.79616625 -0.42418948  0.15265964]\n",
      " [ 1.8975049   0.14523218  0.55452857  1.17132845 -0.34640257]\n",
      " [ 1.58313713  1.30172588  0.32624692 -0.48479389 -0.04738471]\n",
      " [ 1.55244596 -0.27796091 -1.29944598  1.80678016  0.0081556 ]\n",
      " [-0.15232826 -1.35779307 -1.28194976  0.58645283 -0.01431238]\n",
      " [-1.41773255  0.74111519 -2.05080706 -0.33536513  0.36280606]]\n"
     ]
    }
   ],
   "source": [
    "# we can also use numpy to generate samples of a random variable\n",
    "rand_mat = np.random.rand(5,5) # uniform random variable\n",
    "print(rand_mat)\n",
    "rand_mat2 = np.random.randn(10,5) # standard normal random variable\n",
    "print('')\n",
    "print(rand_mat2)"
   ]
  },
  {
   "cell_type": "code",
   "execution_count": 12,
   "metadata": {},
   "outputs": [
    {
     "name": "stdout",
     "output_type": "stream",
     "text": [
      "0.44968841193656617\n",
      "0.9910965077926105\n"
     ]
    }
   ],
   "source": [
    "# we can also use numpy for statistical tools on arrays\n",
    "print(np.mean(rand_mat))\n",
    "print(np.std(rand_mat2))"
   ]
  },
  {
   "cell_type": "code",
   "execution_count": 13,
   "metadata": {},
   "outputs": [
    {
     "name": "stdout",
     "output_type": "stream",
     "text": [
      "0.010082505104520911\n",
      "1.897504895991602\n"
     ]
    }
   ],
   "source": [
    "print(np.min(rand_mat))\n",
    "print(np.max(rand_mat2))"
   ]
  },
  {
   "cell_type": "code",
   "execution_count": 14,
   "metadata": {},
   "outputs": [],
   "source": [
    "# break here for next video!"
   ]
  },
  {
   "cell_type": "code",
   "execution_count": 15,
   "metadata": {},
   "outputs": [
    {
     "name": "stdout",
     "output_type": "stream",
     "text": [
      "[ 1.30215281 -0.31740771 -0.59642253 -0.26626513 -0.89985104  0.54311323\n",
      " -0.89677858  2.12008806  0.78834493 -1.42712343 -0.84662226  0.03852818\n",
      "  0.94365334  0.05029534 -0.07310475 -1.30156209 -0.99779573  0.65236085\n",
      " -0.66263559]\n",
      "-0.8967785761895719\n"
     ]
    }
   ],
   "source": [
    "# how do we access entries in a numpy vector\n",
    "rand_vec = np.random.randn(19)\n",
    "print(rand_vec)\n",
    "print(rand_vec[6])"
   ]
  },
  {
   "cell_type": "code",
   "execution_count": 16,
   "metadata": {},
   "outputs": [
    {
     "name": "stdout",
     "output_type": "stream",
     "text": [
      "[-0.89985104  0.54311323 -0.89677858  2.12008806  0.78834493]\n"
     ]
    }
   ],
   "source": [
    "# we can access multiple entries at once using :\n",
    "print(rand_vec[4:9])"
   ]
  },
  {
   "cell_type": "code",
   "execution_count": 17,
   "metadata": {},
   "outputs": [
    {
     "name": "stdout",
     "output_type": "stream",
     "text": [
      "[ 0  3  6  9 12]\n",
      "[ 1.30215281 -0.26626513 -0.89677858 -1.42712343  0.94365334]\n"
     ]
    }
   ],
   "source": [
    "# we can also access multiple non-consecutive entries using np.arange\n",
    "print(np.arange(0,15,3))\n",
    "print(rand_vec[np.arange(0,15,3)])"
   ]
  },
  {
   "cell_type": "code",
   "execution_count": 18,
   "metadata": {},
   "outputs": [
    {
     "name": "stdout",
     "output_type": "stream",
     "text": [
      "[[0.87247701 0.23280561 0.37966397 0.48549622 0.71509266]\n",
      " [0.97970721 0.79009401 0.44483511 0.85494318 0.08011277]\n",
      " [0.01657601 0.24577272 0.01008251 0.01059923 0.30108359]\n",
      " [0.9350639  0.70351917 0.19293365 0.40922105 0.23320991]\n",
      " [0.37973059 0.52744986 0.35198727 0.60977189 0.47998122]]\n",
      "0.44483511011301324\n",
      "0.44483511011301324\n"
     ]
    }
   ],
   "source": [
    "# what about matrices\n",
    "print(rand_mat)\n",
    "print(rand_mat[1][2])\n",
    "print(rand_mat[1,2])\n"
   ]
  },
  {
   "cell_type": "code",
   "execution_count": 19,
   "metadata": {},
   "outputs": [
    {
     "name": "stdout",
     "output_type": "stream",
     "text": [
      "[[0.23280561 0.37966397]\n",
      " [0.79009401 0.44483511]]\n"
     ]
    }
   ],
   "source": [
    "print(rand_mat[0:2,1:3])"
   ]
  },
  {
   "cell_type": "code",
   "execution_count": 20,
   "metadata": {},
   "outputs": [
    {
     "name": "stdout",
     "output_type": "stream",
     "text": [
      "[ 1.30215281 -0.31740771 -0.59642253 -0.26626513 -0.89985104  0.54311323\n",
      " -0.89677858  2.12008806  0.78834493 -1.42712343 -0.84662226  0.03852818\n",
      "  0.94365334  0.05029534 -0.07310475 -1.30156209 -0.99779573  0.65236085\n",
      " -0.66263559]\n",
      "\n",
      "[ 1.30215281 -0.31740771 -0.59642253  4.          4.          0.54311323\n",
      " -0.89677858  2.12008806  0.78834493 -1.42712343 -0.84662226  0.03852818\n",
      "  0.94365334  0.05029534 -0.07310475 -1.30156209 -0.99779573  0.65236085\n",
      " -0.66263559]\n",
      "\n",
      "[ 1.30215281 -0.31740771 -0.59642253  1.          2.          0.54311323\n",
      " -0.89677858  2.12008806  0.78834493 -1.42712343 -0.84662226  0.03852818\n",
      "  0.94365334  0.05029534 -0.07310475 -1.30156209 -0.99779573  0.65236085\n",
      " -0.66263559]\n"
     ]
    }
   ],
   "source": [
    "# let's change some values in an array!\n",
    "print(rand_vec)\n",
    "rand_vec[3:5] = 4\n",
    "print('')\n",
    "print(rand_vec)\n",
    "rand_vec[3:5] = [1,2]\n",
    "print('')\n",
    "print(rand_vec)"
   ]
  },
  {
   "cell_type": "code",
   "execution_count": 21,
   "metadata": {},
   "outputs": [
    {
     "name": "stdout",
     "output_type": "stream",
     "text": [
      "[[0.87247701 0.23280561 0.37966397 0.48549622 0.71509266]\n",
      " [0.97970721 0.79009401 0.44483511 0.85494318 0.08011277]\n",
      " [0.01657601 0.24577272 0.01008251 0.01059923 0.30108359]\n",
      " [0.9350639  0.70351917 0.19293365 0.40922105 0.23320991]\n",
      " [0.37973059 0.52744986 0.35198727 0.60977189 0.47998122]]\n",
      "\n",
      "[[0.87247701 0.23280561 0.37966397 0.48549622 0.71509266]\n",
      " [0.97970721 0.79009401 0.44483511 0.         0.        ]\n",
      " [0.01657601 0.24577272 0.01008251 0.         0.        ]\n",
      " [0.9350639  0.70351917 0.19293365 0.40922105 0.23320991]\n",
      " [0.37973059 0.52744986 0.35198727 0.60977189 0.47998122]]\n"
     ]
    }
   ],
   "source": [
    "print(rand_mat)\n",
    "rand_mat[1:3,3:5] = 0\n",
    "print('')\n",
    "print(rand_mat)"
   ]
  },
  {
   "cell_type": "code",
   "execution_count": 22,
   "metadata": {},
   "outputs": [
    {
     "name": "stdout",
     "output_type": "stream",
     "text": [
      "[[0.87247701 0.23280561 0.37966397]\n",
      " [0.97970721 0.79009401 0.44483511]]\n",
      "[[3. 3. 3.]\n",
      " [3. 3. 3.]]\n"
     ]
    }
   ],
   "source": [
    "sub_mat = rand_mat[0:2,0:3]\n",
    "print(sub_mat)\n",
    "sub_mat[:] = 3\n",
    "print(sub_mat)\n"
   ]
  },
  {
   "cell_type": "code",
   "execution_count": 23,
   "metadata": {},
   "outputs": [
    {
     "name": "stdout",
     "output_type": "stream",
     "text": [
      "[[3.         3.         3.         0.48549622 0.71509266]\n",
      " [3.         3.         3.         0.         0.        ]\n",
      " [0.01657601 0.24577272 0.01008251 0.         0.        ]\n",
      " [0.9350639  0.70351917 0.19293365 0.40922105 0.23320991]\n",
      " [0.37973059 0.52744986 0.35198727 0.60977189 0.47998122]]\n"
     ]
    }
   ],
   "source": [
    "print(rand_mat)"
   ]
  },
  {
   "cell_type": "code",
   "execution_count": 24,
   "metadata": {},
   "outputs": [
    {
     "name": "stdout",
     "output_type": "stream",
     "text": [
      "[[99. 99. 99.]\n",
      " [99. 99. 99.]]\n",
      "[[3.         3.         3.         0.48549622 0.71509266]\n",
      " [3.         3.         3.         0.         0.        ]\n",
      " [0.01657601 0.24577272 0.01008251 0.         0.        ]\n",
      " [0.9350639  0.70351917 0.19293365 0.40922105 0.23320991]\n",
      " [0.37973059 0.52744986 0.35198727 0.60977189 0.47998122]]\n"
     ]
    }
   ],
   "source": [
    "sub_mat2 = rand_mat[0:2,0:3].copy()\n",
    "sub_mat2[:] = 99\n",
    "print(sub_mat2)\n",
    "print(rand_mat)\n"
   ]
  },
  {
   "cell_type": "code",
   "execution_count": 25,
   "metadata": {},
   "outputs": [],
   "source": [
    "# break here for next video"
   ]
  },
  {
   "cell_type": "code",
   "execution_count": 26,
   "metadata": {},
   "outputs": [
    {
     "name": "stdout",
     "output_type": "stream",
     "text": [
      "[ 0.53731784  0.82159948 -0.80983538 -0.09099873 -1.13571516 -0.0021156\n",
      " -1.61993282 -1.02069236  0.31053141 -0.68565304 -0.57714186 -0.60464853\n",
      "  0.7832614  -0.42512296 -0.02492332]\n",
      "[ True  True False False False False False False  True False False False\n",
      "  True False False]\n",
      "[0.53731784 0.82159948 0.31053141 0.7832614 ]\n"
     ]
    }
   ],
   "source": [
    "# we can also access entries with logicals\n",
    "rand_vec = np.random.randn(15)\n",
    "\n",
    "print(rand_vec)\n",
    "print(rand_vec>0)\n",
    "print(rand_vec[rand_vec>0])"
   ]
  },
  {
   "cell_type": "code",
   "execution_count": 27,
   "metadata": {},
   "outputs": [
    {
     "name": "stdout",
     "output_type": "stream",
     "text": [
      "[[-0.16647622  0.60619004  1.04371555  1.67468897  0.43064653]\n",
      " [-1.66266096 -0.08278658  0.59089703  0.03695263  0.12247359]\n",
      " [ 0.65480065 -0.37738775  0.34312795  1.77992028 -1.0200996 ]\n",
      " [-1.26971172 -0.34145866  0.6742134   0.60261082 -1.62053257]\n",
      " [-1.09535768  1.2044175  -0.79616625 -0.42418948  0.15265964]\n",
      " [ 1.8975049   0.14523218  0.55452857  1.17132845 -0.34640257]\n",
      " [ 1.58313713  1.30172588  0.32624692 -0.48479389 -0.04738471]\n",
      " [ 1.55244596 -0.27796091 -1.29944598  1.80678016  0.0081556 ]\n",
      " [-0.15232826 -1.35779307 -1.28194976  0.58645283 -0.01431238]\n",
      " [-1.41773255  0.74111519 -2.05080706 -0.33536513  0.36280606]]\n",
      "[0.60619004 1.04371555 1.67468897 0.43064653 0.59089703 0.03695263\n",
      " 0.12247359 0.65480065 0.34312795 1.77992028 0.6742134  0.60261082\n",
      " 1.2044175  0.15265964 1.8975049  0.14523218 0.55452857 1.17132845\n",
      " 1.58313713 1.30172588 0.32624692 1.55244596 1.80678016 0.0081556\n",
      " 0.58645283 0.74111519 0.36280606]\n"
     ]
    }
   ],
   "source": [
    "print(rand_mat2)\n",
    "print(rand_mat2[rand_mat2>0])"
   ]
  },
  {
   "cell_type": "code",
   "execution_count": 28,
   "metadata": {},
   "outputs": [
    {
     "name": "stdout",
     "output_type": "stream",
     "text": [
      "[ 0.53731784  0.82159948 -0.80983538 -0.09099873 -1.13571516 -0.0021156\n",
      " -1.61993282 -1.02069236  0.31053141 -0.68565304 -0.57714186 -0.60464853\n",
      "  0.7832614  -0.42512296 -0.02492332]\n",
      "\n",
      "[-5.00000000e+00 -5.00000000e+00 -8.09835376e-01 -9.09987260e-02\n",
      " -1.13571516e+00 -2.11560195e-03 -1.61993282e+00 -1.02069236e+00\n",
      "  3.10531409e-01 -6.85653038e-01 -5.77141859e-01 -6.04648530e-01\n",
      " -5.00000000e+00 -4.25122956e-01 -2.49233219e-02]\n"
     ]
    }
   ],
   "source": [
    "\n",
    "print(rand_vec)\n",
    "print('')\n",
    "rand_vec[rand_vec>0.5] = -5\n",
    "print(rand_vec)"
   ]
  },
  {
   "cell_type": "code",
   "execution_count": 46,
   "metadata": {},
   "outputs": [
    {
     "data": {
      "text/plain": [
       "array([ 0.        ,  0.84147098,  0.90929743,  0.14112001, -0.7568025 ,\n",
       "       -0.95892427, -0.2794155 ,  0.6569866 ,  0.98935825,  0.41211849])"
      ]
     },
     "execution_count": 46,
     "metadata": {},
     "output_type": "execute_result"
    }
   ],
   "source": [
    "x1 = np.arange(10)\n",
    "y2 = np.sin(x)\n",
    "from tempfile import TemporaryFile\n",
    "outfile = TemporaryFile()\n",
    "np.savez(outfile, x=x1, y=y2)\n",
    "_ = outfile.seek(0)\n",
    "npzfile = np.load(outfile)\n",
    "npzfile.files\n",
    "npzfile['y']"
   ]
  },
  {
   "cell_type": "code",
   "execution_count": 29,
   "metadata": {},
   "outputs": [],
   "source": [
    "# let's save some arrays on the disk for use later!\n",
    "np.save('saved_file_name',rand_mat2)\n"
   ]
  },
  {
   "cell_type": "code",
   "execution_count": 30,
   "metadata": {},
   "outputs": [],
   "source": [
    "np.savez('zipped_file_name',rand_mat=rand_mat,rand_mat2=rand_mat2)"
   ]
  },
  {
   "cell_type": "code",
   "execution_count": 31,
   "metadata": {},
   "outputs": [
    {
     "name": "stdout",
     "output_type": "stream",
     "text": [
      "[[-0.16647622  0.60619004  1.04371555  1.67468897  0.43064653]\n",
      " [-1.66266096 -0.08278658  0.59089703  0.03695263  0.12247359]\n",
      " [ 0.65480065 -0.37738775  0.34312795  1.77992028 -1.0200996 ]\n",
      " [-1.26971172 -0.34145866  0.6742134   0.60261082 -1.62053257]\n",
      " [-1.09535768  1.2044175  -0.79616625 -0.42418948  0.15265964]\n",
      " [ 1.8975049   0.14523218  0.55452857  1.17132845 -0.34640257]\n",
      " [ 1.58313713  1.30172588  0.32624692 -0.48479389 -0.04738471]\n",
      " [ 1.55244596 -0.27796091 -1.29944598  1.80678016  0.0081556 ]\n",
      " [-0.15232826 -1.35779307 -1.28194976  0.58645283 -0.01431238]\n",
      " [-1.41773255  0.74111519 -2.05080706 -0.33536513  0.36280606]]\n",
      "\n",
      "<numpy.lib.npyio.NpzFile object at 0x10bbb8950>\n"
     ]
    }
   ],
   "source": [
    "# now let's load it\n",
    "loaded_vec = np.load('saved_file_name.npy')\n",
    "loaded_zip = np.load('zipped_file_name.npz')\n",
    "\n",
    "print(loaded_vec)\n",
    "print('')\n",
    "print(loaded_zip)"
   ]
  },
  {
   "cell_type": "code",
   "execution_count": 32,
   "metadata": {},
   "outputs": [
    {
     "name": "stdout",
     "output_type": "stream",
     "text": [
      "[[3.         3.         3.         0.48549622 0.71509266]\n",
      " [3.         3.         3.         0.         0.        ]\n",
      " [0.01657601 0.24577272 0.01008251 0.         0.        ]\n",
      " [0.9350639  0.70351917 0.19293365 0.40922105 0.23320991]\n",
      " [0.37973059 0.52744986 0.35198727 0.60977189 0.47998122]]\n",
      "\n",
      "[[-0.16647622  0.60619004  1.04371555  1.67468897  0.43064653]\n",
      " [-1.66266096 -0.08278658  0.59089703  0.03695263  0.12247359]\n",
      " [ 0.65480065 -0.37738775  0.34312795  1.77992028 -1.0200996 ]\n",
      " [-1.26971172 -0.34145866  0.6742134   0.60261082 -1.62053257]\n",
      " [-1.09535768  1.2044175  -0.79616625 -0.42418948  0.15265964]\n",
      " [ 1.8975049   0.14523218  0.55452857  1.17132845 -0.34640257]\n",
      " [ 1.58313713  1.30172588  0.32624692 -0.48479389 -0.04738471]\n",
      " [ 1.55244596 -0.27796091 -1.29944598  1.80678016  0.0081556 ]\n",
      " [-0.15232826 -1.35779307 -1.28194976  0.58645283 -0.01431238]\n",
      " [-1.41773255  0.74111519 -2.05080706 -0.33536513  0.36280606]]\n",
      "[[3.         3.         3.         0.48549622 0.71509266]\n",
      " [3.         3.         3.         0.         0.        ]\n",
      " [0.01657601 0.24577272 0.01008251 0.         0.        ]\n",
      " [0.9350639  0.70351917 0.19293365 0.40922105 0.23320991]\n",
      " [0.37973059 0.52744986 0.35198727 0.60977189 0.47998122]]\n"
     ]
    }
   ],
   "source": [
    "print(loaded_zip['rand_mat'])\n",
    "print('')\n",
    "print(loaded_zip['rand_mat2'])\n",
    "\n",
    "new_array  = loaded_zip['rand_mat']\n",
    "print(new_array)"
   ]
  },
  {
   "cell_type": "code",
   "execution_count": 33,
   "metadata": {},
   "outputs": [
    {
     "name": "stdout",
     "output_type": "stream",
     "text": [
      "[[3.         3.         3.         0.48549622 0.71509266]\n",
      " [3.         3.         3.         0.         0.        ]\n",
      " [0.01657601 0.24577272 0.01008251 0.         0.        ]\n",
      " [0.9350639  0.70351917 0.19293365 0.40922105 0.23320991]\n",
      " [0.37973059 0.52744986 0.35198727 0.60977189 0.47998122]]\n",
      "\n",
      "[[3.         3.         3.         0.48549622 0.71509266]\n",
      " [3.         3.         3.         0.         0.        ]\n",
      " [0.01657601 0.24577272 0.01008251 0.         0.        ]\n",
      " [0.9350639  0.70351917 0.19293365 0.40922105 0.23320991]\n",
      " [0.37973059 0.52744986 0.35198727 0.60977189 0.47998122]]\n"
     ]
    }
   ],
   "source": [
    "# we can also save/load as text files...but only single variables\n",
    "np.savetxt('text_file_name.txt',rand_mat,delimiter=',')\n",
    "rand_mat_txt = np.loadtxt('text_file_name.txt',delimiter=',')\n",
    "print(rand_mat)\n",
    "print('')\n",
    "print(rand_mat_txt)"
   ]
  },
  {
   "cell_type": "code",
   "execution_count": null,
   "metadata": {},
   "outputs": [],
   "source": []
  }
 ],
 "metadata": {
  "kernelspec": {
   "display_name": "Python 3",
   "language": "python",
   "name": "python3"
  },
  "language_info": {
   "codemirror_mode": {
    "name": "ipython",
    "version": 3
   },
   "file_extension": ".py",
   "mimetype": "text/x-python",
   "name": "python",
   "nbconvert_exporter": "python",
   "pygments_lexer": "ipython3",
   "version": "3.7.4"
  }
 },
 "nbformat": 4,
 "nbformat_minor": 2
}
