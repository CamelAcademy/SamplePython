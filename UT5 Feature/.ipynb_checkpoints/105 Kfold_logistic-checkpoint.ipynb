{
 "cells": [
  {
   "cell_type": "code",
   "execution_count": 1,
   "metadata": {},
   "outputs": [
    {
     "name": "stdout",
     "output_type": "stream",
     "text": [
      "[0.66666667 0.6031746  0.69090909 0.83333333 0.81818182 0.84615385\n",
      " 0.87272727 0.86666667 0.78333333 1.         0.70909091 0.82539683\n",
      " 0.875      0.61904762 0.88888889 0.70909091 0.81666667 0.58181818\n",
      " 0.75       1.         0.60714286 0.83333333 0.81481481 0.88\n",
      " 1.         0.76785714 0.7962963  0.8        0.92592593 1.\n",
      " 0.63888889 0.75       0.63636364 0.97222222 0.94       1.\n",
      " 0.86111111 0.94       0.98       1.         0.86111111 0.98\n",
      " 0.74       0.72222222 0.96       0.68518519 0.89285714 0.77777778\n",
      " 0.82142857 0.89285714]\n",
      "===\n",
      "Accuracy: 82.467% (12.085%)\n"
     ]
    }
   ],
   "source": [
    "from pandas import read_csv\n",
    "from sklearn.model_selection import train_test_split\n",
    "from sklearn.linear_model import LogisticRegression\n",
    "from sklearn.model_selection import KFold\n",
    "from sklearn.model_selection import cross_val_score\n",
    "import numpy as np\n",
    "import warnings\n",
    "warnings.filterwarnings('ignore')\n",
    "\n",
    "filename = 'pima-indians-diabetes.csv'\n",
    "\n",
    "dataframe = read_csv(filename)\n",
    "\n",
    "array = dataframe.values\n",
    "X = array[:,0:8]\n",
    "Y = array[:,8]\n",
    "\n",
    "X_train, X_test, Y_train, Y_test = train_test_split(X, Y, test_size=0.50, random_state=1)\n",
    "\n",
    "num_folds = 50\n",
    "seed = 7\n",
    "\n",
    "kfold = KFold(n_splits=num_folds, random_state=seed)\n",
    "model = LogisticRegression()\n",
    "results = cross_val_score(model, X, Y, cv=kfold, scoring='roc_auc')\n",
    "print(results)\n",
    "print(\"===\")\n",
    "print(\"Accuracy: %.3f%% (%.3f%%)\" % (results.mean()*100.0, results.std()*100.0))"
   ]
  }
 ],
 "metadata": {
  "kernelspec": {
   "display_name": "Python 3",
   "language": "python",
   "name": "python3"
  },
  "language_info": {
   "codemirror_mode": {
    "name": "ipython",
    "version": 3
   },
   "file_extension": ".py",
   "mimetype": "text/x-python",
   "name": "python",
   "nbconvert_exporter": "python",
   "pygments_lexer": "ipython3",
   "version": "3.7.4"
  }
 },
 "nbformat": 4,
 "nbformat_minor": 2
}
