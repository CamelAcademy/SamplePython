{
 "cells": [
  {
   "cell_type": "markdown",
   "metadata": {},
   "source": [
    "# Context:\n",
    "    \n",
    "The dataset contains 1000 entries with 20 categorial/symbolic attributes prepared by Prof. Hofmann. In this dataset, \n",
    "each entry represents a person who takes a credit by a bank. Each person is classified as good or bad credit risks according to \n",
    "the set of attributes. The link to the dataset can be found below."
   ]
  },
  {
   "cell_type": "markdown",
   "metadata": {},
   "source": [
    "# Dataset:\n",
    "https://www.kaggle.com/renaldydermawan25/credit-data/version/1"
   ]
  },
  {
   "cell_type": "markdown",
   "metadata": {},
   "source": [
    "# Some Attribute information:\n",
    "    \n",
    "Age (numeric)\n",
    "\n",
    "Sex (text: male, female)\n",
    "\n",
    "Job (numeric: 0 - unskilled and non-resident, 1 - unskilled and resident, 2 - skilled, 3 - highly skilled)\n",
    "\n",
    "Housing (text: own, rent, or free)\n",
    "\n",
    "Saving accounts (text - little, moderate, quite rich, rich)\n",
    "\n",
    "Checking account (numeric, in DM - Deutsch Mark)\n",
    "\n",
    "Credit amount (numeric, in DM)\n",
    "\n",
    "Duration (numeric, in month)\n",
    "\n",
    "Purpose (text: car, furniture/equipment, radio/TV, domestic appliances, repairs, education, business, vacation/others)"
   ]
  },
  {
   "cell_type": "markdown",
   "metadata": {},
   "source": [
    "# Objective:\n",
    "    \n",
    "To Guage Feature Importance"
   ]
  },
  {
   "cell_type": "code",
   "execution_count": 1,
   "metadata": {},
   "outputs": [],
   "source": [
    "import warnings\n",
    "warnings.filterwarnings('ignore')"
   ]
  },
  {
   "cell_type": "code",
   "execution_count": 2,
   "metadata": {},
   "outputs": [],
   "source": [
    "# Import important library\n",
    "import numpy as np\n",
    "import pandas as pd\n",
    "import matplotlib.pyplot as plt\n",
    "import seaborn as sns\n",
    "%matplotlib inline\n",
    "\n",
    "pd.set_option(\"display.max_columns\", 50)"
   ]
  },
  {
   "cell_type": "code",
   "execution_count": 3,
   "metadata": {},
   "outputs": [
    {
     "data": {
      "text/html": [
       "<div>\n",
       "<style scoped>\n",
       "    .dataframe tbody tr th:only-of-type {\n",
       "        vertical-align: middle;\n",
       "    }\n",
       "\n",
       "    .dataframe tbody tr th {\n",
       "        vertical-align: top;\n",
       "    }\n",
       "\n",
       "    .dataframe thead th {\n",
       "        text-align: right;\n",
       "    }\n",
       "</style>\n",
       "<table border=\"1\" class=\"dataframe\">\n",
       "  <thead>\n",
       "    <tr style=\"text-align: right;\">\n",
       "      <th></th>\n",
       "      <th>default</th>\n",
       "      <th>account_check_status</th>\n",
       "      <th>duration_in_month</th>\n",
       "      <th>credit_history</th>\n",
       "      <th>purpose</th>\n",
       "      <th>credit_amount</th>\n",
       "      <th>savings</th>\n",
       "      <th>present_emp_since</th>\n",
       "      <th>installment_as_income_perc</th>\n",
       "      <th>personal_status_sex</th>\n",
       "      <th>other_debtors</th>\n",
       "      <th>present_res_since</th>\n",
       "      <th>property</th>\n",
       "      <th>age</th>\n",
       "      <th>other_installment_plans</th>\n",
       "      <th>housing</th>\n",
       "      <th>credits_this_bank</th>\n",
       "      <th>job</th>\n",
       "      <th>people_under_maintenance</th>\n",
       "      <th>telephone</th>\n",
       "      <th>foreign_worker</th>\n",
       "    </tr>\n",
       "  </thead>\n",
       "  <tbody>\n",
       "    <tr>\n",
       "      <th>0</th>\n",
       "      <td>0</td>\n",
       "      <td>&lt; 0 DM</td>\n",
       "      <td>6</td>\n",
       "      <td>critical account/ other credits existing (not ...</td>\n",
       "      <td>domestic appliances</td>\n",
       "      <td>1169</td>\n",
       "      <td>unknown/ no savings account</td>\n",
       "      <td>.. &gt;= 7 years</td>\n",
       "      <td>4</td>\n",
       "      <td>male : single</td>\n",
       "      <td>none</td>\n",
       "      <td>4</td>\n",
       "      <td>real estate</td>\n",
       "      <td>67</td>\n",
       "      <td>none</td>\n",
       "      <td>own</td>\n",
       "      <td>2</td>\n",
       "      <td>skilled employee / official</td>\n",
       "      <td>1</td>\n",
       "      <td>yes, registered under the customers name</td>\n",
       "      <td>yes</td>\n",
       "    </tr>\n",
       "    <tr>\n",
       "      <th>1</th>\n",
       "      <td>1</td>\n",
       "      <td>0 &lt;= ... &lt; 200 DM</td>\n",
       "      <td>48</td>\n",
       "      <td>existing credits paid back duly till now</td>\n",
       "      <td>domestic appliances</td>\n",
       "      <td>5951</td>\n",
       "      <td>... &lt; 100 DM</td>\n",
       "      <td>1 &lt;= ... &lt; 4 years</td>\n",
       "      <td>2</td>\n",
       "      <td>female : divorced/separated/married</td>\n",
       "      <td>none</td>\n",
       "      <td>2</td>\n",
       "      <td>real estate</td>\n",
       "      <td>22</td>\n",
       "      <td>none</td>\n",
       "      <td>own</td>\n",
       "      <td>1</td>\n",
       "      <td>skilled employee / official</td>\n",
       "      <td>1</td>\n",
       "      <td>none</td>\n",
       "      <td>yes</td>\n",
       "    </tr>\n",
       "    <tr>\n",
       "      <th>2</th>\n",
       "      <td>0</td>\n",
       "      <td>no checking account</td>\n",
       "      <td>12</td>\n",
       "      <td>critical account/ other credits existing (not ...</td>\n",
       "      <td>(vacation - does not exist?)</td>\n",
       "      <td>2096</td>\n",
       "      <td>... &lt; 100 DM</td>\n",
       "      <td>4 &lt;= ... &lt; 7 years</td>\n",
       "      <td>2</td>\n",
       "      <td>male : single</td>\n",
       "      <td>none</td>\n",
       "      <td>3</td>\n",
       "      <td>real estate</td>\n",
       "      <td>49</td>\n",
       "      <td>none</td>\n",
       "      <td>own</td>\n",
       "      <td>1</td>\n",
       "      <td>unskilled - resident</td>\n",
       "      <td>2</td>\n",
       "      <td>none</td>\n",
       "      <td>yes</td>\n",
       "    </tr>\n",
       "  </tbody>\n",
       "</table>\n",
       "</div>"
      ],
      "text/plain": [
       "   default account_check_status  duration_in_month  \\\n",
       "0        0               < 0 DM                  6   \n",
       "1        1    0 <= ... < 200 DM                 48   \n",
       "2        0  no checking account                 12   \n",
       "\n",
       "                                      credit_history  \\\n",
       "0  critical account/ other credits existing (not ...   \n",
       "1           existing credits paid back duly till now   \n",
       "2  critical account/ other credits existing (not ...   \n",
       "\n",
       "                        purpose  credit_amount                      savings  \\\n",
       "0           domestic appliances           1169  unknown/ no savings account   \n",
       "1           domestic appliances           5951                 ... < 100 DM   \n",
       "2  (vacation - does not exist?)           2096                 ... < 100 DM   \n",
       "\n",
       "    present_emp_since  installment_as_income_perc  \\\n",
       "0       .. >= 7 years                           4   \n",
       "1  1 <= ... < 4 years                           2   \n",
       "2  4 <= ... < 7 years                           2   \n",
       "\n",
       "                   personal_status_sex other_debtors  present_res_since  \\\n",
       "0                        male : single          none                  4   \n",
       "1  female : divorced/separated/married          none                  2   \n",
       "2                        male : single          none                  3   \n",
       "\n",
       "      property  age other_installment_plans housing  credits_this_bank  \\\n",
       "0  real estate   67                    none     own                  2   \n",
       "1  real estate   22                    none     own                  1   \n",
       "2  real estate   49                    none     own                  1   \n",
       "\n",
       "                           job  people_under_maintenance  \\\n",
       "0  skilled employee / official                         1   \n",
       "1  skilled employee / official                         1   \n",
       "2         unskilled - resident                         2   \n",
       "\n",
       "                                   telephone foreign_worker  \n",
       "0  yes, registered under the customers name             yes  \n",
       "1                                       none            yes  \n",
       "2                                       none            yes  "
      ]
     },
     "execution_count": 3,
     "metadata": {},
     "output_type": "execute_result"
    }
   ],
   "source": [
    "#Read input file and understand the data\n",
    "# \"default\" is my dependent variable\n",
    "df = pd.read_csv(\"credit_data.csv\")\n",
    "df.head(3)"
   ]
  },
  {
   "cell_type": "code",
   "execution_count": 4,
   "metadata": {},
   "outputs": [
    {
     "data": {
      "text/plain": [
       "(1000, 21)"
      ]
     },
     "execution_count": 4,
     "metadata": {},
     "output_type": "execute_result"
    }
   ],
   "source": [
    "df.shape"
   ]
  },
  {
   "cell_type": "code",
   "execution_count": 5,
   "metadata": {},
   "outputs": [
    {
     "name": "stdout",
     "output_type": "stream",
     "text": [
      "<class 'pandas.core.frame.DataFrame'>\n",
      "RangeIndex: 1000 entries, 0 to 999\n",
      "Data columns (total 21 columns):\n",
      " #   Column                      Non-Null Count  Dtype \n",
      "---  ------                      --------------  ----- \n",
      " 0   default                     1000 non-null   int64 \n",
      " 1   account_check_status        1000 non-null   object\n",
      " 2   duration_in_month           1000 non-null   int64 \n",
      " 3   credit_history              1000 non-null   object\n",
      " 4   purpose                     1000 non-null   object\n",
      " 5   credit_amount               1000 non-null   int64 \n",
      " 6   savings                     1000 non-null   object\n",
      " 7   present_emp_since           1000 non-null   object\n",
      " 8   installment_as_income_perc  1000 non-null   int64 \n",
      " 9   personal_status_sex         1000 non-null   object\n",
      " 10  other_debtors               1000 non-null   object\n",
      " 11  present_res_since           1000 non-null   int64 \n",
      " 12  property                    1000 non-null   object\n",
      " 13  age                         1000 non-null   int64 \n",
      " 14  other_installment_plans     1000 non-null   object\n",
      " 15  housing                     1000 non-null   object\n",
      " 16  credits_this_bank           1000 non-null   int64 \n",
      " 17  job                         1000 non-null   object\n",
      " 18  people_under_maintenance    1000 non-null   int64 \n",
      " 19  telephone                   1000 non-null   object\n",
      " 20  foreign_worker              1000 non-null   object\n",
      "dtypes: int64(8), object(13)\n",
      "memory usage: 164.2+ KB\n"
     ]
    }
   ],
   "source": [
    "df.info()"
   ]
  },
  {
   "cell_type": "code",
   "execution_count": 6,
   "metadata": {},
   "outputs": [
    {
     "data": {
      "text/plain": [
       "default                         2\n",
       "account_check_status            4\n",
       "duration_in_month              33\n",
       "credit_history                  5\n",
       "purpose                        10\n",
       "credit_amount                 921\n",
       "savings                         5\n",
       "present_emp_since               5\n",
       "installment_as_income_perc      4\n",
       "personal_status_sex             4\n",
       "other_debtors                   3\n",
       "present_res_since               4\n",
       "property                        4\n",
       "age                            53\n",
       "other_installment_plans         3\n",
       "housing                         3\n",
       "credits_this_bank               4\n",
       "job                             4\n",
       "people_under_maintenance        2\n",
       "telephone                       2\n",
       "foreign_worker                  2\n",
       "dtype: int64"
      ]
     },
     "execution_count": 6,
     "metadata": {},
     "output_type": "execute_result"
    }
   ],
   "source": [
    "df.nunique()"
   ]
  },
  {
   "cell_type": "code",
   "execution_count": 7,
   "metadata": {},
   "outputs": [],
   "source": [
    "# # Randomly select 50% data for this use case\n",
    "# from sklearn.model_selection import train_test_split\n",
    "# out_data,df =train_test_split(df_pre, train_size = 0.5,random_state=5)\n",
    "# df_pre.shape\n",
    "# df_pre.columns\n",
    "# df_pre.head(5)"
   ]
  },
  {
   "cell_type": "code",
   "execution_count": 8,
   "metadata": {},
   "outputs": [
    {
     "data": {
      "text/html": [
       "<div>\n",
       "<style scoped>\n",
       "    .dataframe tbody tr th:only-of-type {\n",
       "        vertical-align: middle;\n",
       "    }\n",
       "\n",
       "    .dataframe tbody tr th {\n",
       "        vertical-align: top;\n",
       "    }\n",
       "\n",
       "    .dataframe thead th {\n",
       "        text-align: right;\n",
       "    }\n",
       "</style>\n",
       "<table border=\"1\" class=\"dataframe\">\n",
       "  <thead>\n",
       "    <tr style=\"text-align: right;\">\n",
       "      <th></th>\n",
       "      <th>account_check_status</th>\n",
       "      <th>credit_history</th>\n",
       "      <th>purpose</th>\n",
       "      <th>savings</th>\n",
       "      <th>present_emp_since</th>\n",
       "      <th>personal_status_sex</th>\n",
       "      <th>other_debtors</th>\n",
       "      <th>property</th>\n",
       "      <th>other_installment_plans</th>\n",
       "      <th>housing</th>\n",
       "      <th>job</th>\n",
       "      <th>telephone</th>\n",
       "      <th>foreign_worker</th>\n",
       "    </tr>\n",
       "  </thead>\n",
       "  <tbody>\n",
       "    <tr>\n",
       "      <th>0</th>\n",
       "      <td>&lt; 0 DM</td>\n",
       "      <td>critical account/ other credits existing (not ...</td>\n",
       "      <td>domestic appliances</td>\n",
       "      <td>unknown/ no savings account</td>\n",
       "      <td>.. &gt;= 7 years</td>\n",
       "      <td>male : single</td>\n",
       "      <td>none</td>\n",
       "      <td>real estate</td>\n",
       "      <td>none</td>\n",
       "      <td>own</td>\n",
       "      <td>skilled employee / official</td>\n",
       "      <td>yes, registered under the customers name</td>\n",
       "      <td>yes</td>\n",
       "    </tr>\n",
       "    <tr>\n",
       "      <th>1</th>\n",
       "      <td>0 &lt;= ... &lt; 200 DM</td>\n",
       "      <td>existing credits paid back duly till now</td>\n",
       "      <td>domestic appliances</td>\n",
       "      <td>... &lt; 100 DM</td>\n",
       "      <td>1 &lt;= ... &lt; 4 years</td>\n",
       "      <td>female : divorced/separated/married</td>\n",
       "      <td>none</td>\n",
       "      <td>real estate</td>\n",
       "      <td>none</td>\n",
       "      <td>own</td>\n",
       "      <td>skilled employee / official</td>\n",
       "      <td>none</td>\n",
       "      <td>yes</td>\n",
       "    </tr>\n",
       "    <tr>\n",
       "      <th>2</th>\n",
       "      <td>no checking account</td>\n",
       "      <td>critical account/ other credits existing (not ...</td>\n",
       "      <td>(vacation - does not exist?)</td>\n",
       "      <td>... &lt; 100 DM</td>\n",
       "      <td>4 &lt;= ... &lt; 7 years</td>\n",
       "      <td>male : single</td>\n",
       "      <td>none</td>\n",
       "      <td>real estate</td>\n",
       "      <td>none</td>\n",
       "      <td>own</td>\n",
       "      <td>unskilled - resident</td>\n",
       "      <td>none</td>\n",
       "      <td>yes</td>\n",
       "    </tr>\n",
       "    <tr>\n",
       "      <th>3</th>\n",
       "      <td>&lt; 0 DM</td>\n",
       "      <td>existing credits paid back duly till now</td>\n",
       "      <td>radio/television</td>\n",
       "      <td>... &lt; 100 DM</td>\n",
       "      <td>4 &lt;= ... &lt; 7 years</td>\n",
       "      <td>male : single</td>\n",
       "      <td>guarantor</td>\n",
       "      <td>if not A121 : building society savings agreeme...</td>\n",
       "      <td>none</td>\n",
       "      <td>for free</td>\n",
       "      <td>skilled employee / official</td>\n",
       "      <td>none</td>\n",
       "      <td>yes</td>\n",
       "    </tr>\n",
       "    <tr>\n",
       "      <th>4</th>\n",
       "      <td>&lt; 0 DM</td>\n",
       "      <td>delay in paying off in the past</td>\n",
       "      <td>car (new)</td>\n",
       "      <td>... &lt; 100 DM</td>\n",
       "      <td>1 &lt;= ... &lt; 4 years</td>\n",
       "      <td>male : single</td>\n",
       "      <td>none</td>\n",
       "      <td>unknown / no property</td>\n",
       "      <td>none</td>\n",
       "      <td>for free</td>\n",
       "      <td>skilled employee / official</td>\n",
       "      <td>none</td>\n",
       "      <td>yes</td>\n",
       "    </tr>\n",
       "  </tbody>\n",
       "</table>\n",
       "</div>"
      ],
      "text/plain": [
       "  account_check_status                                     credit_history  \\\n",
       "0               < 0 DM  critical account/ other credits existing (not ...   \n",
       "1    0 <= ... < 200 DM           existing credits paid back duly till now   \n",
       "2  no checking account  critical account/ other credits existing (not ...   \n",
       "3               < 0 DM           existing credits paid back duly till now   \n",
       "4               < 0 DM                    delay in paying off in the past   \n",
       "\n",
       "                        purpose                      savings  \\\n",
       "0           domestic appliances  unknown/ no savings account   \n",
       "1           domestic appliances                 ... < 100 DM   \n",
       "2  (vacation - does not exist?)                 ... < 100 DM   \n",
       "3              radio/television                 ... < 100 DM   \n",
       "4                     car (new)                 ... < 100 DM   \n",
       "\n",
       "    present_emp_since                  personal_status_sex other_debtors  \\\n",
       "0       .. >= 7 years                        male : single          none   \n",
       "1  1 <= ... < 4 years  female : divorced/separated/married          none   \n",
       "2  4 <= ... < 7 years                        male : single          none   \n",
       "3  4 <= ... < 7 years                        male : single     guarantor   \n",
       "4  1 <= ... < 4 years                        male : single          none   \n",
       "\n",
       "                                            property other_installment_plans  \\\n",
       "0                                        real estate                    none   \n",
       "1                                        real estate                    none   \n",
       "2                                        real estate                    none   \n",
       "3  if not A121 : building society savings agreeme...                    none   \n",
       "4                              unknown / no property                    none   \n",
       "\n",
       "    housing                          job  \\\n",
       "0       own  skilled employee / official   \n",
       "1       own  skilled employee / official   \n",
       "2       own         unskilled - resident   \n",
       "3  for free  skilled employee / official   \n",
       "4  for free  skilled employee / official   \n",
       "\n",
       "                                   telephone foreign_worker  \n",
       "0  yes, registered under the customers name             yes  \n",
       "1                                       none            yes  \n",
       "2                                       none            yes  \n",
       "3                                       none            yes  \n",
       "4                                       none            yes  "
      ]
     },
     "execution_count": 8,
     "metadata": {},
     "output_type": "execute_result"
    }
   ],
   "source": [
    "# Lets build a Ensemble model but need to modify the dataset first\n",
    "obj_df=df.select_dtypes(include=['object'])\n",
    "obj_df.head()"
   ]
  },
  {
   "cell_type": "code",
   "execution_count": 9,
   "metadata": {},
   "outputs": [],
   "source": [
    "dff=pd.get_dummies(df, drop_first=True)"
   ]
  },
  {
   "cell_type": "code",
   "execution_count": 10,
   "metadata": {},
   "outputs": [
    {
     "data": {
      "text/plain": [
       "(1000, 49)"
      ]
     },
     "execution_count": 10,
     "metadata": {},
     "output_type": "execute_result"
    }
   ],
   "source": [
    "dff.shape"
   ]
  },
  {
   "cell_type": "code",
   "execution_count": 11,
   "metadata": {},
   "outputs": [
    {
     "data": {
      "text/plain": [
       "Series([], dtype: float64)"
      ]
     },
     "execution_count": 11,
     "metadata": {},
     "output_type": "execute_result"
    }
   ],
   "source": [
    "# Lets check for highly correlated variables\n",
    "cor= dff.corr()\n",
    "cor.loc[:,:] = np.tril(cor,k=-1)\n",
    "cor=cor.stack()\n",
    "cor[(cor > 0.8) | (cor< -0.8)]"
   ]
  },
  {
   "cell_type": "code",
   "execution_count": 12,
   "metadata": {},
   "outputs": [
    {
     "data": {
      "text/plain": [
       "((700, 48), (300, 48), (700,), (300,))"
      ]
     },
     "execution_count": 12,
     "metadata": {},
     "output_type": "execute_result"
    }
   ],
   "source": [
    "# Split Train/Test data 70:30 ratio\n",
    "from sklearn.model_selection import train_test_split\n",
    "\n",
    "y = dff['default']\n",
    "X = dff.loc[:, dff.columns != 'default']\n",
    "\n",
    "X_train, X_test, y_train, y_test = train_test_split (X, y, test_size=0.3, random_state=42,)\n",
    "X_train.shape, X_test.shape, y_train.shape, y_test.shape"
   ]
  },
  {
   "cell_type": "code",
   "execution_count": 13,
   "metadata": {},
   "outputs": [],
   "source": [
    "#Build RF Model\n",
    "from sklearn.ensemble import RandomForestClassifier\n",
    "rf = RandomForestClassifier(n_jobs=2,n_estimators=500,criterion=\"entropy\",random_state=9999)\n",
    "rfm=rf.fit(X_train, y_train)"
   ]
  },
  {
   "cell_type": "code",
   "execution_count": 14,
   "metadata": {},
   "outputs": [],
   "source": [
    "preds = rf.predict_proba(X_test)[:,1]\n",
    "y_pred=rf.predict(X_test)"
   ]
  },
  {
   "cell_type": "code",
   "execution_count": 34,
   "metadata": {
    "scrolled": false
   },
   "outputs": [
    {
     "data": {
      "text/plain": [
       "array([[0.638, 0.362],\n",
       "       [0.464, 0.536],\n",
       "       [0.39 , 0.61 ],\n",
       "       [0.606, 0.394],\n",
       "       [0.948, 0.052],\n",
       "       [0.568, 0.432],\n",
       "       [0.886, 0.114],\n",
       "       [0.616, 0.384],\n",
       "       [0.82 , 0.18 ],\n",
       "       [0.8  , 0.2  ],\n",
       "       [0.88 , 0.12 ],\n",
       "       [0.384, 0.616],\n",
       "       [0.876, 0.124],\n",
       "       [0.192, 0.808],\n",
       "       [0.242, 0.758],\n",
       "       [0.672, 0.328],\n",
       "       [0.89 , 0.11 ],\n",
       "       [0.912, 0.088],\n",
       "       [0.634, 0.366],\n",
       "       [0.67 , 0.33 ],\n",
       "       [0.786, 0.214],\n",
       "       [0.578, 0.422],\n",
       "       [0.946, 0.054],\n",
       "       [0.99 , 0.01 ],\n",
       "       [0.954, 0.046],\n",
       "       [0.526, 0.474],\n",
       "       [0.496, 0.504],\n",
       "       [0.592, 0.408],\n",
       "       [0.752, 0.248],\n",
       "       [0.852, 0.148],\n",
       "       [0.732, 0.268],\n",
       "       [0.788, 0.212],\n",
       "       [0.638, 0.362],\n",
       "       [0.688, 0.312],\n",
       "       [0.862, 0.138],\n",
       "       [0.758, 0.242],\n",
       "       [0.484, 0.516],\n",
       "       [0.87 , 0.13 ],\n",
       "       [0.94 , 0.06 ],\n",
       "       [0.5  , 0.5  ],\n",
       "       [0.52 , 0.48 ],\n",
       "       [0.958, 0.042],\n",
       "       [0.662, 0.338],\n",
       "       [0.93 , 0.07 ],\n",
       "       [0.874, 0.126],\n",
       "       [0.678, 0.322],\n",
       "       [0.582, 0.418],\n",
       "       [0.664, 0.336],\n",
       "       [0.724, 0.276],\n",
       "       [0.75 , 0.25 ],\n",
       "       [0.51 , 0.49 ],\n",
       "       [0.942, 0.058],\n",
       "       [0.544, 0.456],\n",
       "       [0.558, 0.442],\n",
       "       [0.884, 0.116],\n",
       "       [0.722, 0.278],\n",
       "       [0.924, 0.076],\n",
       "       [0.404, 0.596],\n",
       "       [0.43 , 0.57 ],\n",
       "       [0.818, 0.182],\n",
       "       [0.75 , 0.25 ],\n",
       "       [0.524, 0.476],\n",
       "       [0.602, 0.398],\n",
       "       [0.946, 0.054],\n",
       "       [0.624, 0.376],\n",
       "       [0.708, 0.292],\n",
       "       [0.894, 0.106],\n",
       "       [0.616, 0.384],\n",
       "       [0.678, 0.322],\n",
       "       [0.834, 0.166],\n",
       "       [0.632, 0.368],\n",
       "       [0.852, 0.148],\n",
       "       [0.834, 0.166],\n",
       "       [0.7  , 0.3  ],\n",
       "       [0.742, 0.258],\n",
       "       [0.446, 0.554],\n",
       "       [0.512, 0.488],\n",
       "       [0.716, 0.284],\n",
       "       [0.832, 0.168],\n",
       "       [0.476, 0.524],\n",
       "       [0.878, 0.122],\n",
       "       [0.818, 0.182],\n",
       "       [0.938, 0.062],\n",
       "       [0.492, 0.508],\n",
       "       [0.882, 0.118],\n",
       "       [0.636, 0.364],\n",
       "       [0.338, 0.662],\n",
       "       [0.286, 0.714],\n",
       "       [0.874, 0.126],\n",
       "       [0.89 , 0.11 ],\n",
       "       [0.672, 0.328],\n",
       "       [0.95 , 0.05 ],\n",
       "       [0.158, 0.842],\n",
       "       [0.542, 0.458],\n",
       "       [0.932, 0.068],\n",
       "       [0.778, 0.222],\n",
       "       [0.856, 0.144],\n",
       "       [0.45 , 0.55 ],\n",
       "       [0.298, 0.702],\n",
       "       [0.654, 0.346],\n",
       "       [0.974, 0.026],\n",
       "       [0.67 , 0.33 ],\n",
       "       [0.81 , 0.19 ],\n",
       "       [0.966, 0.034],\n",
       "       [0.832, 0.168],\n",
       "       [0.68 , 0.32 ],\n",
       "       [0.738, 0.262],\n",
       "       [0.568, 0.432],\n",
       "       [0.784, 0.216],\n",
       "       [0.448, 0.552],\n",
       "       [0.366, 0.634],\n",
       "       [0.742, 0.258],\n",
       "       [0.706, 0.294],\n",
       "       [0.876, 0.124],\n",
       "       [0.768, 0.232],\n",
       "       [0.796, 0.204],\n",
       "       [0.652, 0.348],\n",
       "       [0.87 , 0.13 ],\n",
       "       [0.88 , 0.12 ],\n",
       "       [0.596, 0.404],\n",
       "       [0.672, 0.328],\n",
       "       [0.542, 0.458],\n",
       "       [0.754, 0.246],\n",
       "       [0.822, 0.178],\n",
       "       [0.656, 0.344],\n",
       "       [0.752, 0.248],\n",
       "       [0.416, 0.584],\n",
       "       [0.884, 0.116],\n",
       "       [0.786, 0.214],\n",
       "       [0.854, 0.146],\n",
       "       [0.736, 0.264],\n",
       "       [0.718, 0.282],\n",
       "       [0.752, 0.248],\n",
       "       [0.84 , 0.16 ],\n",
       "       [0.628, 0.372],\n",
       "       [0.68 , 0.32 ],\n",
       "       [0.534, 0.466],\n",
       "       [0.846, 0.154],\n",
       "       [0.728, 0.272],\n",
       "       [0.674, 0.326],\n",
       "       [0.408, 0.592],\n",
       "       [0.624, 0.376],\n",
       "       [0.552, 0.448],\n",
       "       [0.884, 0.116],\n",
       "       [0.72 , 0.28 ],\n",
       "       [0.434, 0.566],\n",
       "       [0.658, 0.342],\n",
       "       [0.822, 0.178],\n",
       "       [0.48 , 0.52 ],\n",
       "       [0.372, 0.628],\n",
       "       [0.882, 0.118],\n",
       "       [0.682, 0.318],\n",
       "       [0.882, 0.118],\n",
       "       [0.73 , 0.27 ],\n",
       "       [0.89 , 0.11 ],\n",
       "       [0.67 , 0.33 ],\n",
       "       [0.564, 0.436],\n",
       "       [0.848, 0.152],\n",
       "       [0.678, 0.322],\n",
       "       [0.732, 0.268],\n",
       "       [0.646, 0.354],\n",
       "       [0.86 , 0.14 ],\n",
       "       [0.476, 0.524],\n",
       "       [0.294, 0.706],\n",
       "       [0.594, 0.406],\n",
       "       [0.736, 0.264],\n",
       "       [0.894, 0.106],\n",
       "       [0.582, 0.418],\n",
       "       [0.846, 0.154],\n",
       "       [0.652, 0.348],\n",
       "       [0.854, 0.146],\n",
       "       [0.782, 0.218],\n",
       "       [0.75 , 0.25 ],\n",
       "       [0.686, 0.314],\n",
       "       [0.956, 0.044],\n",
       "       [0.568, 0.432],\n",
       "       [0.626, 0.374],\n",
       "       [0.926, 0.074],\n",
       "       [0.756, 0.244],\n",
       "       [0.472, 0.528],\n",
       "       [0.838, 0.162],\n",
       "       [0.85 , 0.15 ],\n",
       "       [0.846, 0.154],\n",
       "       [0.9  , 0.1  ],\n",
       "       [0.818, 0.182],\n",
       "       [0.914, 0.086],\n",
       "       [0.416, 0.584],\n",
       "       [0.874, 0.126],\n",
       "       [0.84 , 0.16 ],\n",
       "       [0.924, 0.076],\n",
       "       [0.846, 0.154],\n",
       "       [0.536, 0.464],\n",
       "       [0.426, 0.574],\n",
       "       [0.594, 0.406],\n",
       "       [0.722, 0.278],\n",
       "       [0.89 , 0.11 ],\n",
       "       [0.37 , 0.63 ],\n",
       "       [0.454, 0.546],\n",
       "       [0.538, 0.462],\n",
       "       [0.804, 0.196],\n",
       "       [0.272, 0.728],\n",
       "       [0.738, 0.262],\n",
       "       [0.86 , 0.14 ],\n",
       "       [0.678, 0.322],\n",
       "       [0.738, 0.262],\n",
       "       [0.304, 0.696],\n",
       "       [0.822, 0.178],\n",
       "       [0.534, 0.466],\n",
       "       [0.558, 0.442],\n",
       "       [0.876, 0.124],\n",
       "       [0.744, 0.256],\n",
       "       [0.508, 0.492],\n",
       "       [0.408, 0.592],\n",
       "       [0.654, 0.346],\n",
       "       [0.556, 0.444],\n",
       "       [0.944, 0.056],\n",
       "       [0.828, 0.172],\n",
       "       [0.716, 0.284],\n",
       "       [0.696, 0.304],\n",
       "       [0.666, 0.334],\n",
       "       [0.846, 0.154],\n",
       "       [0.928, 0.072],\n",
       "       [0.794, 0.206],\n",
       "       [0.872, 0.128],\n",
       "       [0.46 , 0.54 ],\n",
       "       [0.946, 0.054],\n",
       "       [0.958, 0.042],\n",
       "       [0.744, 0.256],\n",
       "       [0.932, 0.068],\n",
       "       [0.552, 0.448],\n",
       "       [0.734, 0.266],\n",
       "       [0.954, 0.046],\n",
       "       [0.568, 0.432],\n",
       "       [0.718, 0.282],\n",
       "       [0.764, 0.236],\n",
       "       [0.47 , 0.53 ],\n",
       "       [0.84 , 0.16 ],\n",
       "       [0.93 , 0.07 ],\n",
       "       [0.728, 0.272],\n",
       "       [0.59 , 0.41 ],\n",
       "       [0.48 , 0.52 ],\n",
       "       [0.922, 0.078],\n",
       "       [0.866, 0.134],\n",
       "       [0.736, 0.264],\n",
       "       [0.75 , 0.25 ],\n",
       "       [0.76 , 0.24 ],\n",
       "       [0.868, 0.132],\n",
       "       [0.796, 0.204],\n",
       "       [0.848, 0.152],\n",
       "       [0.226, 0.774],\n",
       "       [0.708, 0.292],\n",
       "       [0.748, 0.252],\n",
       "       [0.476, 0.524],\n",
       "       [0.964, 0.036],\n",
       "       [0.68 , 0.32 ],\n",
       "       [0.514, 0.486],\n",
       "       [0.832, 0.168],\n",
       "       [0.892, 0.108],\n",
       "       [0.516, 0.484],\n",
       "       [0.74 , 0.26 ],\n",
       "       [0.636, 0.364],\n",
       "       [0.706, 0.294],\n",
       "       [0.76 , 0.24 ],\n",
       "       [0.888, 0.112],\n",
       "       [0.812, 0.188],\n",
       "       [0.766, 0.234],\n",
       "       [0.85 , 0.15 ],\n",
       "       [0.544, 0.456],\n",
       "       [0.41 , 0.59 ],\n",
       "       [0.414, 0.586],\n",
       "       [0.918, 0.082],\n",
       "       [0.718, 0.282],\n",
       "       [0.722, 0.278],\n",
       "       [0.836, 0.164],\n",
       "       [0.83 , 0.17 ],\n",
       "       [0.232, 0.768],\n",
       "       [0.962, 0.038],\n",
       "       [0.722, 0.278],\n",
       "       [0.93 , 0.07 ],\n",
       "       [0.404, 0.596],\n",
       "       [0.754, 0.246],\n",
       "       [0.81 , 0.19 ],\n",
       "       [0.748, 0.252],\n",
       "       [0.874, 0.126],\n",
       "       [0.894, 0.106],\n",
       "       [0.892, 0.108],\n",
       "       [0.46 , 0.54 ],\n",
       "       [0.748, 0.252],\n",
       "       [0.506, 0.494],\n",
       "       [0.676, 0.324],\n",
       "       [0.624, 0.376],\n",
       "       [0.7  , 0.3  ],\n",
       "       [0.398, 0.602],\n",
       "       [0.778, 0.222],\n",
       "       [0.728, 0.272],\n",
       "       [0.69 , 0.31 ],\n",
       "       [0.596, 0.404],\n",
       "       [0.604, 0.396],\n",
       "       [0.566, 0.434],\n",
       "       [0.57 , 0.43 ]])"
      ]
     },
     "execution_count": 34,
     "metadata": {},
     "output_type": "execute_result"
    }
   ],
   "source": [
    "t = rf.predict_proba(X_test)\n",
    "t"
   ]
  },
  {
   "cell_type": "code",
   "execution_count": 35,
   "metadata": {},
   "outputs": [
    {
     "data": {
      "text/plain": [
       "array([0.362, 0.536, 0.61 , 0.394, 0.052, 0.432, 0.114, 0.384, 0.18 ,\n",
       "       0.2  , 0.12 , 0.616, 0.124, 0.808, 0.758, 0.328, 0.11 , 0.088,\n",
       "       0.366, 0.33 , 0.214, 0.422, 0.054, 0.01 , 0.046, 0.474, 0.504,\n",
       "       0.408, 0.248, 0.148, 0.268, 0.212, 0.362, 0.312, 0.138, 0.242,\n",
       "       0.516, 0.13 , 0.06 , 0.5  , 0.48 , 0.042, 0.338, 0.07 , 0.126,\n",
       "       0.322, 0.418, 0.336, 0.276, 0.25 , 0.49 , 0.058, 0.456, 0.442,\n",
       "       0.116, 0.278, 0.076, 0.596, 0.57 , 0.182, 0.25 , 0.476, 0.398,\n",
       "       0.054, 0.376, 0.292, 0.106, 0.384, 0.322, 0.166, 0.368, 0.148,\n",
       "       0.166, 0.3  , 0.258, 0.554, 0.488, 0.284, 0.168, 0.524, 0.122,\n",
       "       0.182, 0.062, 0.508, 0.118, 0.364, 0.662, 0.714, 0.126, 0.11 ,\n",
       "       0.328, 0.05 , 0.842, 0.458, 0.068, 0.222, 0.144, 0.55 , 0.702,\n",
       "       0.346, 0.026, 0.33 , 0.19 , 0.034, 0.168, 0.32 , 0.262, 0.432,\n",
       "       0.216, 0.552, 0.634, 0.258, 0.294, 0.124, 0.232, 0.204, 0.348,\n",
       "       0.13 , 0.12 , 0.404, 0.328, 0.458, 0.246, 0.178, 0.344, 0.248,\n",
       "       0.584, 0.116, 0.214, 0.146, 0.264, 0.282, 0.248, 0.16 , 0.372,\n",
       "       0.32 , 0.466, 0.154, 0.272, 0.326, 0.592, 0.376, 0.448, 0.116,\n",
       "       0.28 , 0.566, 0.342, 0.178, 0.52 , 0.628, 0.118, 0.318, 0.118,\n",
       "       0.27 , 0.11 , 0.33 , 0.436, 0.152, 0.322, 0.268, 0.354, 0.14 ,\n",
       "       0.524, 0.706, 0.406, 0.264, 0.106, 0.418, 0.154, 0.348, 0.146,\n",
       "       0.218, 0.25 , 0.314, 0.044, 0.432, 0.374, 0.074, 0.244, 0.528,\n",
       "       0.162, 0.15 , 0.154, 0.1  , 0.182, 0.086, 0.584, 0.126, 0.16 ,\n",
       "       0.076, 0.154, 0.464, 0.574, 0.406, 0.278, 0.11 , 0.63 , 0.546,\n",
       "       0.462, 0.196, 0.728, 0.262, 0.14 , 0.322, 0.262, 0.696, 0.178,\n",
       "       0.466, 0.442, 0.124, 0.256, 0.492, 0.592, 0.346, 0.444, 0.056,\n",
       "       0.172, 0.284, 0.304, 0.334, 0.154, 0.072, 0.206, 0.128, 0.54 ,\n",
       "       0.054, 0.042, 0.256, 0.068, 0.448, 0.266, 0.046, 0.432, 0.282,\n",
       "       0.236, 0.53 , 0.16 , 0.07 , 0.272, 0.41 , 0.52 , 0.078, 0.134,\n",
       "       0.264, 0.25 , 0.24 , 0.132, 0.204, 0.152, 0.774, 0.292, 0.252,\n",
       "       0.524, 0.036, 0.32 , 0.486, 0.168, 0.108, 0.484, 0.26 , 0.364,\n",
       "       0.294, 0.24 , 0.112, 0.188, 0.234, 0.15 , 0.456, 0.59 , 0.586,\n",
       "       0.082, 0.282, 0.278, 0.164, 0.17 , 0.768, 0.038, 0.278, 0.07 ,\n",
       "       0.596, 0.246, 0.19 , 0.252, 0.126, 0.106, 0.108, 0.54 , 0.252,\n",
       "       0.494, 0.324, 0.376, 0.3  , 0.602, 0.222, 0.272, 0.31 , 0.404,\n",
       "       0.396, 0.434, 0.43 ])"
      ]
     },
     "execution_count": 35,
     "metadata": {},
     "output_type": "execute_result"
    }
   ],
   "source": [
    "preds"
   ]
  },
  {
   "cell_type": "code",
   "execution_count": 16,
   "metadata": {},
   "outputs": [],
   "source": [
    "#calculate Confusion Matrix\n",
    "from sklearn.metrics import confusion_matrix\n",
    "from sklearn.metrics import accuracy_score\n",
    "def calculate_confusion_matrix(y_true, y_pred):\n",
    "    \n",
    "    cm=confusion_matrix(y_true, y_pred)\n",
    "    print(cm)"
   ]
  },
  {
   "cell_type": "code",
   "execution_count": 17,
   "metadata": {},
   "outputs": [
    {
     "name": "stdout",
     "output_type": "stream",
     "text": [
      "[[195  14]\n",
      " [ 60  31]]\n",
      "0.7533333333333333\n"
     ]
    }
   ],
   "source": [
    "calculate_confusion_matrix(y_test, y_pred)\n",
    "print(accuracy_score(y_test, y_pred))"
   ]
  },
  {
   "cell_type": "code",
   "execution_count": 40,
   "metadata": {},
   "outputs": [
    {
     "data": {
      "text/plain": [
       "range(0, 15)"
      ]
     },
     "execution_count": 40,
     "metadata": {},
     "output_type": "execute_result"
    }
   ],
   "source": [
    "range(len(indices))"
   ]
  },
  {
   "cell_type": "code",
   "execution_count": 18,
   "metadata": {},
   "outputs": [
    {
     "data": {
      "image/png": "[encoded data removed]",
      "text/plain": [
       "<Figure size 720x720 with 1 Axes>"
      ]
     },
     "metadata": {
      "needs_background": "light"
     },
     "output_type": "display_data"
    }
   ],
   "source": [
    "# View a list of the features and their importance scores\n",
    "importances = rf.feature_importances_\n",
    "indices = np.argsort(importances)[::-1][:15]\n",
    "a = dff.columns[:]\n",
    "features= a.drop('default',1)\n",
    "#plot it\n",
    "plt.figure(figsize=(10,10))\n",
    "plt.title('Feature Importances')\n",
    "plt.barh(range(len(indices)), importances[indices], color='b', align='center')\n",
    "plt.yticks(range(len(indices)), features[indices])\n",
    "plt.xlabel('Relative Importance')\n",
    "plt.show()"
   ]
  },
  {
   "cell_type": "code",
   "execution_count": 36,
   "metadata": {},
   "outputs": [
    {
     "data": {
      "text/plain": [
       "array([0.08451323, 0.11154502, 0.04117958, 0.04065404, 0.09233554,\n",
       "       0.02255976, 0.01200276, 0.03184956, 0.00973999, 0.05205309,\n",
       "       0.02834304, 0.01130516, 0.01664265, 0.01322806, 0.01285038,\n",
       "       0.02161696, 0.01065334, 0.017483  , 0.00474981, 0.00305326,\n",
       "       0.01435529, 0.00281282, 0.00151516, 0.02033545, 0.01058971,\n",
       "       0.00802666, 0.01419431, 0.01603912, 0.01790855, 0.01422211,\n",
       "       0.0121048 , 0.00695238, 0.0100211 , 0.02005598, 0.00851219,\n",
       "       0.01178082, 0.01934654, 0.0183493 , 0.01580094, 0.02158753,\n",
       "       0.00596934, 0.01778105, 0.01210685, 0.01818631, 0.0030449 ,\n",
       "       0.01363114, 0.02095786, 0.00545355])"
      ]
     },
     "execution_count": 36,
     "metadata": {},
     "output_type": "execute_result"
    }
   ],
   "source": [
    "importances"
   ]
  },
  {
   "cell_type": "code",
   "execution_count": 19,
   "metadata": {},
   "outputs": [],
   "source": [
    "trainResult = rf.score(X_train, y_train)\n",
    "testResult = rf.score(X_test, y_test)"
   ]
  },
  {
   "cell_type": "code",
   "execution_count": 20,
   "metadata": {},
   "outputs": [
    {
     "data": {
      "text/plain": [
       "100.0"
      ]
     },
     "execution_count": 20,
     "metadata": {},
     "output_type": "execute_result"
    }
   ],
   "source": [
    "\"Train Accuracy:\"\n",
    "(trainResult*100.0)"
   ]
  },
  {
   "cell_type": "code",
   "execution_count": 21,
   "metadata": {},
   "outputs": [
    {
     "data": {
      "text/plain": [
       "75.33333333333333"
      ]
     },
     "execution_count": 21,
     "metadata": {},
     "output_type": "execute_result"
    }
   ],
   "source": [
    "\"Test Accuracy:\"\n",
    "(testResult*100.0)"
   ]
  },
  {
   "cell_type": "markdown",
   "metadata": {},
   "source": [
    "# K-fold cross-validation\n",
    "\n",
    "k-fold cross validation( without stratification)\n",
    "\n",
    "Usually k is set as 10-20 in practical settings, depends on data set size"
   ]
  },
  {
   "cell_type": "code",
   "execution_count": 22,
   "metadata": {},
   "outputs": [],
   "source": [
    "from sklearn.model_selection import KFold\n",
    "from sklearn.model_selection import cross_val_score"
   ]
  },
  {
   "cell_type": "code",
   "execution_count": 23,
   "metadata": {},
   "outputs": [],
   "source": [
    "num_folds = 10\n",
    "seed = 77"
   ]
  },
  {
   "cell_type": "code",
   "execution_count": 24,
   "metadata": {},
   "outputs": [],
   "source": [
    "kfold = KFold(n_splits=num_folds, random_state=seed)"
   ]
  },
  {
   "cell_type": "code",
   "execution_count": 25,
   "metadata": {},
   "outputs": [
    {
     "data": {
      "text/plain": [
       "array([0.87, 0.67, 0.79, 0.81, 0.81, 0.68, 0.75, 0.78, 0.75, 0.76])"
      ]
     },
     "execution_count": 25,
     "metadata": {},
     "output_type": "execute_result"
    }
   ],
   "source": [
    "results = cross_val_score(rfm,X, y, cv=kfold)\n",
    "results"
   ]
  },
  {
   "cell_type": "code",
   "execution_count": 26,
   "metadata": {},
   "outputs": [],
   "source": [
    "from sklearn.model_selection import KFold\n",
    "from sklearn.model_selection import cross_val_score"
   ]
  },
  {
   "cell_type": "code",
   "execution_count": 27,
   "metadata": {},
   "outputs": [],
   "source": [
    "num_folds = 10\n",
    "seed = 77"
   ]
  },
  {
   "cell_type": "code",
   "execution_count": 28,
   "metadata": {},
   "outputs": [],
   "source": [
    "kfold = KFold(n_splits=num_folds, random_state=seed)"
   ]
  },
  {
   "cell_type": "code",
   "execution_count": 29,
   "metadata": {},
   "outputs": [
    {
     "data": {
      "text/plain": [
       "array([0.87, 0.67, 0.79, 0.81, 0.81, 0.68, 0.75, 0.78, 0.75, 0.76])"
      ]
     },
     "execution_count": 29,
     "metadata": {},
     "output_type": "execute_result"
    }
   ],
   "source": [
    "results = cross_val_score(rfm,X, y, cv=kfold)\n",
    "results"
   ]
  },
  {
   "cell_type": "code",
   "execution_count": 30,
   "metadata": {},
   "outputs": [
    {
     "data": {
      "text/plain": [
       "0.767"
      ]
     },
     "execution_count": 30,
     "metadata": {},
     "output_type": "execute_result"
    }
   ],
   "source": [
    "np.mean(abs(results))"
   ]
  },
  {
   "cell_type": "code",
   "execution_count": 31,
   "metadata": {},
   "outputs": [
    {
     "data": {
      "text/plain": [
       "0.057105166141076934"
      ]
     },
     "execution_count": 31,
     "metadata": {},
     "output_type": "execute_result"
    }
   ],
   "source": [
    "results.std()"
   ]
  },
  {
   "cell_type": "markdown",
   "metadata": {},
   "source": [
    "Leave One Out Cross-Validation"
   ]
  },
  {
   "cell_type": "code",
   "execution_count": 32,
   "metadata": {},
   "outputs": [],
   "source": [
    "from sklearn.model_selection import LeaveOneOut\n",
    "from sklearn.model_selection import cross_val_score"
   ]
  },
  {
   "cell_type": "code",
   "execution_count": 41,
   "metadata": {},
   "outputs": [
    {
     "data": {
      "text/plain": [
       "array([1., 1., 1., 1., 1., 0., 1., 1., 1., 1., 0., 1., 1., 1., 1., 1., 0.,\n",
       "       1., 1., 0., 0., 0., 0., 1., 1., 1., 1., 0., 1., 1., 1., 1., 0., 1.,\n",
       "       1., 1., 0., 1., 1., 1., 1., 1., 0., 0., 1., 1., 0., 1., 1., 1., 0.,\n",
       "       0., 1., 1., 1., 1., 1., 0., 1., 1., 1., 0., 1., 1., 1., 1., 1., 1.,\n",
       "       1., 1., 0., 1., 1., 1., 1., 1., 1., 1., 1., 1., 1., 1., 1., 1., 1.,\n",
       "       1., 1., 1., 1., 1., 1., 1., 1., 1., 0., 0., 0., 1., 0., 1., 1., 1.,\n",
       "       1., 0., 1., 1., 1., 0., 1., 0., 1., 1., 1., 1., 1., 1., 1., 1., 0.,\n",
       "       1., 1., 1., 1., 1., 1., 1., 1., 1., 1., 0., 0., 0., 1., 1., 0., 0.,\n",
       "       0., 1., 1., 0., 1., 1., 1., 0., 0., 1., 0., 1., 1., 1., 0., 1., 1.,\n",
       "       1., 1., 1., 0., 1., 1., 0., 0., 0., 0., 1., 1., 1., 1., 0., 1., 0.,\n",
       "       0., 0., 1., 0., 1., 0., 1., 1., 1., 1., 0., 1., 1., 1., 1., 1., 1.,\n",
       "       1., 1., 1., 0., 0., 1., 1., 1., 1., 0., 0., 1., 1., 1., 1., 0., 0.,\n",
       "       1., 1., 1., 1., 1., 1., 0., 1., 0., 0., 1., 1., 1., 1., 0., 1., 1.,\n",
       "       1., 0., 1., 1., 1., 1., 0., 1., 1., 0., 0., 0., 1., 1., 1., 1., 1.,\n",
       "       1., 1., 0., 1., 0., 1., 1., 1., 1., 0., 1., 1., 0., 1., 1., 1., 1.,\n",
       "       1., 1., 0., 1., 0., 0., 1., 0., 1., 1., 0., 1., 0., 1., 0., 1., 0.,\n",
       "       1., 1., 1., 1., 1., 0., 1., 1., 0., 1., 0., 0., 1., 1., 1., 1., 1.,\n",
       "       0., 1., 1., 1., 0., 0., 1., 1., 1., 1., 1., 0., 0., 1., 1., 1., 1.,\n",
       "       0., 1., 1., 1., 0., 0., 0., 1., 1., 1., 1., 0., 1., 1., 1., 1., 1.,\n",
       "       1., 1., 1., 1., 1., 1., 1., 0., 1., 1., 1., 1., 1., 1., 0., 1., 1.,\n",
       "       0., 0., 0., 1., 1., 1., 1., 0., 1., 1., 1., 1., 0., 0., 1., 1., 1.,\n",
       "       1., 1., 1., 0., 1., 0., 1., 1., 1., 1., 1., 1., 0., 1., 1., 0., 1.,\n",
       "       1., 1., 1., 1., 0., 1., 1., 1., 1., 1., 1., 1., 1., 0., 1., 1., 1.,\n",
       "       1., 1., 1., 1., 1., 1., 1., 1., 1., 1., 1., 1., 1., 1., 1., 1., 1.,\n",
       "       0., 0., 1., 1., 1., 1., 1., 0., 1., 1., 1., 0., 1., 0., 1., 1., 1.,\n",
       "       1., 1., 1., 1., 1., 1., 1., 1., 1., 1., 1., 1., 0., 1., 0., 1., 1.,\n",
       "       1., 1., 1., 1., 1., 1., 1., 0., 0., 1., 1., 1., 0., 1., 1., 0., 1.,\n",
       "       0., 1., 1., 1., 0., 0., 1., 1., 0., 0., 1., 1., 1., 1., 0., 1., 1.,\n",
       "       1., 1., 1., 1., 0., 1., 1., 1., 1., 1., 0., 1., 0., 1., 0., 1., 1.,\n",
       "       1., 1., 1., 1., 1., 0., 0., 0., 1., 1., 1., 1., 1., 1., 1., 1., 0.,\n",
       "       0., 1., 1., 1., 1., 1., 1., 1., 1., 0., 1., 1., 1., 1., 1., 1., 1.,\n",
       "       1., 0., 1., 1., 0., 1., 0., 1., 1., 0., 0., 0., 1., 1., 1., 1., 1.,\n",
       "       1., 0., 0., 1., 1., 1., 1., 1., 1., 1., 1., 1., 1., 0., 1., 1., 1.,\n",
       "       1., 1., 0., 1., 1., 1., 1., 1., 0., 0., 1., 1., 1., 1., 1., 1., 0.,\n",
       "       0., 1., 1., 1., 1., 1., 0., 0., 1., 1., 1., 1., 1., 1., 0., 1., 0.,\n",
       "       1., 1., 0., 1., 1., 0., 0., 1., 0., 1., 0., 1., 1., 1., 1., 1., 1.,\n",
       "       0., 1., 1., 0., 1., 1., 0., 0., 1., 1., 1., 1., 1., 0., 1., 1., 0.,\n",
       "       1., 1., 1., 1., 1., 0., 1., 1., 1., 0., 1., 1., 1., 1., 0., 1., 0.,\n",
       "       1., 1., 1., 0., 1., 1., 1., 1., 1., 1., 0., 1., 1., 0., 0., 0., 1.,\n",
       "       0., 0., 1., 0., 1., 1., 1., 1., 1., 1., 1., 1., 1., 1., 1., 0., 1.,\n",
       "       0., 1., 1., 1., 1., 1., 0., 1., 1., 1., 1., 0., 1., 0., 1., 0., 1.,\n",
       "       1., 0., 1.])"
      ]
     },
     "execution_count": 41,
     "metadata": {},
     "output_type": "execute_result"
    }
   ],
   "source": [
    "# You Will do it on X_train, y_train to save time. It will take too much time, hence not recommended for bigger data\n",
    "scores = cross_val_score(rfm, X_train, y_train, cv=LeaveOneOut())\n",
    "scores"
   ]
  },
  {
   "cell_type": "markdown",
   "metadata": {},
   "source": [
    "Because we have 350 samples, the leave one out cross-validation yields scores for 350 trials, and the score indicates either \n",
    "defaulter (1.0) or non-defaulter (0.0) prediction. Taking the mean of these gives an estimate of the error rate:"
   ]
  },
  {
   "cell_type": "code",
   "execution_count": null,
   "metadata": {},
   "outputs": [],
   "source": [
    "scores.mean()"
   ]
  },
  {
   "cell_type": "code",
   "execution_count": null,
   "metadata": {},
   "outputs": [],
   "source": [
    "scores.std()"
   ]
  },
  {
   "cell_type": "markdown",
   "metadata": {},
   "source": [
    "# Stratified cross-validation( Bonus)"
   ]
  },
  {
   "cell_type": "markdown",
   "metadata": {},
   "source": [
    "k-fold cross validation with stratification"
   ]
  },
  {
   "cell_type": "code",
   "execution_count": null,
   "metadata": {},
   "outputs": [],
   "source": [
    "k = 10\n",
    "from sklearn.model_selection  import StratifiedKFold, cross_val_score\n",
    "stratified_kfold = StratifiedKFold(n_splits = k, random_state = 55)\n",
    "results = cross_val_score(rfm, X, y, cv = stratified_kfold)"
   ]
  },
  {
   "cell_type": "code",
   "execution_count": null,
   "metadata": {},
   "outputs": [],
   "source": [
    "print('Accuracy Score')\n",
    "print('Avearge: ', results.mean())\n",
    "print('Standard deviation: ', results.std())"
   ]
  },
  {
   "cell_type": "markdown",
   "metadata": {},
   "source": [
    "# Bootstrapping ( Bonus)"
   ]
  },
  {
   "cell_type": "markdown",
   "metadata": {},
   "source": [
    "Given a dataset of size n, a bootstrap sample is created by sampling n instances uniformly from the data \n",
    "(with/without replacement)\n",
    "\n",
    "Create a model with each bootstrap sample and validate it with the test set\n",
    "\n",
    "Final result is calculated by averaging the accuracy of models"
   ]
  },
  {
   "cell_type": "code",
   "execution_count": 42,
   "metadata": {},
   "outputs": [],
   "source": [
    "# Number of iterations for bootstrapping\n",
    "bootstrap_iteration = 10\n",
    "accuracy = []"
   ]
  },
  {
   "cell_type": "code",
   "execution_count": 43,
   "metadata": {},
   "outputs": [],
   "source": [
    "from sklearn.utils import resample\n",
    "from sklearn.metrics import accuracy_score\n",
    "\n",
    "for i in range(bootstrap_iteration):\n",
    "    X_, y_ = resample(X_train, y_train)\n",
    "    rfm.fit(X_, y_)\n",
    "    y_pred = rfm.predict(X_test)\n",
    "    \n",
    "    acc = accuracy_score(y_pred, y_test)\n",
    "    accuracy.append(acc)"
   ]
  },
  {
   "cell_type": "code",
   "execution_count": null,
   "metadata": {},
   "outputs": [],
   "source": [
    "accuracy = np.array(accuracy)\n",
    "print('Accuracy Score')\n",
    "print('Avearge: ', accuracy.mean())\n",
    "print('Standard deviation: ', accuracy.std())"
   ]
  },
  {
   "cell_type": "markdown",
   "metadata": {},
   "source": [
    "Inference:\n",
    "\n",
    "Here crossfold validation with stratification gives better result than Bootstrapping."
   ]
  }
 ],
 "metadata": {
  "kernelspec": {
   "display_name": "Python 3",
   "language": "python",
   "name": "python3"
  },
  "language_info": {
   "codemirror_mode": {
    "name": "ipython",
    "version": 3
   },
   "file_extension": ".py",
   "mimetype": "text/x-python",
   "name": "python",
   "nbconvert_exporter": "python",
   "pygments_lexer": "ipython3",
   "version": "3.7.4"
  }
 },
 "nbformat": 4,
 "nbformat_minor": 2
}
