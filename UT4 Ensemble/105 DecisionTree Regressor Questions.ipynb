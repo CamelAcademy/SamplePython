{
  "nbformat": 4,
  "nbformat_minor": 0,
  "metadata": {
    "kernelspec": {
      "display_name": "Python 3",
      "language": "python",
      "name": "python3"
    },
    "language_info": {
      "codemirror_mode": {
        "name": "ipython",
        "version": 3
      },
      "file_extension": ".py",
      "mimetype": "text/x-python",
      "name": "python",
      "nbconvert_exporter": "python",
      "pygments_lexer": "ipython3",
      "version": "3.7.4"
    },
    "colab": {
      "name": "DecisionTreeRegressor_Questions.ipynb",
      "provenance": [],
      "collapsed_sections": []
    }
  },
  "cells": [
    {
      "cell_type": "markdown",
      "metadata": {
        "id": "-TicGJ6rGhVT",
        "colab_type": "text"
      },
      "source": [
        "# Case Study: Decision Tree Regressor \n",
        "- To predict the Pay Rate of Employees."
      ]
    },
    {
      "cell_type": "markdown",
      "metadata": {
        "id": "FSiQDyviGtE-",
        "colab_type": "text"
      },
      "source": [
        "# 1. Import Libraries and load dataset"
      ]
    },
    {
      "cell_type": "code",
      "metadata": {
        "id": "5lkZxNXgGu3s",
        "colab_type": "code",
        "colab": {}
      },
      "source": [
        "# code here"
      ],
      "execution_count": 2,
      "outputs": []
    },
    {
      "cell_type": "markdown",
      "metadata": {
        "id": "Fnm_PvkbGzzF",
        "colab_type": "text"
      },
      "source": [
        "# 2. Print 10 samples from the dataset"
      ]
    },
    {
      "cell_type": "code",
      "metadata": {
        "id": "CM5_QuOaG3LT",
        "colab_type": "code",
        "colab": {}
      },
      "source": [
        "# code here"
      ],
      "execution_count": 3,
      "outputs": []
    },
    {
      "cell_type": "markdown",
      "metadata": {
        "id": "e-7jNOxTGhVi",
        "colab_type": "text"
      },
      "source": [
        "# 3. Data Description, Shape of data, name of columns, check for null values, check the number of values corresponding to genders."
      ]
    },
    {
      "cell_type": "code",
      "metadata": {
        "id": "_VrybXxMHJcL",
        "colab_type": "code",
        "colab": {}
      },
      "source": [
        "# code here"
      ],
      "execution_count": 4,
      "outputs": []
    },
    {
      "cell_type": "markdown",
      "metadata": {
        "id": "bhStpalPHd69",
        "colab_type": "text"
      },
      "source": [
        "# 4. Visualization using matplotlib and Seaborn"
      ]
    },
    {
      "cell_type": "code",
      "metadata": {
        "id": "SKWM122aH-_9",
        "colab_type": "code",
        "colab": {}
      },
      "source": [
        "# code here"
      ],
      "execution_count": 5,
      "outputs": []
    },
    {
      "cell_type": "markdown",
      "metadata": {
        "id": "7i2H0Ib2GhW3",
        "colab_type": "text"
      },
      "source": [
        "# 5. Which department pays more?"
      ]
    },
    {
      "cell_type": "code",
      "metadata": {
        "id": "VvT2rpAUIA77",
        "colab_type": "code",
        "colab": {}
      },
      "source": [
        "# code here"
      ],
      "execution_count": 6,
      "outputs": []
    },
    {
      "cell_type": "markdown",
      "metadata": {
        "id": "6vCrPdu3IDA8",
        "colab_type": "text"
      },
      "source": [
        "# 6. Which position is having the highest pay?"
      ]
    },
    {
      "cell_type": "code",
      "metadata": {
        "id": "h2FQRMraIMZU",
        "colab_type": "code",
        "colab": {}
      },
      "source": [
        "# code here"
      ],
      "execution_count": 7,
      "outputs": []
    },
    {
      "cell_type": "markdown",
      "metadata": {
        "id": "N7OpabxEIbe7",
        "colab_type": "text"
      },
      "source": [
        "# 7. Drop the columns which are not relevant for model building."
      ]
    },
    {
      "cell_type": "code",
      "metadata": {
        "id": "0T586VOiIrNV",
        "colab_type": "code",
        "colab": {}
      },
      "source": [
        "# code here"
      ],
      "execution_count": 8,
      "outputs": []
    },
    {
      "cell_type": "markdown",
      "metadata": {
        "id": "z7uDzTklIsVt",
        "colab_type": "text"
      },
      "source": [
        "# 8. Conversion of categorical values:"
      ]
    },
    {
      "cell_type": "code",
      "metadata": {
        "id": "SC6E1-HvI7Nk",
        "colab_type": "code",
        "colab": {}
      },
      "source": [
        "# code here"
      ],
      "execution_count": 9,
      "outputs": []
    },
    {
      "cell_type": "markdown",
      "metadata": {
        "id": "qx7tvtmOI6wS",
        "colab_type": "text"
      },
      "source": [
        "# 9. Split the dataset in training and testing set in the ratio 75:25"
      ]
    },
    {
      "cell_type": "code",
      "metadata": {
        "id": "nRBm1zq8JFVT",
        "colab_type": "code",
        "colab": {}
      },
      "source": [
        "# code here"
      ],
      "execution_count": 10,
      "outputs": []
    },
    {
      "cell_type": "markdown",
      "metadata": {
        "id": "kLJPIbILJKaL",
        "colab_type": "text"
      },
      "source": [
        "# 10. Use Decision Tree Regressor from sklearn library to train model."
      ]
    },
    {
      "cell_type": "code",
      "metadata": {
        "id": "MuS3xuYwJI3j",
        "colab_type": "code",
        "colab": {}
      },
      "source": [
        "# code here"
      ],
      "execution_count": 11,
      "outputs": []
    },
    {
      "cell_type": "markdown",
      "metadata": {
        "id": "MlIYIFRxJUQE",
        "colab_type": "text"
      },
      "source": [
        "# 11. Evaluate the model and use suitable metric to see how good the model is."
      ]
    },
    {
      "cell_type": "code",
      "metadata": {
        "id": "ZwPL_GFiJeDS",
        "colab_type": "code",
        "colab": {}
      },
      "source": [
        "# code here"
      ],
      "execution_count": 12,
      "outputs": []
    },
    {
      "cell_type": "markdown",
      "metadata": {
        "id": "DrgRuBMzJjSF",
        "colab_type": "text"
      },
      "source": [
        "# 12. Plot the Ground Truth vs the Predicted values."
      ]
    },
    {
      "cell_type": "code",
      "metadata": {
        "id": "d2E062idJtU7",
        "colab_type": "code",
        "colab": {}
      },
      "source": [
        "# code here"
      ],
      "execution_count": 13,
      "outputs": []
    },
    {
      "cell_type": "markdown",
      "metadata": {
        "id": "EIt8GLO8JuyK",
        "colab_type": "text"
      },
      "source": [
        "# 13. Write conclusion"
      ]
    },
    {
      "cell_type": "code",
      "metadata": {
        "id": "hyI3SyHVJ1Pc",
        "colab_type": "code",
        "colab": {}
      },
      "source": [
        "# write here"
      ],
      "execution_count": 14,
      "outputs": []
    }
  ]
}