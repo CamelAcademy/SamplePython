{
 "cells": [
  {
   "cell_type": "markdown",
   "metadata": {},
   "source": [
    "Types of python to run\n",
    "\n",
    "1. Immediate mode - cmd- python\n",
    "2. Script mode - python file.py\n",
    "3. IDE - Integrated Developement environment- spyder, pycharm, jupyter notebook"
   ]
  },
  {
   "cell_type": "code",
   "execution_count": 1,
   "metadata": {},
   "outputs": [
    {
     "data": {
      "text/plain": [
       "' Multiple line \\n\\ncomment '"
      ]
     },
     "execution_count": 1,
     "metadata": {},
     "output_type": "execute_result"
    }
   ],
   "source": [
    "#single line Comment\n",
    "\n",
    "\"\"\" Multiple line \n",
    "\n",
    "comment \"\"\"\n",
    "#print(\"Hi\")\n"
   ]
  },
  {
   "cell_type": "code",
   "execution_count": 11,
   "metadata": {},
   "outputs": [
    {
     "ename": "SyntaxError",
     "evalue": "invalid syntax (<ipython-input-11-add8f96670bc>, line 19)",
     "output_type": "error",
     "traceback": [
      "\u001b[0;36m  File \u001b[0;32m\"<ipython-input-11-add8f96670bc>\"\u001b[0;36m, line \u001b[0;32m19\u001b[0m\n\u001b[0;31m    a$ = 7\u001b[0m\n\u001b[0m     ^\u001b[0m\n\u001b[0;31mSyntaxError\u001b[0m\u001b[0;31m:\u001b[0m invalid syntax\n"
     ]
    }
   ],
   "source": [
    "#Keywords\n",
    "\n",
    "#break = 2\n",
    "\n",
    "#Identifiers\n",
    "\n",
    "#Identifier is a name given to entities like class, functions, variables\n",
    "a = 4\n",
    "\n",
    "a1 = 34\n",
    "\n",
    "# 1. can be in alphabet with range of a to z\n",
    "# 2. can be in range of A to Z\n",
    "# 3. should not start with digits\n",
    "# 4. should not be keywords\n",
    "# 5. cannot use special symbols !,@,#,$,%\n",
    "#global = 5 \n",
    "\n",
    "#a$ = 7"
   ]
  },
  {
   "cell_type": "code",
   "execution_count": 2,
   "metadata": {},
   "outputs": [
    {
     "name": "stdout",
     "output_type": "stream",
     "text": [
      "23\n",
      "30\n",
      "54 43 42\n",
      "2 4.2 Hello\n",
      "same data same data same data\n"
     ]
    }
   ],
   "source": [
    "#Statements\n",
    "\n",
    "a = 1 #assigngment statement\n",
    "\n",
    "\n",
    "#Multiple Statement\n",
    "a = 1 + 2 +3 + 4 + \\\n",
    "    2 + 4 +\\\n",
    "    3 + 4\n",
    "    \n",
    "print(a)\n",
    "\n",
    "a = (2 + 5 + 3 + 3 +\n",
    "     2 + 5 + 6\n",
    "     + 4)\n",
    "print(a)\n",
    "\n",
    "\n",
    "#Multiple Assigngment statement\n",
    "a = 54; b = 43; c = 42;\n",
    "\n",
    "print(a,b,c)\n",
    "\n",
    "a, b, c = 2,4.2,\"Hello\"\n",
    "\n",
    "print(a,b,c)\n",
    "\n",
    "a =b = c= \"same data\"\n",
    "\n",
    "print(a,b,c)\n",
    "\n"
   ]
  },
  {
   "cell_type": "code",
   "execution_count": 6,
   "metadata": {},
   "outputs": [
    {
     "data": {
      "text/plain": [
       "float"
      ]
     },
     "execution_count": 6,
     "metadata": {},
     "output_type": "execute_result"
    }
   ],
   "source": [
    "a,b,c=2,3.4,\"ds\"\n",
    "\n",
    "c = 4.5\n",
    "type(c)\n"
   ]
  },
  {
   "cell_type": "code",
   "execution_count": 1,
   "metadata": {},
   "outputs": [
    {
     "name": "stdout",
     "output_type": "stream",
     "text": [
      "5\n",
      "6\n"
     ]
    }
   ],
   "source": [
    "# Case sensitive language\n",
    "\n",
    "data = 5\n",
    "Data = 6\n",
    "\n",
    "print(data)\n",
    "print(Data)\n",
    "\n",
    "\n"
   ]
  },
  {
   "cell_type": "code",
   "execution_count": 2,
   "metadata": {},
   "outputs": [
    {
     "name": "stdout",
     "output_type": "stream",
     "text": [
      "1\n",
      "inside for\n",
      "2\n",
      "inside for\n",
      "3\n",
      "inside for\n",
      "4\n",
      "inside for\n",
      "out of for\n"
     ]
    }
   ],
   "source": [
    "for a in range(1,5):\n",
    "    print(a)\n",
    "    print(\"inside for\")\n",
    "    if(a==4):\n",
    "        break\n",
    "    \n",
    "print(\"out of for\")    "
   ]
  },
  {
   "cell_type": "code",
   "execution_count": 36,
   "metadata": {},
   "outputs": [
    {
     "name": "stdout",
     "output_type": "stream",
     "text": [
      "1\n",
      "Inside for loop\n",
      "2\n",
      "Inside for loop\n",
      "3\n",
      "Inside for loop\n",
      "4\n",
      "Inside for loop\n",
      "5\n",
      "Inside if loop\n",
      "Hi\n",
      "Hello\n",
      "34\n"
     ]
    }
   ],
   "source": [
    "#Indentation\n",
    "\n",
    "\n",
    "for i in range(1,11):\n",
    "    print(i)\n",
    "    if(i==5):\n",
    "        print(\"Inside if loop\")\n",
    "        break     \n",
    "    print(\"Inside for loop\")    \n",
    "    \n",
    "if True:\n",
    "    print(\"Hi\")\n",
    "        \n",
    "\n",
    "if True: print(\"Hello\"); a =34; print(a)\n",
    "    \n",
    "        \n",
    "        "
   ]
  },
  {
   "cell_type": "code",
   "execution_count": 48,
   "metadata": {},
   "outputs": [
    {
     "name": "stdout",
     "output_type": "stream",
     "text": [
      "('a is of type', <type 'int'>)\n",
      "('a is of type', <type 'float'>)\n",
      "('a is of type', <type 'str'>)\n",
      "('a is of type', <type 'complex'>)\n"
     ]
    },
    {
     "data": {
      "text/plain": [
       "True"
      ]
     },
     "execution_count": 48,
     "metadata": {},
     "output_type": "execute_result"
    }
   ],
   "source": [
    "a = 5\n",
    "print(\"a is of type\", type(a))\n",
    "\n",
    "a = 4.35\n",
    "print(\"a is of type\", type(a))\n",
    "\n",
    "a = \"Hello\"\n",
    "print(\"a is of type\", type(a))\n",
    "\n",
    "a = 1+2j\n",
    "print(\"a is of type\", type(a))\n",
    "\n",
    "isinstance(\"dcfsd\",str)\n"
   ]
  },
  {
   "cell_type": "code",
   "execution_count": 4,
   "metadata": {},
   "outputs": [
    {
     "name": "stdout",
     "output_type": "stream",
     "text": [
      "[1, 2, 2.1, 'Hello', (1+2j)]\n",
      "Hello\n",
      "a[2] is :  2.1\n",
      "a[2] is :  5.1\n",
      "My list is:  [1, 2, 5.1, 'Hello', (1+2j)]\n"
     ]
    }
   ],
   "source": [
    "#list\n",
    "#List are mutable, that is value of elements of list can be altered\n",
    "#The index starts from 0\n",
    "\n",
    "\n",
    "a = [1,2,2.1,\"Hello\",1+2j]\n",
    "print(a)\n",
    "\n",
    "print(a[3])\n",
    "\n",
    "print (\"a[2] is : \",a[2])\n",
    "a[2] = 5.1\n",
    "print (\"a[2] is : \",a[2])\n",
    "\n",
    "print (\"My list is: \",a)"
   ]
  },
  {
   "cell_type": "code",
   "execution_count": 5,
   "metadata": {},
   "outputs": [
    {
     "name": "stdout",
     "output_type": "stream",
     "text": [
      "Tuple a:  (5, 'Hello', 23.2, (1+2j))\n",
      "a[2] :  23.2\n"
     ]
    },
    {
     "ename": "TypeError",
     "evalue": "'tuple' object does not support item assignment",
     "output_type": "error",
     "traceback": [
      "\u001b[0;31m---------------------------------------------------------------------------\u001b[0m",
      "\u001b[0;31mTypeError\u001b[0m                                 Traceback (most recent call last)",
      "\u001b[0;32m<ipython-input-5-a4c77edecb1c>\u001b[0m in \u001b[0;36m<module>\u001b[0;34m()\u001b[0m\n\u001b[1;32m      9\u001b[0m \u001b[0mprint\u001b[0m \u001b[0;34m(\u001b[0m\u001b[0;34m\"a[2] : \"\u001b[0m\u001b[0;34m,\u001b[0m\u001b[0ma\u001b[0m\u001b[0;34m[\u001b[0m\u001b[0;36m2\u001b[0m\u001b[0;34m]\u001b[0m\u001b[0;34m)\u001b[0m\u001b[0;34m\u001b[0m\u001b[0m\n\u001b[1;32m     10\u001b[0m \u001b[0;34m\u001b[0m\u001b[0m\n\u001b[0;32m---> 11\u001b[0;31m \u001b[0ma\u001b[0m\u001b[0;34m[\u001b[0m\u001b[0;36m2\u001b[0m\u001b[0;34m]\u001b[0m \u001b[0;34m=\u001b[0m \u001b[0;36m3.3\u001b[0m\u001b[0;34m\u001b[0m\u001b[0m\n\u001b[0m\u001b[1;32m     12\u001b[0m \u001b[0;34m\u001b[0m\u001b[0m\n\u001b[1;32m     13\u001b[0m \u001b[0;31m#a[4] = 23\u001b[0m\u001b[0;34m\u001b[0m\u001b[0;34m\u001b[0m\u001b[0m\n",
      "\u001b[0;31mTypeError\u001b[0m: 'tuple' object does not support item assignment"
     ]
    }
   ],
   "source": [
    "#Tuples\n",
    "#Tuples are immutable, that is value of elements of tuples cannot be altered\n",
    "\n",
    "\n",
    "a = (5,\"Hello\", 23.2, 1+2j)\n",
    "\n",
    "print (\"Tuple a: \",a)\n",
    "\n",
    "print (\"a[2] : \",a[2])\n",
    "\n",
    "a[2] = 3.3\n",
    "\n",
    "#a[4] = 23"
   ]
  },
  {
   "cell_type": "code",
   "execution_count": 6,
   "metadata": {},
   "outputs": [
    {
     "name": "stdout",
     "output_type": "stream",
     "text": [
      "{1, 2, 3, 6, 8, 123, 124}\n"
     ]
    },
    {
     "data": {
      "text/plain": [
       "1"
      ]
     },
     "execution_count": 6,
     "metadata": {},
     "output_type": "execute_result"
    }
   ],
   "source": [
    "#Set\n",
    "\n",
    "#set is unordered collection of unique items\n",
    "\n",
    "#Indexing has no meaning, Hence slicing operator[] has no work\n",
    "\n",
    "a = {1,1,1,1,1,1,1,2,6,8,6,3,123,124}\n",
    "print (a)\n",
    "\n",
    "type(a)\n",
    "\n",
    "a.pop()"
   ]
  },
  {
   "cell_type": "code",
   "execution_count": 7,
   "metadata": {},
   "outputs": [
    {
     "name": "stdout",
     "output_type": "stream",
     "text": [
      "<class 'dict'>\n",
      "2\n",
      "3\n",
      "{1: 'value', 'key': 2, 2: 4}\n"
     ]
    }
   ],
   "source": [
    "#Dictionary\n",
    "\n",
    "#Dictionary is an unordered collection of key-value pair\n",
    "\n",
    "#Dictionary is mutable\n",
    "\n",
    "dictionary = {1:\"value\", 'key':2,2:3}\n",
    "\n",
    "print(type(dictionary))\n",
    "\n",
    "print (dictionary['key'])\n",
    "\n",
    "print (dictionary[2])\n",
    "\n",
    "dictionary[2] = 4\n",
    "\n",
    "print (dictionary)"
   ]
  },
  {
   "cell_type": "code",
   "execution_count": 8,
   "metadata": {},
   "outputs": [
    {
     "name": "stdout",
     "output_type": "stream",
     "text": [
      "The type of num before conversion :  <class 'float'>\n",
      "5\n",
      "The type of num after conversion :  <class 'int'>\n"
     ]
    }
   ],
   "source": [
    "#Conversion of data types\n",
    "\n",
    "num  = 5.5\n",
    "\n",
    "print ('The type of num before conversion : ',type(num))\n",
    "\n",
    "#Conversion\n",
    "num = int(num)\n",
    "\n",
    "print(num)\n",
    "\n",
    "print ('The type of num after conversion : ',type(num))"
   ]
  },
  {
   "cell_type": "code",
   "execution_count": 9,
   "metadata": {},
   "outputs": [
    {
     "name": "stdout",
     "output_type": "stream",
     "text": [
      "The type of a before conversion :  <class 'list'>\n",
      "The type of a after conversion :  <class 'tuple'>\n"
     ]
    },
    {
     "ename": "TypeError",
     "evalue": "'tuple' object does not support item assignment",
     "output_type": "error",
     "traceback": [
      "\u001b[0;31m---------------------------------------------------------------------------\u001b[0m",
      "\u001b[0;31mTypeError\u001b[0m                                 Traceback (most recent call last)",
      "\u001b[0;32m<ipython-input-9-1fac969467dd>\u001b[0m in \u001b[0;36m<module>\u001b[0;34m()\u001b[0m\n\u001b[1;32m     11\u001b[0m \u001b[0mprint\u001b[0m\u001b[0;34m(\u001b[0m\u001b[0;34m'The type of a after conversion : '\u001b[0m\u001b[0;34m,\u001b[0m\u001b[0mtype\u001b[0m\u001b[0;34m(\u001b[0m\u001b[0ma\u001b[0m\u001b[0;34m)\u001b[0m\u001b[0;34m)\u001b[0m\u001b[0;34m\u001b[0m\u001b[0m\n\u001b[1;32m     12\u001b[0m \u001b[0;34m\u001b[0m\u001b[0m\n\u001b[0;32m---> 13\u001b[0;31m \u001b[0ma\u001b[0m\u001b[0;34m[\u001b[0m\u001b[0;36m2\u001b[0m\u001b[0;34m]\u001b[0m \u001b[0;34m=\u001b[0m \u001b[0;36m100\u001b[0m\u001b[0;34m\u001b[0m\u001b[0m\n\u001b[0m",
      "\u001b[0;31mTypeError\u001b[0m: 'tuple' object does not support item assignment"
     ]
    }
   ],
   "source": [
    "a = [1,3,4,5,6,4,32,8,6,9]\n",
    "a\n",
    "print('The type of a before conversion : ',type(a))\n",
    "\n",
    "\n",
    "a[2] = 53\n",
    "a\n",
    "\n",
    "a = tuple(a)\n",
    "\n",
    "print('The type of a after conversion : ',type(a))\n",
    "\n",
    "a[2] = 100"
   ]
  },
  {
   "cell_type": "code",
   "execution_count": 10,
   "metadata": {},
   "outputs": [
    {
     "name": "stdout",
     "output_type": "stream",
     "text": [
      "Enter the first number 23\n",
      "Enter the second number 54\n",
      "77\n",
      "The sum of 23,54 is 77\n"
     ]
    }
   ],
   "source": [
    "a = input('Enter the first number ')\n",
    "b = input('Enter the second number ')\n",
    "\n",
    "a = int(a)\n",
    "b = int(b)\n",
    "\n",
    "c = a+b\n",
    "\n",
    "print(c)\n",
    "print('The sum of {0},{1} is {2}'.format(a,b,c))"
   ]
  },
  {
   "cell_type": "code",
   "execution_count": 11,
   "metadata": {},
   "outputs": [
    {
     "name": "stdout",
     "output_type": "stream",
     "text": [
      "The sum of num list is  65\n"
     ]
    }
   ],
   "source": [
    "#for loop\n",
    "\n",
    "#for val in sequence:\n",
    "#   Body of for\n",
    "\n",
    "num = [6,3,4,5,6,8,5,6,4,3,1,2,3,9]\n",
    "sum = 0\n",
    "for val in num:\n",
    "    sum = sum +val\n",
    "print (\"The sum of num list is \",sum)"
   ]
  },
  {
   "cell_type": "code",
   "execution_count": 12,
   "metadata": {},
   "outputs": [
    {
     "name": "stdout",
     "output_type": "stream",
     "text": [
      "[1, 2, 3, 4, 5, 6, 7, 8, 9, 10]\n",
      "[2, 3, 4, 5, 6, 7]\n",
      "[1, 4, 7, 10]\n",
      "I like  vanilla\n",
      "I like  strawberry\n",
      "I like  butterscoth\n"
     ]
    }
   ],
   "source": [
    "#Range\n",
    "\n",
    "print(list(range(1,11)))\n",
    "print(list(range(2,8)))\n",
    "print(list(range(1,11,3)))\n",
    "\n",
    "iceCream = ['vanilla', 'strawberry','butterscoth']\n",
    "for i in range(len(iceCream)):\n",
    "    print ('I like ',iceCream[i])"
   ]
  },
  {
   "cell_type": "code",
   "execution_count": 13,
   "metadata": {},
   "outputs": [
    {
     "name": "stdout",
     "output_type": "stream",
     "text": [
      "s\n",
      "t\n",
      "r\n",
      "End\n"
     ]
    }
   ],
   "source": [
    "#break\n",
    "\n",
    "for val in 'string':\n",
    "    if val == 'i':\n",
    "        break\n",
    "    print(val)\n",
    "print(\"End\")"
   ]
  },
  {
   "cell_type": "code",
   "execution_count": 14,
   "metadata": {},
   "outputs": [
    {
     "name": "stdout",
     "output_type": "stream",
     "text": [
      "s\n",
      "t\n",
      "r\n",
      "n\n",
      "g\n",
      "End\n"
     ]
    }
   ],
   "source": [
    "#Continue\n",
    "\n",
    "for val in 'string':\n",
    "    if val == 'i':\n",
    "        continue\n",
    "    print(val)\n",
    "print(\"End\")"
   ]
  },
  {
   "cell_type": "markdown",
   "metadata": {},
   "source": [
    "#Syntax of function\n",
    "\n",
    "#def function_name(parameters): \"\"\"doc string\"\"\" statement(s) return \"\"\n",
    "\n",
    "Keyword - def\n",
    "function name should be uniquely identify it.\n",
    "Parameter - optional\n",
    ": - mandatory\n",
    "doctring - optional\n",
    "return statement - optional"
   ]
  },
  {
   "cell_type": "code",
   "execution_count": 15,
   "metadata": {},
   "outputs": [
    {
     "name": "stdout",
     "output_type": "stream",
     "text": [
      "Hello,  Denis  Good morning!\n",
      "Hello,  Rob  Good morning!\n"
     ]
    }
   ],
   "source": [
    "def greet(name):\n",
    "    \"\"\"This function greets to the person passed in as parameter\"\"\"\n",
    "    print(\"Hello, \",name,\" Good morning!\")\n",
    "\n",
    "#Function call\n",
    "greet(\"Denis\") \n",
    "greet(\"Rob\")"
   ]
  },
  {
   "cell_type": "code",
   "execution_count": 16,
   "metadata": {},
   "outputs": [
    {
     "name": "stdout",
     "output_type": "stream",
     "text": [
      "Select operation : \n",
      "1. Add \n",
      "2. Subtract\n",
      "3. Multiply\n",
      "4. Divide\n",
      "Enter the choice (1/2/3/4): 1\n",
      "Enter the first number 32\n",
      "Enter the second number 434\n",
      "32 + 434  =  466\n"
     ]
    }
   ],
   "source": [
    "#Simple calculator\n",
    "\n",
    "'''Program make a simple calculator'''\n",
    "#This function adds the two numbers\n",
    "def add(x,y):\n",
    "    return x+y\n",
    "\n",
    "#This function subtract the two numbers\n",
    "def sub(x,y):\n",
    "    return x-y\n",
    "\n",
    "#This function multiplication the two numbers\n",
    "def mul(x,y):\n",
    "    return x*y\n",
    "\n",
    "#This function division the two numbers\n",
    "def div(x,y):\n",
    "    return x/y\n",
    "\n",
    "print(\"Select operation : \")\n",
    "print(\"1. Add \")\n",
    "print(\"2. Subtract\")\n",
    "print(\"3. Multiply\")\n",
    "print(\"4. Divide\")\n",
    "#Take input from the user\n",
    "choice = input(\"Enter the choice (1/2/3/4): \")\n",
    "\n",
    "num1 = int(input(\"Enter the first number \"))\n",
    "num2 = int(input(\"Enter the second number \"))\n",
    "\n",
    "if choice == \"1\":\n",
    "    print(num1,\"+\",num2,\" = \",add(num1,num2))\n",
    "    \n",
    "elif choice == \"2\":\n",
    "    print(num1,\"-\",num2,\" = \",sub(num1,num2))\n",
    "    \n",
    "elif choice == \"3\":\n",
    "    print(num1,\"*\",num2,\" = \",mul(num1,num2))\n",
    "\n",
    "elif choice == \"4\":\n",
    "    print(num1,\"/\",num2,\" = \",div(num1,num2))\n",
    "\n",
    "else:\n",
    "    print(\"Invalid input\")"
   ]
  },
  {
   "cell_type": "code",
   "execution_count": 17,
   "metadata": {},
   "outputs": [
    {
     "name": "stdout",
     "output_type": "stream",
     "text": [
      "1\n",
      "1\n",
      "\n",
      "\n",
      "Try is done and it is executed finally\n",
      "1\n",
      "3\n",
      "\n",
      "\n",
      "Try is done and it is executed finally\n",
      "1\n",
      "4\n",
      "\n",
      "\n",
      "Try is done and it is executed finally\n",
      "1\n",
      "0\n",
      "\n",
      "\n",
      "OOPs! <class 'ZeroDivisionError'> occured\n",
      "\n",
      "Try is done and it is executed finally\n",
      "1\n",
      "2\n",
      "\n",
      "\n",
      "Try is done and it is executed finally\n",
      "1\n",
      "4\n",
      "\n",
      "\n",
      "Try is done and it is executed finally\n",
      "2\n",
      "1\n",
      "\n",
      "\n",
      "Try is done and it is executed finally\n",
      "2\n",
      "3\n",
      "\n",
      "\n",
      "Try is done and it is executed finally\n",
      "2\n",
      "4\n",
      "\n",
      "\n",
      "Try is done and it is executed finally\n",
      "2\n",
      "0\n",
      "\n",
      "\n",
      "OOPs! <class 'ZeroDivisionError'> occured\n",
      "\n",
      "Try is done and it is executed finally\n",
      "2\n",
      "2\n",
      "\n",
      "\n",
      "Try is done and it is executed finally\n",
      "2\n",
      "4\n",
      "\n",
      "\n",
      "Try is done and it is executed finally\n",
      "3\n",
      "1\n",
      "\n",
      "\n",
      "Try is done and it is executed finally\n",
      "3\n",
      "3\n",
      "\n",
      "\n",
      "Try is done and it is executed finally\n",
      "3\n",
      "4\n",
      "\n",
      "\n",
      "Try is done and it is executed finally\n",
      "3\n",
      "0\n",
      "\n",
      "\n",
      "OOPs! <class 'ZeroDivisionError'> occured\n",
      "\n",
      "Try is done and it is executed finally\n",
      "3\n",
      "2\n",
      "\n",
      "\n",
      "Try is done and it is executed finally\n",
      "3\n",
      "4\n",
      "\n",
      "\n",
      "Try is done and it is executed finally\n",
      "40\n",
      "1\n",
      "\n",
      "\n",
      "Try is done and it is executed finally\n",
      "40\n",
      "3\n",
      "\n",
      "\n",
      "Try is done and it is executed finally\n",
      "40\n",
      "4\n",
      "\n",
      "\n",
      "Try is done and it is executed finally\n",
      "40\n",
      "0\n",
      "\n",
      "\n",
      "OOPs! <class 'ZeroDivisionError'> occured\n",
      "\n",
      "Try is done and it is executed finally\n",
      "40\n",
      "2\n",
      "\n",
      "\n",
      "Try is done and it is executed finally\n",
      "40\n",
      "4\n",
      "\n",
      "\n",
      "Try is done and it is executed finally\n",
      "0\n",
      "1\n",
      "\n",
      "\n",
      "Try is done and it is executed finally\n",
      "0\n",
      "3\n",
      "\n",
      "\n",
      "Try is done and it is executed finally\n",
      "0\n",
      "4\n",
      "\n",
      "\n",
      "Try is done and it is executed finally\n",
      "0\n",
      "0\n",
      "\n",
      "\n",
      "OOPs! <class 'ZeroDivisionError'> occured\n",
      "\n",
      "Try is done and it is executed finally\n",
      "0\n",
      "2\n",
      "\n",
      "\n",
      "Try is done and it is executed finally\n",
      "0\n",
      "4\n",
      "\n",
      "\n",
      "Try is done and it is executed finally\n",
      "23\n",
      "1\n",
      "\n",
      "\n",
      "Try is done and it is executed finally\n",
      "23\n",
      "3\n",
      "\n",
      "\n",
      "Try is done and it is executed finally\n",
      "23\n",
      "4\n",
      "\n",
      "\n",
      "Try is done and it is executed finally\n",
      "23\n",
      "0\n",
      "\n",
      "\n",
      "OOPs! <class 'ZeroDivisionError'> occured\n",
      "\n",
      "Try is done and it is executed finally\n",
      "23\n",
      "2\n",
      "\n",
      "\n",
      "Try is done and it is executed finally\n",
      "23\n",
      "4\n",
      "\n",
      "\n",
      "Try is done and it is executed finally\n"
     ]
    }
   ],
   "source": [
    "import sys\n",
    "a = [1,2,3,40,0,23]\n",
    "b = [1,3,4,0,2,4]\n",
    "\n",
    "for x in a:\n",
    "    for y in b:\n",
    "        try:\n",
    "            print(x)\n",
    "            print(y)\n",
    "            print(\"\\n\")\n",
    "            x/y\n",
    "        except:\n",
    "            print(\"OOPs!\",sys.exc_info()[0],\"occured\" )\n",
    "            print()\n",
    "        finally:\n",
    "            print(\"Try is done and it is executed finally\")"
   ]
  },
  {
   "cell_type": "code",
   "execution_count": null,
   "metadata": {},
   "outputs": [],
   "source": []
  }
 ],
 "metadata": {
  "anaconda-cloud": {},
  "kernelspec": {
   "display_name": "Python 3",
   "language": "python",
   "name": "python3"
  },
  "language_info": {
   "codemirror_mode": {
    "name": "ipython",
    "version": 3
   },
   "file_extension": ".py",
   "mimetype": "text/x-python",
   "name": "python",
   "nbconvert_exporter": "python",
   "pygments_lexer": "ipython3",
   "version": "3.8.3"
  }
 },
 "nbformat": 4,
 "nbformat_minor": 1
}
