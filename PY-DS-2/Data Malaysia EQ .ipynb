{
 "cells": [
  {
   "cell_type": "code",
   "execution_count": 1,
   "metadata": {},
   "outputs": [
    {
     "name": "stderr",
     "output_type": "stream",
     "text": [
      "C:\\Users\\George\\Anaconda3\\lib\\site-packages\\h5py\\__init__.py:36: FutureWarning: Conversion of the second argument of issubdtype from `float` to `np.floating` is deprecated. In future, it will be treated as `np.float64 == np.dtype(float).type`.\n",
      "  from ._conv import register_converters as _register_converters\n"
     ]
    }
   ],
   "source": [
    "import pandas as pd\n",
    "import tensorflow as tf\n",
    "import seaborn as sns\n",
    "import matplotlib.pyplot as plt"
   ]
  },
  {
   "cell_type": "code",
   "execution_count": 2,
   "metadata": {},
   "outputs": [
    {
     "data": {
      "text/html": [
       "<div>\n",
       "<style scoped>\n",
       "    .dataframe tbody tr th:only-of-type {\n",
       "        vertical-align: middle;\n",
       "    }\n",
       "\n",
       "    .dataframe tbody tr th {\n",
       "        vertical-align: top;\n",
       "    }\n",
       "\n",
       "    .dataframe thead th {\n",
       "        text-align: right;\n",
       "    }\n",
       "</style>\n",
       "<table border=\"1\" class=\"dataframe\">\n",
       "  <thead>\n",
       "    <tr style=\"text-align: right;\">\n",
       "      <th></th>\n",
       "      <th>state</th>\n",
       "      <th>eq</th>\n",
       "      <th>level</th>\n",
       "      <th>friend</th>\n",
       "      <th>friend_level</th>\n",
       "      <th>society</th>\n",
       "      <th>society_level</th>\n",
       "      <th>parents</th>\n",
       "      <th>parents_level</th>\n",
       "    </tr>\n",
       "  </thead>\n",
       "  <tbody>\n",
       "    <tr>\n",
       "      <th>0</th>\n",
       "      <td>W.P. Kuala Lumpur</td>\n",
       "      <td>69.167614</td>\n",
       "      <td>Sederhana</td>\n",
       "      <td>72.015915</td>\n",
       "      <td>Sederhana</td>\n",
       "      <td>54.509284</td>\n",
       "      <td>Kurang Memuaskan</td>\n",
       "      <td>80.02</td>\n",
       "      <td>Sangat Memuaskan</td>\n",
       "    </tr>\n",
       "    <tr>\n",
       "      <th>1</th>\n",
       "      <td>W.P. Labuan</td>\n",
       "      <td>75.576441</td>\n",
       "      <td>Memuaskan</td>\n",
       "      <td>77.850877</td>\n",
       "      <td>Memuaskan</td>\n",
       "      <td>68.289474</td>\n",
       "      <td>Sederhana</td>\n",
       "      <td>85.10</td>\n",
       "      <td>Sangat Memuaskan</td>\n",
       "    </tr>\n",
       "    <tr>\n",
       "      <th>2</th>\n",
       "      <td>W.P. Putrajaya</td>\n",
       "      <td>72.260115</td>\n",
       "      <td>Sederhana</td>\n",
       "      <td>77.099912</td>\n",
       "      <td>Memuaskan</td>\n",
       "      <td>59.504863</td>\n",
       "      <td>Kurang Memuaskan</td>\n",
       "      <td>82.66</td>\n",
       "      <td>Sangat Memuaskan</td>\n",
       "    </tr>\n",
       "    <tr>\n",
       "      <th>3</th>\n",
       "      <td>Johor</td>\n",
       "      <td>70.958943</td>\n",
       "      <td>Sederhana</td>\n",
       "      <td>73.901809</td>\n",
       "      <td>Sederhana</td>\n",
       "      <td>65.719208</td>\n",
       "      <td>Sederhana</td>\n",
       "      <td>79.52</td>\n",
       "      <td>Memuaskan</td>\n",
       "    </tr>\n",
       "    <tr>\n",
       "      <th>4</th>\n",
       "      <td>Kedah</td>\n",
       "      <td>75.276575</td>\n",
       "      <td>Memuaskan</td>\n",
       "      <td>79.335017</td>\n",
       "      <td>Memuaskan</td>\n",
       "      <td>71.759259</td>\n",
       "      <td>Sederhana</td>\n",
       "      <td>84.39</td>\n",
       "      <td>Sangat Memuaskan</td>\n",
       "    </tr>\n",
       "  </tbody>\n",
       "</table>\n",
       "</div>"
      ],
      "text/plain": [
       "               state         eq      level     friend friend_level    society  \\\n",
       "0  W.P. Kuala Lumpur  69.167614  Sederhana  72.015915    Sederhana  54.509284   \n",
       "1        W.P. Labuan  75.576441  Memuaskan  77.850877    Memuaskan  68.289474   \n",
       "2     W.P. Putrajaya  72.260115  Sederhana  77.099912    Memuaskan  59.504863   \n",
       "3              Johor  70.958943  Sederhana  73.901809    Sederhana  65.719208   \n",
       "4              Kedah  75.276575  Memuaskan  79.335017    Memuaskan  71.759259   \n",
       "\n",
       "      society_level  parents     parents_level  \n",
       "0  Kurang Memuaskan    80.02  Sangat Memuaskan  \n",
       "1         Sederhana    85.10  Sangat Memuaskan  \n",
       "2  Kurang Memuaskan    82.66  Sangat Memuaskan  \n",
       "3         Sederhana    79.52         Memuaskan  \n",
       "4         Sederhana    84.39  Sangat Memuaskan  "
      ]
     },
     "execution_count": 2,
     "metadata": {},
     "output_type": "execute_result"
    }
   ],
   "source": [
    "df = pd.read_csv(r\"D:\\Python datasets\\malaysia_eq.csv\")\n",
    "df.head()"
   ]
  },
  {
   "cell_type": "code",
   "execution_count": 14,
   "metadata": {},
   "outputs": [
    {
     "data": {
      "text/plain": [
       "<matplotlib.axes._subplots.AxesSubplot at 0x164c48f9dd8>"
      ]
     },
     "execution_count": 14,
     "metadata": {},
     "output_type": "execute_result"
    },
    {
     "data": {
      "image/png": "[encoded data removed]",
      "text/plain": [
       "<matplotlib.figure.Figure at 0x164c485e198>"
      ]
     },
     "metadata": {},
     "output_type": "display_data"
    }
   ],
   "source": [
    "fig = plt.figure(figsize=(10,8))\n",
    "sns.heatmap(\n",
    "    df.loc[:, ['eq', 'friend', 'society', 'parents']].corr(),\n",
    "    annot=True\n",
    ")"
   ]
  },
  {
   "cell_type": "code",
   "execution_count": 16,
   "metadata": {},
   "outputs": [
    {
     "data": {
      "text/plain": [
       "<seaborn.axisgrid.FacetGrid at 0x164c49ba4a8>"
      ]
     },
     "execution_count": 16,
     "metadata": {},
     "output_type": "execute_result"
    },
    {
     "data": {
      "image/png": "[encoded data removed]",
      "text/plain": [
       "<matplotlib.figure.Figure at 0x164c49bacf8>"
      ]
     },
     "metadata": {},
     "output_type": "display_data"
    }
   ],
   "source": [
    "sns.lmplot(x = 'eq', y='friend', hue = 'friend_level', markers = ['x','o'],\n",
    "          fit_reg = False, data = df)"
   ]
  },
  {
   "cell_type": "code",
   "execution_count": null,
   "metadata": {},
   "outputs": [],
   "source": [
    "from pandas.plo"
   ]
  }
 ],
 "metadata": {
  "kernelspec": {
   "display_name": "Python 3",
   "language": "python",
   "name": "python3"
  },
  "language_info": {
   "codemirror_mode": {
    "name": "ipython",
    "version": 3
   },
   "file_extension": ".py",
   "mimetype": "text/x-python",
   "name": "python",
   "nbconvert_exporter": "python",
   "pygments_lexer": "ipython3",
   "version": "3.6.4"
  }
 },
 "nbformat": 4,
 "nbformat_minor": 2
}
