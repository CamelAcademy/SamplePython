{
  "nbformat": 4,
  "nbformat_minor": 0,
  "metadata": {
    "kernelspec": {
      "display_name": "Python 3",
      "language": "python",
      "name": "python3"
    },
    "language_info": {
      "codemirror_mode": {
        "name": "ipython",
        "version": 3
      },
      "file_extension": ".py",
      "mimetype": "text/x-python",
      "name": "python",
      "nbconvert_exporter": "python",
      "pygments_lexer": "ipython3",
      "version": "3.7.4"
    },
    "colab": {
      "name": "PE - Data structures in Python - Solutions.ipynb",
      "provenance": [],
      "collapsed_sections": []
    }
  },
  "cells": [
    {
      "cell_type": "markdown",
      "metadata": {
        "id": "rYtShAfQiy1E",
        "colab_type": "text"
      },
      "source": [
        "## Lists, Dictionaries and Sets in Python"
      ]
    },
    {
      "cell_type": "markdown",
      "metadata": {
        "id": "1OHR7Y7iiy1F",
        "colab_type": "text"
      },
      "source": [
        "## Part 1\n",
        "\n",
        "### Lists in Python\n",
        "\n",
        "Sequences in Python are data structures that hold objects in an ordered array. Now, we will work on Lists, the most common sequence data types in Python."
      ]
    },
    {
      "cell_type": "code",
      "metadata": {
        "id": "2yt15PZFiy1G",
        "colab_type": "code",
        "colab": {
          "base_uri": "https://localhost:8080/",
          "height": 34
        },
        "outputId": "bee85011-c3d7-4080-e459-7cfc0143c733"
      },
      "source": [
        "#Example \n",
        "l1 = ['learning', \"Python\", 'is fun?', True]    # Create a list l1.\n",
        "print(l1)    # print list l1."
      ],
      "execution_count": 1,
      "outputs": [
        {
          "output_type": "stream",
          "text": [
            "['learning', 'Python', 'is fun?', True]\n"
          ],
          "name": "stdout"
        }
      ]
    },
    {
      "cell_type": "markdown",
      "metadata": {
        "id": "Fp5nTsa5iy1K",
        "colab_type": "text"
      },
      "source": [
        "List can also be created by using list() function. "
      ]
    },
    {
      "cell_type": "code",
      "metadata": {
        "id": "TUUCHYtbiy1L",
        "colab_type": "code",
        "colab": {
          "base_uri": "https://localhost:8080/",
          "height": 34
        },
        "outputId": "595851e5-f807-4293-b10e-19e6672fda34"
      },
      "source": [
        "#Example\n",
        "l2 = list((\"learning\", \"for\", \"life\", True))\n",
        "print(l2)"
      ],
      "execution_count": 2,
      "outputs": [
        {
          "output_type": "stream",
          "text": [
            "['learning', 'for', 'life', True]\n"
          ],
          "name": "stdout"
        }
      ]
    },
    {
      "cell_type": "markdown",
      "metadata": {
        "id": "aMpnTK6Riy1P",
        "colab_type": "text"
      },
      "source": [
        "Adding to an existing list\n",
        "\n",
        "### Question 1\n",
        "\n",
        "Add 10 to list l1 given above.\n",
        "\n",
        "[ **Hint:** Use **append**]"
      ]
    },
    {
      "cell_type": "code",
      "metadata": {
        "id": "JxpETrCjiy1Q",
        "colab_type": "code",
        "colab": {}
      },
      "source": [
        "l1.append(10)    # Append a number = 10 to list l1."
      ],
      "execution_count": 0,
      "outputs": []
    },
    {
      "cell_type": "code",
      "metadata": {
        "id": "BTT6MGkbiy1S",
        "colab_type": "code",
        "colab": {
          "base_uri": "https://localhost:8080/",
          "height": 34
        },
        "outputId": "127814ed-e9d1-4516-f5ef-2a8cbdba9419"
      },
      "source": [
        "l1"
      ],
      "execution_count": 4,
      "outputs": [
        {
          "output_type": "execute_result",
          "data": {
            "text/plain": [
              "['learning', 'Python', 'is fun?', True, 10]"
            ]
          },
          "metadata": {
            "tags": []
          },
          "execution_count": 4
        }
      ]
    },
    {
      "cell_type": "markdown",
      "metadata": {
        "id": "7ScnpVD0iy1V",
        "colab_type": "text"
      },
      "source": [
        "Removing from an existing list\n",
        "\n",
        "### Question 2\n",
        "\n",
        "Remove 10 from l1.\n",
        "\n",
        "[ **Hint:** Use **remove**]"
      ]
    },
    {
      "cell_type": "code",
      "metadata": {
        "id": "UnGtqk2biy1W",
        "colab_type": "code",
        "colab": {}
      },
      "source": [
        "# Removes a given object from the list. It does not return any value.\n",
        "# It returns ValueError when the passed object is not present in the list.\n",
        "l1.remove(10)"
      ],
      "execution_count": 0,
      "outputs": []
    },
    {
      "cell_type": "markdown",
      "metadata": {
        "id": "1m6aIGIpiy1a",
        "colab_type": "text"
      },
      "source": [
        "Joining 2 lists\n",
        "\n",
        "### Question 3\n",
        "\n",
        "[ **Hint: ** Use **+** operator or **extend**]"
      ]
    },
    {
      "cell_type": "code",
      "metadata": {
        "id": "XeCGm-G3iy1a",
        "colab_type": "code",
        "colab": {}
      },
      "source": [
        "l1 = ['learning', \"Python\", 'is fun?', True]    # Create list l1.\n",
        "l2 = list((\"learning\", \"for\", \"life\", True))"
      ],
      "execution_count": 0,
      "outputs": []
    },
    {
      "cell_type": "code",
      "metadata": {
        "id": "cq5zURVxiy1g",
        "colab_type": "code",
        "colab": {
          "base_uri": "https://localhost:8080/",
          "height": 34
        },
        "outputId": "f36781f6-5f57-4a44-f176-356a29b62de3"
      },
      "source": [
        "l1+l2    # Use of \"+\"\" operator can easily add the whole of one list behind the other list and hence perform the concatenation."
      ],
      "execution_count": 7,
      "outputs": [
        {
          "output_type": "execute_result",
          "data": {
            "text/plain": [
              "['learning', 'Python', 'is fun?', True, 'learning', 'for', 'life', True]"
            ]
          },
          "metadata": {
            "tags": []
          },
          "execution_count": 7
        }
      ]
    },
    {
      "cell_type": "code",
      "metadata": {
        "id": "sEi87eMpiy1j",
        "colab_type": "code",
        "colab": {
          "base_uri": "https://localhost:8080/",
          "height": 34
        },
        "outputId": "46087111-cd45-46b3-b90a-9b6ff599541a"
      },
      "source": [
        "# Extend:  Iterates over argument (in this example, argument = l2) and adding each element to the list and extending the list. \n",
        "# The length of the list increases by number of elements in it's argument.\n",
        "l1.extend(l2)\n",
        "print(l1)"
      ],
      "execution_count": 8,
      "outputs": [
        {
          "output_type": "stream",
          "text": [
            "['learning', 'Python', 'is fun?', True, 'learning', 'for', 'life', True]\n"
          ],
          "name": "stdout"
        }
      ]
    },
    {
      "cell_type": "markdown",
      "metadata": {
        "id": "t5RRcx8ciy1m",
        "colab_type": "text"
      },
      "source": [
        "Number List\n",
        "\n",
        "### Question 4\n",
        "\n",
        "Find Range and Mean of l3.\n",
        "\n",
        "l3 = [2,4,6,8]\n",
        "\n",
        "[ **Hint: ** Use **len(),sum(), min(), max()** functions ]\n",
        " \n",
        "If you want to use standard functions like mean & range, you have to import them from numpy else you can calculate them the traditional way using formulas"
      ]
    },
    {
      "cell_type": "code",
      "metadata": {
        "id": "Dt1oKrBCiy1m",
        "colab_type": "code",
        "colab": {}
      },
      "source": [
        "l3 = [2,4,6,8]   # Create list l3."
      ],
      "execution_count": 0,
      "outputs": []
    },
    {
      "cell_type": "code",
      "metadata": {
        "id": "s84_We_viy1p",
        "colab_type": "code",
        "colab": {
          "base_uri": "https://localhost:8080/",
          "height": 34
        },
        "outputId": "06d19608-16e5-4d68-e96a-00c783d8b299"
      },
      "source": [
        "sum(l3)    # Sums up the numbers in the list."
      ],
      "execution_count": 10,
      "outputs": [
        {
          "output_type": "execute_result",
          "data": {
            "text/plain": [
              "20"
            ]
          },
          "metadata": {
            "tags": []
          },
          "execution_count": 10
        }
      ]
    },
    {
      "cell_type": "code",
      "metadata": {
        "id": "eFpd8rftiy1v",
        "colab_type": "code",
        "colab": {
          "base_uri": "https://localhost:8080/",
          "height": 34
        },
        "outputId": "7b482deb-0792-4696-cb69-a3be8105637e"
      },
      "source": [
        "len(l3)    # Returns length of list."
      ],
      "execution_count": 11,
      "outputs": [
        {
          "output_type": "execute_result",
          "data": {
            "text/plain": [
              "4"
            ]
          },
          "metadata": {
            "tags": []
          },
          "execution_count": 11
        }
      ]
    },
    {
      "cell_type": "code",
      "metadata": {
        "id": "xYfloVXgiy1x",
        "colab_type": "code",
        "colab": {
          "base_uri": "https://localhost:8080/",
          "height": 34
        },
        "outputId": "e9ec2e14-ddd6-44ef-be5b-bf08a565cba9"
      },
      "source": [
        "print(\"mean:\",sum(l3)/len(l3))    # calculate mean/average of list by using sum and len functions."
      ],
      "execution_count": 12,
      "outputs": [
        {
          "output_type": "stream",
          "text": [
            "mean: 5.0\n"
          ],
          "name": "stdout"
        }
      ]
    },
    {
      "cell_type": "code",
      "metadata": {
        "id": "ZZbLqcCqiy11",
        "colab_type": "code",
        "colab": {
          "base_uri": "https://localhost:8080/",
          "height": 34
        },
        "outputId": "0d43b5bf-311d-45ab-8a4b-2ed62f615687"
      },
      "source": [
        "min(l3)    # Returns the minimum value of a list."
      ],
      "execution_count": 13,
      "outputs": [
        {
          "output_type": "execute_result",
          "data": {
            "text/plain": [
              "2"
            ]
          },
          "metadata": {
            "tags": []
          },
          "execution_count": 13
        }
      ]
    },
    {
      "cell_type": "code",
      "metadata": {
        "id": "YL7XQnZXiy14",
        "colab_type": "code",
        "colab": {
          "base_uri": "https://localhost:8080/",
          "height": 34
        },
        "outputId": "51e61f3f-876c-46ca-c2e2-b4f48158ddf9"
      },
      "source": [
        "max(l3)    # Returns the maximum value of a list."
      ],
      "execution_count": 14,
      "outputs": [
        {
          "output_type": "execute_result",
          "data": {
            "text/plain": [
              "8"
            ]
          },
          "metadata": {
            "tags": []
          },
          "execution_count": 14
        }
      ]
    },
    {
      "cell_type": "code",
      "metadata": {
        "id": "fUyE1NTfiy18",
        "colab_type": "code",
        "colab": {
          "base_uri": "https://localhost:8080/",
          "height": 34
        },
        "outputId": "fe3a86c5-f572-425b-d47b-db148dab528e"
      },
      "source": [
        "print(\"range:\",max(l3)-min(l3))    "
      ],
      "execution_count": 15,
      "outputs": [
        {
          "output_type": "stream",
          "text": [
            "range: 6\n"
          ],
          "name": "stdout"
        }
      ]
    },
    {
      "cell_type": "markdown",
      "metadata": {
        "id": "jK-VRkb0iy2B",
        "colab_type": "text"
      },
      "source": [
        "Count the occurances of an element in a given list.\n",
        "\n",
        "### Question 5\n",
        "Append the given sequence of numbers to l3 (given above) 0,1,3,3,5,5,7,9. Count the occurences of 5 in l3.\n",
        "\n",
        "[ **Hint: ** Use ** + operator to add multiple elements in the array and count() function to print the occurences**]"
      ]
    },
    {
      "cell_type": "code",
      "metadata": {
        "id": "It445_0iiy2C",
        "colab_type": "code",
        "colab": {
          "base_uri": "https://localhost:8080/",
          "height": 34
        },
        "outputId": "55247dcd-e9c4-4a51-8847-9e344d1b925b"
      },
      "source": [
        "(l3 + [0,1,3,3,5,5,7,9]).count(5)    # Returns count of how many times a given object occurs in list."
      ],
      "execution_count": 16,
      "outputs": [
        {
          "output_type": "execute_result",
          "data": {
            "text/plain": [
              "2"
            ]
          },
          "metadata": {
            "tags": []
          },
          "execution_count": 16
        }
      ]
    },
    {
      "cell_type": "markdown",
      "metadata": {
        "id": "j_TIVA98iy2G",
        "colab_type": "text"
      },
      "source": [
        "Sorting and Reversing a list\n",
        "\n",
        "### Question 6\n",
        "sort and print l3 in ascending and descending order sequentially (given above)\n",
        "\n",
        "**(Hint: Use .sort() function)**"
      ]
    },
    {
      "cell_type": "code",
      "metadata": {
        "id": "2Sj1_hYLiy2H",
        "colab_type": "code",
        "colab": {
          "base_uri": "https://localhost:8080/",
          "height": 34
        },
        "outputId": "7fcbc8c3-a5da-47d7-f5d1-74f5143f688d"
      },
      "source": [
        "l3.sort(reverse = True)    # This function can be used to sort a list in ascending, descending or user defined order.\n",
        "print(l3)"
      ],
      "execution_count": 17,
      "outputs": [
        {
          "output_type": "stream",
          "text": [
            "[8, 6, 4, 2]\n"
          ],
          "name": "stdout"
        }
      ]
    },
    {
      "cell_type": "markdown",
      "metadata": {
        "id": "gq1U5AVeiy2J",
        "colab_type": "text"
      },
      "source": [
        "### Functions"
      ]
    },
    {
      "cell_type": "markdown",
      "metadata": {
        "id": "Y3i0KEbviy2K",
        "colab_type": "text"
      },
      "source": [
        "**Example:**\n",
        "\n",
        "**def** function_name(args)**:**\n",
        "    \n",
        "    function code goes here"
      ]
    },
    {
      "cell_type": "markdown",
      "metadata": {
        "id": "nzy_IPsSiy2K",
        "colab_type": "text"
      },
      "source": [
        "### Question 7\n",
        "\n",
        "Define a function with name **sum_3** which can take 3 numbers as input, and returns sum of them."
      ]
    },
    {
      "cell_type": "code",
      "metadata": {
        "id": "Gn4BEoLbiy2L",
        "colab_type": "code",
        "colab": {}
      },
      "source": [
        "def sum_3(a,b,c): \n",
        "    d = a+b+c \n",
        "    return d"
      ],
      "execution_count": 0,
      "outputs": []
    },
    {
      "cell_type": "code",
      "metadata": {
        "id": "pT6i1aPXiy2N",
        "colab_type": "code",
        "colab": {
          "base_uri": "https://localhost:8080/",
          "height": 34
        },
        "outputId": "c3d95fd4-5aad-4abc-daee-a9a3703a9355"
      },
      "source": [
        "sum_3(2,3,5)"
      ],
      "execution_count": 19,
      "outputs": [
        {
          "output_type": "execute_result",
          "data": {
            "text/plain": [
              "10"
            ]
          },
          "metadata": {
            "tags": []
          },
          "execution_count": 19
        }
      ]
    },
    {
      "cell_type": "markdown",
      "metadata": {
        "id": "TWcyr62riy2Q",
        "colab_type": "text"
      },
      "source": [
        "### Lambda Functions"
      ]
    },
    {
      "cell_type": "markdown",
      "metadata": {
        "id": "jOl8G6iziy2R",
        "colab_type": "text"
      },
      "source": [
        "Anonymous functions or no name functions, which can be considered when you use a function only once.\n",
        "\n",
        "**Example:**\n",
        "\n",
        "f = lambda x, y : x + y\n",
        "\n",
        "f(1,1)\n",
        "\n",
        "2\n"
      ]
    },
    {
      "cell_type": "markdown",
      "metadata": {
        "id": "7DzO4sKliy2R",
        "colab_type": "text"
      },
      "source": [
        "### Question 8\n",
        "\n",
        "Write the same above **sum_3** function using lambda."
      ]
    },
    {
      "cell_type": "code",
      "metadata": {
        "id": "ZHzVgTS1iy2S",
        "colab_type": "code",
        "colab": {}
      },
      "source": [
        "# The syntax of lambda function is :\n",
        "#     lambda arguments: expression\n",
        "f = lambda x,y,z: x+y+z     # Here arguments are x, y, z and the expression to calculate is x+y+z."
      ],
      "execution_count": 0,
      "outputs": []
    },
    {
      "cell_type": "code",
      "metadata": {
        "id": "KzyzUKUFiy2U",
        "colab_type": "code",
        "colab": {
          "base_uri": "https://localhost:8080/",
          "height": 34
        },
        "outputId": "949315d2-2742-4fb5-f5c9-75f26af055c8"
      },
      "source": [
        "f(1,2,3)"
      ],
      "execution_count": 21,
      "outputs": [
        {
          "output_type": "execute_result",
          "data": {
            "text/plain": [
              "6"
            ]
          },
          "metadata": {
            "tags": []
          },
          "execution_count": 21
        }
      ]
    },
    {
      "cell_type": "code",
      "metadata": {
        "id": "V8qhs0pZx6Sa",
        "colab_type": "code",
        "colab": {}
      },
      "source": [
        ""
      ],
      "execution_count": 0,
      "outputs": []
    }
  ]
}