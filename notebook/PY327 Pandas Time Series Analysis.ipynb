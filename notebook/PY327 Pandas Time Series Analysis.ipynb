{
 "cells": [
  {
   "cell_type": "code",
   "execution_count": 1,
   "metadata": {},
   "outputs": [
    {
     "data": {
      "text/plain": [
       "<function dir>"
      ]
     },
     "execution_count": 1,
     "metadata": {},
     "output_type": "execute_result"
    }
   ],
   "source": [
    "dir"
   ]
  },
  {
   "cell_type": "code",
   "execution_count": 2,
   "metadata": {},
   "outputs": [
    {
     "data": {
      "text/plain": [
       "'/Users/pichappan/Documents/SamplePython/notebook'"
      ]
     },
     "execution_count": 2,
     "metadata": {},
     "output_type": "execute_result"
    }
   ],
   "source": [
    "pwd"
   ]
  },
  {
   "cell_type": "code",
   "execution_count": 3,
   "metadata": {},
   "outputs": [
    {
     "name": "stdout",
     "output_type": "stream",
     "text": [
      "/Users/pichappan/Documents/SamplePython/input\n"
     ]
    }
   ],
   "source": [
    "cd ../input"
   ]
  },
  {
   "cell_type": "code",
   "execution_count": 4,
   "metadata": {},
   "outputs": [],
   "source": [
    "import pandas as pd"
   ]
  },
  {
   "cell_type": "code",
   "execution_count": 5,
   "metadata": {},
   "outputs": [
    {
     "data": {
      "text/html": [
       "<style type=\"text/css\">\n",
       "table.dataframe td, table.dataframe th{\n",
       "    border-style : solid;\n",
       "}\n"
      ],
      "text/plain": [
       "<IPython.core.display.HTML object>"
      ]
     },
     "metadata": {},
     "output_type": "display_data"
    }
   ],
   "source": [
    "%%HTML\n",
    "<style type=\"text/css\">\n",
    "table.dataframe td, table.dataframe th{\n",
    "    border-style : solid;\n",
    "}"
   ]
  },
  {
   "cell_type": "code",
   "execution_count": 6,
   "metadata": {},
   "outputs": [
    {
     "data": {
      "text/plain": [
       "DatetimeIndex(['1903-01-02 09:00:00', '1906-04-05 09:05:00',\n",
       "               '2008-09-07 13:45:00', '2011-12-10 03:20:45',\n",
       "               '2003-02-01 01:02:03', '2006-05-04 13:15:20',\n",
       "               '2008-09-07 11:20:40', '2011-12-10 17:00:00',\n",
       "               '2003-02-01 10:20:15', '2006-05-04 05:10:00',\n",
       "                               'NaT',                 'NaT'],\n",
       "              dtype='datetime64[ns]', freq=None)"
      ]
     },
     "execution_count": 6,
     "metadata": {},
     "output_type": "execute_result"
    }
   ],
   "source": [
    "# Transformation of Date Format. US mm/dd/yyyy, EU dd/mm/yyyy, TS yyyy-mm-dd\n",
    "date_samples = [\"02/01/1903 9am\", '05/04/1906 9:05', \n",
    "                \"08/07/09 13:45\", '11/10/12 032045',\n",
    "                \"20030201 010203\", '20060504 13:15:20',\n",
    "                \"080709 11:20:40\", '111012 5pm', \n",
    "                \"2003-02-01 10:20:15\", '2006-05-04 05:10',\n",
    "                \"2003-02-01 25:30:35\",'DateString']\n",
    "pd.to_datetime(date_samples, dayfirst=True, yearfirst=True, errors='coerce') # errors (ignore, raise, coerce)"
   ]
  },
  {
   "cell_type": "code",
   "execution_count": 7,
   "metadata": {},
   "outputs": [
    {
     "data": {
      "text/plain": [
       "Timestamp('2003-01-02 00:00:00')"
      ]
     },
     "execution_count": 7,
     "metadata": {},
     "output_type": "execute_result"
    }
   ],
   "source": [
    "# Custom Date Format - say from a CSV file\n",
    "pd.to_datetime('01,02,03', format='%m,%d,%y')"
   ]
  },
  {
   "cell_type": "code",
   "execution_count": 41,
   "metadata": {},
   "outputs": [
    {
     "name": "stdout",
     "output_type": "stream",
     "text": [
      "The Datatype of ts is: <class 'pandas._libs.tslibs.timestamps.Timestamp'>\n",
      "The content of ts is: 1971-07-02 12:00:00\n"
     ]
    }
   ],
   "source": [
    "# Formatting String Literals. We can also pass array as argument\n",
    "# Epoch Relative time from birth of Unix 1970-01-01, unit('s', 'ns' default)\n",
    "# pd.to_datetime(1.5*365*24*60*60*10**9) \n",
    "ts = pd.to_datetime(1.5*365*24*60*60, unit='s')\n",
    "print(f\"The Datatype of ts is: {type(ts)}\\nThe content of ts is: {ts}\")\n",
    "#dir(ts)"
   ]
  },
  {
   "cell_type": "code",
   "execution_count": 51,
   "metadata": {},
   "outputs": [
    {
     "name": "stdout",
     "output_type": "stream",
     "text": [
      "The Datatype of dti is: <class 'pandas.core.indexes.datetimes.DatetimeIndex'>\n",
      "The content of dti is: DatetimeIndex(['1971-01-01', '1972-01-01', '1972-12-31'], dtype='datetime64[ns]', freq=None)\n"
     ]
    },
    {
     "data": {
      "text/plain": [
       "['T',\n",
       " '__abs__',\n",
       " '__add__',\n",
       " '__and__',\n",
       " '__array__',\n",
       " '__array_priority__',\n",
       " '__array_wrap__',\n",
       " '__bool__',\n",
       " '__class__',\n",
       " '__contains__',\n",
       " '__copy__',\n",
       " '__deepcopy__',\n",
       " '__delattr__',\n",
       " '__dict__',\n",
       " '__dir__',\n",
       " '__divmod__',\n",
       " '__doc__',\n",
       " '__eq__',\n",
       " '__floordiv__',\n",
       " '__format__',\n",
       " '__ge__',\n",
       " '__getattribute__',\n",
       " '__getitem__',\n",
       " '__gt__',\n",
       " '__hash__',\n",
       " '__iadd__',\n",
       " '__init__',\n",
       " '__init_subclass__',\n",
       " '__inv__',\n",
       " '__iter__',\n",
       " '__le__',\n",
       " '__len__',\n",
       " '__lt__',\n",
       " '__mod__',\n",
       " '__module__',\n",
       " '__mul__',\n",
       " '__ne__',\n",
       " '__neg__',\n",
       " '__new__',\n",
       " '__nonzero__',\n",
       " '__or__',\n",
       " '__pos__',\n",
       " '__pow__',\n",
       " '__radd__',\n",
       " '__reduce__',\n",
       " '__reduce_ex__',\n",
       " '__repr__',\n",
       " '__rfloordiv__',\n",
       " '__rmul__',\n",
       " '__rpow__',\n",
       " '__rsub__',\n",
       " '__rtruediv__',\n",
       " '__setattr__',\n",
       " '__setitem__',\n",
       " '__setstate__',\n",
       " '__sizeof__',\n",
       " '__str__',\n",
       " '__sub__',\n",
       " '__subclasshook__',\n",
       " '__truediv__',\n",
       " '__weakref__',\n",
       " '__xor__',\n",
       " '_accessors',\n",
       " '_add_arithmetic_ops',\n",
       " '_add_comparison_methods',\n",
       " '_add_comparison_ops',\n",
       " '_add_datetimelike_methods',\n",
       " '_add_delegate_accessors',\n",
       " '_add_logical_methods',\n",
       " '_add_logical_methods_disabled',\n",
       " '_add_numeric_methods',\n",
       " '_add_numeric_methods_add_sub_disabled',\n",
       " '_add_numeric_methods_binary',\n",
       " '_add_numeric_methods_disabled',\n",
       " '_add_numeric_methods_unary',\n",
       " '_assert_can_do_op',\n",
       " '_assert_can_do_setop',\n",
       " '_assert_safe_casting',\n",
       " '_assert_take_fillable',\n",
       " '_attributes',\n",
       " '_bool_ops',\n",
       " '_box_func',\n",
       " '_box_values',\n",
       " '_can_fast_union',\n",
       " '_can_hold_identifiers_and_holds_name',\n",
       " '_can_hold_na',\n",
       " '_can_reindex',\n",
       " '_cleanup',\n",
       " '_coerce_scalar_to_index',\n",
       " '_coerce_to_ndarray',\n",
       " '_comparables',\n",
       " '_concat',\n",
       " '_concat_same_dtype',\n",
       " '_constructor',\n",
       " '_convert_arr_indexer',\n",
       " '_convert_can_do_setop',\n",
       " '_convert_for_op',\n",
       " '_convert_index_indexer',\n",
       " '_convert_list_indexer',\n",
       " '_convert_listlike_indexer',\n",
       " '_convert_scalar_indexer',\n",
       " '_convert_slice_indexer',\n",
       " '_convert_tolerance',\n",
       " '_create_comparison_method',\n",
       " '_data',\n",
       " '_datetimelike_methods',\n",
       " '_datetimelike_ops',\n",
       " '_default_dtype',\n",
       " '_defer_to_indexing',\n",
       " '_delegate_class',\n",
       " '_delegate_method',\n",
       " '_delegate_property_get',\n",
       " '_delegate_property_set',\n",
       " '_delegated_methods',\n",
       " '_delegated_properties',\n",
       " '_deprecations',\n",
       " '_dir_additions',\n",
       " '_dir_deletions',\n",
       " '_engine',\n",
       " '_engine_type',\n",
       " '_ensure_localized',\n",
       " '_evaluate_with_datetime_like',\n",
       " '_evaluate_with_timedelta_like',\n",
       " '_extra_methods',\n",
       " '_extra_raw_methods',\n",
       " '_extra_raw_properties',\n",
       " '_fast_union',\n",
       " '_field_ops',\n",
       " '_filter_indexer_tolerance',\n",
       " '_format_attrs',\n",
       " '_format_data',\n",
       " '_format_native_types',\n",
       " '_format_space',\n",
       " '_format_with_header',\n",
       " '_formatter_func',\n",
       " '_freq',\n",
       " '_get_attributes_dict',\n",
       " '_get_fill_indexer',\n",
       " '_get_fill_indexer_searchsorted',\n",
       " '_get_grouper_for_level',\n",
       " '_get_level_number',\n",
       " '_get_level_values',\n",
       " '_get_names',\n",
       " '_get_nearest_indexer',\n",
       " '_get_reconciled_name_object',\n",
       " '_get_string_slice',\n",
       " '_get_time_micros',\n",
       " '_get_unique_index',\n",
       " '_has_complex_internals',\n",
       " '_has_same_tz',\n",
       " '_hasnans',\n",
       " '_id',\n",
       " '_infer_as_myclass',\n",
       " '_inner_indexer',\n",
       " '_internal_get_values',\n",
       " '_invalid_indexer',\n",
       " '_is_compatible_with_other',\n",
       " '_is_dates_only',\n",
       " '_is_homogeneous_type',\n",
       " '_is_memory_usage_qualified',\n",
       " '_is_monotonic_decreasing',\n",
       " '_is_monotonic_increasing',\n",
       " '_is_numeric_dtype',\n",
       " '_is_strictly_monotonic_decreasing',\n",
       " '_is_strictly_monotonic_increasing',\n",
       " '_is_unique',\n",
       " '_isnan',\n",
       " '_join_i8_wrapper',\n",
       " '_join_level',\n",
       " '_join_monotonic',\n",
       " '_join_multi',\n",
       " '_join_non_unique',\n",
       " '_join_precedence',\n",
       " '_left_indexer',\n",
       " '_left_indexer_unique',\n",
       " '_local_timestamps',\n",
       " '_map_values',\n",
       " '_maybe_cast_indexer',\n",
       " '_maybe_cast_slice_bound',\n",
       " '_maybe_mask_results',\n",
       " '_maybe_promote',\n",
       " '_maybe_update_attributes',\n",
       " '_maybe_utc_convert',\n",
       " '_mpl_repr',\n",
       " '_na_value',\n",
       " '_nan_idxs',\n",
       " '_ndarray_values',\n",
       " '_object_ops',\n",
       " '_outer_indexer',\n",
       " '_parsed_string_to_bounds',\n",
       " '_partial_date_slice',\n",
       " '_raw_methods',\n",
       " '_raw_properties',\n",
       " '_reduce',\n",
       " '_reindex_non_unique',\n",
       " '_reset_cache',\n",
       " '_reset_identity',\n",
       " '_resolution',\n",
       " '_scalar_data_error',\n",
       " '_searchsorted_monotonic',\n",
       " '_set_names',\n",
       " '_shallow_copy',\n",
       " '_shallow_copy_with_infer',\n",
       " '_simple_new',\n",
       " '_sort_levels_monotonic',\n",
       " '_string_data_error',\n",
       " '_summary',\n",
       " '_supports_partial_string_indexing',\n",
       " '_timezone',\n",
       " '_to_safe_for_reshape',\n",
       " '_try_convert_to_int_index',\n",
       " '_typ',\n",
       " '_tz',\n",
       " '_union',\n",
       " '_union_incompatible_dtypes',\n",
       " '_unpickle_compat',\n",
       " '_update_inplace',\n",
       " '_validate_for_numeric_binop',\n",
       " '_validate_for_numeric_unaryop',\n",
       " '_validate_index_level',\n",
       " '_validate_indexer',\n",
       " '_validate_names',\n",
       " '_validate_sort_keyword',\n",
       " '_values',\n",
       " '_wrap_joined_index',\n",
       " '_wrap_setop_result',\n",
       " 'all',\n",
       " 'any',\n",
       " 'append',\n",
       " 'argmax',\n",
       " 'argmin',\n",
       " 'argsort',\n",
       " 'array',\n",
       " 'asi8',\n",
       " 'asof',\n",
       " 'asof_locs',\n",
       " 'astype',\n",
       " 'ceil',\n",
       " 'contains',\n",
       " 'copy',\n",
       " 'date',\n",
       " 'day',\n",
       " 'day_name',\n",
       " 'dayofweek',\n",
       " 'dayofyear',\n",
       " 'days_in_month',\n",
       " 'daysinmonth',\n",
       " 'delete',\n",
       " 'difference',\n",
       " 'drop',\n",
       " 'drop_duplicates',\n",
       " 'droplevel',\n",
       " 'dropna',\n",
       " 'dtype',\n",
       " 'dtype_str',\n",
       " 'duplicated',\n",
       " 'empty',\n",
       " 'equals',\n",
       " 'factorize',\n",
       " 'fillna',\n",
       " 'floor',\n",
       " 'format',\n",
       " 'freq',\n",
       " 'freqstr',\n",
       " 'get_duplicates',\n",
       " 'get_indexer',\n",
       " 'get_indexer_for',\n",
       " 'get_indexer_non_unique',\n",
       " 'get_level_values',\n",
       " 'get_loc',\n",
       " 'get_slice_bound',\n",
       " 'get_value',\n",
       " 'get_value_maybe_box',\n",
       " 'get_values',\n",
       " 'groupby',\n",
       " 'has_duplicates',\n",
       " 'hasnans',\n",
       " 'holds_integer',\n",
       " 'hour',\n",
       " 'identical',\n",
       " 'indexer_at_time',\n",
       " 'indexer_between_time',\n",
       " 'inferred_freq',\n",
       " 'inferred_type',\n",
       " 'insert',\n",
       " 'intersection',\n",
       " 'is_',\n",
       " 'is_all_dates',\n",
       " 'is_boolean',\n",
       " 'is_categorical',\n",
       " 'is_floating',\n",
       " 'is_integer',\n",
       " 'is_interval',\n",
       " 'is_leap_year',\n",
       " 'is_lexsorted_for_tuple',\n",
       " 'is_mixed',\n",
       " 'is_monotonic',\n",
       " 'is_monotonic_decreasing',\n",
       " 'is_monotonic_increasing',\n",
       " 'is_month_end',\n",
       " 'is_month_start',\n",
       " 'is_normalized',\n",
       " 'is_numeric',\n",
       " 'is_object',\n",
       " 'is_quarter_end',\n",
       " 'is_quarter_start',\n",
       " 'is_type_compatible',\n",
       " 'is_unique',\n",
       " 'is_year_end',\n",
       " 'is_year_start',\n",
       " 'isin',\n",
       " 'isna',\n",
       " 'isnull',\n",
       " 'item',\n",
       " 'join',\n",
       " 'map',\n",
       " 'max',\n",
       " 'mean',\n",
       " 'memory_usage',\n",
       " 'microsecond',\n",
       " 'min',\n",
       " 'minute',\n",
       " 'month',\n",
       " 'month_name',\n",
       " 'name',\n",
       " 'names',\n",
       " 'nanosecond',\n",
       " 'nbytes',\n",
       " 'ndim',\n",
       " 'nlevels',\n",
       " 'normalize',\n",
       " 'notna',\n",
       " 'notnull',\n",
       " 'nunique',\n",
       " 'offset',\n",
       " 'putmask',\n",
       " 'quarter',\n",
       " 'ravel',\n",
       " 'reindex',\n",
       " 'rename',\n",
       " 'repeat',\n",
       " 'resolution',\n",
       " 'round',\n",
       " 'searchsorted',\n",
       " 'second',\n",
       " 'set_names',\n",
       " 'set_value',\n",
       " 'shape',\n",
       " 'shift',\n",
       " 'size',\n",
       " 'slice_indexer',\n",
       " 'slice_locs',\n",
       " 'snap',\n",
       " 'sort',\n",
       " 'sort_values',\n",
       " 'sortlevel',\n",
       " 'strftime',\n",
       " 'summary',\n",
       " 'symmetric_difference',\n",
       " 'take',\n",
       " 'time',\n",
       " 'timetz',\n",
       " 'to_flat_index',\n",
       " 'to_frame',\n",
       " 'to_julian_date',\n",
       " 'to_list',\n",
       " 'to_native_types',\n",
       " 'to_numpy',\n",
       " 'to_period',\n",
       " 'to_perioddelta',\n",
       " 'to_pydatetime',\n",
       " 'to_series',\n",
       " 'transpose',\n",
       " 'tz',\n",
       " 'tz_convert',\n",
       " 'tz_localize',\n",
       " 'tzinfo',\n",
       " 'union',\n",
       " 'union_many',\n",
       " 'unique',\n",
       " 'value_counts',\n",
       " 'values',\n",
       " 'view',\n",
       " 'week',\n",
       " 'weekday',\n",
       " 'weekday_name',\n",
       " 'weekofyear',\n",
       " 'where',\n",
       " 'year']"
      ]
     },
     "execution_count": 51,
     "metadata": {},
     "output_type": "execute_result"
    }
   ],
   "source": [
    "# Formatting String Literals. We can also pass int64 as argument\n",
    "dti = pd.to_datetime([365*24*60*60, 2*365*24*60*60, 3*365*24*60*60], unit='s')\n",
    "print(f\"The Datatype of dti is: {type(dti)}\\nThe content of dti is: {dti}\")\n",
    "dti.view('int64')\n",
    "#dir(dti)"
   ]
  },
  {
   "cell_type": "code",
   "execution_count": 137,
   "metadata": {},
   "outputs": [
    {
     "name": "stdout",
     "output_type": "stream",
     "text": [
      "Feb21 Datatype: <class 'pandas._libs.tslibs.period.Period'>\n",
      "Start Time: 2021-02-01 00:00:00\n",
      "End Time: 2021-02-28 23:59:59.999999999\n",
      "\n",
      "Q2y21 Datatype: <class 'pandas._libs.tslibs.period.Period'>\n",
      "Start Time: 2021-10-01 00:00:00\n",
      "End Time: 2021-12-31 23:59:59.999999999\n",
      "2020Q4\n",
      "\n",
      "Q4y05 ?? Datatype: <class 'pandas._libs.tslibs.period.Period'>\n",
      "Start Time: 2019-12-01 00:00:00\n",
      "End Time: 2020-02-29 23:59:59.999999999\n",
      "\n",
      "yr20 Datatype: <class 'pandas._libs.tslibs.period.Period'>\n",
      "Start Time: 2020-01-01 00:00:00\n",
      "End Time: 2020-12-31 23:59:59.999999999\n",
      "\n",
      "yr20 Datatype: <class 'pandas._libs.tslibs.period.Period'>\n",
      "Start Time: 2020-07-04 00:00:00\n",
      "End Time: 2020-07-04 23:59:59.999999999\n",
      "\n",
      "yr20 Datatype: <class 'pandas._libs.tslibs.period.Period'>\n",
      "Start Time: 2020-07-04 20:00:00\n",
      "End Time: 2020-07-04 20:59:59.999999999\n"
     ]
    },
    {
     "data": {
      "text/plain": [
       "Period('2020Q4', 'Q-FEB')"
      ]
     },
     "execution_count": 137,
     "metadata": {},
     "output_type": "execute_result"
    }
   ],
   "source": [
    "# https://pandas.pydata.org/pandas-docs/version/0.23.4/generated/pandas.Period.html\n",
    "\n",
    "Feb21 = pd.Period('2021-02') \n",
    "print(f\"Feb21 Datatype: {type(Feb21)}\\nStart Time: {Feb21.start_time}\\nEnd Time: {Feb21.end_time}\")\n",
    "\n",
    "Q2y21 = pd.Period('2021Q4')\n",
    "print(f\"\\nQ2y21 Datatype: {type(Q2y21)}\\nStart Time: {Q2y21.start_time}\\nEnd Time: {Q2y21.end_time}\")\n",
    "\n",
    "Q4y05 = pd.Period(\"4Q2020\", freq='Q-FEB')\n",
    "print(Q4y05)\n",
    "print(f\"\\nQ4y05 ?? Datatype: {type(Q4y05)}\\nStart Time: {Q4y05.start_time}\\nEnd Time: {Q4y05.end_time}\")\n",
    "\n",
    "yr20 = pd.Period('2020')\n",
    "print(f\"\\nyr20 Datatype: {type(yr20)}\\nStart Time: {yr20.start_time}\\nEnd Time: {yr20.end_time}\")\n",
    "\n",
    "dju4 = pd.Period('2020-07-04')\n",
    "dju4 = pd.Period('2020-07-04', freq='D')\n",
    "print(f\"\\nyr20 Datatype: {type(dju4)}\\nStart Time: {dju4.start_time}\\nEnd Time: {dju4.end_time}\")\n",
    "\n",
    "dju4 = pd.Period('2020-07-04 20:15:30', freq = 'H')\n",
    "#dju4 = pd.Period('2020-07-04', freq='D')\n",
    "print(f\"\\nyr20 Datatype: {type(dju4)}\\nStart Time: {dju4.start_time}\\nEnd Time: {dju4.end_time}\")\n",
    "\n",
    "\n",
    "#dir(yr20)\n",
    "Q4y05"
   ]
  },
  {
   "cell_type": "code",
   "execution_count": 133,
   "metadata": {},
   "outputs": [
    {
     "data": {
      "text/plain": [
       "Period('2020-07-06 20:00', 'H')"
      ]
     },
     "execution_count": 133,
     "metadata": {},
     "output_type": "execute_result"
    }
   ],
   "source": [
    "dju4 + pd.offsets.Hour(2)\n",
    "dju4 + pd.offsets.Day(2)"
   ]
  },
  {
   "cell_type": "code",
   "execution_count": 112,
   "metadata": {},
   "outputs": [
    {
     "data": {
      "text/plain": [
       "Period('2021-07-26', 'D')"
      ]
     },
     "execution_count": 112,
     "metadata": {},
     "output_type": "execute_result"
    }
   ],
   "source": [
    "Q4y05 + 2\n",
    "dju4 +387"
   ]
  },
  {
   "cell_type": "code",
   "execution_count": 78,
   "metadata": {
    "scrolled": true
   },
   "outputs": [
    {
     "data": {
      "text/plain": [
       "Timestamp('2021-02-28 23:59:59.999999999')"
      ]
     },
     "execution_count": 78,
     "metadata": {},
     "output_type": "execute_result"
    }
   ],
   "source": [
    "y.end_time"
   ]
  },
  {
   "cell_type": "code",
   "execution_count": 140,
   "metadata": {},
   "outputs": [
    {
     "data": {
      "text/plain": [
       "Period('2019-12', 'M')"
      ]
     },
     "execution_count": 140,
     "metadata": {},
     "output_type": "execute_result"
    }
   ],
   "source": [
    "Q4y05.asfreq('M', how=\"start\")"
   ]
  },
  {
   "cell_type": "code",
   "execution_count": 141,
   "metadata": {},
   "outputs": [
    {
     "name": "stdout",
     "output_type": "stream",
     "text": [
      "\n",
      "yr20 Datatype: <class 'pandas._libs.tslibs.period.Period'>\n",
      "Start Time: 2019-12-01 00:00:00\n",
      "End Time: 2020-02-29 23:59:59.999999999\n"
     ]
    }
   ],
   "source": [
    "print(f\"\\nyr20 Datatype: {type(Q4y05)}\\nStart Time: {Q4y05.start_time}\\nEnd Time: {Q4y05.end_time}\")"
   ]
  },
  {
   "cell_type": "code",
   "execution_count": 142,
   "metadata": {},
   "outputs": [
    {
     "data": {
      "text/plain": [
       "Period('2020-02', 'M')"
      ]
     },
     "execution_count": 142,
     "metadata": {},
     "output_type": "execute_result"
    }
   ],
   "source": [
    "Q4y05.asfreq('M', how=\"end\")"
   ]
  },
  {
   "cell_type": "code",
   "execution_count": 143,
   "metadata": {},
   "outputs": [
    {
     "name": "stdout",
     "output_type": "stream",
     "text": [
      "\n",
      "yr20 Datatype: <class 'pandas._libs.tslibs.period.Period'>\n",
      "Start Time: 2019-12-01 00:00:00\n",
      "End Time: 2020-02-29 23:59:59.999999999\n"
     ]
    }
   ],
   "source": [
    "print(f\"\\nyr20 Datatype: {type(Q4y05)}\\nStart Time: {Q4y05.start_time}\\nEnd Time: {Q4y05.end_time}\")"
   ]
  },
  {
   "cell_type": "code",
   "execution_count": 144,
   "metadata": {},
   "outputs": [
    {
     "ename": "IncompatibleFrequency",
     "evalue": "Input has different freq=Q-DEC from Period(freq=Q-FEB)",
     "output_type": "error",
     "traceback": [
      "\u001b[0;31m---------------------------------------------------------------------------\u001b[0m",
      "\u001b[0;31mIncompatibleFrequency\u001b[0m                     Traceback (most recent call last)",
      "\u001b[0;32m<ipython-input-144-f23b713503f2>\u001b[0m in \u001b[0;36m<module>\u001b[0;34m\u001b[0m\n\u001b[0;32m----> 1\u001b[0;31m \u001b[0mQ4y05\u001b[0m \u001b[0;34m-\u001b[0m \u001b[0mQ2y21\u001b[0m\u001b[0;34m\u001b[0m\u001b[0;34m\u001b[0m\u001b[0m\n\u001b[0m",
      "\u001b[0;32mpandas/_libs/tslibs/period.pyx\u001b[0m in \u001b[0;36mpandas._libs.tslibs.period._Period.__sub__\u001b[0;34m()\u001b[0m\n",
      "\u001b[0;31mIncompatibleFrequency\u001b[0m: Input has different freq=Q-DEC from Period(freq=Q-FEB)"
     ]
    }
   ],
   "source": [
    "Q4y05 - Q2y21 # same feq type for both\n",
    "diff between time periods"
   ]
  },
  {
   "cell_type": "code",
   "execution_count": 145,
   "metadata": {},
   "outputs": [],
   "source": [
    "# https://pandas.pydata.org/pandas-docs/stable/user_guide/timeseries.html"
   ]
  },
  {
   "cell_type": "code",
   "execution_count": 149,
   "metadata": {},
   "outputs": [
    {
     "data": {
      "text/plain": [
       "PeriodIndex(['2010Q4', '2011Q1', '2011Q2', '2011Q3', '2011Q4', '2012Q1',\n",
       "             '2012Q2', '2012Q3', '2012Q4'],\n",
       "            dtype='period[Q-JAN]', freq='Q-JAN')"
      ]
     },
     "execution_count": 149,
     "metadata": {},
     "output_type": "execute_result"
    }
   ],
   "source": [
    "idx = pd.period_range('2010','2012', freq='Q-Jan') # start with freq then look in year\n",
    "idx"
   ]
  },
  {
   "cell_type": "code",
   "execution_count": 150,
   "metadata": {},
   "outputs": [
    {
     "data": {
      "text/plain": [
       "Timestamp('2009-11-01 00:00:00')"
      ]
     },
     "execution_count": 150,
     "metadata": {},
     "output_type": "execute_result"
    }
   ],
   "source": [
    "idx[0].start_time"
   ]
  },
  {
   "cell_type": "code",
   "execution_count": 151,
   "metadata": {},
   "outputs": [
    {
     "data": {
      "text/plain": [
       "Timestamp('2010-01-31 23:59:59.999999999')"
      ]
     },
     "execution_count": 151,
     "metadata": {},
     "output_type": "execute_result"
    }
   ],
   "source": [
    "idx[0].end_time"
   ]
  },
  {
   "cell_type": "code",
   "execution_count": 158,
   "metadata": {},
   "outputs": [
    {
     "data": {
      "text/plain": [
       "PeriodIndex(['2010Q4', '2011Q1', '2011Q2', '2011Q3', '2011Q4', '2012Q1',\n",
       "             '2012Q2', '2012Q3', '2012Q4', '2013Q1'],\n",
       "            dtype='period[Q-JAN]', freq='Q-JAN')"
      ]
     },
     "execution_count": 158,
     "metadata": {},
     "output_type": "execute_result"
    }
   ],
   "source": [
    "idx = pd.period_range('2010', periods=10, freq='Q-Jan') # start with freq then look in year\n",
    "idx"
   ]
  },
  {
   "cell_type": "code",
   "execution_count": 159,
   "metadata": {},
   "outputs": [
    {
     "data": {
      "text/plain": [
       "2010Q4   -0.134892\n",
       "2011Q1    0.224871\n",
       "2011Q2    1.873972\n",
       "2011Q3    0.167564\n",
       "2011Q4    1.066628\n",
       "2012Q1    1.043427\n",
       "2012Q2   -0.432473\n",
       "2012Q3    0.933902\n",
       "2012Q4    1.457040\n",
       "2013Q1   -0.092180\n",
       "Freq: Q-JAN, dtype: float64"
      ]
     },
     "execution_count": 159,
     "metadata": {},
     "output_type": "execute_result"
    }
   ],
   "source": [
    "import numpy as np\n",
    "ps =pd.Series(np.random.randn(len(idx)),idx)\n",
    "ps"
   ]
  },
  {
   "cell_type": "code",
   "execution_count": 165,
   "metadata": {},
   "outputs": [
    {
     "data": {
      "text/plain": [
       "2011Q4    1.066628\n",
       "2012Q1    1.043427\n",
       "2012Q2   -0.432473\n",
       "2012Q3    0.933902\n",
       "2012Q4    1.457040\n",
       "Freq: Q-JAN, dtype: float64"
      ]
     },
     "execution_count": 165,
     "metadata": {},
     "output_type": "execute_result"
    }
   ],
   "source": [
    "ps['2011'] # filter on period index too :)"
   ]
  },
  {
   "cell_type": "code",
   "execution_count": 166,
   "metadata": {},
   "outputs": [
    {
     "data": {
      "text/plain": [
       "2011Q4    1.066628\n",
       "2012Q1    1.043427\n",
       "2012Q2   -0.432473\n",
       "2012Q3    0.933902\n",
       "2012Q4    1.457040\n",
       "2013Q1   -0.092180\n",
       "Freq: Q-JAN, dtype: float64"
      ]
     },
     "execution_count": 166,
     "metadata": {},
     "output_type": "execute_result"
    }
   ],
   "source": [
    "ps['2011':'2013'] # filter on period index too :)"
   ]
  },
  {
   "cell_type": "code",
   "execution_count": 169,
   "metadata": {},
   "outputs": [
    {
     "data": {
      "text/plain": [
       "2009-11-01   -0.134892\n",
       "2010-02-01    0.224871\n",
       "2010-05-01    1.873972\n",
       "2010-08-01    0.167564\n",
       "2010-11-01    1.066628\n",
       "2011-02-01    1.043427\n",
       "2011-05-01   -0.432473\n",
       "2011-08-01    0.933902\n",
       "2011-11-01    1.457040\n",
       "2012-02-01   -0.092180\n",
       "Freq: QS-NOV, dtype: float64"
      ]
     },
     "execution_count": 169,
     "metadata": {},
     "output_type": "execute_result"
    }
   ],
   "source": [
    "ps2=ps.to_timestamp()\n",
    "ps2"
   ]
  },
  {
   "cell_type": "code",
   "execution_count": 170,
   "metadata": {},
   "outputs": [
    {
     "data": {
      "text/plain": [
       "DatetimeIndex(['2009-11-01', '2010-02-01', '2010-05-01', '2010-08-01',\n",
       "               '2010-11-01', '2011-02-01', '2011-05-01', '2011-08-01',\n",
       "               '2011-11-01', '2012-02-01'],\n",
       "              dtype='datetime64[ns]', freq='QS-NOV')"
      ]
     },
     "execution_count": 170,
     "metadata": {},
     "output_type": "execute_result"
    }
   ],
   "source": [
    "ps2.index"
   ]
  },
  {
   "cell_type": "code",
   "execution_count": 171,
   "metadata": {},
   "outputs": [
    {
     "data": {
      "text/plain": [
       "2009Q4   -0.134892\n",
       "2010Q1    0.224871\n",
       "2010Q2    1.873972\n",
       "2010Q3    0.167564\n",
       "2010Q4    1.066628\n",
       "2011Q1    1.043427\n",
       "2011Q2   -0.432473\n",
       "2011Q3    0.933902\n",
       "2011Q4    1.457040\n",
       "2012Q1   -0.092180\n",
       "Freq: Q-DEC, dtype: float64"
      ]
     },
     "execution_count": 171,
     "metadata": {},
     "output_type": "execute_result"
    }
   ],
   "source": [
    "ps2.to_period() # back to period"
   ]
  },
  {
   "cell_type": "code",
   "execution_count": null,
   "metadata": {},
   "outputs": [],
   "source": [
    "small project video #5"
   ]
  },
  {
   "cell_type": "code",
   "execution_count": null,
   "metadata": {},
   "outputs": [],
   "source": []
  },
  {
   "cell_type": "code",
   "execution_count": null,
   "metadata": {},
   "outputs": [],
   "source": []
  },
  {
   "cell_type": "code",
   "execution_count": null,
   "metadata": {},
   "outputs": [],
   "source": [
    "# Read CSV with data parseing\n",
    "df1 = pd.read_csv('mit.csv', parse_dates=['DATE'])\n",
    "df1.tail()"
   ]
  },
  {
   "cell_type": "code",
   "execution_count": null,
   "metadata": {
    "scrolled": false
   },
   "outputs": [],
   "source": [
    "print('The datatype of DataFrame df0 is {0}'.format(type(df0)))\n",
    "print('The datatype of Column Date is {0}'.format(type(df0.DATE)))\n",
    "print('The datatype of df0 Date Cell is {0} \\n'.format(type(df0.DATE[0])))\n",
    "\n",
    "print('The datatype of df1 Date Cell is \\n{0}'.format(df1.dtypes))"
   ]
  },
  {
   "cell_type": "code",
   "execution_count": null,
   "metadata": {},
   "outputs": [],
   "source": [
    "# Read CSV with not only data parseing but also setting index\n",
    "df2 = pd.read_csv('mit.csv', parse_dates=['DATE'], index_col='DATE')\n",
    "df2.tail()"
   ]
  },
  {
   "cell_type": "code",
   "execution_count": null,
   "metadata": {},
   "outputs": [],
   "source": [
    "print('The datatype of df1 Date Cell is \\n{0}'.format(df2.dtypes))"
   ]
  },
  {
   "cell_type": "code",
   "execution_count": null,
   "metadata": {},
   "outputs": [],
   "source": [
    "# Check index value, type, name and count\n",
    "df2.index"
   ]
  },
  {
   "cell_type": "code",
   "execution_count": null,
   "metadata": {
    "scrolled": true
   },
   "outputs": [],
   "source": [
    "# feed partial index to DatetimeIndex\n",
    "df2[\"1932-02\"]"
   ]
  },
  {
   "cell_type": "code",
   "execution_count": null,
   "metadata": {},
   "outputs": [],
   "source": [
    "# feed partial index to DatetimeIndex\n",
    "df2[\"1932-02\"].PRCP.max()"
   ]
  },
  {
   "cell_type": "code",
   "execution_count": null,
   "metadata": {
    "scrolled": true
   },
   "outputs": [],
   "source": [
    "df2[\"1932-02-02\":\"1932-02-09\"]"
   ]
  },
  {
   "cell_type": "code",
   "execution_count": null,
   "metadata": {},
   "outputs": [],
   "source": [
    "# Resample data at different frequency and apply aggregate function\n",
    "df2.TMAX.resample('Q').mean()"
   ]
  },
  {
   "cell_type": "code",
   "execution_count": null,
   "metadata": {
    "scrolled": true
   },
   "outputs": [],
   "source": [
    "%matplotlib inline\n",
    "df2.TMAX.plot()"
   ]
  },
  {
   "cell_type": "code",
   "execution_count": null,
   "metadata": {},
   "outputs": [],
   "source": [
    "%matplotlib inline\n",
    "df2.TMAX.resample('M').plot()"
   ]
  },
  {
   "cell_type": "code",
   "execution_count": null,
   "metadata": {},
   "outputs": [],
   "source": [
    "%matplotlib inline\n",
    "df2.TMAX.resample('SM').mean().plot(kind='bar')"
   ]
  },
  {
   "cell_type": "code",
   "execution_count": null,
   "metadata": {},
   "outputs": [],
   "source": [
    "dr = pd.date_range(start=\"01/01/2024\", end=\"12/31/2024\", freq=\"D\")\n",
    "dr"
   ]
  },
  {
   "cell_type": "code",
   "execution_count": null,
   "metadata": {
    "scrolled": true
   },
   "outputs": [],
   "source": [
    "df0.set_index(dr,inplace=True)\n",
    "df0.head()"
   ]
  },
  {
   "cell_type": "code",
   "execution_count": null,
   "metadata": {},
   "outputs": [],
   "source": [
    "df3 = df0[[\"NAME\",\"PRCP\",\"TMAX\",\"TMIN\"]]\n",
    "df3.head(12)"
   ]
  },
  {
   "cell_type": "code",
   "execution_count": null,
   "metadata": {},
   "outputs": [],
   "source": [
    "# Set new frequency for DF\n",
    "df4 = df3.asfreq(\"B\").head(12)\n",
    "df4"
   ]
  },
  {
   "cell_type": "code",
   "execution_count": null,
   "metadata": {},
   "outputs": [],
   "source": [
    "#Carry Forward\n",
    "df4.asfreq(\"D\", method=\"pad\").head(15)"
   ]
  },
  {
   "cell_type": "code",
   "execution_count": null,
   "metadata": {},
   "outputs": [],
   "source": []
  },
  {
   "cell_type": "code",
   "execution_count": null,
   "metadata": {},
   "outputs": [],
   "source": [
    "dr2 = pd.date_range(start=\"2020-01-01\", periods=10, freq=\"B\")\n",
    "dr2"
   ]
  },
  {
   "cell_type": "code",
   "execution_count": null,
   "metadata": {},
   "outputs": [],
   "source": [
    "import numpy as np\n",
    "df5 = pd.Series(np.random.randint(1,100,len(df2)))\n",
    "df5 = pd.Series(np.random.randint(1,100,len(dr2)), index=dr2)\n",
    "df5"
   ]
  },
  {
   "cell_type": "code",
   "execution_count": null,
   "metadata": {},
   "outputs": [],
   "source": [
    "from pandas.tseries.holiday import USFederalHolidayCalendar\n",
    "from pandas.tseries.offsets import CustomBusinessDay\n",
    "\n",
    "Holiday_US = CustomBusinessDay(calendar=USFederalHolidayCalendar())\n",
    "Holiday_US"
   ]
  },
  {
   "cell_type": "code",
   "execution_count": null,
   "metadata": {},
   "outputs": [],
   "source": [
    "from pandas.tseries.holiday import AbstractHolidayCalendar, nearest_workday, Holiday\n",
    "\n",
    "class Holiday_JP(AbstractHolidayCalendar):\n",
    "    rules = [\n",
    "        Holiday('D Day', month=2, day=4, observance=nearest_workday),\n",
    "        Holiday('P Day', month=2, day=14, observance=nearest_workday)\n",
    "    ]\n",
    "\n",
    "myc =   CustomBusinessDay(calendar=Holiday_JP())\n",
    "myc"
   ]
  },
  {
   "cell_type": "code",
   "execution_count": null,
   "metadata": {},
   "outputs": [],
   "source": [
    "dr3 = pd.date_range(start=\"2020-02-03\", end=\"2020-02-18\", freq=myc)\n",
    "dr3"
   ]
  },
  {
   "cell_type": "code",
   "execution_count": null,
   "metadata": {},
   "outputs": [],
   "source": [
    "mba = CustomBusinessDay(weekmask='Fri Sat', holidays=[\"2020-01-04\",\"2020-11-28\"])\n",
    "pd.date_range(start=\"2020-01-01\", end=\"12/31/2020\", freq=mba)"
   ]
  },
  {
   "cell_type": "code",
   "execution_count": null,
   "metadata": {},
   "outputs": [],
   "source": []
  },
  {
   "cell_type": "code",
   "execution_count": null,
   "metadata": {},
   "outputs": [],
   "source": []
  }
 ],
 "metadata": {
  "kernelspec": {
   "display_name": "Python 3",
   "language": "python",
   "name": "python3"
  },
  "language_info": {
   "codemirror_mode": {
    "name": "ipython",
    "version": 3
   },
   "file_extension": ".py",
   "mimetype": "text/x-python",
   "name": "python",
   "nbconvert_exporter": "python",
   "pygments_lexer": "ipython3",
   "version": "3.7.4"
  }
 },
 "nbformat": 4,
 "nbformat_minor": 2
}
