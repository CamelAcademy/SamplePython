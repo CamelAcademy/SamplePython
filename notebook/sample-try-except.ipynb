{
 "cells": [
  {
   "cell_type": "code",
   "execution_count": 3,
   "metadata": {},
   "outputs": [
    {
     "name": "stdout",
     "output_type": "stream",
     "text": [
      "Enter a number now: 0\n",
      "Divide by Zero\n"
     ]
    }
   ],
   "source": [
    "try:\n",
    "    num = int(input(\"Enter a number now: \"))\n",
    "    print(10/num)\n",
    "except ZeroDivisionError:\n",
    "    print(\"Divide by Zero\") # Just display the error message.\n",
    "except ValueError as err:\n",
    "    print(err) # Just display the error object\n",
    "except:\n",
    "    print(\"Catch all other errors\")"
   ]
  }
 ],
 "metadata": {
  "kernelspec": {
   "display_name": "Python 3",
   "language": "python",
   "name": "python3"
  },
  "language_info": {
   "codemirror_mode": {
    "name": "ipython",
    "version": 3
   },
   "file_extension": ".py",
   "mimetype": "text/x-python",
   "name": "python",
   "nbconvert_exporter": "python",
   "pygments_lexer": "ipython3",
   "version": "3.7.4"
  }
 },
 "nbformat": 4,
 "nbformat_minor": 2
}
