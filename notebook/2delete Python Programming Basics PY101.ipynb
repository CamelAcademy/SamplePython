{
 "cells": [
  {
   "cell_type": "code",
   "execution_count": 1,
   "metadata": {},
   "outputs": [
    {
     "data": {
      "text/plain": [
       "' for Multiple line comment\\n1. Anaconda Jupyter Notebook, sdfjsdhfdsjfhdsa\\n2. Anaconda Spyder,\\n3. Jetbrains Pycharm\\n'"
      ]
     },
     "execution_count": 1,
     "metadata": {},
     "output_type": "execute_result"
    }
   ],
   "source": [
    "# Integrated Developement Environment(IDE) - use # for single line Comment\n",
    "\n",
    "\"\"\" for Multiple line comment\n",
    "1. Anaconda Jupyter Notebook, sdfjsdhfdsjfhdsa\n",
    "2. Anaconda Spyder,\n",
    "3. Jetbrains Pycharm\n",
    "\"\"\""
   ]
  },
  {
   "cell_type": "code",
   "execution_count": 12,
   "metadata": {},
   "outputs": [
    {
     "name": "stdout",
     "output_type": "stream",
     "text": [
      "<class 'int'>\n"
     ]
    }
   ],
   "source": [
    "# Python Basic Data Types - Boolean, Integer, Float, String\n",
    "\n",
    "isMale = True\n",
    "age = 74\n",
    "price = 11.99\n",
    "name = \"Donald J. Trump,\"\n",
    "print(type(age))"
   ]
  },
  {
   "cell_type": "code",
   "execution_count": 8,
   "metadata": {},
   "outputs": [
    {
     "name": "stdout",
     "output_type": "stream",
     "text": [
      "output is, Donald J. Trump , 136 136\n"
     ]
    }
   ],
   "source": [
    "#breaking Arithmetic Sequence in few lines\n",
    "\n",
    "as1 = 1 + 2 +3 + 4 + 5 + 6 + 7 + 8 + \\\n",
    "9 + 10 + 11 + 12 + 13 + 14 + 15 + 16\n",
    "\n",
    "as2 = ( 1 + 2 +3 + 4 + 5 + 6 + 7 + 8 +\n",
    "9 + 10 + 11 + 12 + 13 + 14 + 15 + 16)\n",
    "\n",
    "print(\"output is,\",name,\",\", as1, as2)"
   ]
  },
  {
   "cell_type": "code",
   "execution_count": 9,
   "metadata": {},
   "outputs": [
    {
     "name": "stdout",
     "output_type": "stream",
     "text": [
      "2.36 13 Multiple Assignment\n",
      "<class 'float'>\n",
      "13 3.42 Single Assignment\n",
      "<class 'int'>\n",
      "Same Value Same Value\n"
     ]
    }
   ],
   "source": [
    "# multiple variable & multiple assignment\n",
    "x = 2.36; y = 13; z = \"Multiple Assignment\"\n",
    "print(x,y,z); print(type(x))\n",
    "\n",
    "# multiple variable but single assignment\n",
    "x, y, z = 13, 3.42, \"Single Assignment\"\n",
    "print(x,y,z); print(type(x))\n",
    "\n",
    "# multiple variable but Same value\n",
    "x = y = \"Same Value\"\n",
    "print(x, y)"
   ]
  },
  {
   "cell_type": "code",
   "execution_count": 19,
   "metadata": {},
   "outputs": [
    {
     "name": "stdout",
     "output_type": "stream",
     "text": [
      "The whole list is:  [13, 342, 2.36, 'Dogwood']\n",
      "4th element in list is:  2.36\n",
      "The whole list is:  [13, 342, 'Spruce', 'Dogwood']\n"
     ]
    }
   ],
   "source": [
    "# List are collection of mutable variable with index 0 to n-1.\n",
    "\n",
    "l1 = [13, 342, 2.36, \"Dogwood\"]\n",
    "print(\"The whole list is: \", l1)\n",
    "print (\"4th element in list is: \", l1[2])\n",
    "l1[2] = \"Spruce\"\n",
    "print(\"The whole list is: \", l1)"
   ]
  },
  {
   "cell_type": "code",
   "execution_count": 22,
   "metadata": {},
   "outputs": [
    {
     "name": "stdout",
     "output_type": "stream",
     "text": [
      "tuple are immutable\n",
      "2\n",
      "(1, 2, 'Abc', 'ewd')\n",
      "Whole Tuple is:  ('Tulip', 11.99)\n",
      "1st element :  Tulip\n",
      "2nd element :  11.99\n"
     ]
    }
   ],
   "source": [
    "# Tuples are like list, but are immutable\n",
    "\n",
    "c1 = (1,2)\n",
    "tuple2 = (1,2,\"Abc\", \"ewd\")\n",
    "print(\"tuple are immutable\")\n",
    "print(coordinates[1])\n",
    "print(tuple2)\n",
    "\n",
    "t1 = (\"Tulip\", 11.99)\n",
    "print (\"Whole Tuple is: \",t1)\n",
    "print (\"1st element : \",t1[0])\n",
    "print (\"2nd element : \",t1[1])"
   ]
  },
  {
   "cell_type": "code",
   "execution_count": 7,
   "metadata": {},
   "outputs": [
    {
     "name": "stdout",
     "output_type": "stream",
     "text": [
      "Python does not attack humans by nature :)\n",
      "y\n",
      "but will bite and possibly constrict if it feels threatened :(\n",
      "u\n"
     ]
    }
   ],
   "source": [
    "# String is immutable, but address pointer can be changed \n",
    "s1 = \"Python does not attack humans by nature :)\"\n",
    "print (s1); print (s1[1]) #s1[2] = \"s\"\n",
    "s1 = \"but will bite and possibly constrict if it feels threatened :(\"\n",
    "print (s1); print (s1[1]) #s1[2] = \"s\""
   ]
  },
  {
   "cell_type": "code",
   "execution_count": 23,
   "metadata": {},
   "outputs": [
    {
     "name": "stdout",
     "output_type": "stream",
     "text": [
      "{3.42, 'Tom', 'Jack', 13, 'Joy', 'Jill', 'Mike', 23.6, 'Mary', 'John'}\n",
      "{'Jack', 'Camel', 13, 'Joy', 'Jill', 'Mike', 23.6, 'Mary', 'John'}\n"
     ]
    },
    {
     "data": {
      "text/plain": [
       "set"
      ]
     },
     "execution_count": 23,
     "metadata": {},
     "output_type": "execute_result"
    }
   ],
   "source": [
    "# {Set} set contains an unordered collection of unique and immutable objects\n",
    "s1 = {\"Mike\", \"Joy\", \"Tom\", \"John\", \"Mary\", \"John\", 'Mike', \"Tom\", \"Tom\", 13, \"Jack\", \"Jill\", 3.42, 23.6}\n",
    "\n",
    "print (s1)\n",
    "s1.pop();\n",
    "s1.pop();\n",
    "s1.add(\"Camel\")\n",
    "print (s1)\n",
    "type(s1)"
   ]
  },
  {
   "cell_type": "code",
   "execution_count": 9,
   "metadata": {},
   "outputs": [
    {
     "name": "stdout",
     "output_type": "stream",
     "text": [
      "{'duck', 13, 11.99, 'camel'}\n",
      "{1, 2, 3, 'Joy'}\n",
      "{1, 2, 3, 4.1, 'banana', 'mango'}\n"
     ]
    }
   ],
   "source": [
    "# can we make set from a list?\n",
    "\n",
    "l2 = [\"camel\", \"duck\", 11.99, 13, \"duck\", 11.99]\n",
    "s2 = set(l2)\n",
    "print(s2)\n",
    "\n",
    "s3 = set([1, 2, 3, 2, \"Joy\", \"Joy\"])\n",
    "print(s3)\n",
    "\n",
    "# make set on the fly\n",
    "s4 = {4.1, 2, \"banana\", 3, 1, 3, 2, \"mango\", \"banana\"}\n",
    "print(s4)"
   ]
  },
  {
   "cell_type": "code",
   "execution_count": 30,
   "metadata": {},
   "outputs": [
    {
     "name": "stdout",
     "output_type": "stream",
     "text": [
      "Key value pair - Key are unique\n",
      "Feb\n",
      "Not a valid Key\n",
      "Not a valid Key\n",
      "Hundred\n",
      "March\n",
      "{1: 'January', 100: 'Hundred', 3: 'March', 5: 'May'}\n"
     ]
    },
    {
     "data": {
      "text/plain": [
       "dict"
      ]
     },
     "execution_count": 30,
     "metadata": {},
     "output_type": "execute_result"
    }
   ],
   "source": [
    "# Dictionary is unordered collection of key-value pair and it's mutable\n",
    "\n",
    "#TO DO and FIX this\n",
    "\n",
    "print(\"Key value pair - Key are unique\")\n",
    "monthConversions = {\n",
    "    \"Jan\":\"Janury\",\n",
    "    \"Mar\":\"March\",\n",
    "    \"Apr\":\"April\",\n",
    "    \"May\":\"MAY\",\n",
    "    2:\"Feb\"\n",
    "}\n",
    "\n",
    "print(monthConversions[2])\n",
    "print(monthConversions.get(\"Feb\",\"Not a valid Key\"))\n",
    "print(monthConversions.get(3,\"Not a valid Key\"))\n",
    "\n",
    "\n",
    "d1 = {1:\"January\", 100:\"Hundred\", 3:\"March\"}\n",
    "\n",
    "print (d1[100])\n",
    "print (d1[3])\n",
    "\n",
    "d1[5] = \"May\"\n",
    "print (d1)\n",
    "\n",
    "type(d1)"
   ]
  },
  {
   "cell_type": "code",
   "execution_count": 11,
   "metadata": {},
   "outputs": [
    {
     "name": "stdout",
     "output_type": "stream",
     "text": [
      "<class 'dict'>\n",
      "<class 'set'>\n"
     ]
    }
   ],
   "source": [
    "# How to distinguish set from a dictionary while creating empty set\n",
    "\n",
    "# initialize a with {}\n",
    "d2 = {}\n",
    "print(type(d2))\n",
    "\n",
    "# initialize a with set()\n",
    "s5 = set()\n",
    "print(type(s5))"
   ]
  },
  {
   "cell_type": "code",
   "execution_count": 12,
   "metadata": {},
   "outputs": [
    {
     "name": "stdout",
     "output_type": "stream",
     "text": [
      "The data type of f1 is:  <class 'float'>\n",
      "The value in i1 is:  -34\n",
      "The data type of i1 is:  <class 'int'>\n",
      "The value in f2 is:  -34.0\n"
     ]
    }
   ],
   "source": [
    "f1  = -34.2\n",
    "print (\"The data type of f1 is: \", type(f1))\n",
    "\n",
    "# Convert Data Type (type casting)\n",
    "i1 = int(f1)\n",
    "\n",
    "print (\"The value in i1 is: \",i1)\n",
    "print (\"The data type of i1 is: \", type(i1))\n",
    "\n",
    "# Is Data Type Conversion a reversible process?\n",
    "f2 = float(i1)\n",
    "print (\"The value in f2 is: \",f2)\n",
    "\n",
    "# Can a string be converted to integer?\n",
    "# i2 = int(\"str\")"
   ]
  },
  {
   "cell_type": "code",
   "execution_count": 34,
   "metadata": {},
   "outputs": [
    {
     "name": "stdout",
     "output_type": "stream",
     "text": [
      "dasdagdgas dasdgdgas gdadgasdg String is immutable! dagsdgasd 23.4 dgasdg\n",
      "data type of s3 is: String is immutable!,,,, which contains: String is immutable!\n",
      "\n",
      "data type of s3 is: <class 'list'> \n",
      "which contains: ['S', 't', 'r', 'i', 'n', 'g', ' ', 'i', 's', ' ', 'i', 'm', 'm', 'u', 't', 'a', 'b', 'l', 'e', '!']\n",
      "\n",
      "data type of s3 is: <class 'list'> \n",
      "which contains: ['S', 't', 'r', 'i', 'n', 'g', ' ', 'i', 's', ' ', 'i', 'm', 'm', 'u', 't', 'a', 'b', 'l', 'e', '?']\n"
     ]
    }
   ],
   "source": [
    "s3 = \"String is immutable!\"\n",
    "s4 = \"23.4\"\n",
    "\n",
    "print(\"dasdagdgas dasdgdgas gdadgasdg {} dagsdgasd {} dgasdg\".format(s3,s4))\n",
    "\n",
    "print ('data type of s3 is: {},,,, which contains: {}'.format(s3, s3))\n",
    "\n",
    "l3 = list(s3)\n",
    "print ('\\ndata type of s3 is: {} \\nwhich contains: {}'.format(type(l3), l3))\n",
    "\n",
    "l3[19] = '?'\n",
    "print ('\\ndata type of s3 is: {} \\nwhich contains: {}'.format(type(l3), l3))"
   ]
  },
  {
   "cell_type": "code",
   "execution_count": 2,
   "metadata": {},
   "outputs": [
    {
     "name": "stdout",
     "output_type": "stream",
     "text": [
      "13 3.42 2.36 True\n",
      "13, 3.42, 2.36, True\n",
      "13, 3.42, 2.36, True EOL\n",
      "\n",
      "President Donald J. Trump is 74 years old\n",
      "President Donald J. Trump is\n",
      " 74 years old\n",
      "President 74 is Donald J. Trump years old\n",
      "President 74 is Donald J. Trump years old\n",
      "President Donald J. Trump is 74 years old\n",
      "President Barack H. Obama is 59 years old\n"
     ]
    }
   ],
   "source": [
    "# Let us format Input & Output :) print(*objects, sep=' ', end='\\n', file=sys.stdout, flush=False)\n",
    "\n",
    "print(13, 3.42, 2.36, True)\n",
    "print(13, 3.42, 2.36, True, sep=', ')\n",
    "print(13, 3.42, 2.36, True, sep=', ', end=' EOL')\n",
    "\n",
    "age = 74\n",
    "name = \"Donald J. Trump\"\n",
    "print('\\n\\nPresident {} is {} years old'.format(name,age))\n",
    "print('President {0} is\\n {1} years old'.format(name,age))\n",
    "print('President {0} is {1} years old'.format(age,name))\n",
    "print('President {1} is {0} years old'.format(name,age))\n",
    "print('President {1} is {0} years old'.format(age,name))\n",
    "print('President {name} is {age} years old'.format(name='Barack H. Obama', age=59))"
   ]
  },
  {
   "cell_type": "code",
   "execution_count": 38,
   "metadata": {},
   "outputs": [
    {
     "name": "stdout",
     "output_type": "stream",
     "text": [
      "Enter $$$ you have at home:home\n",
      "Enter $$$ you have at bank:bank\n"
     ]
    },
    {
     "ename": "ValueError",
     "evalue": "invalid literal for int() with base 10: 'home'",
     "output_type": "error",
     "traceback": [
      "\u001b[0;31m---------------------------------------------------------------------------\u001b[0m",
      "\u001b[0;31mValueError\u001b[0m                                Traceback (most recent call last)",
      "\u001b[0;32m<ipython-input-38-c998832505c0>\u001b[0m in \u001b[0;36m<module>\u001b[0;34m\u001b[0m\n\u001b[1;32m      2\u001b[0m \u001b[0my\u001b[0m \u001b[0;34m=\u001b[0m \u001b[0minput\u001b[0m\u001b[0;34m(\u001b[0m\u001b[0;34m'Enter $$$ you have at bank:'\u001b[0m\u001b[0;34m)\u001b[0m\u001b[0;34m\u001b[0m\u001b[0;34m\u001b[0m\u001b[0m\n\u001b[1;32m      3\u001b[0m \u001b[0;34m\u001b[0m\u001b[0m\n\u001b[0;32m----> 4\u001b[0;31m \u001b[0mi1\u001b[0m \u001b[0;34m=\u001b[0m \u001b[0mint\u001b[0m\u001b[0;34m(\u001b[0m\u001b[0mx\u001b[0m\u001b[0;34m)\u001b[0m\u001b[0;34m\u001b[0m\u001b[0;34m\u001b[0m\u001b[0m\n\u001b[0m\u001b[1;32m      5\u001b[0m \u001b[0mi2\u001b[0m \u001b[0;34m=\u001b[0m \u001b[0mint\u001b[0m\u001b[0;34m(\u001b[0m\u001b[0my\u001b[0m\u001b[0;34m)\u001b[0m\u001b[0;34m\u001b[0m\u001b[0;34m\u001b[0m\u001b[0m\n\u001b[1;32m      6\u001b[0m \u001b[0mi3\u001b[0m \u001b[0;34m=\u001b[0m \u001b[0mi1\u001b[0m \u001b[0;34m+\u001b[0m \u001b[0mi2\u001b[0m\u001b[0;34m\u001b[0m\u001b[0;34m\u001b[0m\u001b[0m\n",
      "\u001b[0;31mValueError\u001b[0m: invalid literal for int() with base 10: 'home'"
     ]
    }
   ],
   "source": [
    "x = input('Enter $$$ you have at home:')\n",
    "y = input('Enter $$$ you have at bank:')\n",
    "\n",
    "i1 = int(x)\n",
    "i2 = int(y)\n",
    "i3 = i1 + i2\n",
    "\n",
    "print('The total you have is {}, which is sum of {} and {}'.format(i3,i1,i2))"
   ]
  }
 ],
 "metadata": {
  "kernelspec": {
   "display_name": "Python 3",
   "language": "python",
   "name": "python3"
  },
  "language_info": {
   "codemirror_mode": {
    "name": "ipython",
    "version": 3
   },
   "file_extension": ".py",
   "mimetype": "text/x-python",
   "name": "python",
   "nbconvert_exporter": "python",
   "pygments_lexer": "ipython3",
   "version": "3.7.4"
  }
 },
 "nbformat": 4,
 "nbformat_minor": 2
}
