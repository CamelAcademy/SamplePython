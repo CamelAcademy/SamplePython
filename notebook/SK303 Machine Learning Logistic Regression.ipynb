{
 "cells": [
  {
   "cell_type": "code",
   "execution_count": 3,
   "metadata": {},
   "outputs": [
    {
     "data": {
      "text/plain": [
       "<function dir>"
      ]
     },
     "execution_count": 3,
     "metadata": {},
     "output_type": "execute_result"
    }
   ],
   "source": [
    "dir"
   ]
  },
  {
   "cell_type": "code",
   "execution_count": 4,
   "metadata": {},
   "outputs": [
    {
     "data": {
      "text/plain": [
       "'/Users/pichappan/Documents/SamplePython/notebook'"
      ]
     },
     "execution_count": 4,
     "metadata": {},
     "output_type": "execute_result"
    }
   ],
   "source": [
    "pwd"
   ]
  },
  {
   "cell_type": "code",
   "execution_count": 5,
   "metadata": {},
   "outputs": [
    {
     "name": "stdout",
     "output_type": "stream",
     "text": [
      "/Users/pichappan/Documents/SamplePython/input\n"
     ]
    }
   ],
   "source": [
    "cd ../input"
   ]
  },
  {
   "cell_type": "code",
   "execution_count": 2,
   "metadata": {},
   "outputs": [],
   "source": [
    "import pandas as pd\n",
    "import numpy as np\n",
    "from sklearn import linear_model"
   ]
  },
  {
   "cell_type": "raw",
   "metadata": {},
   "source": [
    "# Linear Regression - Target variable is Continuous variable\n",
    "# Logistic Regression - Target variable is Categorical Variable\n",
    "# Classification of Categorical variables - Binary(High/Low Risk), Multiclass(High,Med,Low Risk)\n",
    "# Sigmoid or Logit Function returns Y or N\n"
   ]
  },
  {
   "cell_type": "code",
   "execution_count": 9,
   "metadata": {
    "scrolled": true
   },
   "outputs": [
    {
     "data": {
      "text/html": [
       "<div>\n",
       "<style scoped>\n",
       "    .dataframe tbody tr th:only-of-type {\n",
       "        vertical-align: middle;\n",
       "    }\n",
       "\n",
       "    .dataframe tbody tr th {\n",
       "        vertical-align: top;\n",
       "    }\n",
       "\n",
       "    .dataframe thead th {\n",
       "        text-align: right;\n",
       "    }\n",
       "</style>\n",
       "<table border=\"1\" class=\"dataframe\">\n",
       "  <thead>\n",
       "    <tr style=\"text-align: right;\">\n",
       "      <th></th>\n",
       "      <th>Age</th>\n",
       "      <th>Gender</th>\n",
       "      <th>Accident</th>\n",
       "      <th>bRisk</th>\n",
       "      <th>mRisk</th>\n",
       "    </tr>\n",
       "  </thead>\n",
       "  <tbody>\n",
       "    <tr>\n",
       "      <td>94</td>\n",
       "      <td>42</td>\n",
       "      <td>F</td>\n",
       "      <td>5</td>\n",
       "      <td>High</td>\n",
       "      <td>H</td>\n",
       "    </tr>\n",
       "    <tr>\n",
       "      <td>95</td>\n",
       "      <td>34</td>\n",
       "      <td>F</td>\n",
       "      <td>5</td>\n",
       "      <td>High</td>\n",
       "      <td>H</td>\n",
       "    </tr>\n",
       "    <tr>\n",
       "      <td>96</td>\n",
       "      <td>77</td>\n",
       "      <td>M</td>\n",
       "      <td>4</td>\n",
       "      <td>High</td>\n",
       "      <td>H</td>\n",
       "    </tr>\n",
       "    <tr>\n",
       "      <td>97</td>\n",
       "      <td>68</td>\n",
       "      <td>F</td>\n",
       "      <td>7</td>\n",
       "      <td>High</td>\n",
       "      <td>H</td>\n",
       "    </tr>\n",
       "    <tr>\n",
       "      <td>98</td>\n",
       "      <td>32</td>\n",
       "      <td>M</td>\n",
       "      <td>6</td>\n",
       "      <td>High</td>\n",
       "      <td>H</td>\n",
       "    </tr>\n",
       "  </tbody>\n",
       "</table>\n",
       "</div>"
      ],
      "text/plain": [
       "    Age Gender  Accident bRisk mRisk\n",
       "94   42      F         5  High     H\n",
       "95   34      F         5  High     H\n",
       "96   77      M         4  High     H\n",
       "97   68      F         7  High     H\n",
       "98   32      M         6  High     H"
      ]
     },
     "execution_count": 9,
     "metadata": {},
     "output_type": "execute_result"
    }
   ],
   "source": [
    "df0 = pd.read_csv(\"auto_risk.csv\")\n",
    "df0.tail()"
   ]
  },
  {
   "cell_type": "code",
   "execution_count": 35,
   "metadata": {},
   "outputs": [
    {
     "data": {
      "text/html": [
       "<div>\n",
       "<style scoped>\n",
       "    .dataframe tbody tr th:only-of-type {\n",
       "        vertical-align: middle;\n",
       "    }\n",
       "\n",
       "    .dataframe tbody tr th {\n",
       "        vertical-align: top;\n",
       "    }\n",
       "\n",
       "    .dataframe thead th {\n",
       "        text-align: right;\n",
       "    }\n",
       "</style>\n",
       "<table border=\"1\" class=\"dataframe\">\n",
       "  <thead>\n",
       "    <tr style=\"text-align: right;\">\n",
       "      <th></th>\n",
       "      <th>Age</th>\n",
       "      <th>Accident</th>\n",
       "      <th>mRisk</th>\n",
       "      <th>Gender_M</th>\n",
       "      <th>bRisk_Low</th>\n",
       "    </tr>\n",
       "  </thead>\n",
       "  <tbody>\n",
       "    <tr>\n",
       "      <td>0</td>\n",
       "      <td>48</td>\n",
       "      <td>1</td>\n",
       "      <td>L</td>\n",
       "      <td>0</td>\n",
       "      <td>1</td>\n",
       "    </tr>\n",
       "    <tr>\n",
       "      <td>1</td>\n",
       "      <td>47</td>\n",
       "      <td>0</td>\n",
       "      <td>L</td>\n",
       "      <td>1</td>\n",
       "      <td>1</td>\n",
       "    </tr>\n",
       "    <tr>\n",
       "      <td>2</td>\n",
       "      <td>46</td>\n",
       "      <td>1</td>\n",
       "      <td>L</td>\n",
       "      <td>0</td>\n",
       "      <td>1</td>\n",
       "    </tr>\n",
       "    <tr>\n",
       "      <td>3</td>\n",
       "      <td>44</td>\n",
       "      <td>1</td>\n",
       "      <td>L</td>\n",
       "      <td>1</td>\n",
       "      <td>1</td>\n",
       "    </tr>\n",
       "    <tr>\n",
       "      <td>4</td>\n",
       "      <td>43</td>\n",
       "      <td>0</td>\n",
       "      <td>L</td>\n",
       "      <td>0</td>\n",
       "      <td>1</td>\n",
       "    </tr>\n",
       "  </tbody>\n",
       "</table>\n",
       "</div>"
      ],
      "text/plain": [
       "   Age  Accident mRisk  Gender_M  bRisk_Low\n",
       "0   48         1     L         0          1\n",
       "1   47         0     L         1          1\n",
       "2   46         1     L         0          1\n",
       "3   44         1     L         1          1\n",
       "4   43         0     L         0          1"
      ]
     },
     "execution_count": 35,
     "metadata": {},
     "output_type": "execute_result"
    }
   ],
   "source": [
    "df1=pd.get_dummies(df0, columns=['Gender','bRisk'], drop_first=True)\n",
    "df1.head()"
   ]
  },
  {
   "cell_type": "code",
   "execution_count": null,
   "metadata": {},
   "outputs": [],
   "source": []
  },
  {
   "cell_type": "code",
   "execution_count": null,
   "metadata": {},
   "outputs": [],
   "source": []
  },
  {
   "cell_type": "code",
   "execution_count": 14,
   "metadata": {},
   "outputs": [
    {
     "data": {
      "text/plain": [
       "<matplotlib.collections.PathCollection at 0x1a17edaa10>"
      ]
     },
     "execution_count": 14,
     "metadata": {},
     "output_type": "execute_result"
    },
    {
     "data": {
      "image/png": "[encoded data removed]",
      "text/plain": [
       "<Figure size 432x288 with 1 Axes>"
      ]
     },
     "metadata": {
      "needs_background": "light"
     },
     "output_type": "display_data"
    }
   ],
   "source": [
    "from matplotlib import pyplot as plt\n",
    "%matplotlib inline\n",
    "plt.scatter(df0.Accident, df0.bRisk, marker='+', color='red')"
   ]
  },
  {
   "cell_type": "code",
   "execution_count": 15,
   "metadata": {
    "scrolled": true
   },
   "outputs": [
    {
     "data": {
      "text/plain": [
       "(99, 5)"
      ]
     },
     "execution_count": 15,
     "metadata": {},
     "output_type": "execute_result"
    }
   ],
   "source": [
    "df0.shape"
   ]
  },
  {
   "cell_type": "code",
   "execution_count": 36,
   "metadata": {},
   "outputs": [
    {
     "data": {
      "text/plain": [
       "0     1\n",
       "1     1\n",
       "2     1\n",
       "3     1\n",
       "4     1\n",
       "     ..\n",
       "94    0\n",
       "95    0\n",
       "96    0\n",
       "97    0\n",
       "98    0\n",
       "Name: bRisk_Low, Length: 99, dtype: uint8"
      ]
     },
     "execution_count": 36,
     "metadata": {},
     "output_type": "execute_result"
    }
   ],
   "source": [
    "X_all = df1.drop(['mRisk','bRisk_Low'],axis='columns')\n",
    "y_all = df1.bRisk_Low\n",
    "y_all"
   ]
  },
  {
   "cell_type": "code",
   "execution_count": null,
   "metadata": {},
   "outputs": [],
   "source": []
  },
  {
   "cell_type": "code",
   "execution_count": null,
   "metadata": {},
   "outputs": [],
   "source": []
  },
  {
   "cell_type": "code",
   "execution_count": 38,
   "metadata": {},
   "outputs": [],
   "source": [
    "from sklearn.model_selection import train_test_split\n",
    "X_learn, X_actual, y_learn, y_actual = train_test_split(X_all, y_all, test_size=0.20, random_state=1)"
   ]
  },
  {
   "cell_type": "code",
   "execution_count": 50,
   "metadata": {
    "scrolled": true
   },
   "outputs": [
    {
     "data": {
      "text/html": [
       "<div>\n",
       "<style scoped>\n",
       "    .dataframe tbody tr th:only-of-type {\n",
       "        vertical-align: middle;\n",
       "    }\n",
       "\n",
       "    .dataframe tbody tr th {\n",
       "        vertical-align: top;\n",
       "    }\n",
       "\n",
       "    .dataframe thead th {\n",
       "        text-align: right;\n",
       "    }\n",
       "</style>\n",
       "<table border=\"1\" class=\"dataframe\">\n",
       "  <thead>\n",
       "    <tr style=\"text-align: right;\">\n",
       "      <th></th>\n",
       "      <th>Age</th>\n",
       "      <th>Accident</th>\n",
       "      <th>Gender_M</th>\n",
       "    </tr>\n",
       "  </thead>\n",
       "  <tbody>\n",
       "    <tr>\n",
       "      <td>92</td>\n",
       "      <td>36</td>\n",
       "      <td>4</td>\n",
       "      <td>0</td>\n",
       "    </tr>\n",
       "    <tr>\n",
       "      <td>83</td>\n",
       "      <td>82</td>\n",
       "      <td>1</td>\n",
       "      <td>1</td>\n",
       "    </tr>\n",
       "    <tr>\n",
       "      <td>32</td>\n",
       "      <td>26</td>\n",
       "      <td>0</td>\n",
       "      <td>1</td>\n",
       "    </tr>\n",
       "    <tr>\n",
       "      <td>80</td>\n",
       "      <td>78</td>\n",
       "      <td>1</td>\n",
       "      <td>1</td>\n",
       "    </tr>\n",
       "    <tr>\n",
       "      <td>78</td>\n",
       "      <td>23</td>\n",
       "      <td>2</td>\n",
       "      <td>1</td>\n",
       "    </tr>\n",
       "    <tr>\n",
       "      <td>17</td>\n",
       "      <td>33</td>\n",
       "      <td>0</td>\n",
       "      <td>0</td>\n",
       "    </tr>\n",
       "    <tr>\n",
       "      <td>35</td>\n",
       "      <td>24</td>\n",
       "      <td>1</td>\n",
       "      <td>0</td>\n",
       "    </tr>\n",
       "    <tr>\n",
       "      <td>81</td>\n",
       "      <td>21</td>\n",
       "      <td>2</td>\n",
       "      <td>1</td>\n",
       "    </tr>\n",
       "    <tr>\n",
       "      <td>88</td>\n",
       "      <td>25</td>\n",
       "      <td>3</td>\n",
       "      <td>1</td>\n",
       "    </tr>\n",
       "    <tr>\n",
       "      <td>91</td>\n",
       "      <td>59</td>\n",
       "      <td>3</td>\n",
       "      <td>1</td>\n",
       "    </tr>\n",
       "    <tr>\n",
       "      <td>45</td>\n",
       "      <td>16</td>\n",
       "      <td>1</td>\n",
       "      <td>0</td>\n",
       "    </tr>\n",
       "    <tr>\n",
       "      <td>33</td>\n",
       "      <td>26</td>\n",
       "      <td>1</td>\n",
       "      <td>1</td>\n",
       "    </tr>\n",
       "    <tr>\n",
       "      <td>54</td>\n",
       "      <td>45</td>\n",
       "      <td>2</td>\n",
       "      <td>0</td>\n",
       "    </tr>\n",
       "    <tr>\n",
       "      <td>77</td>\n",
       "      <td>76</td>\n",
       "      <td>1</td>\n",
       "      <td>1</td>\n",
       "    </tr>\n",
       "    <tr>\n",
       "      <td>62</td>\n",
       "      <td>38</td>\n",
       "      <td>2</td>\n",
       "      <td>1</td>\n",
       "    </tr>\n",
       "    <tr>\n",
       "      <td>31</td>\n",
       "      <td>26</td>\n",
       "      <td>0</td>\n",
       "      <td>0</td>\n",
       "    </tr>\n",
       "    <tr>\n",
       "      <td>58</td>\n",
       "      <td>58</td>\n",
       "      <td>1</td>\n",
       "      <td>0</td>\n",
       "    </tr>\n",
       "    <tr>\n",
       "      <td>48</td>\n",
       "      <td>50</td>\n",
       "      <td>1</td>\n",
       "      <td>1</td>\n",
       "    </tr>\n",
       "    <tr>\n",
       "      <td>87</td>\n",
       "      <td>62</td>\n",
       "      <td>2</td>\n",
       "      <td>1</td>\n",
       "    </tr>\n",
       "    <tr>\n",
       "      <td>10</td>\n",
       "      <td>38</td>\n",
       "      <td>1</td>\n",
       "      <td>0</td>\n",
       "    </tr>\n",
       "  </tbody>\n",
       "</table>\n",
       "</div>"
      ],
      "text/plain": [
       "    Age  Accident  Gender_M\n",
       "92   36         4         0\n",
       "83   82         1         1\n",
       "32   26         0         1\n",
       "80   78         1         1\n",
       "78   23         2         1\n",
       "17   33         0         0\n",
       "35   24         1         0\n",
       "81   21         2         1\n",
       "88   25         3         1\n",
       "91   59         3         1\n",
       "45   16         1         0\n",
       "33   26         1         1\n",
       "54   45         2         0\n",
       "77   76         1         1\n",
       "62   38         2         1\n",
       "31   26         0         0\n",
       "58   58         1         0\n",
       "48   50         1         1\n",
       "87   62         2         1\n",
       "10   38         1         0"
      ]
     },
     "execution_count": 50,
     "metadata": {},
     "output_type": "execute_result"
    }
   ],
   "source": [
    "X_actual"
   ]
  },
  {
   "cell_type": "code",
   "execution_count": 40,
   "metadata": {},
   "outputs": [
    {
     "name": "stderr",
     "output_type": "stream",
     "text": [
      "/opt/anaconda3/lib/python3.7/site-packages/sklearn/linear_model/logistic.py:432: FutureWarning: Default solver will be changed to 'lbfgs' in 0.22. Specify a solver to silence this warning.\n",
      "  FutureWarning)\n"
     ]
    },
    {
     "data": {
      "text/plain": [
       "LogisticRegression(C=1.0, class_weight=None, dual=False, fit_intercept=True,\n",
       "                   intercept_scaling=1, l1_ratio=None, max_iter=100,\n",
       "                   multi_class='warn', n_jobs=None, penalty='l2',\n",
       "                   random_state=None, solver='warn', tol=0.0001, verbose=0,\n",
       "                   warm_start=False)"
      ]
     },
     "execution_count": 40,
     "metadata": {},
     "output_type": "execute_result"
    }
   ],
   "source": [
    "from sklearn.linear_model import LogisticRegression\n",
    "lrModel = LogisticRegression()\n",
    "lrModel.fit(X_learn, y_learn)"
   ]
  },
  {
   "cell_type": "code",
   "execution_count": 52,
   "metadata": {},
   "outputs": [
    {
     "data": {
      "text/plain": [
       "array([0], dtype=uint8)"
      ]
     },
     "execution_count": 52,
     "metadata": {},
     "output_type": "execute_result"
    }
   ],
   "source": [
    "lrModel.predict([[36,4,0]])"
   ]
  },
  {
   "cell_type": "code",
   "execution_count": 42,
   "metadata": {
    "scrolled": true
   },
   "outputs": [
    {
     "data": {
      "text/plain": [
       "array([0, 0, 1, 0, 1, 1, 1, 1, 0, 0, 1, 1, 0, 0, 0, 1, 0, 0, 0, 1],\n",
       "      dtype=uint8)"
      ]
     },
     "execution_count": 42,
     "metadata": {},
     "output_type": "execute_result"
    }
   ],
   "source": [
    "lrModel.predict(X_actual)"
   ]
  },
  {
   "cell_type": "code",
   "execution_count": 43,
   "metadata": {},
   "outputs": [
    {
     "data": {
      "text/plain": [
       "0.85"
      ]
     },
     "execution_count": 43,
     "metadata": {},
     "output_type": "execute_result"
    }
   ],
   "source": [
    "lrModel.score(X_actual, y_actual)"
   ]
  },
  {
   "cell_type": "code",
   "execution_count": 45,
   "metadata": {},
   "outputs": [
    {
     "data": {
      "text/plain": [
       "array([[0.9812831 , 0.0187169 ],\n",
       "       [0.90042473, 0.09957527],\n",
       "       [0.07192562, 0.92807438],\n",
       "       [0.8764829 , 0.1235171 ],\n",
       "       [0.49798725, 0.50201275],\n",
       "       [0.15645345, 0.84354655],\n",
       "       [0.2963644 , 0.7036356 ],\n",
       "       [0.46773026, 0.53226974],\n",
       "       [0.81438769, 0.18561231],\n",
       "       [0.97178567, 0.02821433],\n",
       "       [0.20595194, 0.79404806],\n",
       "       [0.23292653, 0.76707347],\n",
       "       [0.85490835, 0.14509165],\n",
       "       [0.86275108, 0.13724892],\n",
       "       [0.71115616, 0.28884384],\n",
       "       [0.10821712, 0.89178288],\n",
       "       [0.76778714, 0.23221286],\n",
       "       [0.56528305, 0.43471695],\n",
       "       [0.91337015, 0.08662985],\n",
       "       [0.49594565, 0.50405435]])"
      ]
     },
     "execution_count": 45,
     "metadata": {},
     "output_type": "execute_result"
    }
   ],
   "source": [
    "lrModel.predict_proba(X_actual)"
   ]
  },
  {
   "cell_type": "code",
   "execution_count": null,
   "metadata": {},
   "outputs": [],
   "source": []
  },
  {
   "cell_type": "code",
   "execution_count": null,
   "metadata": {},
   "outputs": [],
   "source": []
  },
  {
   "cell_type": "code",
   "execution_count": null,
   "metadata": {},
   "outputs": [],
   "source": []
  },
  {
   "cell_type": "code",
   "execution_count": null,
   "metadata": {},
   "outputs": [],
   "source": []
  },
  {
   "cell_type": "code",
   "execution_count": null,
   "metadata": {},
   "outputs": [],
   "source": []
  },
  {
   "cell_type": "code",
   "execution_count": null,
   "metadata": {},
   "outputs": [],
   "source": []
  },
  {
   "cell_type": "code",
   "execution_count": null,
   "metadata": {},
   "outputs": [],
   "source": []
  },
  {
   "cell_type": "code",
   "execution_count": null,
   "metadata": {},
   "outputs": [],
   "source": []
  },
  {
   "cell_type": "code",
   "execution_count": null,
   "metadata": {},
   "outputs": [],
   "source": []
  },
  {
   "cell_type": "code",
   "execution_count": 5,
   "metadata": {},
   "outputs": [
    {
     "data": {
      "text/html": [
       "<div>\n",
       "<style scoped>\n",
       "    .dataframe tbody tr th:only-of-type {\n",
       "        vertical-align: middle;\n",
       "    }\n",
       "\n",
       "    .dataframe tbody tr th {\n",
       "        vertical-align: top;\n",
       "    }\n",
       "\n",
       "    .dataframe thead th {\n",
       "        text-align: right;\n",
       "    }\n",
       "</style>\n",
       "<table border=\"1\" class=\"dataframe\">\n",
       "  <thead>\n",
       "    <tr style=\"text-align: right;\">\n",
       "      <th></th>\n",
       "      <th>Boroughs</th>\n",
       "      <th>Latitude</th>\n",
       "      <th>Longitude</th>\n",
       "      <th>Prop_Type</th>\n",
       "      <th>Min_Nights</th>\n",
       "      <th>Host_Listing_Cnt</th>\n",
       "      <th>Days_Available</th>\n",
       "      <th>Review_Cnt</th>\n",
       "      <th>Reviews30d</th>\n",
       "      <th>Price</th>\n",
       "    </tr>\n",
       "  </thead>\n",
       "  <tbody>\n",
       "    <tr>\n",
       "      <td>38728</td>\n",
       "      <td>Staten Island</td>\n",
       "      <td>40.64641</td>\n",
       "      <td>-74.08502</td>\n",
       "      <td>EntireHome</td>\n",
       "      <td>2.0</td>\n",
       "      <td>1.0</td>\n",
       "      <td>106</td>\n",
       "      <td>58</td>\n",
       "      <td>4.73</td>\n",
       "      <td>130.0</td>\n",
       "    </tr>\n",
       "    <tr>\n",
       "      <td>38729</td>\n",
       "      <td>Staten Island</td>\n",
       "      <td>40.64682</td>\n",
       "      <td>-74.08734</td>\n",
       "      <td>PrivateRoom</td>\n",
       "      <td>20.0</td>\n",
       "      <td>1.0</td>\n",
       "      <td>89</td>\n",
       "      <td>58</td>\n",
       "      <td>1.05</td>\n",
       "      <td>43.0</td>\n",
       "    </tr>\n",
       "    <tr>\n",
       "      <td>38730</td>\n",
       "      <td>Staten Island</td>\n",
       "      <td>40.64730</td>\n",
       "      <td>-74.08408</td>\n",
       "      <td>PrivateRoom</td>\n",
       "      <td>30.0</td>\n",
       "      <td>4.0</td>\n",
       "      <td>0</td>\n",
       "      <td>85</td>\n",
       "      <td>1.35</td>\n",
       "      <td>105.0</td>\n",
       "    </tr>\n",
       "    <tr>\n",
       "      <td>38731</td>\n",
       "      <td>Staten Island</td>\n",
       "      <td>40.64762</td>\n",
       "      <td>-74.08682</td>\n",
       "      <td>EntireHome</td>\n",
       "      <td>3.0</td>\n",
       "      <td>1.0</td>\n",
       "      <td>232</td>\n",
       "      <td>5</td>\n",
       "      <td>1.88</td>\n",
       "      <td>135.0</td>\n",
       "    </tr>\n",
       "    <tr>\n",
       "      <td>38732</td>\n",
       "      <td>Staten Island</td>\n",
       "      <td>40.64779</td>\n",
       "      <td>-74.08460</td>\n",
       "      <td>EntireHome</td>\n",
       "      <td>1.0</td>\n",
       "      <td>1.0</td>\n",
       "      <td>250</td>\n",
       "      <td>108</td>\n",
       "      <td>2.32</td>\n",
       "      <td>140.0</td>\n",
       "    </tr>\n",
       "  </tbody>\n",
       "</table>\n",
       "</div>"
      ],
      "text/plain": [
       "            Boroughs  Latitude  Longitude    Prop_Type  Min_Nights  \\\n",
       "38728  Staten Island  40.64641  -74.08502   EntireHome         2.0   \n",
       "38729  Staten Island  40.64682  -74.08734  PrivateRoom        20.0   \n",
       "38730  Staten Island  40.64730  -74.08408  PrivateRoom        30.0   \n",
       "38731  Staten Island  40.64762  -74.08682   EntireHome         3.0   \n",
       "38732  Staten Island  40.64779  -74.08460   EntireHome         1.0   \n",
       "\n",
       "       Host_Listing_Cnt  Days_Available  Review_Cnt  Reviews30d  Price  \n",
       "38728               1.0             106          58        4.73  130.0  \n",
       "38729               1.0              89          58        1.05   43.0  \n",
       "38730               4.0               0          85        1.35  105.0  \n",
       "38731               1.0             232           5        1.88  135.0  \n",
       "38732               1.0             250         108        2.32  140.0  "
      ]
     },
     "execution_count": 5,
     "metadata": {},
     "output_type": "execute_result"
    }
   ],
   "source": [
    "df0 = pd.read_csv(\"Airbnb_NYC.csv\")\n",
    "df0.tail()"
   ]
  },
  {
   "cell_type": "code",
   "execution_count": 6,
   "metadata": {
    "scrolled": true
   },
   "outputs": [
    {
     "data": {
      "text/plain": [
       "EntireHome     20173\n",
       "PrivateRoom    17720\n",
       "SharedRoom       840\n",
       "Name: Prop_Type, dtype: int64"
      ]
     },
     "execution_count": 6,
     "metadata": {},
     "output_type": "execute_result"
    }
   ],
   "source": [
    "# Data Pre-Processing - Cleansing, Editing, Reduction, Munging, Wrangling\n",
    "\n",
    "df1 = df0.dropna(thresh=9)\n",
    " \n",
    "df1.Min_Nights.fillna(df1.Min_Nights.median())\n",
    "df1.Host_Listing_Cnt.fillna(df1.Host_Listing_Cnt.median())\n",
    "df1.Days_Available.fillna(df1.Days_Available.median())\n",
    "df1.Review_Cnt.fillna(df1.Review_Cnt.median())\n",
    "df1.Reviews30d.fillna(df1.Reviews30d.median())\n",
    "df1.Price.fillna(df1.Price.median())\n",
    " \n",
    "df1.Prop_Type.value_counts()"
   ]
  },
  {
   "cell_type": "code",
   "execution_count": 7,
   "metadata": {},
   "outputs": [
    {
     "data": {
      "text/html": [
       "<div>\n",
       "<style scoped>\n",
       "    .dataframe tbody tr th:only-of-type {\n",
       "        vertical-align: middle;\n",
       "    }\n",
       "\n",
       "    .dataframe tbody tr th {\n",
       "        vertical-align: top;\n",
       "    }\n",
       "\n",
       "    .dataframe thead th {\n",
       "        text-align: right;\n",
       "    }\n",
       "</style>\n",
       "<table border=\"1\" class=\"dataframe\">\n",
       "  <thead>\n",
       "    <tr style=\"text-align: right;\">\n",
       "      <th></th>\n",
       "      <th>Boroughs</th>\n",
       "      <th>Latitude</th>\n",
       "      <th>Longitude</th>\n",
       "      <th>Prop_Type</th>\n",
       "      <th>Min_Nights</th>\n",
       "      <th>Host_Listing_Cnt</th>\n",
       "      <th>Days_Available</th>\n",
       "      <th>Review_Cnt</th>\n",
       "      <th>Reviews30d</th>\n",
       "      <th>Price</th>\n",
       "      <th>isEntireHome</th>\n",
       "      <th>isPrivateRoom</th>\n",
       "    </tr>\n",
       "  </thead>\n",
       "  <tbody>\n",
       "    <tr>\n",
       "      <td>3</td>\n",
       "      <td>Bronx</td>\n",
       "      <td>40.80091</td>\n",
       "      <td>-73.91449</td>\n",
       "      <td>PrivateRoom</td>\n",
       "      <td>21.0</td>\n",
       "      <td>2.0</td>\n",
       "      <td>117</td>\n",
       "      <td>18</td>\n",
       "      <td>0.36</td>\n",
       "      <td>71.0</td>\n",
       "      <td>0</td>\n",
       "      <td>1</td>\n",
       "    </tr>\n",
       "    <tr>\n",
       "      <td>4</td>\n",
       "      <td>Bronx</td>\n",
       "      <td>40.80143</td>\n",
       "      <td>-73.91353</td>\n",
       "      <td>EntireHome</td>\n",
       "      <td>2.0</td>\n",
       "      <td>3.0</td>\n",
       "      <td>0</td>\n",
       "      <td>12</td>\n",
       "      <td>3.50</td>\n",
       "      <td>115.0</td>\n",
       "      <td>1</td>\n",
       "      <td>0</td>\n",
       "    </tr>\n",
       "  </tbody>\n",
       "</table>\n",
       "</div>"
      ],
      "text/plain": [
       "  Boroughs  Latitude  Longitude    Prop_Type  Min_Nights  Host_Listing_Cnt  \\\n",
       "3    Bronx  40.80091  -73.91449  PrivateRoom        21.0               2.0   \n",
       "4    Bronx  40.80143  -73.91353   EntireHome         2.0               3.0   \n",
       "\n",
       "   Days_Available  Review_Cnt  Reviews30d  Price  isEntireHome  isPrivateRoom  \n",
       "3             117          18        0.36   71.0             0              1  \n",
       "4               0          12        3.50  115.0             1              0  "
      ]
     },
     "execution_count": 7,
     "metadata": {},
     "output_type": "execute_result"
    }
   ],
   "source": [
    "# Create 2 new Columns with map method, it's quick & easy\n",
    "\n",
    "df1['isEntireHome'] = df1.Prop_Type.map({'EntireHome':1,'PrivateRoom':0,'SharedRoom':0})\n",
    "df1['isPrivateRoom'] = df1.Prop_Type.map({'EntireHome':0,'PrivateRoom':1,'SharedRoom':0})\n",
    "df1[3:5] # show rows with ids from 3 to 4 but not 5"
   ]
  },
  {
   "cell_type": "code",
   "execution_count": 8,
   "metadata": {},
   "outputs": [],
   "source": [
    "# One-Hot-Encoding and the Dummy Variable - easy & flexible\n",
    "dummyBoro = pd.get_dummies(df1.Boroughs, prefix='is').iloc[:,:4] # [all rows, 4 column from start] dropped last column\n",
    "dummyProp = pd.get_dummies(df1.Prop_Type, prefix='is').iloc[:,1:] # [all rows, column 1 through end] dropped first column"
   ]
  },
  {
   "cell_type": "code",
   "execution_count": 9,
   "metadata": {},
   "outputs": [
    {
     "data": {
      "text/html": [
       "<div>\n",
       "<style scoped>\n",
       "    .dataframe tbody tr th:only-of-type {\n",
       "        vertical-align: middle;\n",
       "    }\n",
       "\n",
       "    .dataframe tbody tr th {\n",
       "        vertical-align: top;\n",
       "    }\n",
       "\n",
       "    .dataframe thead th {\n",
       "        text-align: right;\n",
       "    }\n",
       "</style>\n",
       "<table border=\"1\" class=\"dataframe\">\n",
       "  <thead>\n",
       "    <tr style=\"text-align: right;\">\n",
       "      <th></th>\n",
       "      <th>Boroughs</th>\n",
       "      <th>Latitude</th>\n",
       "      <th>Longitude</th>\n",
       "      <th>Prop_Type</th>\n",
       "      <th>Min_Nights</th>\n",
       "      <th>Host_Listing_Cnt</th>\n",
       "      <th>Days_Available</th>\n",
       "      <th>Review_Cnt</th>\n",
       "      <th>Reviews30d</th>\n",
       "      <th>Price</th>\n",
       "      <th>isEntireHome</th>\n",
       "      <th>isPrivateRoom</th>\n",
       "      <th>is_Bronx</th>\n",
       "      <th>is_Brooklyn</th>\n",
       "      <th>is_Manhattan</th>\n",
       "      <th>is_Queens</th>\n",
       "    </tr>\n",
       "  </thead>\n",
       "  <tbody>\n",
       "    <tr>\n",
       "      <td>0</td>\n",
       "      <td>Bronx</td>\n",
       "      <td>40.80011</td>\n",
       "      <td>-73.91330</td>\n",
       "      <td>PrivateRoom</td>\n",
       "      <td>21.0</td>\n",
       "      <td>2.0</td>\n",
       "      <td>291</td>\n",
       "      <td>19</td>\n",
       "      <td>0.27</td>\n",
       "      <td>60.0</td>\n",
       "      <td>0</td>\n",
       "      <td>1</td>\n",
       "      <td>1</td>\n",
       "      <td>0</td>\n",
       "      <td>0</td>\n",
       "      <td>0</td>\n",
       "    </tr>\n",
       "    <tr>\n",
       "      <td>1</td>\n",
       "      <td>Bronx</td>\n",
       "      <td>40.80024</td>\n",
       "      <td>-73.91422</td>\n",
       "      <td>PrivateRoom</td>\n",
       "      <td>3.0</td>\n",
       "      <td>1.0</td>\n",
       "      <td>0</td>\n",
       "      <td>59</td>\n",
       "      <td>2.93</td>\n",
       "      <td>49.0</td>\n",
       "      <td>0</td>\n",
       "      <td>1</td>\n",
       "      <td>1</td>\n",
       "      <td>0</td>\n",
       "      <td>0</td>\n",
       "      <td>0</td>\n",
       "    </tr>\n",
       "    <tr>\n",
       "      <td>2</td>\n",
       "      <td>Bronx</td>\n",
       "      <td>40.80074</td>\n",
       "      <td>-73.91574</td>\n",
       "      <td>PrivateRoom</td>\n",
       "      <td>3.0</td>\n",
       "      <td>1.0</td>\n",
       "      <td>354</td>\n",
       "      <td>3</td>\n",
       "      <td>0.87</td>\n",
       "      <td>50.0</td>\n",
       "      <td>0</td>\n",
       "      <td>1</td>\n",
       "      <td>1</td>\n",
       "      <td>0</td>\n",
       "      <td>0</td>\n",
       "      <td>0</td>\n",
       "    </tr>\n",
       "    <tr>\n",
       "      <td>3</td>\n",
       "      <td>Bronx</td>\n",
       "      <td>40.80091</td>\n",
       "      <td>-73.91449</td>\n",
       "      <td>PrivateRoom</td>\n",
       "      <td>21.0</td>\n",
       "      <td>2.0</td>\n",
       "      <td>117</td>\n",
       "      <td>18</td>\n",
       "      <td>0.36</td>\n",
       "      <td>71.0</td>\n",
       "      <td>0</td>\n",
       "      <td>1</td>\n",
       "      <td>1</td>\n",
       "      <td>0</td>\n",
       "      <td>0</td>\n",
       "      <td>0</td>\n",
       "    </tr>\n",
       "    <tr>\n",
       "      <td>4</td>\n",
       "      <td>Bronx</td>\n",
       "      <td>40.80143</td>\n",
       "      <td>-73.91353</td>\n",
       "      <td>EntireHome</td>\n",
       "      <td>2.0</td>\n",
       "      <td>3.0</td>\n",
       "      <td>0</td>\n",
       "      <td>12</td>\n",
       "      <td>3.50</td>\n",
       "      <td>115.0</td>\n",
       "      <td>1</td>\n",
       "      <td>0</td>\n",
       "      <td>1</td>\n",
       "      <td>0</td>\n",
       "      <td>0</td>\n",
       "      <td>0</td>\n",
       "    </tr>\n",
       "  </tbody>\n",
       "</table>\n",
       "</div>"
      ],
      "text/plain": [
       "  Boroughs  Latitude  Longitude    Prop_Type  Min_Nights  Host_Listing_Cnt  \\\n",
       "0    Bronx  40.80011  -73.91330  PrivateRoom        21.0               2.0   \n",
       "1    Bronx  40.80024  -73.91422  PrivateRoom         3.0               1.0   \n",
       "2    Bronx  40.80074  -73.91574  PrivateRoom         3.0               1.0   \n",
       "3    Bronx  40.80091  -73.91449  PrivateRoom        21.0               2.0   \n",
       "4    Bronx  40.80143  -73.91353   EntireHome         2.0               3.0   \n",
       "\n",
       "   Days_Available  Review_Cnt  Reviews30d  Price  isEntireHome  isPrivateRoom  \\\n",
       "0             291          19        0.27   60.0             0              1   \n",
       "1               0          59        2.93   49.0             0              1   \n",
       "2             354           3        0.87   50.0             0              1   \n",
       "3             117          18        0.36   71.0             0              1   \n",
       "4               0          12        3.50  115.0             1              0   \n",
       "\n",
       "   is_Bronx  is_Brooklyn  is_Manhattan  is_Queens  \n",
       "0         1            0             0          0  \n",
       "1         1            0             0          0  \n",
       "2         1            0             0          0  \n",
       "3         1            0             0          0  \n",
       "4         1            0             0          0  "
      ]
     },
     "execution_count": 9,
     "metadata": {},
     "output_type": "execute_result"
    }
   ],
   "source": [
    "df2 = pd.concat([df1,dummyBoro, dummyProp], axis='columns') # concat 3 df\n",
    "df2 = pd.concat([df1,dummyBoro], axis='columns') # or axis=1\n",
    "df2.head()"
   ]
  },
  {
   "cell_type": "code",
   "execution_count": 10,
   "metadata": {},
   "outputs": [
    {
     "data": {
      "text/plain": [
       "(38331, 14)"
      ]
     },
     "execution_count": 10,
     "metadata": {},
     "output_type": "execute_result"
    }
   ],
   "source": [
    "# Dummy variable trap, Multicollinearity (1 variable can be predicted from another)\n",
    "df3 = df2.drop(['Boroughs','Prop_Type'], axis='columns')\n",
    "df3.dropna(inplace=True) # Drop rows with NaN\n",
    "df3.shape"
   ]
  },
  {
   "cell_type": "code",
   "execution_count": 11,
   "metadata": {},
   "outputs": [
    {
     "data": {
      "text/html": [
       "<div>\n",
       "<style scoped>\n",
       "    .dataframe tbody tr th:only-of-type {\n",
       "        vertical-align: middle;\n",
       "    }\n",
       "\n",
       "    .dataframe tbody tr th {\n",
       "        vertical-align: top;\n",
       "    }\n",
       "\n",
       "    .dataframe thead th {\n",
       "        text-align: right;\n",
       "    }\n",
       "</style>\n",
       "<table border=\"1\" class=\"dataframe\">\n",
       "  <thead>\n",
       "    <tr style=\"text-align: right;\">\n",
       "      <th></th>\n",
       "      <th>Latitude</th>\n",
       "      <th>Longitude</th>\n",
       "      <th>Min_Nights</th>\n",
       "      <th>Host_Listing_Cnt</th>\n",
       "      <th>Days_Available</th>\n",
       "      <th>Review_Cnt</th>\n",
       "      <th>Reviews30d</th>\n",
       "      <th>Price</th>\n",
       "      <th>isEntireHome</th>\n",
       "      <th>isPrivateRoom</th>\n",
       "      <th>Boroughs_Brooklyn</th>\n",
       "      <th>Boroughs_Manhattan</th>\n",
       "      <th>Boroughs_Queens</th>\n",
       "      <th>Boroughs_Staten Island</th>\n",
       "      <th>Prop_Type_PrivateRoom</th>\n",
       "      <th>Prop_Type_SharedRoom</th>\n",
       "    </tr>\n",
       "  </thead>\n",
       "  <tbody>\n",
       "    <tr>\n",
       "      <td>0</td>\n",
       "      <td>40.80011</td>\n",
       "      <td>-73.91330</td>\n",
       "      <td>21.0</td>\n",
       "      <td>2.0</td>\n",
       "      <td>291</td>\n",
       "      <td>19</td>\n",
       "      <td>0.27</td>\n",
       "      <td>60.0</td>\n",
       "      <td>0</td>\n",
       "      <td>1</td>\n",
       "      <td>0</td>\n",
       "      <td>0</td>\n",
       "      <td>0</td>\n",
       "      <td>0</td>\n",
       "      <td>1</td>\n",
       "      <td>0</td>\n",
       "    </tr>\n",
       "    <tr>\n",
       "      <td>1</td>\n",
       "      <td>40.80024</td>\n",
       "      <td>-73.91422</td>\n",
       "      <td>3.0</td>\n",
       "      <td>1.0</td>\n",
       "      <td>0</td>\n",
       "      <td>59</td>\n",
       "      <td>2.93</td>\n",
       "      <td>49.0</td>\n",
       "      <td>0</td>\n",
       "      <td>1</td>\n",
       "      <td>0</td>\n",
       "      <td>0</td>\n",
       "      <td>0</td>\n",
       "      <td>0</td>\n",
       "      <td>1</td>\n",
       "      <td>0</td>\n",
       "    </tr>\n",
       "    <tr>\n",
       "      <td>2</td>\n",
       "      <td>40.80074</td>\n",
       "      <td>-73.91574</td>\n",
       "      <td>3.0</td>\n",
       "      <td>1.0</td>\n",
       "      <td>354</td>\n",
       "      <td>3</td>\n",
       "      <td>0.87</td>\n",
       "      <td>50.0</td>\n",
       "      <td>0</td>\n",
       "      <td>1</td>\n",
       "      <td>0</td>\n",
       "      <td>0</td>\n",
       "      <td>0</td>\n",
       "      <td>0</td>\n",
       "      <td>1</td>\n",
       "      <td>0</td>\n",
       "    </tr>\n",
       "    <tr>\n",
       "      <td>3</td>\n",
       "      <td>40.80091</td>\n",
       "      <td>-73.91449</td>\n",
       "      <td>21.0</td>\n",
       "      <td>2.0</td>\n",
       "      <td>117</td>\n",
       "      <td>18</td>\n",
       "      <td>0.36</td>\n",
       "      <td>71.0</td>\n",
       "      <td>0</td>\n",
       "      <td>1</td>\n",
       "      <td>0</td>\n",
       "      <td>0</td>\n",
       "      <td>0</td>\n",
       "      <td>0</td>\n",
       "      <td>1</td>\n",
       "      <td>0</td>\n",
       "    </tr>\n",
       "    <tr>\n",
       "      <td>4</td>\n",
       "      <td>40.80143</td>\n",
       "      <td>-73.91353</td>\n",
       "      <td>2.0</td>\n",
       "      <td>3.0</td>\n",
       "      <td>0</td>\n",
       "      <td>12</td>\n",
       "      <td>3.50</td>\n",
       "      <td>115.0</td>\n",
       "      <td>1</td>\n",
       "      <td>0</td>\n",
       "      <td>0</td>\n",
       "      <td>0</td>\n",
       "      <td>0</td>\n",
       "      <td>0</td>\n",
       "      <td>0</td>\n",
       "      <td>0</td>\n",
       "    </tr>\n",
       "    <tr>\n",
       "      <td>...</td>\n",
       "      <td>...</td>\n",
       "      <td>...</td>\n",
       "      <td>...</td>\n",
       "      <td>...</td>\n",
       "      <td>...</td>\n",
       "      <td>...</td>\n",
       "      <td>...</td>\n",
       "      <td>...</td>\n",
       "      <td>...</td>\n",
       "      <td>...</td>\n",
       "      <td>...</td>\n",
       "      <td>...</td>\n",
       "      <td>...</td>\n",
       "      <td>...</td>\n",
       "      <td>...</td>\n",
       "      <td>...</td>\n",
       "    </tr>\n",
       "    <tr>\n",
       "      <td>38728</td>\n",
       "      <td>40.64641</td>\n",
       "      <td>-74.08502</td>\n",
       "      <td>2.0</td>\n",
       "      <td>1.0</td>\n",
       "      <td>106</td>\n",
       "      <td>58</td>\n",
       "      <td>4.73</td>\n",
       "      <td>130.0</td>\n",
       "      <td>1</td>\n",
       "      <td>0</td>\n",
       "      <td>0</td>\n",
       "      <td>0</td>\n",
       "      <td>0</td>\n",
       "      <td>1</td>\n",
       "      <td>0</td>\n",
       "      <td>0</td>\n",
       "    </tr>\n",
       "    <tr>\n",
       "      <td>38729</td>\n",
       "      <td>40.64682</td>\n",
       "      <td>-74.08734</td>\n",
       "      <td>20.0</td>\n",
       "      <td>1.0</td>\n",
       "      <td>89</td>\n",
       "      <td>58</td>\n",
       "      <td>1.05</td>\n",
       "      <td>43.0</td>\n",
       "      <td>0</td>\n",
       "      <td>1</td>\n",
       "      <td>0</td>\n",
       "      <td>0</td>\n",
       "      <td>0</td>\n",
       "      <td>1</td>\n",
       "      <td>1</td>\n",
       "      <td>0</td>\n",
       "    </tr>\n",
       "    <tr>\n",
       "      <td>38730</td>\n",
       "      <td>40.64730</td>\n",
       "      <td>-74.08408</td>\n",
       "      <td>30.0</td>\n",
       "      <td>4.0</td>\n",
       "      <td>0</td>\n",
       "      <td>85</td>\n",
       "      <td>1.35</td>\n",
       "      <td>105.0</td>\n",
       "      <td>0</td>\n",
       "      <td>1</td>\n",
       "      <td>0</td>\n",
       "      <td>0</td>\n",
       "      <td>0</td>\n",
       "      <td>1</td>\n",
       "      <td>1</td>\n",
       "      <td>0</td>\n",
       "    </tr>\n",
       "    <tr>\n",
       "      <td>38731</td>\n",
       "      <td>40.64762</td>\n",
       "      <td>-74.08682</td>\n",
       "      <td>3.0</td>\n",
       "      <td>1.0</td>\n",
       "      <td>232</td>\n",
       "      <td>5</td>\n",
       "      <td>1.88</td>\n",
       "      <td>135.0</td>\n",
       "      <td>1</td>\n",
       "      <td>0</td>\n",
       "      <td>0</td>\n",
       "      <td>0</td>\n",
       "      <td>0</td>\n",
       "      <td>1</td>\n",
       "      <td>0</td>\n",
       "      <td>0</td>\n",
       "    </tr>\n",
       "    <tr>\n",
       "      <td>38732</td>\n",
       "      <td>40.64779</td>\n",
       "      <td>-74.08460</td>\n",
       "      <td>1.0</td>\n",
       "      <td>1.0</td>\n",
       "      <td>250</td>\n",
       "      <td>108</td>\n",
       "      <td>2.32</td>\n",
       "      <td>140.0</td>\n",
       "      <td>1</td>\n",
       "      <td>0</td>\n",
       "      <td>0</td>\n",
       "      <td>0</td>\n",
       "      <td>0</td>\n",
       "      <td>1</td>\n",
       "      <td>0</td>\n",
       "      <td>0</td>\n",
       "    </tr>\n",
       "  </tbody>\n",
       "</table>\n",
       "<p>38733 rows × 16 columns</p>\n",
       "</div>"
      ],
      "text/plain": [
       "       Latitude  Longitude  Min_Nights  Host_Listing_Cnt  Days_Available  \\\n",
       "0      40.80011  -73.91330        21.0               2.0             291   \n",
       "1      40.80024  -73.91422         3.0               1.0               0   \n",
       "2      40.80074  -73.91574         3.0               1.0             354   \n",
       "3      40.80091  -73.91449        21.0               2.0             117   \n",
       "4      40.80143  -73.91353         2.0               3.0               0   \n",
       "...         ...        ...         ...               ...             ...   \n",
       "38728  40.64641  -74.08502         2.0               1.0             106   \n",
       "38729  40.64682  -74.08734        20.0               1.0              89   \n",
       "38730  40.64730  -74.08408        30.0               4.0               0   \n",
       "38731  40.64762  -74.08682         3.0               1.0             232   \n",
       "38732  40.64779  -74.08460         1.0               1.0             250   \n",
       "\n",
       "       Review_Cnt  Reviews30d  Price  isEntireHome  isPrivateRoom  \\\n",
       "0              19        0.27   60.0             0              1   \n",
       "1              59        2.93   49.0             0              1   \n",
       "2               3        0.87   50.0             0              1   \n",
       "3              18        0.36   71.0             0              1   \n",
       "4              12        3.50  115.0             1              0   \n",
       "...           ...         ...    ...           ...            ...   \n",
       "38728          58        4.73  130.0             1              0   \n",
       "38729          58        1.05   43.0             0              1   \n",
       "38730          85        1.35  105.0             0              1   \n",
       "38731           5        1.88  135.0             1              0   \n",
       "38732         108        2.32  140.0             1              0   \n",
       "\n",
       "       Boroughs_Brooklyn  Boroughs_Manhattan  Boroughs_Queens  \\\n",
       "0                      0                   0                0   \n",
       "1                      0                   0                0   \n",
       "2                      0                   0                0   \n",
       "3                      0                   0                0   \n",
       "4                      0                   0                0   \n",
       "...                  ...                 ...              ...   \n",
       "38728                  0                   0                0   \n",
       "38729                  0                   0                0   \n",
       "38730                  0                   0                0   \n",
       "38731                  0                   0                0   \n",
       "38732                  0                   0                0   \n",
       "\n",
       "       Boroughs_Staten Island  Prop_Type_PrivateRoom  Prop_Type_SharedRoom  \n",
       "0                           0                      1                     0  \n",
       "1                           0                      1                     0  \n",
       "2                           0                      1                     0  \n",
       "3                           0                      1                     0  \n",
       "4                           0                      0                     0  \n",
       "...                       ...                    ...                   ...  \n",
       "38728                       1                      0                     0  \n",
       "38729                       1                      1                     0  \n",
       "38730                       1                      1                     0  \n",
       "38731                       1                      0                     0  \n",
       "38732                       1                      0                     0  \n",
       "\n",
       "[38733 rows x 16 columns]"
      ]
     },
     "execution_count": 11,
     "metadata": {},
     "output_type": "execute_result"
    }
   ],
   "source": [
    "# is all this too hard? don't worry we have a quick and easy way. Pass df instead of Series to get_dummies method\n",
    "df2=pd.get_dummies(df1, columns=['Boroughs','Prop_Type'], drop_first=True)\n",
    "df2"
   ]
  },
  {
   "cell_type": "code",
   "execution_count": 12,
   "metadata": {},
   "outputs": [],
   "source": [
    "# LinearRegression Class Object\n",
    "lrModel = linear_model.LinearRegression()\n",
    "X_all = df3.drop('Price',axis='columns')\n",
    "y_all = df3.Price"
   ]
  },
  {
   "cell_type": "code",
   "execution_count": 13,
   "metadata": {},
   "outputs": [
    {
     "data": {
      "text/html": [
       "<div>\n",
       "<style scoped>\n",
       "    .dataframe tbody tr th:only-of-type {\n",
       "        vertical-align: middle;\n",
       "    }\n",
       "\n",
       "    .dataframe tbody tr th {\n",
       "        vertical-align: top;\n",
       "    }\n",
       "\n",
       "    .dataframe thead th {\n",
       "        text-align: right;\n",
       "    }\n",
       "</style>\n",
       "<table border=\"1\" class=\"dataframe\">\n",
       "  <thead>\n",
       "    <tr style=\"text-align: right;\">\n",
       "      <th></th>\n",
       "      <th>Latitude</th>\n",
       "      <th>Longitude</th>\n",
       "      <th>Min_Nights</th>\n",
       "      <th>Host_Listing_Cnt</th>\n",
       "      <th>Days_Available</th>\n",
       "      <th>Review_Cnt</th>\n",
       "      <th>Reviews30d</th>\n",
       "      <th>isEntireHome</th>\n",
       "      <th>isPrivateRoom</th>\n",
       "      <th>is_Bronx</th>\n",
       "      <th>is_Brooklyn</th>\n",
       "      <th>is_Manhattan</th>\n",
       "      <th>is_Queens</th>\n",
       "    </tr>\n",
       "  </thead>\n",
       "  <tbody>\n",
       "    <tr>\n",
       "      <td>0</td>\n",
       "      <td>40.80011</td>\n",
       "      <td>-73.91330</td>\n",
       "      <td>21.0</td>\n",
       "      <td>2.0</td>\n",
       "      <td>291</td>\n",
       "      <td>19</td>\n",
       "      <td>0.27</td>\n",
       "      <td>0</td>\n",
       "      <td>1</td>\n",
       "      <td>1</td>\n",
       "      <td>0</td>\n",
       "      <td>0</td>\n",
       "      <td>0</td>\n",
       "    </tr>\n",
       "    <tr>\n",
       "      <td>1</td>\n",
       "      <td>40.80024</td>\n",
       "      <td>-73.91422</td>\n",
       "      <td>3.0</td>\n",
       "      <td>1.0</td>\n",
       "      <td>0</td>\n",
       "      <td>59</td>\n",
       "      <td>2.93</td>\n",
       "      <td>0</td>\n",
       "      <td>1</td>\n",
       "      <td>1</td>\n",
       "      <td>0</td>\n",
       "      <td>0</td>\n",
       "      <td>0</td>\n",
       "    </tr>\n",
       "    <tr>\n",
       "      <td>2</td>\n",
       "      <td>40.80074</td>\n",
       "      <td>-73.91574</td>\n",
       "      <td>3.0</td>\n",
       "      <td>1.0</td>\n",
       "      <td>354</td>\n",
       "      <td>3</td>\n",
       "      <td>0.87</td>\n",
       "      <td>0</td>\n",
       "      <td>1</td>\n",
       "      <td>1</td>\n",
       "      <td>0</td>\n",
       "      <td>0</td>\n",
       "      <td>0</td>\n",
       "    </tr>\n",
       "    <tr>\n",
       "      <td>3</td>\n",
       "      <td>40.80091</td>\n",
       "      <td>-73.91449</td>\n",
       "      <td>21.0</td>\n",
       "      <td>2.0</td>\n",
       "      <td>117</td>\n",
       "      <td>18</td>\n",
       "      <td>0.36</td>\n",
       "      <td>0</td>\n",
       "      <td>1</td>\n",
       "      <td>1</td>\n",
       "      <td>0</td>\n",
       "      <td>0</td>\n",
       "      <td>0</td>\n",
       "    </tr>\n",
       "    <tr>\n",
       "      <td>4</td>\n",
       "      <td>40.80143</td>\n",
       "      <td>-73.91353</td>\n",
       "      <td>2.0</td>\n",
       "      <td>3.0</td>\n",
       "      <td>0</td>\n",
       "      <td>12</td>\n",
       "      <td>3.50</td>\n",
       "      <td>1</td>\n",
       "      <td>0</td>\n",
       "      <td>1</td>\n",
       "      <td>0</td>\n",
       "      <td>0</td>\n",
       "      <td>0</td>\n",
       "    </tr>\n",
       "  </tbody>\n",
       "</table>\n",
       "</div>"
      ],
      "text/plain": [
       "   Latitude  Longitude  Min_Nights  Host_Listing_Cnt  Days_Available  \\\n",
       "0  40.80011  -73.91330        21.0               2.0             291   \n",
       "1  40.80024  -73.91422         3.0               1.0               0   \n",
       "2  40.80074  -73.91574         3.0               1.0             354   \n",
       "3  40.80091  -73.91449        21.0               2.0             117   \n",
       "4  40.80143  -73.91353         2.0               3.0               0   \n",
       "\n",
       "   Review_Cnt  Reviews30d  isEntireHome  isPrivateRoom  is_Bronx  is_Brooklyn  \\\n",
       "0          19        0.27             0              1         1            0   \n",
       "1          59        2.93             0              1         1            0   \n",
       "2           3        0.87             0              1         1            0   \n",
       "3          18        0.36             0              1         1            0   \n",
       "4          12        3.50             1              0         1            0   \n",
       "\n",
       "   is_Manhattan  is_Queens  \n",
       "0             0          0  \n",
       "1             0          0  \n",
       "2             0          0  \n",
       "3             0          0  \n",
       "4             0          0  "
      ]
     },
     "execution_count": 13,
     "metadata": {},
     "output_type": "execute_result"
    }
   ],
   "source": [
    "X_all.head()"
   ]
  },
  {
   "cell_type": "code",
   "execution_count": 14,
   "metadata": {},
   "outputs": [
    {
     "data": {
      "text/plain": [
       "0     60.0\n",
       "1     49.0\n",
       "2     50.0\n",
       "3     71.0\n",
       "4    115.0\n",
       "Name: Price, dtype: float64"
      ]
     },
     "execution_count": 14,
     "metadata": {},
     "output_type": "execute_result"
    }
   ],
   "source": [
    "y_all.head()"
   ]
  },
  {
   "cell_type": "code",
   "execution_count": 15,
   "metadata": {},
   "outputs": [],
   "source": [
    "from sklearn.model_selection import train_test_split\n",
    "X_learn, X_actual, y_learn, y_actual = train_test_split(X_all, y_all, test_size=0.40, random_state=1)"
   ]
  },
  {
   "cell_type": "code",
   "execution_count": 16,
   "metadata": {},
   "outputs": [
    {
     "data": {
      "text/html": [
       "<div>\n",
       "<style scoped>\n",
       "    .dataframe tbody tr th:only-of-type {\n",
       "        vertical-align: middle;\n",
       "    }\n",
       "\n",
       "    .dataframe tbody tr th {\n",
       "        vertical-align: top;\n",
       "    }\n",
       "\n",
       "    .dataframe thead th {\n",
       "        text-align: right;\n",
       "    }\n",
       "</style>\n",
       "<table border=\"1\" class=\"dataframe\">\n",
       "  <thead>\n",
       "    <tr style=\"text-align: right;\">\n",
       "      <th></th>\n",
       "      <th>Latitude</th>\n",
       "      <th>Longitude</th>\n",
       "      <th>Min_Nights</th>\n",
       "      <th>Host_Listing_Cnt</th>\n",
       "      <th>Days_Available</th>\n",
       "      <th>Review_Cnt</th>\n",
       "      <th>Reviews30d</th>\n",
       "      <th>isEntireHome</th>\n",
       "      <th>isPrivateRoom</th>\n",
       "      <th>is_Bronx</th>\n",
       "      <th>is_Brooklyn</th>\n",
       "      <th>is_Manhattan</th>\n",
       "      <th>is_Queens</th>\n",
       "    </tr>\n",
       "  </thead>\n",
       "  <tbody>\n",
       "    <tr>\n",
       "      <td>9264</td>\n",
       "      <td>40.68749</td>\n",
       "      <td>-73.95494</td>\n",
       "      <td>3.0</td>\n",
       "      <td>3.0</td>\n",
       "      <td>249</td>\n",
       "      <td>116</td>\n",
       "      <td>1.21</td>\n",
       "      <td>0</td>\n",
       "      <td>1</td>\n",
       "      <td>0</td>\n",
       "      <td>1</td>\n",
       "      <td>0</td>\n",
       "      <td>0</td>\n",
       "    </tr>\n",
       "    <tr>\n",
       "      <td>16015</td>\n",
       "      <td>40.71777</td>\n",
       "      <td>-73.95824</td>\n",
       "      <td>1.0</td>\n",
       "      <td>2.0</td>\n",
       "      <td>24</td>\n",
       "      <td>19</td>\n",
       "      <td>1.34</td>\n",
       "      <td>0</td>\n",
       "      <td>1</td>\n",
       "      <td>0</td>\n",
       "      <td>1</td>\n",
       "      <td>0</td>\n",
       "      <td>0</td>\n",
       "    </tr>\n",
       "    <tr>\n",
       "      <td>3277</td>\n",
       "      <td>40.65823</td>\n",
       "      <td>-73.93459</td>\n",
       "      <td>1.0</td>\n",
       "      <td>1.0</td>\n",
       "      <td>314</td>\n",
       "      <td>1</td>\n",
       "      <td>1.00</td>\n",
       "      <td>0</td>\n",
       "      <td>1</td>\n",
       "      <td>0</td>\n",
       "      <td>1</td>\n",
       "      <td>0</td>\n",
       "      <td>0</td>\n",
       "    </tr>\n",
       "    <tr>\n",
       "      <td>11315</td>\n",
       "      <td>40.69380</td>\n",
       "      <td>-73.97404</td>\n",
       "      <td>3.0</td>\n",
       "      <td>2.0</td>\n",
       "      <td>76</td>\n",
       "      <td>2</td>\n",
       "      <td>1.15</td>\n",
       "      <td>1</td>\n",
       "      <td>0</td>\n",
       "      <td>0</td>\n",
       "      <td>1</td>\n",
       "      <td>0</td>\n",
       "      <td>0</td>\n",
       "    </tr>\n",
       "    <tr>\n",
       "      <td>25833</td>\n",
       "      <td>40.76284</td>\n",
       "      <td>-73.99226</td>\n",
       "      <td>30.0</td>\n",
       "      <td>20.0</td>\n",
       "      <td>335</td>\n",
       "      <td>7</td>\n",
       "      <td>0.35</td>\n",
       "      <td>1</td>\n",
       "      <td>0</td>\n",
       "      <td>0</td>\n",
       "      <td>0</td>\n",
       "      <td>1</td>\n",
       "      <td>0</td>\n",
       "    </tr>\n",
       "    <tr>\n",
       "      <td>...</td>\n",
       "      <td>...</td>\n",
       "      <td>...</td>\n",
       "      <td>...</td>\n",
       "      <td>...</td>\n",
       "      <td>...</td>\n",
       "      <td>...</td>\n",
       "      <td>...</td>\n",
       "      <td>...</td>\n",
       "      <td>...</td>\n",
       "      <td>...</td>\n",
       "      <td>...</td>\n",
       "      <td>...</td>\n",
       "      <td>...</td>\n",
       "    </tr>\n",
       "    <tr>\n",
       "      <td>7824</td>\n",
       "      <td>40.68374</td>\n",
       "      <td>-73.96452</td>\n",
       "      <td>3.0</td>\n",
       "      <td>1.0</td>\n",
       "      <td>344</td>\n",
       "      <td>99</td>\n",
       "      <td>1.96</td>\n",
       "      <td>1</td>\n",
       "      <td>0</td>\n",
       "      <td>0</td>\n",
       "      <td>1</td>\n",
       "      <td>0</td>\n",
       "      <td>0</td>\n",
       "    </tr>\n",
       "    <tr>\n",
       "      <td>32857</td>\n",
       "      <td>40.83469</td>\n",
       "      <td>-73.93961</td>\n",
       "      <td>4.0</td>\n",
       "      <td>1.0</td>\n",
       "      <td>0</td>\n",
       "      <td>3</td>\n",
       "      <td>0.05</td>\n",
       "      <td>1</td>\n",
       "      <td>0</td>\n",
       "      <td>0</td>\n",
       "      <td>0</td>\n",
       "      <td>1</td>\n",
       "      <td>0</td>\n",
       "    </tr>\n",
       "    <tr>\n",
       "      <td>5197</td>\n",
       "      <td>40.67358</td>\n",
       "      <td>-73.94351</td>\n",
       "      <td>1.0</td>\n",
       "      <td>1.0</td>\n",
       "      <td>0</td>\n",
       "      <td>7</td>\n",
       "      <td>0.14</td>\n",
       "      <td>1</td>\n",
       "      <td>0</td>\n",
       "      <td>0</td>\n",
       "      <td>1</td>\n",
       "      <td>0</td>\n",
       "      <td>0</td>\n",
       "    </tr>\n",
       "    <tr>\n",
       "      <td>12190</td>\n",
       "      <td>40.69758</td>\n",
       "      <td>-73.99139</td>\n",
       "      <td>2.0</td>\n",
       "      <td>1.0</td>\n",
       "      <td>0</td>\n",
       "      <td>2</td>\n",
       "      <td>0.05</td>\n",
       "      <td>1</td>\n",
       "      <td>0</td>\n",
       "      <td>0</td>\n",
       "      <td>1</td>\n",
       "      <td>0</td>\n",
       "      <td>0</td>\n",
       "    </tr>\n",
       "    <tr>\n",
       "      <td>33350</td>\n",
       "      <td>40.85197</td>\n",
       "      <td>-73.94074</td>\n",
       "      <td>3.0</td>\n",
       "      <td>3.0</td>\n",
       "      <td>127</td>\n",
       "      <td>21</td>\n",
       "      <td>1.38</td>\n",
       "      <td>0</td>\n",
       "      <td>1</td>\n",
       "      <td>0</td>\n",
       "      <td>0</td>\n",
       "      <td>1</td>\n",
       "      <td>0</td>\n",
       "    </tr>\n",
       "  </tbody>\n",
       "</table>\n",
       "<p>22998 rows × 13 columns</p>\n",
       "</div>"
      ],
      "text/plain": [
       "       Latitude  Longitude  Min_Nights  Host_Listing_Cnt  Days_Available  \\\n",
       "9264   40.68749  -73.95494         3.0               3.0             249   \n",
       "16015  40.71777  -73.95824         1.0               2.0              24   \n",
       "3277   40.65823  -73.93459         1.0               1.0             314   \n",
       "11315  40.69380  -73.97404         3.0               2.0              76   \n",
       "25833  40.76284  -73.99226        30.0              20.0             335   \n",
       "...         ...        ...         ...               ...             ...   \n",
       "7824   40.68374  -73.96452         3.0               1.0             344   \n",
       "32857  40.83469  -73.93961         4.0               1.0               0   \n",
       "5197   40.67358  -73.94351         1.0               1.0               0   \n",
       "12190  40.69758  -73.99139         2.0               1.0               0   \n",
       "33350  40.85197  -73.94074         3.0               3.0             127   \n",
       "\n",
       "       Review_Cnt  Reviews30d  isEntireHome  isPrivateRoom  is_Bronx  \\\n",
       "9264          116        1.21             0              1         0   \n",
       "16015          19        1.34             0              1         0   \n",
       "3277            1        1.00             0              1         0   \n",
       "11315           2        1.15             1              0         0   \n",
       "25833           7        0.35             1              0         0   \n",
       "...           ...         ...           ...            ...       ...   \n",
       "7824           99        1.96             1              0         0   \n",
       "32857           3        0.05             1              0         0   \n",
       "5197            7        0.14             1              0         0   \n",
       "12190           2        0.05             1              0         0   \n",
       "33350          21        1.38             0              1         0   \n",
       "\n",
       "       is_Brooklyn  is_Manhattan  is_Queens  \n",
       "9264             1             0          0  \n",
       "16015            1             0          0  \n",
       "3277             1             0          0  \n",
       "11315            1             0          0  \n",
       "25833            0             1          0  \n",
       "...            ...           ...        ...  \n",
       "7824             1             0          0  \n",
       "32857            0             1          0  \n",
       "5197             1             0          0  \n",
       "12190            1             0          0  \n",
       "33350            0             1          0  \n",
       "\n",
       "[22998 rows x 13 columns]"
      ]
     },
     "execution_count": 16,
     "metadata": {},
     "output_type": "execute_result"
    }
   ],
   "source": [
    "X_learn"
   ]
  },
  {
   "cell_type": "code",
   "execution_count": 17,
   "metadata": {},
   "outputs": [
    {
     "data": {
      "text/plain": [
       "(22998, 13)"
      ]
     },
     "execution_count": 17,
     "metadata": {},
     "output_type": "execute_result"
    }
   ],
   "source": [
    "X_learn.shape"
   ]
  },
  {
   "cell_type": "code",
   "execution_count": 18,
   "metadata": {},
   "outputs": [
    {
     "data": {
      "text/plain": [
       "(15333, 13)"
      ]
     },
     "execution_count": 18,
     "metadata": {},
     "output_type": "execute_result"
    }
   ],
   "source": [
    "X_actual.shape"
   ]
  },
  {
   "cell_type": "code",
   "execution_count": 19,
   "metadata": {},
   "outputs": [
    {
     "data": {
      "text/plain": [
       "LinearRegression(copy_X=True, fit_intercept=True, n_jobs=None, normalize=False)"
      ]
     },
     "execution_count": 19,
     "metadata": {},
     "output_type": "execute_result"
    }
   ],
   "source": [
    "# Learning or Training the Model\n",
    "lrModel.fit(X_learn, y_learn)"
   ]
  },
  {
   "cell_type": "code",
   "execution_count": 20,
   "metadata": {},
   "outputs": [
    {
     "data": {
      "text/plain": [
       "-28540.049728906502"
      ]
     },
     "execution_count": 20,
     "metadata": {},
     "output_type": "execute_result"
    }
   ],
   "source": [
    "lrModel.intercept_"
   ]
  },
  {
   "cell_type": "code",
   "execution_count": 21,
   "metadata": {
    "scrolled": true
   },
   "outputs": [
    {
     "data": {
      "text/plain": [
       "array([-1.28442321e+02, -4.55378474e+02, -4.71930807e-01, -7.67931110e-01,\n",
       "        1.67240444e-01, -1.90765118e-01, -4.90967050e-01,  1.27756778e+02,\n",
       "        2.96218844e+01,  1.42507079e+02,  1.26458957e+02,  1.72052520e+02,\n",
       "        1.51178559e+02])"
      ]
     },
     "execution_count": 21,
     "metadata": {},
     "output_type": "execute_result"
    }
   ],
   "source": [
    "lrModel.coef_"
   ]
  },
  {
   "cell_type": "code",
   "execution_count": 22,
   "metadata": {},
   "outputs": [
    {
     "name": "stdout",
     "output_type": "stream",
     "text": [
      "Y-Intercept: -28540.049728906502\n",
      "\n",
      "X-Cofficient: [-1.28442321e+02 -4.55378474e+02 -4.71930807e-01 -7.67931110e-01\n",
      "  1.67240444e-01 -1.90765118e-01 -4.90967050e-01  1.27756778e+02\n",
      "  2.96218844e+01  1.42507079e+02  1.26458957e+02  1.72052520e+02\n",
      "  1.51178559e+02]\n"
     ]
    }
   ],
   "source": [
    "print('Y-Intercept: '+ str(lrModel.intercept_) + '\\n\\nX-Cofficient: ' + str(lrModel.coef_))"
   ]
  },
  {
   "cell_type": "code",
   "execution_count": 23,
   "metadata": {},
   "outputs": [
    {
     "data": {
      "text/plain": [
       "array([164.35303533])"
      ]
     },
     "execution_count": 23,
     "metadata": {},
     "output_type": "execute_result"
    }
   ],
   "source": [
    "# How to predict just one target or y-variable\n",
    "lrModel.predict([[40.80024, -73.91422, 13.0, 1.0, 0, 29, 2.93, 1, 0, 0, 0, 1,0]])"
   ]
  },
  {
   "cell_type": "code",
   "execution_count": 24,
   "metadata": {},
   "outputs": [
    {
     "data": {
      "text/plain": [
       "0.11415409127093855"
      ]
     },
     "execution_count": 24,
     "metadata": {},
     "output_type": "execute_result"
    }
   ],
   "source": [
    "# How good is the Model\n",
    "lrModel.score(X_actual, y_actual)"
   ]
  },
  {
   "cell_type": "code",
   "execution_count": 25,
   "metadata": {},
   "outputs": [
    {
     "data": {
      "text/plain": [
       "array([123.75112643, 216.66904496, 229.99632815, ..., 216.49569843,\n",
       "       102.64058878,  19.03743127])"
      ]
     },
     "execution_count": 25,
     "metadata": {},
     "output_type": "execute_result"
    }
   ],
   "source": [
    "y_predict  = lrModel.predict(X_actual)\n",
    "y_predict"
   ]
  },
  {
   "cell_type": "code",
   "execution_count": 26,
   "metadata": {},
   "outputs": [
    {
     "data": {
      "text/plain": [
       "25789    280.0\n",
       "18602    140.0\n",
       "26033    275.0\n",
       "21016     99.0\n",
       "4047     120.0\n",
       "         ...  \n",
       "26193    160.0\n",
       "14330    175.0\n",
       "17328    750.0\n",
       "29717     95.0\n",
       "34898     75.0\n",
       "Name: Price, Length: 15333, dtype: float64"
      ]
     },
     "execution_count": 26,
     "metadata": {},
     "output_type": "execute_result"
    }
   ],
   "source": [
    "y_actual"
   ]
  },
  {
   "cell_type": "code",
   "execution_count": 27,
   "metadata": {},
   "outputs": [
    {
     "name": "stdout",
     "output_type": "stream",
     "text": [
      "Mean Square Error between Actual and Predicted Y values........ : 34841.37110423\n",
      "Coefficient of Determination between Actual & Predicted R2 Score: 0.11415409\n",
      "Linear Regression Model Score with Actual X & Y valuse ........ : 0.11415409\n"
     ]
    }
   ],
   "source": [
    "# Feature Variable - Independent - X variable\n",
    "# Target Variable  - Dependent   - Y variable\n",
    "from sklearn.metrics import mean_squared_error, r2_score\n",
    "\n",
    "print ('Mean Square Error between Actual and Predicted Y values........ : %8.8f' % mean_squared_error(y_actual, y_predict))\n",
    "print ('Coefficient of Determination between Actual & Predicted R2 Score: %8.8f' % r2_score(y_actual, y_predict))\n",
    "print ('Linear Regression Model Score with Actual X & Y valuse ........ : %8.8f' % lrModel.score(X_actual, y_actual))"
   ]
  }
 ],
 "metadata": {
  "kernelspec": {
   "display_name": "Python 3",
   "language": "python",
   "name": "python3"
  },
  "language_info": {
   "codemirror_mode": {
    "name": "ipython",
    "version": 3
   },
   "file_extension": ".py",
   "mimetype": "text/x-python",
   "name": "python",
   "nbconvert_exporter": "python",
   "pygments_lexer": "ipython3",
   "version": "3.7.4"
  }
 },
 "nbformat": 4,
 "nbformat_minor": 2
}
