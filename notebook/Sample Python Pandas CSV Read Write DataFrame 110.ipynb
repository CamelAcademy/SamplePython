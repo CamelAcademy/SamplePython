{
 "cells": [
  {
   "cell_type": "code",
   "execution_count": 59,
   "metadata": {},
   "outputs": [
    {
     "data": {
      "text/plain": [
       "<function dir>"
      ]
     },
     "execution_count": 59,
     "metadata": {},
     "output_type": "execute_result"
    }
   ],
   "source": [
    "dir"
   ]
  },
  {
   "cell_type": "code",
   "execution_count": 60,
   "metadata": {},
   "outputs": [
    {
     "data": {
      "text/plain": [
       "'/Users/pichappan/Documents/SamplePython/output'"
      ]
     },
     "execution_count": 60,
     "metadata": {},
     "output_type": "execute_result"
    }
   ],
   "source": [
    "pwd"
   ]
  },
  {
   "cell_type": "code",
   "execution_count": 61,
   "metadata": {},
   "outputs": [
    {
     "name": "stdout",
     "output_type": "stream",
     "text": [
      "/Users/pichappan/Documents/SamplePython/input\n"
     ]
    }
   ],
   "source": [
    "cd ../input"
   ]
  },
  {
   "cell_type": "code",
   "execution_count": null,
   "metadata": {},
   "outputs": [],
   "source": [
    "import pandas as pd"
   ]
  },
  {
   "cell_type": "code",
   "execution_count": null,
   "metadata": {
    "scrolled": true
   },
   "outputs": [],
   "source": [
    "#df from a csv file, 1st row would be header with no skips or default is header=0\n",
    "df1 = pd.read_csv('countries_short.csv')\n",
    "df1.head()"
   ]
  },
  {
   "cell_type": "code",
   "execution_count": null,
   "metadata": {},
   "outputs": [],
   "source": [
    "#df from a csv file, 3rd row would be the header after skipping 2 rows from the file\n",
    "df2 = pd.read_csv('countries_short.csv', skiprows=2) \n",
    "df2.head()"
   ]
  },
  {
   "cell_type": "code",
   "execution_count": null,
   "metadata": {
    "scrolled": true
   },
   "outputs": [],
   "source": [
    "#df from a csv file, 3rd row in the file would be the header\n",
    "df3 = pd.read_csv('countries_short.csv', header=2)\n",
    "df3.head()"
   ]
  },
  {
   "cell_type": "code",
   "execution_count": null,
   "metadata": {},
   "outputs": [],
   "source": [
    "#df from a csv file, skip 2 rows in the file and then 2nd row would be the header\n",
    "df4 = pd.read_csv('countries_short.csv', skiprows=2, header=1) \n",
    "df4.head()"
   ]
  },
  {
   "cell_type": "code",
   "execution_count": null,
   "metadata": {},
   "outputs": [],
   "source": [
    "#After skipping 1 row we lost the header, then we can pass header=None and column names as argument\n",
    "df5 = pd.read_csv('countries_short.csv', skiprows=1, header=None, names=[\"NAME\",\"YEAR\",\"POPULATION\"]) \n",
    "df5.head()"
   ]
  },
  {
   "cell_type": "code",
   "execution_count": null,
   "metadata": {},
   "outputs": [],
   "source": [
    "#If you need to read only n rows and header row then read with nrows\n",
    "df6 = pd.read_csv('countries_short.csv', nrows=2) \n",
    "df6.head()"
   ]
  },
  {
   "cell_type": "code",
   "execution_count": null,
   "metadata": {
    "scrolled": true
   },
   "outputs": [],
   "source": [
    "#If you like to replace all invalid numbers to NaN\n",
    "df7 = pd.read_csv('countries_short.csv', na_values=[\"NA\",\"N/A\", \"Not Available\", \"?\", \"13079460\"]) \n",
    "df7.head()"
   ]
  },
  {
   "cell_type": "code",
   "execution_count": null,
   "metadata": {},
   "outputs": [],
   "source": [
    "# Munging/Wrangling We can also do different column level validation with a dictionary\n",
    "df8 = pd.read_csv('countries_short.csv', na_values=\n",
    "                      {'country': [\"NA\",\"N/A\", \"Afghanistan\", \"?\", \"Unknown\"],\n",
    "                       'year': [\"NA\",\"N/A\", \"Not Available\", \"?\", 0, 1952],\n",
    "                      'population': [\"NA\",\"N/A\", \"Not Available\", \"?\"],\n",
    "                      }\n",
    "                 ) \n",
    "df8.head()"
   ]
  },
  {
   "cell_type": "code",
   "execution_count": null,
   "metadata": {},
   "outputs": [],
   "source": []
  },
  {
   "cell_type": "code",
   "execution_count": null,
   "metadata": {},
   "outputs": [],
   "source": [
    "df1.columns"
   ]
  },
  {
   "cell_type": "code",
   "execution_count": null,
   "metadata": {},
   "outputs": [],
   "source": [
    "df1.to_csv('country_out1.csv') # write with index column\n",
    "df1.to_csv('country_out2.csv', columns=['country','year']) # write only required columns\n",
    "\n",
    "df1.to_csv('country_out3.csv', index=False) # write without index column\n",
    "df1.to_csv('country_out4.csv', index=False, columns=['country','year']) # write without index column\n",
    "\n",
    "df1.to_csv('country_out5.csv', header=False) # write without header row\n",
    "df1.to_csv('country_out6.csv', index=False, header=False) # write without index column & header row"
   ]
  },
  {
   "cell_type": "code",
   "execution_count": null,
   "metadata": {},
   "outputs": [],
   "source": []
  },
  {
   "cell_type": "code",
   "execution_count": null,
   "metadata": {},
   "outputs": [],
   "source": []
  },
  {
   "cell_type": "code",
   "execution_count": null,
   "metadata": {},
   "outputs": [],
   "source": []
  },
  {
   "cell_type": "code",
   "execution_count": null,
   "metadata": {},
   "outputs": [],
   "source": []
  }
 ],
 "metadata": {
  "kernelspec": {
   "display_name": "Python 3",
   "language": "python",
   "name": "python3"
  },
  "language_info": {
   "codemirror_mode": {
    "name": "ipython",
    "version": 3
   },
   "file_extension": ".py",
   "mimetype": "text/x-python",
   "name": "python",
   "nbconvert_exporter": "python",
   "pygments_lexer": "ipython3",
   "version": "3.7.4"
  }
 },
 "nbformat": 4,
 "nbformat_minor": 2
}
