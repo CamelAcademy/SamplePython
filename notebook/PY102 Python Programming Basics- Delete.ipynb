{
 "cells": [
  {
   "cell_type": "code",
   "execution_count": 1,
   "metadata": {},
   "outputs": [
    {
     "data": {
      "text/plain": [
       "' for Multiple line comment\\n1. Anaconda Jupyter Notebook,\\n2. Anaconda Spyder,\\n3. Jetbrains Pycharm\\n'"
      ]
     },
     "execution_count": 1,
     "metadata": {},
     "output_type": "execute_result"
    }
   ],
   "source": [
    "# Integrated Developement Environment(IDE) - use # for single line Comment\n",
    "\n",
    "\"\"\" for Multiple line comment\n",
    "1. Anaconda Jupyter Notebook,\n",
    "2. Anaconda Spyder,\n",
    "3. Jetbrains Pycharm\n",
    "\"\"\""
   ]
  },
  {
   "cell_type": "code",
   "execution_count": 18,
   "metadata": {},
   "outputs": [
    {
     "name": "stdout",
     "output_type": "stream",
     "text": [
      "diff is:\t\t 9 \n",
      " same line Divisob is 3.5\n",
      "Addition:\t\t\t\t\t9 \n",
      "Subtraction:5       \n",
      "Multiplication:\t\t14       \n",
      "Division:\t\t3.5       \n",
      "Division & Floor:\t3       \n",
      "Modulus:\t\t1       \n",
      "Exponent Power:\t\t49\n"
     ]
    }
   ],
   "source": [
    "\"\"\" Python Assignment Operators \n",
    "c = a + b assigns value of a + b into c\n",
    "c += a is equivalent to c = c + a\n",
    "c -= a is equivalent to c = c - a\n",
    "c *= a is equivalent to c = c * a\n",
    "c /= a is equivalent to c = c / a\n",
    "c %= a is equivalent to c = c % a\n",
    "c **= a is equivalent to c = c ** a\n",
    "c //= a is equivalent to c = c // a\n",
    "\"\"\"\n",
    "a = 7\n",
    "b = 2\n",
    "c=a-b\n",
    "d=a/b\n",
    "e=a//b\n",
    "p\n",
    "print(\"diff is:\\t\\t\",a+b,\"\\n same line Divisob is\", a/b)\n",
    "\n",
    "\n",
    "\n",
    "# Python Arithmetic Operators\n",
    "print('Addition:\\t\\t\\t\\t\\t{} \\nSubtraction:{} \\\n",
    "      \\nMultiplication:\\t\\t{} \\\n",
    "      \\nDivision:\\t\\t{} \\\n",
    "      \\nDivision & Floor:\\t{} \\\n",
    "      \\nModulus:\\t\\t{} \\\n",
    "      \\nExponent Power:\\t\\t{}'.format(a+b, a-b, a*b, a/b, a//b, a%b, a**b))"
   ]
  },
  {
   "cell_type": "code",
   "execution_count": 23,
   "metadata": {},
   "outputs": [
    {
     "name": "stdout",
     "output_type": "stream",
     "text": [
      "c & d contain same values\n",
      "d & e contain different values\n",
      "value in e is less than c???\n",
      "value in d is greater than e\n",
      "value in c is less than or equal to d\n",
      "value in c is greater than or equal to d\n",
      "\n",
      "binary g:\t111100       \n",
      "binary h:\t1101       \n",
      "binary AND:\t1100       \n",
      "binary OR:\t111101       \n",
      "binary XOR:\t110001       \n",
      "1s Complement:\t-111101       \n",
      "Left Shift:\t11110000       \n",
      "Right Shift:\t1111\n",
      "\n",
      "AND False \n",
      "OR  True \n",
      "NOT True\n"
     ]
    }
   ],
   "source": [
    "#Python Comparison Operators\n",
    "c = 5\n",
    "d = 5\n",
    "e = 3\n",
    "\n",
    "if (c == d): print(\"c & d contain same values\")\n",
    "if (d != e): print(\"d & e contain different values\")\n",
    "if (e < c): print(\"value in e is less than c???\")\n",
    "if (d > e): print(\"value in d is greater than e\")    \n",
    "if (c <= d): print(\"value in c is less than or equal to d\")\n",
    "if (c >= d): print(\"value in c is greater than or equal to d\")  \n",
    "\n",
    "# Python Bitwise Operators\n",
    "g = 60\n",
    "h = 13\n",
    "print('\\nbinary g:\\t{:b} \\\n",
    "      \\nbinary h:\\t{:b} \\\n",
    "      \\nbinary AND:\\t{:b} \\\n",
    "      \\nbinary OR:\\t{:b} \\\n",
    "      \\nbinary XOR:\\t{:b} \\\n",
    "      \\n1s Complement:\\t{:b} \\\n",
    "      \\nLeft Shift:\\t{:b} \\\n",
    "      \\nRight Shift:\\t{:b}'.format(g, h, g&h, g|h, g^h, ~g, g<<2, g>>2))\n",
    "\n",
    "# Python Logical Operators\n",
    "i = True\n",
    "j = False\n",
    "k = False\n",
    "print(\"\\nAND {} \\nOR  {} \\nNOT {}\".format(j and k, i or j, not k))"
   ]
  },
  {
   "cell_type": "code",
   "execution_count": 26,
   "metadata": {},
   "outputs": [
    {
     "name": "stdout",
     "output_type": "stream",
     "text": [
      "\n",
      "Integer:\tTrue\n",
      "String:\t\tTrue\n",
      "Array:\t\tTrue\n",
      "In Array:\tTrue\n",
      "\n",
      "In String:\tTrue\n",
      "is College found in string G:\tTrue\n",
      "Key in:\t\tTrue\n",
      "Value in:\tTrue\n"
     ]
    }
   ],
   "source": [
    "# Identity operator - is & is not\n",
    "a = 2\n",
    "b = 2\n",
    "print('\\nInteger:\\t{}'.format(a is b))\n",
    "\n",
    "c = 'Newton'\n",
    "d = 'Newton'\n",
    "print('String:\\t\\t{}'.format(c is d))\n",
    "\n",
    "e = [1, 2, 3, 4]\n",
    "f = [1, 2, 3, 4]\n",
    "print('Array:\\t\\t{}'.format(e is not f))\n",
    "print('In Array:\\t{}'.format(4 in f))\n",
    "\n",
    "# Membership operators - in & not in\n",
    "g = 'Trinity College, Cambridge'\n",
    "h = {1 : 'January', 3:'March', 5:'May'}\n",
    "print('\\nIn String:\\t{}'.format('Coll' in g))\n",
    "print('is College found in string G:\\t{}'.format('College' in g))\n",
    "print('Key in:\\t\\t{}'.format(3 in h))\n",
    "print('Value in:\\t{}'.format('May' not in h))"
   ]
  },
  {
   "cell_type": "code",
   "execution_count": 29,
   "metadata": {},
   "outputs": [
    {
     "name": "stdout",
     "output_type": "stream",
     "text": [
      "Enter any Number:42423423423423\n",
      "42423423423423  is an ODD Number \n",
      "This is out of if statement\n"
     ]
    }
   ],
   "source": [
    "# if test expression:\n",
    "#    statement(s)\n",
    "\n",
    "i = int(input(\"Enter any Number:\"))\n",
    "\n",
    "if i%2 == 0:\n",
    "    print(i,\" is an EVEN number\")\n",
    "    \n",
    "if i%2 == 1:\n",
    "    print(i,\" is an ODD Number \")\n",
    "    \n",
    "print(\"This is out of if statement\")"
   ]
  },
  {
   "cell_type": "code",
   "execution_count": 31,
   "metadata": {},
   "outputs": [
    {
     "name": "stdout",
     "output_type": "stream",
     "text": [
      "Enter any Number:42332\n",
      "42332  is an EVEN number\n",
      "This is out of if statement\n"
     ]
    }
   ],
   "source": [
    "# if test expression:\n",
    "#    Body of if\n",
    "# else:\n",
    "#    Body of else   \n",
    "\n",
    "i = int(input(\"Enter any Number:\"))\n",
    "\n",
    "if i%2 == 0:\n",
    "    print(i,\" is an EVEN number\")\n",
    "else:\n",
    "    print(i,\" is an ODD Number \")\n",
    "    \n",
    "print(\"This is out of if statement\")"
   ]
  },
  {
   "cell_type": "code",
   "execution_count": 34,
   "metadata": {},
   "outputs": [
    {
     "name": "stdout",
     "output_type": "stream",
     "text": [
      "Enter any Number:1231231221\n",
      "1231231221  is an Odd number \n"
     ]
    }
   ],
   "source": [
    "# if test expression:\n",
    "#    Body of if\n",
    "# elif test expresion\n",
    "#    Body of elif\n",
    "# else:\n",
    "#    Body of else\n",
    "\n",
    "i = int(input(\"Enter any Number:\"))\n",
    "\n",
    "if i%4 == 0:\n",
    "    print(i,\" is multiple of 4\")\n",
    "elif i%2 == 0:\n",
    "    print(i,\" is multiple of 2 but not 4 \")\n",
    "else:    \n",
    "    print(i,\" is an Odd number \")"
   ]
  },
  {
   "cell_type": "code",
   "execution_count": 35,
   "metadata": {},
   "outputs": [
    {
     "name": "stdout",
     "output_type": "stream",
     "text": [
      "[1, 2, 3, 4, 5, 6, 7, 8, 9, 10, 11]\n",
      "[3, 4, 5, 6, 7, 8]\n",
      "[2, 5, 8, 11]\n",
      "-----------\n",
      "22\n",
      "24\n",
      "26\n",
      "-----------\n",
      "C\n",
      "a\n",
      "m\n",
      "e\n",
      "l\n",
      "-----------\n",
      "Chocolate\n",
      "Vanilla\n",
      "Strawberry\n",
      "Cookies\n",
      "Mint\n",
      "----------- 5\n",
      "Chocolate\n",
      "Vanilla\n",
      "Strawberry\n",
      "Cookies\n",
      "Mint\n"
     ]
    }
   ],
   "source": [
    "print(list(range(1,12)))\n",
    "print(list(range(3,9)))\n",
    "print(list(range(2,13,3)))\n",
    "print('-----------')\n",
    "# for val in sequence:\n",
    "#    body of for\n",
    "\n",
    "for i in range(22, 27, 2):\n",
    "    print (i)\n",
    "    \n",
    "print('-----------')\n",
    "\n",
    "for letter in \"Camel\":\n",
    "    print(letter)\n",
    "\n",
    "print('-----------')\n",
    "\n",
    "icecream_flavors_list = ['Chocolate', 'Vanilla', 'Strawberry', 'Cookies', 'Mint']\n",
    "for i in icecream_flavors_list:\n",
    "    print(i)\n",
    "\n",
    "print('-----------',len(icecream_flavors_list) )\n",
    "for i in range(len(icecream_flavors_list)):\n",
    "    print (icecream_flavors_list[i])"
   ]
  },
  {
   "cell_type": "code",
   "execution_count": 37,
   "metadata": {},
   "outputs": [
    {
     "name": "stdout",
     "output_type": "stream",
     "text": [
      "8\n",
      "1 \n",
      "\n",
      "loop 1\n",
      "loop 2\n",
      "loop 3\n",
      "loop 4\n",
      "loop 5\n",
      "loop 6\n",
      "loop 7\n",
      "loop 8\n",
      "loop 9\n",
      "loop 0\n"
     ]
    }
   ],
   "source": [
    "# 2d-list\n",
    "\n",
    "\n",
    "\n",
    "number_grid = [\n",
    "    [1,2,3],\n",
    "    [4,5,6],\n",
    "    [7,8,9],\n",
    "    [0]\n",
    "]\n",
    "print(number_grid[2][1])\n",
    "print(number_grid[0][0], '\\n')\n",
    "\n",
    "for row in number_grid:\n",
    "    for column in row:\n",
    "        print(\"loop\",column)\n",
    "        #print(row)"
   ]
  },
  {
   "cell_type": "code",
   "execution_count": 39,
   "metadata": {},
   "outputs": [
    {
     "name": "stdout",
     "output_type": "stream",
     "text": [
      "while 1\n",
      "while 2\n",
      "while 3\n",
      "while 4\n",
      "while 5\n",
      "while 6\n",
      "while 7\n",
      "while 8\n",
      "while 9\n",
      "while 10\n",
      "Done after 10 loops 1 to 10\n",
      " Enter your Guess: camel\n",
      "Enter a Number for Prime Check:13\n",
      "Is it Prime?  True\n"
     ]
    }
   ],
   "source": [
    "# While test:\n",
    "#    Body of while\n",
    "\n",
    "i = 1\n",
    "while i <= 10:\n",
    "    print(\"while\" , i)\n",
    "    i += 1 # i = i+1\n",
    "print(\"Done after 10 loops 1 to 10\")\n",
    "\n",
    "\n",
    "secret_word = \"camel\"\n",
    "guess = \"\"\n",
    "while guess != secret_word:\n",
    "    guess = input(\" Enter your Guess: \")\n",
    "    \n",
    "\n",
    "num = int(input(\"Enter a Number for Prime Check:\"))\n",
    "i = 2\n",
    "isPrime = True\n",
    "\n",
    "while i < num:\n",
    "    if(num%i == 0):\n",
    "        isPrime = False\n",
    "        break\n",
    "    else:\n",
    "        i += 1\n",
    "print(\"Is it Prime? \",isPrime)"
   ]
  },
  {
   "cell_type": "code",
   "execution_count": 21,
   "metadata": {},
   "outputs": [
    {
     "name": "stdout",
     "output_type": "stream",
     "text": [
      "3.141592653589793\n"
     ]
    }
   ],
   "source": [
    "#include another module in python\n",
    "\n",
    "import math\n",
    "print(math.pi)"
   ]
  },
  {
   "cell_type": "code",
   "execution_count": 22,
   "metadata": {},
   "outputs": [
    {
     "name": "stdout",
     "output_type": "stream",
     "text": [
      "3.141592653589793\n"
     ]
    }
   ],
   "source": [
    "from math import pi\n",
    "print(pi)"
   ]
  },
  {
   "cell_type": "code",
   "execution_count": 23,
   "metadata": {},
   "outputs": [
    {
     "name": "stdout",
     "output_type": "stream",
     "text": [
      "19.181818181818183\n",
      "5\n",
      "5\n",
      "863.5636363636363\n"
     ]
    }
   ],
   "source": [
    "from statistics import mean\n",
    "from statistics import median\n",
    "from statistics import mode\n",
    "from statistics import variance\n",
    "print(mean([2,5,3,5,7,97,44,34,5,6,3]))\n",
    "print(median([2,5,3,5,7,97,44,34,5,6,3]))\n",
    "print(mode([2,5,3,5,7,97,44,34,5,6,3]))\n",
    "print(variance([2,5,3,5,7,97,44,34,5,6,3]))"
   ]
  }
 ],
 "metadata": {
  "kernelspec": {
   "display_name": "Python 3",
   "language": "python",
   "name": "python3"
  },
  "language_info": {
   "codemirror_mode": {
    "name": "ipython",
    "version": 3
   },
   "file_extension": ".py",
   "mimetype": "text/x-python",
   "name": "python",
   "nbconvert_exporter": "python",
   "pygments_lexer": "ipython3",
   "version": "3.7.4"
  }
 },
 "nbformat": 4,
 "nbformat_minor": 2
}
