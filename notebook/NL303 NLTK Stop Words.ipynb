{
 "cells": [
  {
   "cell_type": "code",
   "execution_count": 1,
   "metadata": {},
   "outputs": [],
   "source": [
    "from nltk.corpus import stopwords\n",
    "from nltk.tokenize import word_tokenize"
   ]
  },
  {
   "cell_type": "code",
   "execution_count": 2,
   "metadata": {},
   "outputs": [],
   "source": [
    "# stop word - just remove them as there is no meaning to it"
   ]
  },
  {
   "cell_type": "code",
   "execution_count": 3,
   "metadata": {},
   "outputs": [
    {
     "name": "stdout",
     "output_type": "stream",
     "text": [
      "{'their', 'doesn', 'wasn', 'did', 'into', 'very', 're', \"should've\", 'our', 'or', 'itself', 'to', 'needn', \"needn't\", 'few', \"couldn't\", \"wouldn't\", 'i', 'them', 'these', 'mustn', 'over', 'are', 'too', 'such', 'won', 't', 'between', \"aren't\", 'hers', 'he', 'same', 'than', 'nor', \"you're\", \"didn't\", \"doesn't\", 'were', 'herself', 'should', 'shouldn', 'not', 'more', 'while', 'then', 'how', 'yours', 'ain', 'being', 'hasn', 'wouldn', 'on', 'through', 'after', 'below', 'will', 'weren', 'had', 'we', 'have', 'ma', \"you've\", 'some', \"she's\", 'own', 'his', 's', 'themselves', 'of', 'she', 'shan', 'and', 'be', 'has', 'that', 'can', 'couldn', 'here', 'o', 'you', 'at', 'it', 'there', 'isn', 'if', 'but', 'this', 'does', 'me', \"hadn't\", 'ours', 'am', 'was', 'with', 'down', 'is', 'up', 'your', 'most', 'again', 'her', 'until', 'what', 'll', \"isn't\", \"you'd\", 'why', \"it's\", 'didn', 'from', 'because', 'mightn', 'the', 'by', \"that'll\", 'about', 'once', 'further', 'now', 'those', 'y', 'him', 'myself', 'above', 'they', 'out', 'only', 'in', \"you'll\", 'a', 'm', 'against', \"mustn't\", 'other', 'both', 'ourselves', 'theirs', 'aren', 'yourselves', 'just', 'all', 'haven', 've', \"mightn't\", \"don't\", 'hadn', 'doing', 'before', 'where', 'no', \"weren't\", 'which', 'been', 'each', 'my', 'yourself', \"hasn't\", 'its', 'having', \"shouldn't\", 'off', 'when', 'any', 'd', 'under', 'as', 'for', \"shan't\", \"haven't\", 'who', 'during', 'himself', 'so', 'don', \"won't\", 'whom', 'an', 'do', \"wasn't\"}\n"
     ]
    },
    {
     "name": "stderr",
     "output_type": "stream",
     "text": [
      "[nltk_data] Downloading package stopwords to\n",
      "[nltk_data]     /Users/pichappan/nltk_data...\n",
      "[nltk_data]   Package stopwords is already up-to-date!\n"
     ]
    }
   ],
   "source": [
    "import nltk\n",
    "nltk.download('stopwords')\n",
    "    \n",
    "sample_sentence = \"This is an example showing off stop word filtration.\"\n",
    "stop_words = set(stopwords.words(\"english\"))\n",
    "print(stop_words)"
   ]
  },
  {
   "cell_type": "code",
   "execution_count": 4,
   "metadata": {},
   "outputs": [],
   "source": [
    "# One liner logic below\n",
    "#filtered_sentence = [w for w in words if not w in stop_words]\n",
    "#print(filtered_sentence)"
   ]
  },
  {
   "cell_type": "code",
   "execution_count": 5,
   "metadata": {},
   "outputs": [
    {
     "name": "stdout",
     "output_type": "stream",
     "text": [
      "['This', 'example', 'showing', 'stop', 'word', 'filtration', '.']\n"
     ]
    }
   ],
   "source": [
    "words = word_tokenize(sample_sentence)\n",
    "filtered_sentence = []\n",
    "\n",
    "for each_word in words:\n",
    "    if each_word not in stop_words:\n",
    "        filtered_sentence.append(each_word)\n",
    "        \n",
    "print(filtered_sentence)"
   ]
  },
  {
   "cell_type": "code",
   "execution_count": 6,
   "metadata": {},
   "outputs": [
    {
     "ename": "NameError",
     "evalue": "name 'sample_text' is not defined",
     "output_type": "error",
     "traceback": [
      "\u001b[0;31m---------------------------------------------------------------------------\u001b[0m",
      "\u001b[0;31mNameError\u001b[0m                                 Traceback (most recent call last)",
      "\u001b[0;32m<ipython-input-6-f2106e579307>\u001b[0m in \u001b[0;36m<module>\u001b[0;34m\u001b[0m\n\u001b[0;32m----> 1\u001b[0;31m \u001b[0;32mfor\u001b[0m \u001b[0meach_word\u001b[0m \u001b[0;32min\u001b[0m \u001b[0mword_tokenize\u001b[0m\u001b[0;34m(\u001b[0m\u001b[0msample_text\u001b[0m\u001b[0;34m)\u001b[0m\u001b[0;34m:\u001b[0m\u001b[0;34m\u001b[0m\u001b[0;34m\u001b[0m\u001b[0m\n\u001b[0m\u001b[1;32m      2\u001b[0m                   \u001b[0mprint\u001b[0m\u001b[0;34m(\u001b[0m\u001b[0meach_word\u001b[0m\u001b[0;34m)\u001b[0m\u001b[0;34m\u001b[0m\u001b[0;34m\u001b[0m\u001b[0m\n",
      "\u001b[0;31mNameError\u001b[0m: name 'sample_text' is not defined"
     ]
    }
   ],
   "source": [
    "for each_word in word_tokenize(sample_text):\n",
    "                  print(each_word)"
   ]
  },
  {
   "cell_type": "code",
   "execution_count": null,
   "metadata": {},
   "outputs": [],
   "source": []
  },
  {
   "cell_type": "code",
   "execution_count": null,
   "metadata": {},
   "outputs": [],
   "source": []
  }
 ],
 "metadata": {
  "kernelspec": {
   "display_name": "Python 3",
   "language": "python",
   "name": "python3"
  },
  "language_info": {
   "codemirror_mode": {
    "name": "ipython",
    "version": 3
   },
   "file_extension": ".py",
   "mimetype": "text/x-python",
   "name": "python",
   "nbconvert_exporter": "python",
   "pygments_lexer": "ipython3",
   "version": "3.7.4"
  }
 },
 "nbformat": 4,
 "nbformat_minor": 2
}
