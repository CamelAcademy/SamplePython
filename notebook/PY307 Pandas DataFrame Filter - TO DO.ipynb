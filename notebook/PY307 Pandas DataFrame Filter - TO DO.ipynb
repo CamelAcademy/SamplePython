{
 "cells": [
  {
   "cell_type": "code",
   "execution_count": 92,
   "metadata": {},
   "outputs": [],
   "source": [
    "rows, columns = df0.shape"
   ]
  },
  {
   "cell_type": "code",
   "execution_count": 93,
   "metadata": {},
   "outputs": [
    {
     "data": {
      "text/html": [
       "<div>\n",
       "<style scoped>\n",
       "    .dataframe tbody tr th:only-of-type {\n",
       "        vertical-align: middle;\n",
       "    }\n",
       "\n",
       "    .dataframe tbody tr th {\n",
       "        vertical-align: top;\n",
       "    }\n",
       "\n",
       "    .dataframe thead th {\n",
       "        text-align: right;\n",
       "    }\n",
       "</style>\n",
       "<table border=\"1\" class=\"dataframe\">\n",
       "  <thead>\n",
       "    <tr style=\"text-align: right;\">\n",
       "      <th></th>\n",
       "      <th>first_name</th>\n",
       "      <th>last_name</th>\n",
       "      <th>company_name</th>\n",
       "      <th>address</th>\n",
       "      <th>city</th>\n",
       "      <th>county</th>\n",
       "      <th>postal</th>\n",
       "      <th>phone1</th>\n",
       "      <th>phone2</th>\n",
       "      <th>email</th>\n",
       "      <th>web</th>\n",
       "      <th>id</th>\n",
       "    </tr>\n",
       "  </thead>\n",
       "  <tbody>\n",
       "    <tr>\n",
       "      <td>0</td>\n",
       "      <td>Aleshia</td>\n",
       "      <td>Tomkiewicz</td>\n",
       "      <td>Alan D Rosenburg Cpa Pc</td>\n",
       "      <td>14 Taylor St</td>\n",
       "      <td>St. Stephens Ward</td>\n",
       "      <td>Kent</td>\n",
       "      <td>CT2 7PP</td>\n",
       "      <td>01835-703597</td>\n",
       "      <td>01944-369967</td>\n",
       "      <td>atomkiewicz@hotmail.com</td>\n",
       "      <td>http://www.alandrosenburgcpapc.co.uk</td>\n",
       "      <td>761</td>\n",
       "    </tr>\n",
       "    <tr>\n",
       "      <td>1</td>\n",
       "      <td>Evan</td>\n",
       "      <td>Zigomalas</td>\n",
       "      <td>Cap Gemini America</td>\n",
       "      <td>5 Binney St</td>\n",
       "      <td>Abbey Ward</td>\n",
       "      <td>Buckinghamshire</td>\n",
       "      <td>HP11 2AX</td>\n",
       "      <td>01937-864715</td>\n",
       "      <td>01714-737668</td>\n",
       "      <td>evan.zigomalas@gmail.com</td>\n",
       "      <td>http://www.capgeminiamerica.co.uk</td>\n",
       "      <td>842</td>\n",
       "    </tr>\n",
       "    <tr>\n",
       "      <td>2</td>\n",
       "      <td>France</td>\n",
       "      <td>Andrade</td>\n",
       "      <td>Elliott, John W Esq</td>\n",
       "      <td>8 Moor Place</td>\n",
       "      <td>East Southbourne and Tuckton W</td>\n",
       "      <td>Bournemouth</td>\n",
       "      <td>BH6 3BE</td>\n",
       "      <td>01347-368222</td>\n",
       "      <td>01935-821636</td>\n",
       "      <td>france.andrade@hotmail.com</td>\n",
       "      <td>http://www.elliottjohnwesq.co.uk</td>\n",
       "      <td>320</td>\n",
       "    </tr>\n",
       "    <tr>\n",
       "      <td>3</td>\n",
       "      <td>Ulysses</td>\n",
       "      <td>Mcwalters</td>\n",
       "      <td>Mcmahan, Ben L</td>\n",
       "      <td>505 Exeter Rd</td>\n",
       "      <td>Hawerby cum Beesby</td>\n",
       "      <td>Lincolnshire</td>\n",
       "      <td>DN36 5RP</td>\n",
       "      <td>01912-771311</td>\n",
       "      <td>01302-601380</td>\n",
       "      <td>ulysses@hotmail.com</td>\n",
       "      <td>http://www.mcmahanbenl.co.uk</td>\n",
       "      <td>521</td>\n",
       "    </tr>\n",
       "    <tr>\n",
       "      <td>4</td>\n",
       "      <td>Tyisha</td>\n",
       "      <td>Veness</td>\n",
       "      <td>Champagne Room</td>\n",
       "      <td>5396 Forth Street</td>\n",
       "      <td>Greets Green and Lyng Ward</td>\n",
       "      <td>West Midlands</td>\n",
       "      <td>B70 9DT</td>\n",
       "      <td>01547-429341</td>\n",
       "      <td>01290-367248</td>\n",
       "      <td>tyisha.veness@hotmail.com</td>\n",
       "      <td>http://www.champagneroom.co.uk</td>\n",
       "      <td>702</td>\n",
       "    </tr>\n",
       "  </tbody>\n",
       "</table>\n",
       "</div>"
      ],
      "text/plain": [
       "  first_name   last_name             company_name            address  \\\n",
       "0    Aleshia  Tomkiewicz  Alan D Rosenburg Cpa Pc       14 Taylor St   \n",
       "1       Evan   Zigomalas       Cap Gemini America        5 Binney St   \n",
       "2     France     Andrade      Elliott, John W Esq       8 Moor Place   \n",
       "3    Ulysses   Mcwalters           Mcmahan, Ben L      505 Exeter Rd   \n",
       "4     Tyisha      Veness           Champagne Room  5396 Forth Street   \n",
       "\n",
       "                             city           county    postal        phone1  \\\n",
       "0               St. Stephens Ward             Kent   CT2 7PP  01835-703597   \n",
       "1                      Abbey Ward  Buckinghamshire  HP11 2AX  01937-864715   \n",
       "2  East Southbourne and Tuckton W      Bournemouth   BH6 3BE  01347-368222   \n",
       "3              Hawerby cum Beesby     Lincolnshire  DN36 5RP  01912-771311   \n",
       "4      Greets Green and Lyng Ward    West Midlands   B70 9DT  01547-429341   \n",
       "\n",
       "         phone2                       email  \\\n",
       "0  01944-369967     atomkiewicz@hotmail.com   \n",
       "1  01714-737668    evan.zigomalas@gmail.com   \n",
       "2  01935-821636  france.andrade@hotmail.com   \n",
       "3  01302-601380         ulysses@hotmail.com   \n",
       "4  01290-367248   tyisha.veness@hotmail.com   \n",
       "\n",
       "                                    web   id  \n",
       "0  http://www.alandrosenburgcpapc.co.uk  761  \n",
       "1     http://www.capgeminiamerica.co.uk  842  \n",
       "2      http://www.elliottjohnwesq.co.uk  320  \n",
       "3          http://www.mcmahanbenl.co.uk  521  \n",
       "4        http://www.champagneroom.co.uk  702  "
      ]
     },
     "execution_count": 93,
     "metadata": {},
     "output_type": "execute_result"
    }
   ],
   "source": [
    "import pandas as pd\n",
    "import random\n",
    " \n",
    "# Read CSV would read the CSV file over the internet too.\n",
    "df0 = pd.read_csv('https://s3-eu-west-1.amazonaws.com/shanebucket/downloads/uk-500.csv')\n",
    "rows, columns = df0.shape\n",
    "\n",
    "# set a numeric id for use as an index for examples.\n",
    "df0['id'] = [random.randint(0,1000) for x in range(data.shape[0])]\n",
    " \n",
    "df0.head(5)"
   ]
  },
  {
   "cell_type": "code",
   "execution_count": 94,
   "metadata": {},
   "outputs": [
    {
     "ename": "SyntaxError",
     "evalue": "invalid syntax (<ipython-input-94-97a6e50c494a>, line 1)",
     "output_type": "error",
     "traceback": [
      "\u001b[1;36m  File \u001b[1;32m\"<ipython-input-94-97a6e50c494a>\"\u001b[1;36m, line \u001b[1;32m1\u001b[0m\n\u001b[1;33m    Note the below while using iloc:\u001b[0m\n\u001b[1;37m           ^\u001b[0m\n\u001b[1;31mSyntaxError\u001b[0m\u001b[1;31m:\u001b[0m invalid syntax\n"
     ]
    }
   ],
   "source": [
    "Note the below while using iloc:\n",
    "\n",
    "iloc returns a Pandas Series when one row is selected and a Pandas \n",
    "DataFrame when multiple rows are selected, or if any column in full is selected.\n",
    "\n",
    "To counter this, pass a single-valued list if you require DataFrame output."
   ]
  },
  {
   "cell_type": "code",
   "execution_count": null,
   "metadata": {},
   "outputs": [],
   "source": [
    "# Selection of single row. Note output data type is Series.\n",
    "df0.iloc[0] # first row of data frame (Aleshia Tomkiewicz) - Note a Series data type output.\n"
   ]
  },
  {
   "cell_type": "code",
   "execution_count": null,
   "metadata": {},
   "outputs": [],
   "source": [
    "# Single selections using iloc and DataFrame\n",
    "# Rows:\n",
    "#data.iloc[0] # first row of data frame (Aleshia Tomkiewicz) - Note a Series data type output.\n",
    "#data.iloc[1] # second row of data frame (Evan Zigomalas)\n",
    "#data.iloc[-1] # last row of data frame (Mi Richan)\n",
    "# Columns:\n",
    "#data.iloc[:,0] # first column of data frame (first_name)\n",
    "#data.iloc[:,1] # second column of data frame (last_name)\n",
    "data.iloc[:,-1] # last column of data frame (id)"
   ]
  },
  {
   "cell_type": "code",
   "execution_count": null,
   "metadata": {},
   "outputs": [],
   "source": [
    "# Selection of single row. Note output data type is Series.\n",
    "data.iloc[2] # second row of data frame (Evan Zigomalas)\n"
   ]
  },
  {
   "cell_type": "code",
   "execution_count": null,
   "metadata": {},
   "outputs": [],
   "source": [
    "data.iloc[-1] # last row of data frame (Mi Richan)\n"
   ]
  },
  {
   "cell_type": "code",
   "execution_count": null,
   "metadata": {},
   "outputs": [],
   "source": [
    "# Selection of single row. Note output data type is Series.\n",
    "# first column first_name of data frame\n",
    "data.iloc[:,0]"
   ]
  },
  {
   "cell_type": "code",
   "execution_count": null,
   "metadata": {},
   "outputs": [],
   "source": [
    "# second column last_name of data frame\n",
    "data.iloc[:,1]"
   ]
  },
  {
   "cell_type": "code",
   "execution_count": null,
   "metadata": {},
   "outputs": [],
   "source": [
    "# last column id2 of data frame\n",
    "data.iloc[:,-1]"
   ]
  },
  {
   "cell_type": "code",
   "execution_count": null,
   "metadata": {},
   "outputs": [],
   "source": [
    "# Single selections using iloc and DataFrame\n",
    "# Rows:\n",
    "#data.iloc[0] # first row of data frame (Aleshia Tomkiewicz) - Note a Series data type output.\n",
    "#data.iloc[1] # second row of data frame (Evan Zigomalas)\n",
    "#data.iloc[-1] # last row of data frame (Mi Richan)\n",
    "# Columns:\n",
    "#data.iloc[:,0] # first column of data frame (first_name)\n",
    "#data.iloc[:,1] # second column of data frame (last_name)\n",
    "data.iloc[:,-1] # last column of data frame (id)"
   ]
  },
  {
   "cell_type": "code",
   "execution_count": null,
   "metadata": {},
   "outputs": [],
   "source": [
    "# Selection of multiple rows and columns with iloc, first five rows of df\n",
    "data.iloc[0:5] # "
   ]
  },
  {
   "cell_type": "code",
   "execution_count": null,
   "metadata": {},
   "outputs": [],
   "source": [
    "# select columns 0 and 1 but not 2 with all rows\n",
    "data.iloc[:, 0:2]"
   ]
  },
  {
   "cell_type": "code",
   "execution_count": null,
   "metadata": {},
   "outputs": [],
   "source": [
    "# Selection of multiple rows and columns with iloc\n",
    "data.iloc[[0,3,6,24], [0,5,6]] # 1st, 4th, 7th, 25th row + 1st 6th 7th columns.\n"
   ]
  },
  {
   "cell_type": "code",
   "execution_count": null,
   "metadata": {},
   "outputs": [],
   "source": [
    "# Selection of multiple rows and columns with iloc\n",
    "data.iloc[0:5, 5:8] # first 5 rows and 5th, 6th, 7th columns of data frame (county -> phone1)."
   ]
  },
  {
   "cell_type": "code",
   "execution_count": null,
   "metadata": {},
   "outputs": [],
   "source": [
    "# Selection of multiple rows and columns with iloc\n",
    "#data.iloc[0:5] # first five rows of dataframe\n",
    "#data.iloc[:, 0:2] # first two columns of data frame with all rows\n",
    "#data.iloc[[0,3,6,24], [0,5,6]] # 1st, 4th, 7th, 25th row + 1st 6th 7th columns.\n",
    "data.iloc[0:5, 5:8] # first 5 rows and 5th, 6th, 7th columns of data frame (county -> phone1)."
   ]
  },
  {
   "cell_type": "code",
   "execution_count": null,
   "metadata": {},
   "outputs": [],
   "source": []
  },
  {
   "cell_type": "code",
   "execution_count": null,
   "metadata": {},
   "outputs": [],
   "source": []
  },
  {
   "cell_type": "code",
   "execution_count": null,
   "metadata": {},
   "outputs": [],
   "source": []
  },
  {
   "cell_type": "code",
   "execution_count": null,
   "metadata": {
    "scrolled": true
   },
   "outputs": [],
   "source": [
    "There’s two gotchas to remember when using iloc in this manner:\n",
    "\n",
    "Note that .iloc returns a Pandas Series when one row is selected, \n",
    "and a Pandas DataFrame when multiple rows are selected, or if any column in full is selected. \n",
    "To counter this, pass a single-valued list if you require DataFrame output."
   ]
  },
  {
   "cell_type": "code",
   "execution_count": null,
   "metadata": {},
   "outputs": [],
   "source": [
    "#loc"
   ]
  },
  {
   "cell_type": "code",
   "execution_count": null,
   "metadata": {},
   "outputs": [],
   "source": [
    "The Pandas loc indexer can be used with DataFrames for two different use cases:\n",
    "\n",
    "a.) Selecting rows by label/index\n",
    "b.) Selecting rows with a boolean / conditional lookup"
   ]
  },
  {
   "cell_type": "code",
   "execution_count": null,
   "metadata": {},
   "outputs": [],
   "source": [
    "data.set_index(\"last_name\", inplace=True)\n",
    "data.head()"
   ]
  },
  {
   "cell_type": "code",
   "execution_count": null,
   "metadata": {},
   "outputs": [],
   "source": [
    "data.loc['Zigomalas']"
   ]
  },
  {
   "cell_type": "code",
   "execution_count": null,
   "metadata": {},
   "outputs": [],
   "source": [
    "data.loc[['Zigomalas','Andrade']]"
   ]
  },
  {
   "cell_type": "code",
   "execution_count": null,
   "metadata": {},
   "outputs": [],
   "source": [
    "data.loc[['Zigomalas','Andrade'],['first_name','county']]"
   ]
  },
  {
   "cell_type": "code",
   "execution_count": null,
   "metadata": {},
   "outputs": [],
   "source": [
    "# Select rows with index values 'Andrade' and 'Veness', with all columns between 'city' and 'email'\n",
    "#data.loc[['Andrade', 'Veness'], 'city':'email']\n",
    "# Select same rows, with just 'first_name', 'address' and 'city' columns\n",
    "#data.loc['Andrade':'Veness', ['first_name', 'address', 'city']]\n",
    " \n",
    "# Change the index to be based on the 'id' column\n",
    "#data.set_index('id', inplace=True)\n",
    "# select the row with 'id' = 487\n",
    "data.loc[487]"
   ]
  },
  {
   "cell_type": "code",
   "execution_count": null,
   "metadata": {},
   "outputs": [],
   "source": [
    "# Select rows with index values 'Andrade' and 'Veness', with all columns between 'city' and 'email'\n",
    "data.loc[['Andrade', 'Veness'], 'city':'email']"
   ]
  },
  {
   "cell_type": "code",
   "execution_count": null,
   "metadata": {},
   "outputs": [],
   "source": [
    "# Select same rows, with just 'first_name', 'address' and 'city' columns\n",
    "data.loc['Andrade':'Veness', ['first_name', 'address', 'city']]"
   ]
  },
  {
   "cell_type": "code",
   "execution_count": null,
   "metadata": {},
   "outputs": [],
   "source": [
    "data.loc['Andrade':'Veness', 'city':'email']"
   ]
  },
  {
   "cell_type": "code",
   "execution_count": null,
   "metadata": {},
   "outputs": [],
   "source": [
    "# Change the index to be based on the 'id' column\n",
    "df0.set_index('id', inplace=True)\n",
    "# select the row with 'id' = 487\n",
    "df0.loc[750]"
   ]
  },
  {
   "cell_type": "code",
   "execution_count": null,
   "metadata": {},
   "outputs": [],
   "source": []
  },
  {
   "cell_type": "code",
   "execution_count": null,
   "metadata": {},
   "outputs": [],
   "source": []
  },
  {
   "cell_type": "code",
   "execution_count": null,
   "metadata": {},
   "outputs": [],
   "source": []
  },
  {
   "cell_type": "code",
   "execution_count": null,
   "metadata": {},
   "outputs": [],
   "source": [
    "2b. Boolean / Logical indexing using .loc"
   ]
  },
  {
   "cell_type": "code",
   "execution_count": null,
   "metadata": {},
   "outputs": [],
   "source": [
    "df0.loc[df0['first_name']=='Erasmo', ['first_name','county']]"
   ]
  },
  {
   "cell_type": "code",
   "execution_count": null,
   "metadata": {},
   "outputs": [],
   "source": [
    "df0.loc[df0['first_name']=='Erasmo', 'county'] # returns a Series"
   ]
  },
  {
   "cell_type": "code",
   "execution_count": null,
   "metadata": {},
   "outputs": [],
   "source": [
    "df0.loc[df0['first_name']=='Erasmo', ['county']] # returns a DF"
   ]
  },
  {
   "cell_type": "code",
   "execution_count": null,
   "metadata": {},
   "outputs": [],
   "source": [
    "\n",
    "\n",
    " \n",
    " \n",
    " \n",
    " \n",
    "       \n",
    "\n",
    " \n",
    "\n",
    " \n",
    "\n",
    " \n"
   ]
  },
  {
   "cell_type": "code",
   "execution_count": null,
   "metadata": {},
   "outputs": [],
   "source": [
    "# Select rows with first name Antonio, # and all columns between 'city' and 'email'\n",
    "df0.loc[df0['first_name'] == 'Antonio', 'city':'email']"
   ]
  },
  {
   "cell_type": "code",
   "execution_count": null,
   "metadata": {},
   "outputs": [],
   "source": [
    "# Select rows where the email column ends with 'hotmail.com', include all columns\n",
    "df0.loc[df0['email'].str.endswith(\"hotmail.com\")]"
   ]
  },
  {
   "cell_type": "code",
   "execution_count": null,
   "metadata": {},
   "outputs": [],
   "source": [
    "# Select rows with last_name equal to some values, all columns (Whether elements in Series are contained in values.)\n",
    "df0.loc[df0['first_name'].isin(['France', 'Tyisha', 'Eric'])]  "
   ]
  },
  {
   "cell_type": "code",
   "execution_count": null,
   "metadata": {},
   "outputs": [],
   "source": [
    "# Select rows with first name Antonio AND hotmail email addresses\n",
    "df0.loc[df0['email'].str.endswith(\"gmail.com\") & (df0['first_name'] == 'Antonio')]"
   ]
  },
  {
   "cell_type": "code",
   "execution_count": null,
   "metadata": {},
   "outputs": [],
   "source": [
    "# select rows with id column between 100 and 200, and just return 'postal' and 'web' columns\n",
    "df0.loc[(df0['id'] > 100) & (df0['id'] <= 200), ['postal', 'web','id']] "
   ]
  },
  {
   "cell_type": "code",
   "execution_count": null,
   "metadata": {},
   "outputs": [],
   "source": [
    "# A lambda function that yields True/False values can also be used.\n",
    "# Select rows where the company name has 4 words in it.\n",
    "df0.loc[df0['company_name'].apply(lambda x: len(x.split(' ')) == 4)]"
   ]
  },
  {
   "cell_type": "code",
   "execution_count": null,
   "metadata": {},
   "outputs": [],
   "source": [
    "# Selections can be achieved outside of the main .loc for clarity:\n",
    "# Form a separate variable with your selections:\n",
    "idx = df0['company_name'].apply(lambda x: len(x.split(' ')) == 4)\n",
    "# Select only the True values in 'idx' and only the 3 columns specified:\n",
    "df0.loc[idx, ['email', 'first_name', 'company']]"
   ]
  }
 ],
 "metadata": {
  "kernelspec": {
   "display_name": "Python 3",
   "language": "python",
   "name": "python3"
  },
  "language_info": {
   "codemirror_mode": {
    "name": "ipython",
    "version": 3
   },
   "file_extension": ".py",
   "mimetype": "text/x-python",
   "name": "python",
   "nbconvert_exporter": "python",
   "pygments_lexer": "ipython3",
   "version": "3.7.4"
  }
 },
 "nbformat": 4,
 "nbformat_minor": 2
}
