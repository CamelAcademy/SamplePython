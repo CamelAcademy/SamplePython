{
 "cells": [
  {
   "cell_type": "code",
   "execution_count": null,
   "metadata": {},
   "outputs": [],
   "source": [
    "select ACCT_ID,  TITLE, rank_id from\n",
    "(\n",
    "select ACCT_ID, TIMESTAMP, TITLE\n",
    "RANK() OVER (\n",
    "    [PARTITION BY ACCT_ID]\n",
    "    ORDER BY TIMESTAMP ASC) as rank_id\n",
    "    from user_stream\n",
    ")\n",
    "where rank_id = 1"
   ]
  },
  {
   "cell_type": "code",
   "execution_count": null,
   "metadata": {},
   "outputs": [],
   "source": [
    "SELECT * FROM (\n",
    "\tSELECT\n",
    "\t\tproduct_id,\n",
    "\t\tproduct_name,\n",
    "\t\tbrand_id,\n",
    "\t\tlist_price,\n",
    "\t\tRANK () OVER ( \n",
    "\t\t\tPARTITION BY brand_id\n",
    "\t\t\tORDER BY list_price DESC\n",
    "\t\t) price_rank \n",
    "\tFROM\n",
    "\t\tproduction.products\n",
    ") t\n",
    "WHERE price_rank <= 3;"
   ]
  },
  {
   "cell_type": "code",
   "execution_count": null,
   "metadata": {},
   "outputs": [],
   "source": [
    "How would you determine the first title watched for each subscriber based on the table below:\n",
    "    from Jashandeep Kaur to Everyone:    1:13  PM\n",
    "How would you determine the first title watched for each subscriber based on the table below:\n",
    "from Jashandeep Kaur to Everyone:    1:14  PM\n",
    "\n",
    "ACCT_ID\n",
    "TIMESTAMP\n",
    "TITLE\n",
    "DURATION\n",
    "DEVICE\n",
    "\n",
    "001\n",
    "2019-01-01 9:05AM\n",
    "GAME OF THRONES\n",
    "35 MINS\n",
    "IPAD\n",
    "\n",
    "001\n",
    "2019-01-01 10:33AM\n",
    "BIG LITTLE LIES\n",
    "30 MINS\n",
    "IPHONE\n",
    "\n"
   ]
  },
  {
   "cell_type": "code",
   "execution_count": null,
   "metadata": {},
   "outputs": [],
   "source": [
    "1.      How would you calculate the percentage of subscribers didn’t stream anything in Dec 2019 \n",
    "based on the table USER_STREAM (list in Q1) and USER_SUBSCRIPTION(listed below):\n",
    "    \n",
    "ACCT_ID\n",
    "SUBSCRIPTION_START\n",
    "SUBSCRIPTION_END\n",
    "NUM_SUBSCRIPTION\n",
    "001\n",
    "2019-01-01\n",
    "2019-06-01\n",
    "1\n",
    "001\n",
    "2019-11-12\n",
    "2020-01-12\n",
    "2"
   ]
  },
  {
   "cell_type": "code",
   "execution_count": null,
   "metadata": {},
   "outputs": [],
   "source": [
    "select count(distinct acct_id) from USER_SUBSCRIPTION ===> total sub"
   ]
  },
  {
   "cell_type": "code",
   "execution_count": null,
   "metadata": {},
   "outputs": [],
   "source": [
    "select count(distinct acct_id)\n",
    "from USER_SUBSCRIPTION sub\n",
    "inner join USER_STREAM str on sub\n",
    "where SUBSCRIPTION_START <= '12/31/2019' \n",
    "and SUBSCRIPTION_END >='12/01/2019'\n",
    "===> active sub"
   ]
  },
  {
   "cell_type": "code",
   "execution_count": null,
   "metadata": {},
   "outputs": [],
   "source": [
    "df.raplace('')"
   ]
  }
 ],
 "metadata": {
  "kernelspec": {
   "display_name": "Python 3",
   "language": "python",
   "name": "python3"
  },
  "language_info": {
   "codemirror_mode": {
    "name": "ipython",
    "version": 3
   },
   "file_extension": ".py",
   "mimetype": "text/x-python",
   "name": "python",
   "nbconvert_exporter": "python",
   "pygments_lexer": "ipython3",
   "version": "3.7.4"
  }
 },
 "nbformat": 4,
 "nbformat_minor": 2
}
