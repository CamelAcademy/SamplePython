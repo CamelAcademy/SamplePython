{
 "cells": [
  {
   "cell_type": "code",
   "execution_count": 1,
   "metadata": {},
   "outputs": [
    {
     "data": {
      "text/plain": [
       "<function dir>"
      ]
     },
     "execution_count": 1,
     "metadata": {},
     "output_type": "execute_result"
    }
   ],
   "source": [
    "dir"
   ]
  },
  {
   "cell_type": "code",
   "execution_count": 2,
   "metadata": {},
   "outputs": [
    {
     "data": {
      "text/plain": [
       "'C:\\\\Users\\\\pichappan\\\\Documents\\\\SamplePython\\\\notebook'"
      ]
     },
     "execution_count": 2,
     "metadata": {},
     "output_type": "execute_result"
    }
   ],
   "source": [
    "pwd"
   ]
  },
  {
   "cell_type": "code",
   "execution_count": 3,
   "metadata": {},
   "outputs": [
    {
     "name": "stdout",
     "output_type": "stream",
     "text": [
      "C:\\Users\\pichappan\\Documents\\SamplePython\\input\n"
     ]
    }
   ],
   "source": [
    "cd ../input"
   ]
  },
  {
   "cell_type": "code",
   "execution_count": 4,
   "metadata": {},
   "outputs": [],
   "source": [
    "import pandas as pd"
   ]
  },
  {
   "cell_type": "code",
   "execution_count": 5,
   "metadata": {},
   "outputs": [
    {
     "data": {
      "text/html": [
       "<style type=\"text/css\">\n",
       "table.dataframe td, table.dataframe th{\n",
       "    border-style : solid;\n",
       "}\n"
      ],
      "text/plain": [
       "<IPython.core.display.HTML object>"
      ]
     },
     "metadata": {},
     "output_type": "display_data"
    }
   ],
   "source": [
    "%%HTML\n",
    "<style type=\"text/css\">\n",
    "table.dataframe td, table.dataframe th{\n",
    "    border-style : solid;\n",
    "}"
   ]
  },
  {
   "cell_type": "code",
   "execution_count": 6,
   "metadata": {
    "scrolled": true
   },
   "outputs": [
    {
     "data": {
      "text/html": [
       "<div>\n",
       "<style scoped>\n",
       "    .dataframe tbody tr th:only-of-type {\n",
       "        vertical-align: middle;\n",
       "    }\n",
       "\n",
       "    .dataframe tbody tr th {\n",
       "        vertical-align: top;\n",
       "    }\n",
       "\n",
       "    .dataframe thead th {\n",
       "        text-align: right;\n",
       "    }\n",
       "</style>\n",
       "<table border=\"1\" class=\"dataframe\">\n",
       "  <thead>\n",
       "    <tr style=\"text-align: right;\">\n",
       "      <th></th>\n",
       "      <th>NAME</th>\n",
       "      <th>DATE</th>\n",
       "      <th>PRCP</th>\n",
       "      <th>TMAX</th>\n",
       "      <th>TMIN</th>\n",
       "    </tr>\n",
       "  </thead>\n",
       "  <tbody>\n",
       "    <tr>\n",
       "      <td>0</td>\n",
       "      <td>CAMBRIDGE MIT, MA US</td>\n",
       "      <td>1/1/1932</td>\n",
       "      <td>0.00</td>\n",
       "      <td>39.0</td>\n",
       "      <td>30.0</td>\n",
       "    </tr>\n",
       "    <tr>\n",
       "      <td>1</td>\n",
       "      <td>CAMBRIDGE MIT, MA US</td>\n",
       "      <td>1/2/1932</td>\n",
       "      <td>0.96</td>\n",
       "      <td>41.0</td>\n",
       "      <td>28.0</td>\n",
       "    </tr>\n",
       "    <tr>\n",
       "      <td>2</td>\n",
       "      <td>CAMBRIDGE MIT, MA US</td>\n",
       "      <td>1/3/1932</td>\n",
       "      <td>0.04</td>\n",
       "      <td>34.0</td>\n",
       "      <td>29.0</td>\n",
       "    </tr>\n",
       "    <tr>\n",
       "      <td>3</td>\n",
       "      <td>CAMBRIDGE MIT, MA US</td>\n",
       "      <td>1/4/1932</td>\n",
       "      <td>0.00</td>\n",
       "      <td>32.0</td>\n",
       "      <td>22.0</td>\n",
       "    </tr>\n",
       "    <tr>\n",
       "      <td>4</td>\n",
       "      <td>CAMBRIDGE MIT, MA US</td>\n",
       "      <td>1/5/1932</td>\n",
       "      <td>0.00</td>\n",
       "      <td>34.0</td>\n",
       "      <td>22.0</td>\n",
       "    </tr>\n",
       "  </tbody>\n",
       "</table>\n",
       "</div>"
      ],
      "text/plain": [
       "                   NAME      DATE  PRCP  TMAX  TMIN\n",
       "0  CAMBRIDGE MIT, MA US  1/1/1932  0.00  39.0  30.0\n",
       "1  CAMBRIDGE MIT, MA US  1/2/1932  0.96  41.0  28.0\n",
       "2  CAMBRIDGE MIT, MA US  1/3/1932  0.04  34.0  29.0\n",
       "3  CAMBRIDGE MIT, MA US  1/4/1932  0.00  32.0  22.0\n",
       "4  CAMBRIDGE MIT, MA US  1/5/1932  0.00  34.0  22.0"
      ]
     },
     "execution_count": 6,
     "metadata": {},
     "output_type": "execute_result"
    }
   ],
   "source": [
    "# Read CSV without data parseing\n",
    "df0 = pd.read_csv('mit.csv')\n",
    "df0.head()"
   ]
  },
  {
   "cell_type": "code",
   "execution_count": 7,
   "metadata": {},
   "outputs": [
    {
     "data": {
      "text/html": [
       "<div>\n",
       "<style scoped>\n",
       "    .dataframe tbody tr th:only-of-type {\n",
       "        vertical-align: middle;\n",
       "    }\n",
       "\n",
       "    .dataframe tbody tr th {\n",
       "        vertical-align: top;\n",
       "    }\n",
       "\n",
       "    .dataframe thead th {\n",
       "        text-align: right;\n",
       "    }\n",
       "</style>\n",
       "<table border=\"1\" class=\"dataframe\">\n",
       "  <thead>\n",
       "    <tr style=\"text-align: right;\">\n",
       "      <th></th>\n",
       "      <th>NAME</th>\n",
       "      <th>DATE</th>\n",
       "      <th>PRCP</th>\n",
       "      <th>TMAX</th>\n",
       "      <th>TMIN</th>\n",
       "    </tr>\n",
       "  </thead>\n",
       "  <tbody>\n",
       "    <tr>\n",
       "      <td>361</td>\n",
       "      <td>CAMBRIDGE MIT, MA US</td>\n",
       "      <td>1932-12-27</td>\n",
       "      <td>0.30</td>\n",
       "      <td>42.0</td>\n",
       "      <td>32.0</td>\n",
       "    </tr>\n",
       "    <tr>\n",
       "      <td>362</td>\n",
       "      <td>CAMBRIDGE MIT, MA US</td>\n",
       "      <td>1932-12-28</td>\n",
       "      <td>0.23</td>\n",
       "      <td>43.0</td>\n",
       "      <td>37.0</td>\n",
       "    </tr>\n",
       "    <tr>\n",
       "      <td>363</td>\n",
       "      <td>CAMBRIDGE MIT, MA US</td>\n",
       "      <td>1932-12-29</td>\n",
       "      <td>0.00</td>\n",
       "      <td>48.0</td>\n",
       "      <td>33.0</td>\n",
       "    </tr>\n",
       "    <tr>\n",
       "      <td>364</td>\n",
       "      <td>CAMBRIDGE MIT, MA US</td>\n",
       "      <td>1932-12-30</td>\n",
       "      <td>0.00</td>\n",
       "      <td>51.0</td>\n",
       "      <td>37.0</td>\n",
       "    </tr>\n",
       "    <tr>\n",
       "      <td>365</td>\n",
       "      <td>CAMBRIDGE MIT, MA US</td>\n",
       "      <td>1932-12-31</td>\n",
       "      <td>0.00</td>\n",
       "      <td>64.0</td>\n",
       "      <td>23.0</td>\n",
       "    </tr>\n",
       "  </tbody>\n",
       "</table>\n",
       "</div>"
      ],
      "text/plain": [
       "                     NAME       DATE  PRCP  TMAX  TMIN\n",
       "361  CAMBRIDGE MIT, MA US 1932-12-27  0.30  42.0  32.0\n",
       "362  CAMBRIDGE MIT, MA US 1932-12-28  0.23  43.0  37.0\n",
       "363  CAMBRIDGE MIT, MA US 1932-12-29  0.00  48.0  33.0\n",
       "364  CAMBRIDGE MIT, MA US 1932-12-30  0.00  51.0  37.0\n",
       "365  CAMBRIDGE MIT, MA US 1932-12-31  0.00  64.0  23.0"
      ]
     },
     "execution_count": 7,
     "metadata": {},
     "output_type": "execute_result"
    }
   ],
   "source": [
    "# Read CSV with data parseing\n",
    "df1 = pd.read_csv('mit.csv', parse_dates=['DATE'])\n",
    "df1.tail()"
   ]
  },
  {
   "cell_type": "code",
   "execution_count": 8,
   "metadata": {
    "scrolled": false
   },
   "outputs": [
    {
     "name": "stdout",
     "output_type": "stream",
     "text": [
      "The datatype of DataFrame df0 is <class 'pandas.core.frame.DataFrame'>\n",
      "The datatype of Column Date is <class 'pandas.core.series.Series'>\n",
      "The datatype of df0 Date Cell is <class 'str'> \n",
      "\n",
      "The datatype of df1 Date Cell is \n",
      "NAME            object\n",
      "DATE    datetime64[ns]\n",
      "PRCP           float64\n",
      "TMAX           float64\n",
      "TMIN           float64\n",
      "dtype: object\n"
     ]
    }
   ],
   "source": [
    "print('The datatype of DataFrame df0 is {0}'.format(type(df0)))\n",
    "print('The datatype of Column Date is {0}'.format(type(df0.DATE)))\n",
    "print('The datatype of df0 Date Cell is {0} \\n'.format(type(df0.DATE[0])))\n",
    "\n",
    "print('The datatype of df1 Date Cell is \\n{0}'.format(df1.dtypes))"
   ]
  },
  {
   "cell_type": "code",
   "execution_count": 9,
   "metadata": {},
   "outputs": [
    {
     "data": {
      "text/html": [
       "<div>\n",
       "<style scoped>\n",
       "    .dataframe tbody tr th:only-of-type {\n",
       "        vertical-align: middle;\n",
       "    }\n",
       "\n",
       "    .dataframe tbody tr th {\n",
       "        vertical-align: top;\n",
       "    }\n",
       "\n",
       "    .dataframe thead th {\n",
       "        text-align: right;\n",
       "    }\n",
       "</style>\n",
       "<table border=\"1\" class=\"dataframe\">\n",
       "  <thead>\n",
       "    <tr style=\"text-align: right;\">\n",
       "      <th></th>\n",
       "      <th>NAME</th>\n",
       "      <th>PRCP</th>\n",
       "      <th>TMAX</th>\n",
       "      <th>TMIN</th>\n",
       "    </tr>\n",
       "    <tr>\n",
       "      <th>DATE</th>\n",
       "      <th></th>\n",
       "      <th></th>\n",
       "      <th></th>\n",
       "      <th></th>\n",
       "    </tr>\n",
       "  </thead>\n",
       "  <tbody>\n",
       "    <tr>\n",
       "      <td>1932-12-27</td>\n",
       "      <td>CAMBRIDGE MIT, MA US</td>\n",
       "      <td>0.30</td>\n",
       "      <td>42.0</td>\n",
       "      <td>32.0</td>\n",
       "    </tr>\n",
       "    <tr>\n",
       "      <td>1932-12-28</td>\n",
       "      <td>CAMBRIDGE MIT, MA US</td>\n",
       "      <td>0.23</td>\n",
       "      <td>43.0</td>\n",
       "      <td>37.0</td>\n",
       "    </tr>\n",
       "    <tr>\n",
       "      <td>1932-12-29</td>\n",
       "      <td>CAMBRIDGE MIT, MA US</td>\n",
       "      <td>0.00</td>\n",
       "      <td>48.0</td>\n",
       "      <td>33.0</td>\n",
       "    </tr>\n",
       "    <tr>\n",
       "      <td>1932-12-30</td>\n",
       "      <td>CAMBRIDGE MIT, MA US</td>\n",
       "      <td>0.00</td>\n",
       "      <td>51.0</td>\n",
       "      <td>37.0</td>\n",
       "    </tr>\n",
       "    <tr>\n",
       "      <td>1932-12-31</td>\n",
       "      <td>CAMBRIDGE MIT, MA US</td>\n",
       "      <td>0.00</td>\n",
       "      <td>64.0</td>\n",
       "      <td>23.0</td>\n",
       "    </tr>\n",
       "  </tbody>\n",
       "</table>\n",
       "</div>"
      ],
      "text/plain": [
       "                            NAME  PRCP  TMAX  TMIN\n",
       "DATE                                              \n",
       "1932-12-27  CAMBRIDGE MIT, MA US  0.30  42.0  32.0\n",
       "1932-12-28  CAMBRIDGE MIT, MA US  0.23  43.0  37.0\n",
       "1932-12-29  CAMBRIDGE MIT, MA US  0.00  48.0  33.0\n",
       "1932-12-30  CAMBRIDGE MIT, MA US  0.00  51.0  37.0\n",
       "1932-12-31  CAMBRIDGE MIT, MA US  0.00  64.0  23.0"
      ]
     },
     "execution_count": 9,
     "metadata": {},
     "output_type": "execute_result"
    }
   ],
   "source": [
    "# Read CSV with not only data parseing but also setting index\n",
    "# df2.set_index(\"Date\", inplace=True)\n",
    "df2 = pd.read_csv('mit.csv', parse_dates=['DATE'], index_col='DATE')\n",
    "df2.tail()"
   ]
  },
  {
   "cell_type": "code",
   "execution_count": 10,
   "metadata": {},
   "outputs": [
    {
     "name": "stdout",
     "output_type": "stream",
     "text": [
      "The datatype of df1 Date Cell is \n",
      "NAME     object\n",
      "PRCP    float64\n",
      "TMAX    float64\n",
      "TMIN    float64\n",
      "dtype: object\n"
     ]
    }
   ],
   "source": [
    "# Datatype of Dataframe does not tell much about Index :(\n",
    "print('The datatype of df1 Date Cell is \\n{0}'.format(df2.dtypes))"
   ]
  },
  {
   "cell_type": "code",
   "execution_count": 11,
   "metadata": {},
   "outputs": [
    {
     "data": {
      "text/plain": [
       "DatetimeIndex(['1932-01-01', '1932-01-02', '1932-01-03', '1932-01-04',\n",
       "               '1932-01-05', '1932-01-06', '1932-01-07', '1932-01-08',\n",
       "               '1932-01-09', '1932-01-10',\n",
       "               ...\n",
       "               '1932-12-22', '1932-12-23', '1932-12-24', '1932-12-25',\n",
       "               '1932-12-26', '1932-12-27', '1932-12-28', '1932-12-29',\n",
       "               '1932-12-30', '1932-12-31'],\n",
       "              dtype='datetime64[ns]', name='DATE', length=366, freq=None)"
      ]
     },
     "execution_count": 11,
     "metadata": {},
     "output_type": "execute_result"
    }
   ],
   "source": [
    "# DatetimeIndex made of datetime\n",
    "df2.index"
   ]
  },
  {
   "cell_type": "code",
   "execution_count": 12,
   "metadata": {
    "scrolled": true
   },
   "outputs": [
    {
     "data": {
      "text/html": [
       "<div>\n",
       "<style scoped>\n",
       "    .dataframe tbody tr th:only-of-type {\n",
       "        vertical-align: middle;\n",
       "    }\n",
       "\n",
       "    .dataframe tbody tr th {\n",
       "        vertical-align: top;\n",
       "    }\n",
       "\n",
       "    .dataframe thead th {\n",
       "        text-align: right;\n",
       "    }\n",
       "</style>\n",
       "<table border=\"1\" class=\"dataframe\">\n",
       "  <thead>\n",
       "    <tr style=\"text-align: right;\">\n",
       "      <th></th>\n",
       "      <th>NAME</th>\n",
       "      <th>PRCP</th>\n",
       "      <th>TMAX</th>\n",
       "      <th>TMIN</th>\n",
       "    </tr>\n",
       "    <tr>\n",
       "      <th>DATE</th>\n",
       "      <th></th>\n",
       "      <th></th>\n",
       "      <th></th>\n",
       "      <th></th>\n",
       "    </tr>\n",
       "  </thead>\n",
       "  <tbody>\n",
       "    <tr>\n",
       "      <td>1932-02-01</td>\n",
       "      <td>CAMBRIDGE MIT, MA US</td>\n",
       "      <td>0.00</td>\n",
       "      <td>25.0</td>\n",
       "      <td>15.0</td>\n",
       "    </tr>\n",
       "    <tr>\n",
       "      <td>1932-02-02</td>\n",
       "      <td>CAMBRIDGE MIT, MA US</td>\n",
       "      <td>0.12</td>\n",
       "      <td>35.0</td>\n",
       "      <td>18.0</td>\n",
       "    </tr>\n",
       "    <tr>\n",
       "      <td>1932-02-03</td>\n",
       "      <td>CAMBRIDGE MIT, MA US</td>\n",
       "      <td>0.00</td>\n",
       "      <td>36.0</td>\n",
       "      <td>26.0</td>\n",
       "    </tr>\n",
       "    <tr>\n",
       "      <td>1932-02-04</td>\n",
       "      <td>CAMBRIDGE MIT, MA US</td>\n",
       "      <td>0.45</td>\n",
       "      <td>38.0</td>\n",
       "      <td>29.0</td>\n",
       "    </tr>\n",
       "    <tr>\n",
       "      <td>1932-02-05</td>\n",
       "      <td>CAMBRIDGE MIT, MA US</td>\n",
       "      <td>0.24</td>\n",
       "      <td>32.0</td>\n",
       "      <td>25.0</td>\n",
       "    </tr>\n",
       "    <tr>\n",
       "      <td>1932-02-06</td>\n",
       "      <td>CAMBRIDGE MIT, MA US</td>\n",
       "      <td>0.00</td>\n",
       "      <td>42.0</td>\n",
       "      <td>22.0</td>\n",
       "    </tr>\n",
       "    <tr>\n",
       "      <td>1932-02-07</td>\n",
       "      <td>CAMBRIDGE MIT, MA US</td>\n",
       "      <td>0.00</td>\n",
       "      <td>43.0</td>\n",
       "      <td>32.0</td>\n",
       "    </tr>\n",
       "    <tr>\n",
       "      <td>1932-02-08</td>\n",
       "      <td>CAMBRIDGE MIT, MA US</td>\n",
       "      <td>0.24</td>\n",
       "      <td>42.0</td>\n",
       "      <td>32.0</td>\n",
       "    </tr>\n",
       "    <tr>\n",
       "      <td>1932-02-09</td>\n",
       "      <td>CAMBRIDGE MIT, MA US</td>\n",
       "      <td>0.00</td>\n",
       "      <td>38.0</td>\n",
       "      <td>19.0</td>\n",
       "    </tr>\n",
       "    <tr>\n",
       "      <td>1932-02-10</td>\n",
       "      <td>CAMBRIDGE MIT, MA US</td>\n",
       "      <td>0.02</td>\n",
       "      <td>39.0</td>\n",
       "      <td>23.0</td>\n",
       "    </tr>\n",
       "    <tr>\n",
       "      <td>1932-02-11</td>\n",
       "      <td>CAMBRIDGE MIT, MA US</td>\n",
       "      <td>0.41</td>\n",
       "      <td>37.0</td>\n",
       "      <td>29.0</td>\n",
       "    </tr>\n",
       "    <tr>\n",
       "      <td>1932-02-12</td>\n",
       "      <td>CAMBRIDGE MIT, MA US</td>\n",
       "      <td>0.03</td>\n",
       "      <td>50.0</td>\n",
       "      <td>35.0</td>\n",
       "    </tr>\n",
       "    <tr>\n",
       "      <td>1932-02-13</td>\n",
       "      <td>CAMBRIDGE MIT, MA US</td>\n",
       "      <td>0.00</td>\n",
       "      <td>46.0</td>\n",
       "      <td>36.0</td>\n",
       "    </tr>\n",
       "    <tr>\n",
       "      <td>1932-02-14</td>\n",
       "      <td>CAMBRIDGE MIT, MA US</td>\n",
       "      <td>0.00</td>\n",
       "      <td>36.0</td>\n",
       "      <td>20.0</td>\n",
       "    </tr>\n",
       "    <tr>\n",
       "      <td>1932-02-15</td>\n",
       "      <td>CAMBRIDGE MIT, MA US</td>\n",
       "      <td>0.00</td>\n",
       "      <td>28.0</td>\n",
       "      <td>14.0</td>\n",
       "    </tr>\n",
       "    <tr>\n",
       "      <td>1932-02-16</td>\n",
       "      <td>CAMBRIDGE MIT, MA US</td>\n",
       "      <td>0.00</td>\n",
       "      <td>31.0</td>\n",
       "      <td>12.0</td>\n",
       "    </tr>\n",
       "    <tr>\n",
       "      <td>1932-02-17</td>\n",
       "      <td>CAMBRIDGE MIT, MA US</td>\n",
       "      <td>0.06</td>\n",
       "      <td>42.0</td>\n",
       "      <td>23.0</td>\n",
       "    </tr>\n",
       "    <tr>\n",
       "      <td>1932-02-18</td>\n",
       "      <td>CAMBRIDGE MIT, MA US</td>\n",
       "      <td>0.00</td>\n",
       "      <td>40.0</td>\n",
       "      <td>20.0</td>\n",
       "    </tr>\n",
       "    <tr>\n",
       "      <td>1932-02-19</td>\n",
       "      <td>CAMBRIDGE MIT, MA US</td>\n",
       "      <td>0.00</td>\n",
       "      <td>34.0</td>\n",
       "      <td>15.0</td>\n",
       "    </tr>\n",
       "    <tr>\n",
       "      <td>1932-02-20</td>\n",
       "      <td>CAMBRIDGE MIT, MA US</td>\n",
       "      <td>0.00</td>\n",
       "      <td>29.0</td>\n",
       "      <td>18.0</td>\n",
       "    </tr>\n",
       "    <tr>\n",
       "      <td>1932-02-21</td>\n",
       "      <td>CAMBRIDGE MIT, MA US</td>\n",
       "      <td>0.00</td>\n",
       "      <td>36.0</td>\n",
       "      <td>12.0</td>\n",
       "    </tr>\n",
       "    <tr>\n",
       "      <td>1932-02-22</td>\n",
       "      <td>CAMBRIDGE MIT, MA US</td>\n",
       "      <td>0.00</td>\n",
       "      <td>49.0</td>\n",
       "      <td>27.0</td>\n",
       "    </tr>\n",
       "    <tr>\n",
       "      <td>1932-02-23</td>\n",
       "      <td>CAMBRIDGE MIT, MA US</td>\n",
       "      <td>0.00</td>\n",
       "      <td>32.0</td>\n",
       "      <td>18.0</td>\n",
       "    </tr>\n",
       "    <tr>\n",
       "      <td>1932-02-24</td>\n",
       "      <td>CAMBRIDGE MIT, MA US</td>\n",
       "      <td>0.00</td>\n",
       "      <td>26.0</td>\n",
       "      <td>14.0</td>\n",
       "    </tr>\n",
       "    <tr>\n",
       "      <td>1932-02-25</td>\n",
       "      <td>CAMBRIDGE MIT, MA US</td>\n",
       "      <td>0.00</td>\n",
       "      <td>35.0</td>\n",
       "      <td>11.0</td>\n",
       "    </tr>\n",
       "    <tr>\n",
       "      <td>1932-02-26</td>\n",
       "      <td>CAMBRIDGE MIT, MA US</td>\n",
       "      <td>0.07</td>\n",
       "      <td>46.0</td>\n",
       "      <td>29.0</td>\n",
       "    </tr>\n",
       "    <tr>\n",
       "      <td>1932-02-27</td>\n",
       "      <td>CAMBRIDGE MIT, MA US</td>\n",
       "      <td>0.00</td>\n",
       "      <td>38.0</td>\n",
       "      <td>32.0</td>\n",
       "    </tr>\n",
       "    <tr>\n",
       "      <td>1932-02-28</td>\n",
       "      <td>CAMBRIDGE MIT, MA US</td>\n",
       "      <td>0.00</td>\n",
       "      <td>36.0</td>\n",
       "      <td>34.0</td>\n",
       "    </tr>\n",
       "    <tr>\n",
       "      <td>1932-02-29</td>\n",
       "      <td>CAMBRIDGE MIT, MA US</td>\n",
       "      <td>0.00</td>\n",
       "      <td>35.0</td>\n",
       "      <td>30.0</td>\n",
       "    </tr>\n",
       "  </tbody>\n",
       "</table>\n",
       "</div>"
      ],
      "text/plain": [
       "                            NAME  PRCP  TMAX  TMIN\n",
       "DATE                                              \n",
       "1932-02-01  CAMBRIDGE MIT, MA US  0.00  25.0  15.0\n",
       "1932-02-02  CAMBRIDGE MIT, MA US  0.12  35.0  18.0\n",
       "1932-02-03  CAMBRIDGE MIT, MA US  0.00  36.0  26.0\n",
       "1932-02-04  CAMBRIDGE MIT, MA US  0.45  38.0  29.0\n",
       "1932-02-05  CAMBRIDGE MIT, MA US  0.24  32.0  25.0\n",
       "1932-02-06  CAMBRIDGE MIT, MA US  0.00  42.0  22.0\n",
       "1932-02-07  CAMBRIDGE MIT, MA US  0.00  43.0  32.0\n",
       "1932-02-08  CAMBRIDGE MIT, MA US  0.24  42.0  32.0\n",
       "1932-02-09  CAMBRIDGE MIT, MA US  0.00  38.0  19.0\n",
       "1932-02-10  CAMBRIDGE MIT, MA US  0.02  39.0  23.0\n",
       "1932-02-11  CAMBRIDGE MIT, MA US  0.41  37.0  29.0\n",
       "1932-02-12  CAMBRIDGE MIT, MA US  0.03  50.0  35.0\n",
       "1932-02-13  CAMBRIDGE MIT, MA US  0.00  46.0  36.0\n",
       "1932-02-14  CAMBRIDGE MIT, MA US  0.00  36.0  20.0\n",
       "1932-02-15  CAMBRIDGE MIT, MA US  0.00  28.0  14.0\n",
       "1932-02-16  CAMBRIDGE MIT, MA US  0.00  31.0  12.0\n",
       "1932-02-17  CAMBRIDGE MIT, MA US  0.06  42.0  23.0\n",
       "1932-02-18  CAMBRIDGE MIT, MA US  0.00  40.0  20.0\n",
       "1932-02-19  CAMBRIDGE MIT, MA US  0.00  34.0  15.0\n",
       "1932-02-20  CAMBRIDGE MIT, MA US  0.00  29.0  18.0\n",
       "1932-02-21  CAMBRIDGE MIT, MA US  0.00  36.0  12.0\n",
       "1932-02-22  CAMBRIDGE MIT, MA US  0.00  49.0  27.0\n",
       "1932-02-23  CAMBRIDGE MIT, MA US  0.00  32.0  18.0\n",
       "1932-02-24  CAMBRIDGE MIT, MA US  0.00  26.0  14.0\n",
       "1932-02-25  CAMBRIDGE MIT, MA US  0.00  35.0  11.0\n",
       "1932-02-26  CAMBRIDGE MIT, MA US  0.07  46.0  29.0\n",
       "1932-02-27  CAMBRIDGE MIT, MA US  0.00  38.0  32.0\n",
       "1932-02-28  CAMBRIDGE MIT, MA US  0.00  36.0  34.0\n",
       "1932-02-29  CAMBRIDGE MIT, MA US  0.00  35.0  30.0"
      ]
     },
     "execution_count": 12,
     "metadata": {},
     "output_type": "execute_result"
    }
   ],
   "source": [
    "# feed partial index to DatetimeIndex :)\n",
    "df2[\"1932-02\"]"
   ]
  },
  {
   "cell_type": "code",
   "execution_count": 13,
   "metadata": {},
   "outputs": [
    {
     "data": {
      "text/plain": [
       "0.45"
      ]
     },
     "execution_count": 13,
     "metadata": {},
     "output_type": "execute_result"
    }
   ],
   "source": [
    "# DataFrame.ColumnName.AggregateFunction\n",
    "df2[\"1932-02\"].PRCP.max()"
   ]
  },
  {
   "cell_type": "code",
   "execution_count": 14,
   "metadata": {},
   "outputs": [
    {
     "data": {
      "text/html": [
       "<div>\n",
       "<style scoped>\n",
       "    .dataframe tbody tr th:only-of-type {\n",
       "        vertical-align: middle;\n",
       "    }\n",
       "\n",
       "    .dataframe tbody tr th {\n",
       "        vertical-align: top;\n",
       "    }\n",
       "\n",
       "    .dataframe thead th {\n",
       "        text-align: right;\n",
       "    }\n",
       "</style>\n",
       "<table border=\"1\" class=\"dataframe\">\n",
       "  <thead>\n",
       "    <tr style=\"text-align: right;\">\n",
       "      <th></th>\n",
       "      <th>NAME</th>\n",
       "      <th>PRCP</th>\n",
       "      <th>TMAX</th>\n",
       "      <th>TMIN</th>\n",
       "    </tr>\n",
       "    <tr>\n",
       "      <th>DATE</th>\n",
       "      <th></th>\n",
       "      <th></th>\n",
       "      <th></th>\n",
       "      <th></th>\n",
       "    </tr>\n",
       "  </thead>\n",
       "  <tbody>\n",
       "    <tr>\n",
       "      <td>1932-02-28</td>\n",
       "      <td>CAMBRIDGE MIT, MA US</td>\n",
       "      <td>0.00</td>\n",
       "      <td>36.0</td>\n",
       "      <td>34.0</td>\n",
       "    </tr>\n",
       "    <tr>\n",
       "      <td>1932-02-29</td>\n",
       "      <td>CAMBRIDGE MIT, MA US</td>\n",
       "      <td>0.00</td>\n",
       "      <td>35.0</td>\n",
       "      <td>30.0</td>\n",
       "    </tr>\n",
       "    <tr>\n",
       "      <td>1932-03-01</td>\n",
       "      <td>CAMBRIDGE MIT, MA US</td>\n",
       "      <td>0.07</td>\n",
       "      <td>38.0</td>\n",
       "      <td>29.0</td>\n",
       "    </tr>\n",
       "    <tr>\n",
       "      <td>1932-03-02</td>\n",
       "      <td>CAMBRIDGE MIT, MA US</td>\n",
       "      <td>0.00</td>\n",
       "      <td>56.0</td>\n",
       "      <td>36.0</td>\n",
       "    </tr>\n",
       "  </tbody>\n",
       "</table>\n",
       "</div>"
      ],
      "text/plain": [
       "                            NAME  PRCP  TMAX  TMIN\n",
       "DATE                                              \n",
       "1932-02-28  CAMBRIDGE MIT, MA US  0.00  36.0  34.0\n",
       "1932-02-29  CAMBRIDGE MIT, MA US  0.00  35.0  30.0\n",
       "1932-03-01  CAMBRIDGE MIT, MA US  0.07  38.0  29.0\n",
       "1932-03-02  CAMBRIDGE MIT, MA US  0.00  56.0  36.0"
      ]
     },
     "execution_count": 14,
     "metadata": {},
     "output_type": "execute_result"
    }
   ],
   "source": [
    "# If you need to go across a month\n",
    "df2[\"1932-02-28\":\"1932-03-02\"]"
   ]
  },
  {
   "cell_type": "code",
   "execution_count": 15,
   "metadata": {},
   "outputs": [
    {
     "data": {
      "text/plain": [
       "35.0"
      ]
     },
     "execution_count": 15,
     "metadata": {},
     "output_type": "execute_result"
    }
   ],
   "source": [
    "# DataFrame.ColumnName.AggregateFunction\n",
    "df2[\"1932-02-28\":\"1932-03-02\"].TMAX.min()"
   ]
  },
  {
   "cell_type": "code",
   "execution_count": 16,
   "metadata": {
    "scrolled": true
   },
   "outputs": [
    {
     "data": {
      "text/plain": [
       "<matplotlib.axes._subplots.AxesSubplot at 0x166dfa551c8>"
      ]
     },
     "execution_count": 16,
     "metadata": {},
     "output_type": "execute_result"
    },
    {
     "data": {
      "image/png": "[encoded data removed]",
      "text/plain": [
       "<Figure size 432x288 with 1 Axes>"
      ]
     },
     "metadata": {
      "needs_background": "light"
     },
     "output_type": "display_data"
    }
   ],
   "source": [
    "%matplotlib inline\n",
    "df2.TMAX.plot()"
   ]
  },
  {
   "cell_type": "code",
   "execution_count": 17,
   "metadata": {},
   "outputs": [
    {
     "data": {
      "text/plain": [
       "DATE\n",
       "1932-03-31    41.681319\n",
       "1932-06-30    67.769231\n",
       "1932-09-30    79.967391\n",
       "1932-12-31    53.034091\n",
       "Freq: Q-DEC, Name: TMAX, dtype: float64"
      ]
     },
     "execution_count": 17,
     "metadata": {},
     "output_type": "execute_result"
    }
   ],
   "source": [
    "# Up/Down Resample data at different frequency (W, SM, M, Q) and apply aggregate function\n",
    "df2.TMAX.resample('Q').mean()"
   ]
  },
  {
   "cell_type": "code",
   "execution_count": 18,
   "metadata": {},
   "outputs": [
    {
     "data": {
      "text/plain": [
       "DATE\n",
       "1932-01-31    AxesSubplot(0.125,0.125;0.775x0.755)\n",
       "1932-02-29    AxesSubplot(0.125,0.125;0.775x0.755)\n",
       "1932-03-31    AxesSubplot(0.125,0.125;0.775x0.755)\n",
       "1932-04-30    AxesSubplot(0.125,0.125;0.775x0.755)\n",
       "1932-05-31    AxesSubplot(0.125,0.125;0.775x0.755)\n",
       "1932-06-30    AxesSubplot(0.125,0.125;0.775x0.755)\n",
       "1932-07-31    AxesSubplot(0.125,0.125;0.775x0.755)\n",
       "1932-08-31    AxesSubplot(0.125,0.125;0.775x0.755)\n",
       "1932-09-30    AxesSubplot(0.125,0.125;0.775x0.755)\n",
       "1932-10-31    AxesSubplot(0.125,0.125;0.775x0.755)\n",
       "1932-11-30    AxesSubplot(0.125,0.125;0.775x0.755)\n",
       "1932-12-31    AxesSubplot(0.125,0.125;0.775x0.755)\n",
       "dtype: object"
      ]
     },
     "execution_count": 18,
     "metadata": {},
     "output_type": "execute_result"
    },
    {
     "data": {
      "image/png": "[encoded data removed]",
      "text/plain": [
       "<Figure size 432x288 with 1 Axes>"
      ]
     },
     "metadata": {
      "needs_background": "light"
     },
     "output_type": "display_data"
    }
   ],
   "source": [
    "# Resampling can be Upsampling or Downsampling and its applied for data aggregation\n",
    "df2.TMAX.resample('M').plot()"
   ]
  },
  {
   "cell_type": "code",
   "execution_count": 19,
   "metadata": {},
   "outputs": [
    {
     "data": {
      "text/plain": [
       "<matplotlib.axes._subplots.AxesSubplot at 0x166e020e208>"
      ]
     },
     "execution_count": 19,
     "metadata": {},
     "output_type": "execute_result"
    },
    {
     "data": {
      "image/png": "[encoded data removed]",
      "text/plain": [
       "<Figure size 432x288 with 1 Axes>"
      ]
     },
     "metadata": {
      "needs_background": "light"
     },
     "output_type": "display_data"
    }
   ],
   "source": [
    "# inline magic, bar plot - we have 1 value for each bucket(x value)\n",
    "%matplotlib inline\n",
    "df2.TMAX.resample('SM').mean().plot(kind='bar')"
   ]
  },
  {
   "cell_type": "code",
   "execution_count": 20,
   "metadata": {},
   "outputs": [
    {
     "data": {
      "text/plain": [
       "DatetimeIndex(['2024-01-01', '2024-01-02', '2024-01-03', '2024-01-04',\n",
       "               '2024-01-05', '2024-01-06', '2024-01-07', '2024-01-08',\n",
       "               '2024-01-09', '2024-01-10',\n",
       "               ...\n",
       "               '2024-12-22', '2024-12-23', '2024-12-24', '2024-12-25',\n",
       "               '2024-12-26', '2024-12-27', '2024-12-28', '2024-12-29',\n",
       "               '2024-12-30', '2024-12-31'],\n",
       "              dtype='datetime64[ns]', length=366, freq='D')"
      ]
     },
     "execution_count": 20,
     "metadata": {},
     "output_type": "execute_result"
    }
   ],
   "source": [
    "# Example dr1 = pd.date_range(start=\"2020-01-01\", periods=10, freq=\"D\")\n",
    "# Now lets move forward in time to 2024 and make a dataframe, length 366 days\n",
    "dr1 = pd.date_range(start=\"01/01/2024\", end=\"12/31/2024\", freq=\"D\")\n",
    "dr1"
   ]
  },
  {
   "cell_type": "code",
   "execution_count": 21,
   "metadata": {
    "scrolled": true
   },
   "outputs": [
    {
     "data": {
      "text/html": [
       "<div>\n",
       "<style scoped>\n",
       "    .dataframe tbody tr th:only-of-type {\n",
       "        vertical-align: middle;\n",
       "    }\n",
       "\n",
       "    .dataframe tbody tr th {\n",
       "        vertical-align: top;\n",
       "    }\n",
       "\n",
       "    .dataframe thead th {\n",
       "        text-align: right;\n",
       "    }\n",
       "</style>\n",
       "<table border=\"1\" class=\"dataframe\">\n",
       "  <thead>\n",
       "    <tr style=\"text-align: right;\">\n",
       "      <th></th>\n",
       "      <th>NAME</th>\n",
       "      <th>DATE</th>\n",
       "      <th>PRCP</th>\n",
       "      <th>TMAX</th>\n",
       "      <th>TMIN</th>\n",
       "    </tr>\n",
       "  </thead>\n",
       "  <tbody>\n",
       "    <tr>\n",
       "      <td>2024-01-01</td>\n",
       "      <td>CAMBRIDGE MIT, MA US</td>\n",
       "      <td>1/1/1932</td>\n",
       "      <td>0.00</td>\n",
       "      <td>39.0</td>\n",
       "      <td>30.0</td>\n",
       "    </tr>\n",
       "    <tr>\n",
       "      <td>2024-01-02</td>\n",
       "      <td>CAMBRIDGE MIT, MA US</td>\n",
       "      <td>1/2/1932</td>\n",
       "      <td>0.96</td>\n",
       "      <td>41.0</td>\n",
       "      <td>28.0</td>\n",
       "    </tr>\n",
       "    <tr>\n",
       "      <td>2024-01-03</td>\n",
       "      <td>CAMBRIDGE MIT, MA US</td>\n",
       "      <td>1/3/1932</td>\n",
       "      <td>0.04</td>\n",
       "      <td>34.0</td>\n",
       "      <td>29.0</td>\n",
       "    </tr>\n",
       "    <tr>\n",
       "      <td>2024-01-04</td>\n",
       "      <td>CAMBRIDGE MIT, MA US</td>\n",
       "      <td>1/4/1932</td>\n",
       "      <td>0.00</td>\n",
       "      <td>32.0</td>\n",
       "      <td>22.0</td>\n",
       "    </tr>\n",
       "    <tr>\n",
       "      <td>2024-01-05</td>\n",
       "      <td>CAMBRIDGE MIT, MA US</td>\n",
       "      <td>1/5/1932</td>\n",
       "      <td>0.00</td>\n",
       "      <td>34.0</td>\n",
       "      <td>22.0</td>\n",
       "    </tr>\n",
       "  </tbody>\n",
       "</table>\n",
       "</div>"
      ],
      "text/plain": [
       "                            NAME      DATE  PRCP  TMAX  TMIN\n",
       "2024-01-01  CAMBRIDGE MIT, MA US  1/1/1932  0.00  39.0  30.0\n",
       "2024-01-02  CAMBRIDGE MIT, MA US  1/2/1932  0.96  41.0  28.0\n",
       "2024-01-03  CAMBRIDGE MIT, MA US  1/3/1932  0.04  34.0  29.0\n",
       "2024-01-04  CAMBRIDGE MIT, MA US  1/4/1932  0.00  32.0  22.0\n",
       "2024-01-05  CAMBRIDGE MIT, MA US  1/5/1932  0.00  34.0  22.0"
      ]
     },
     "execution_count": 21,
     "metadata": {},
     "output_type": "execute_result"
    }
   ],
   "source": [
    "# Add index to Dataframe by set-index\n",
    "df0.set_index(dr1,inplace=True)\n",
    "df0.head()"
   ]
  },
  {
   "cell_type": "code",
   "execution_count": 22,
   "metadata": {},
   "outputs": [
    {
     "data": {
      "text/html": [
       "<div>\n",
       "<style scoped>\n",
       "    .dataframe tbody tr th:only-of-type {\n",
       "        vertical-align: middle;\n",
       "    }\n",
       "\n",
       "    .dataframe tbody tr th {\n",
       "        vertical-align: top;\n",
       "    }\n",
       "\n",
       "    .dataframe thead th {\n",
       "        text-align: right;\n",
       "    }\n",
       "</style>\n",
       "<table border=\"1\" class=\"dataframe\">\n",
       "  <thead>\n",
       "    <tr style=\"text-align: right;\">\n",
       "      <th></th>\n",
       "      <th>NAME</th>\n",
       "      <th>PRCP</th>\n",
       "      <th>TMAX</th>\n",
       "      <th>TMIN</th>\n",
       "    </tr>\n",
       "  </thead>\n",
       "  <tbody>\n",
       "    <tr>\n",
       "      <td>2024-12-27</td>\n",
       "      <td>CAMBRIDGE MIT, MA US</td>\n",
       "      <td>0.30</td>\n",
       "      <td>42.0</td>\n",
       "      <td>32.0</td>\n",
       "    </tr>\n",
       "    <tr>\n",
       "      <td>2024-12-28</td>\n",
       "      <td>CAMBRIDGE MIT, MA US</td>\n",
       "      <td>0.23</td>\n",
       "      <td>43.0</td>\n",
       "      <td>37.0</td>\n",
       "    </tr>\n",
       "    <tr>\n",
       "      <td>2024-12-29</td>\n",
       "      <td>CAMBRIDGE MIT, MA US</td>\n",
       "      <td>0.00</td>\n",
       "      <td>48.0</td>\n",
       "      <td>33.0</td>\n",
       "    </tr>\n",
       "    <tr>\n",
       "      <td>2024-12-30</td>\n",
       "      <td>CAMBRIDGE MIT, MA US</td>\n",
       "      <td>0.00</td>\n",
       "      <td>51.0</td>\n",
       "      <td>37.0</td>\n",
       "    </tr>\n",
       "    <tr>\n",
       "      <td>2024-12-31</td>\n",
       "      <td>CAMBRIDGE MIT, MA US</td>\n",
       "      <td>0.00</td>\n",
       "      <td>64.0</td>\n",
       "      <td>23.0</td>\n",
       "    </tr>\n",
       "  </tbody>\n",
       "</table>\n",
       "</div>"
      ],
      "text/plain": [
       "                            NAME  PRCP  TMAX  TMIN\n",
       "2024-12-27  CAMBRIDGE MIT, MA US  0.30  42.0  32.0\n",
       "2024-12-28  CAMBRIDGE MIT, MA US  0.23  43.0  37.0\n",
       "2024-12-29  CAMBRIDGE MIT, MA US  0.00  48.0  33.0\n",
       "2024-12-30  CAMBRIDGE MIT, MA US  0.00  51.0  37.0\n",
       "2024-12-31  CAMBRIDGE MIT, MA US  0.00  64.0  23.0"
      ]
     },
     "execution_count": 22,
     "metadata": {},
     "output_type": "execute_result"
    }
   ],
   "source": [
    "df3 = df0[[\"NAME\",\"PRCP\",\"TMAX\",\"TMIN\"]]\n",
    "df3.tail()"
   ]
  },
  {
   "cell_type": "code",
   "execution_count": 23,
   "metadata": {},
   "outputs": [
    {
     "data": {
      "text/html": [
       "<div>\n",
       "<style scoped>\n",
       "    .dataframe tbody tr th:only-of-type {\n",
       "        vertical-align: middle;\n",
       "    }\n",
       "\n",
       "    .dataframe tbody tr th {\n",
       "        vertical-align: top;\n",
       "    }\n",
       "\n",
       "    .dataframe thead th {\n",
       "        text-align: right;\n",
       "    }\n",
       "</style>\n",
       "<table border=\"1\" class=\"dataframe\">\n",
       "  <thead>\n",
       "    <tr style=\"text-align: right;\">\n",
       "      <th></th>\n",
       "      <th>NAME</th>\n",
       "      <th>PRCP</th>\n",
       "      <th>TMAX</th>\n",
       "      <th>TMIN</th>\n",
       "    </tr>\n",
       "  </thead>\n",
       "  <tbody>\n",
       "    <tr>\n",
       "      <td>2024-01-01</td>\n",
       "      <td>CAMBRIDGE MIT, MA US</td>\n",
       "      <td>0.00</td>\n",
       "      <td>39.0</td>\n",
       "      <td>30.0</td>\n",
       "    </tr>\n",
       "    <tr>\n",
       "      <td>2024-01-02</td>\n",
       "      <td>CAMBRIDGE MIT, MA US</td>\n",
       "      <td>0.96</td>\n",
       "      <td>41.0</td>\n",
       "      <td>28.0</td>\n",
       "    </tr>\n",
       "    <tr>\n",
       "      <td>2024-01-03</td>\n",
       "      <td>CAMBRIDGE MIT, MA US</td>\n",
       "      <td>0.04</td>\n",
       "      <td>34.0</td>\n",
       "      <td>29.0</td>\n",
       "    </tr>\n",
       "    <tr>\n",
       "      <td>2024-01-04</td>\n",
       "      <td>CAMBRIDGE MIT, MA US</td>\n",
       "      <td>0.00</td>\n",
       "      <td>32.0</td>\n",
       "      <td>22.0</td>\n",
       "    </tr>\n",
       "    <tr>\n",
       "      <td>2024-01-05</td>\n",
       "      <td>CAMBRIDGE MIT, MA US</td>\n",
       "      <td>0.00</td>\n",
       "      <td>34.0</td>\n",
       "      <td>22.0</td>\n",
       "    </tr>\n",
       "    <tr>\n",
       "      <td>2024-01-08</td>\n",
       "      <td>CAMBRIDGE MIT, MA US</td>\n",
       "      <td>0.00</td>\n",
       "      <td>39.0</td>\n",
       "      <td>34.0</td>\n",
       "    </tr>\n",
       "    <tr>\n",
       "      <td>2024-01-09</td>\n",
       "      <td>CAMBRIDGE MIT, MA US</td>\n",
       "      <td>0.35</td>\n",
       "      <td>36.0</td>\n",
       "      <td>32.0</td>\n",
       "    </tr>\n",
       "  </tbody>\n",
       "</table>\n",
       "</div>"
      ],
      "text/plain": [
       "                            NAME  PRCP  TMAX  TMIN\n",
       "2024-01-01  CAMBRIDGE MIT, MA US  0.00  39.0  30.0\n",
       "2024-01-02  CAMBRIDGE MIT, MA US  0.96  41.0  28.0\n",
       "2024-01-03  CAMBRIDGE MIT, MA US  0.04  34.0  29.0\n",
       "2024-01-04  CAMBRIDGE MIT, MA US  0.00  32.0  22.0\n",
       "2024-01-05  CAMBRIDGE MIT, MA US  0.00  34.0  22.0\n",
       "2024-01-08  CAMBRIDGE MIT, MA US  0.00  39.0  34.0\n",
       "2024-01-09  CAMBRIDGE MIT, MA US  0.35  36.0  32.0"
      ]
     },
     "execution_count": 23,
     "metadata": {},
     "output_type": "execute_result"
    }
   ],
   "source": [
    "# DF.asfreq() is fundamentally for data selection, ???supports padding\n",
    "df4 = df3.asfreq(\"B\").head(12)\n",
    "df4.head(7)"
   ]
  },
  {
   "cell_type": "code",
   "execution_count": 24,
   "metadata": {},
   "outputs": [
    {
     "data": {
      "text/html": [
       "<div>\n",
       "<style scoped>\n",
       "    .dataframe tbody tr th:only-of-type {\n",
       "        vertical-align: middle;\n",
       "    }\n",
       "\n",
       "    .dataframe tbody tr th {\n",
       "        vertical-align: top;\n",
       "    }\n",
       "\n",
       "    .dataframe thead th {\n",
       "        text-align: right;\n",
       "    }\n",
       "</style>\n",
       "<table border=\"1\" class=\"dataframe\">\n",
       "  <thead>\n",
       "    <tr style=\"text-align: right;\">\n",
       "      <th></th>\n",
       "      <th>NAME</th>\n",
       "      <th>PRCP</th>\n",
       "      <th>TMAX</th>\n",
       "      <th>TMIN</th>\n",
       "      <th>ADD</th>\n",
       "      <th>MAX2</th>\n",
       "      <th>MIN2</th>\n",
       "    </tr>\n",
       "  </thead>\n",
       "  <tbody>\n",
       "    <tr>\n",
       "      <td>2024-01-01</td>\n",
       "      <td>CAMBRIDGE MIT, MA US</td>\n",
       "      <td>0.00</td>\n",
       "      <td>39.0</td>\n",
       "      <td>30.0</td>\n",
       "      <td>0</td>\n",
       "      <td>39.0</td>\n",
       "      <td>37.0</td>\n",
       "    </tr>\n",
       "    <tr>\n",
       "      <td>2024-01-02</td>\n",
       "      <td>CAMBRIDGE MIT, MA US</td>\n",
       "      <td>0.96</td>\n",
       "      <td>41.0</td>\n",
       "      <td>28.0</td>\n",
       "      <td>1</td>\n",
       "      <td>42.0</td>\n",
       "      <td>26.0</td>\n",
       "    </tr>\n",
       "    <tr>\n",
       "      <td>2024-01-03</td>\n",
       "      <td>CAMBRIDGE MIT, MA US</td>\n",
       "      <td>0.04</td>\n",
       "      <td>34.0</td>\n",
       "      <td>29.0</td>\n",
       "      <td>7</td>\n",
       "      <td>41.0</td>\n",
       "      <td>25.0</td>\n",
       "    </tr>\n",
       "    <tr>\n",
       "      <td>2024-01-04</td>\n",
       "      <td>CAMBRIDGE MIT, MA US</td>\n",
       "      <td>0.00</td>\n",
       "      <td>32.0</td>\n",
       "      <td>22.0</td>\n",
       "      <td>3</td>\n",
       "      <td>35.0</td>\n",
       "      <td>26.0</td>\n",
       "    </tr>\n",
       "    <tr>\n",
       "      <td>2024-01-05</td>\n",
       "      <td>CAMBRIDGE MIT, MA US</td>\n",
       "      <td>0.00</td>\n",
       "      <td>34.0</td>\n",
       "      <td>22.0</td>\n",
       "      <td>6</td>\n",
       "      <td>40.0</td>\n",
       "      <td>26.0</td>\n",
       "    </tr>\n",
       "    <tr>\n",
       "      <td>2024-01-08</td>\n",
       "      <td>CAMBRIDGE MIT, MA US</td>\n",
       "      <td>0.00</td>\n",
       "      <td>39.0</td>\n",
       "      <td>34.0</td>\n",
       "      <td>0</td>\n",
       "      <td>39.0</td>\n",
       "      <td>31.0</td>\n",
       "    </tr>\n",
       "    <tr>\n",
       "      <td>2024-01-09</td>\n",
       "      <td>CAMBRIDGE MIT, MA US</td>\n",
       "      <td>0.35</td>\n",
       "      <td>36.0</td>\n",
       "      <td>32.0</td>\n",
       "      <td>2</td>\n",
       "      <td>38.0</td>\n",
       "      <td>40.0</td>\n",
       "    </tr>\n",
       "    <tr>\n",
       "      <td>2024-01-10</td>\n",
       "      <td>CAMBRIDGE MIT, MA US</td>\n",
       "      <td>0.50</td>\n",
       "      <td>34.0</td>\n",
       "      <td>30.0</td>\n",
       "      <td>3</td>\n",
       "      <td>37.0</td>\n",
       "      <td>33.0</td>\n",
       "    </tr>\n",
       "    <tr>\n",
       "      <td>2024-01-11</td>\n",
       "      <td>CAMBRIDGE MIT, MA US</td>\n",
       "      <td>0.00</td>\n",
       "      <td>27.0</td>\n",
       "      <td>17.0</td>\n",
       "      <td>0</td>\n",
       "      <td>27.0</td>\n",
       "      <td>23.0</td>\n",
       "    </tr>\n",
       "    <tr>\n",
       "      <td>2024-01-12</td>\n",
       "      <td>CAMBRIDGE MIT, MA US</td>\n",
       "      <td>0.00</td>\n",
       "      <td>49.0</td>\n",
       "      <td>23.0</td>\n",
       "      <td>8</td>\n",
       "      <td>57.0</td>\n",
       "      <td>22.0</td>\n",
       "    </tr>\n",
       "    <tr>\n",
       "      <td>2024-01-15</td>\n",
       "      <td>CAMBRIDGE MIT, MA US</td>\n",
       "      <td>0.01</td>\n",
       "      <td>64.0</td>\n",
       "      <td>48.0</td>\n",
       "      <td>3</td>\n",
       "      <td>67.0</td>\n",
       "      <td>47.0</td>\n",
       "    </tr>\n",
       "    <tr>\n",
       "      <td>2024-01-16</td>\n",
       "      <td>CAMBRIDGE MIT, MA US</td>\n",
       "      <td>0.00</td>\n",
       "      <td>48.0</td>\n",
       "      <td>35.0</td>\n",
       "      <td>-2</td>\n",
       "      <td>46.0</td>\n",
       "      <td>37.0</td>\n",
       "    </tr>\n",
       "  </tbody>\n",
       "</table>\n",
       "</div>"
      ],
      "text/plain": [
       "                            NAME  PRCP  TMAX  TMIN  ADD  MAX2  MIN2\n",
       "2024-01-01  CAMBRIDGE MIT, MA US  0.00  39.0  30.0    0  39.0  37.0\n",
       "2024-01-02  CAMBRIDGE MIT, MA US  0.96  41.0  28.0    1  42.0  26.0\n",
       "2024-01-03  CAMBRIDGE MIT, MA US  0.04  34.0  29.0    7  41.0  25.0\n",
       "2024-01-04  CAMBRIDGE MIT, MA US  0.00  32.0  22.0    3  35.0  26.0\n",
       "2024-01-05  CAMBRIDGE MIT, MA US  0.00  34.0  22.0    6  40.0  26.0\n",
       "2024-01-08  CAMBRIDGE MIT, MA US  0.00  39.0  34.0    0  39.0  31.0\n",
       "2024-01-09  CAMBRIDGE MIT, MA US  0.35  36.0  32.0    2  38.0  40.0\n",
       "2024-01-10  CAMBRIDGE MIT, MA US  0.50  34.0  30.0    3  37.0  33.0\n",
       "2024-01-11  CAMBRIDGE MIT, MA US  0.00  27.0  17.0    0  27.0  23.0\n",
       "2024-01-12  CAMBRIDGE MIT, MA US  0.00  49.0  23.0    8  57.0  22.0\n",
       "2024-01-15  CAMBRIDGE MIT, MA US  0.01  64.0  48.0    3  67.0  47.0\n",
       "2024-01-16  CAMBRIDGE MIT, MA US  0.00  48.0  35.0   -2  46.0  37.0"
      ]
     },
     "execution_count": 24,
     "metadata": {},
     "output_type": "execute_result"
    }
   ],
   "source": [
    "# puzzle - Why addition logic works for Max but not for Min?\n",
    "import numpy as np\n",
    "df4['ADD'] = np.random.randint(-4,9,len(df4))\n",
    "df4['MAX2']=df4['TMAX']+df4['ADD']\n",
    "df4['MIN2']=df4['TMIN']+np.random.randint(-4,9,len(df4))\n",
    "df4"
   ]
  },
  {
   "cell_type": "code",
   "execution_count": 25,
   "metadata": {},
   "outputs": [
    {
     "name": "stdout",
     "output_type": "stream",
     "text": [
      "The Data-Range is DatetimeIndex(['2020-01-01', '2020-01-02', '2020-01-03', '2020-01-04',\n",
      "               '2020-01-05', '2020-01-06', '2020-01-07', '2020-01-08',\n",
      "               '2020-01-09', '2020-01-10'],\n",
      "              dtype='datetime64[ns]', freq='D')\n",
      "\n",
      "The datatype is <class 'pandas.core.series.Series'>\n"
     ]
    },
    {
     "data": {
      "text/plain": [
       "2020-01-01   -4\n",
       "2020-01-02   -4\n",
       "2020-01-03    0\n",
       "2020-01-04   -1\n",
       "2020-01-05    1\n",
       "2020-01-06    0\n",
       "2020-01-07    2\n",
       "2020-01-08    2\n",
       "2020-01-09    3\n",
       "2020-01-10    1\n",
       "Freq: D, dtype: int32"
      ]
     },
     "execution_count": 25,
     "metadata": {},
     "output_type": "execute_result"
    }
   ],
   "source": [
    "dr2 = pd.date_range(start=\"2020-01-01\", periods=10, freq=\"D\")\n",
    "print('The Data-Range is {0}\\n'.format(dr2))\n",
    "Ser = pd.Series((np.random.randint(-4,9,len(dr2))), index=dr2)\n",
    "print('The datatype is {0}'.format(type(Ser)))\n",
    "Ser"
   ]
  },
  {
   "cell_type": "code",
   "execution_count": 26,
   "metadata": {},
   "outputs": [],
   "source": [
    "# Simple & Complex Holiday Calendars?\n",
    "from pandas.tseries.holiday import USFederalHolidayCalendar\n",
    "from pandas.tseries.offsets import CustomBusinessDay\n",
    "\n",
    "Holiday_US = CustomBusinessDay(calendar=USFederalHolidayCalendar())"
   ]
  },
  {
   "cell_type": "code",
   "execution_count": 27,
   "metadata": {},
   "outputs": [
    {
     "data": {
      "text/plain": [
       "DatetimeIndex(['2020-11-24', '2020-11-25', '2020-11-27', '2020-11-30',\n",
       "               '2020-12-01'],\n",
       "              dtype='datetime64[ns]', freq='C')"
      ]
     },
     "execution_count": 27,
     "metadata": {},
     "output_type": "execute_result"
    }
   ],
   "source": [
    "dr3 = pd.date_range(start=\"2020-11-24\", end=\"2020-12-01\", freq=Holiday_US)\n",
    "dr3"
   ]
  },
  {
   "cell_type": "code",
   "execution_count": 28,
   "metadata": {},
   "outputs": [],
   "source": [
    "from pandas.tseries.holiday import AbstractHolidayCalendar, nearest_workday, Holiday\n",
    "\n",
    "class Holiday_INDIA(AbstractHolidayCalendar):\n",
    "    rules = [Holiday('Indian Republic Day', month=1, day=26, observance=nearest_workday),\n",
    "             Holiday('Indian Independence Day', month=8, day=15, observance=nearest_workday),\n",
    "             Holiday('Gandhi Jayanti', month=10, day=2, observance=nearest_workday)]\n",
    "\n",
    "Holiday_IN =   CustomBusinessDay(calendar=Holiday_INDIA())"
   ]
  },
  {
   "cell_type": "code",
   "execution_count": 29,
   "metadata": {},
   "outputs": [
    {
     "data": {
      "text/plain": [
       "DatetimeIndex(['2020-09-30', '2020-10-01', '2020-10-05', '2020-10-06'], dtype='datetime64[ns]', freq='C')"
      ]
     },
     "execution_count": 29,
     "metadata": {},
     "output_type": "execute_result"
    }
   ],
   "source": [
    "dr3 = pd.date_range(start=\"2020-09-30\", end=\"2020-10-06\", freq=Holiday_IN)\n",
    "dr3"
   ]
  },
  {
   "cell_type": "code",
   "execution_count": 30,
   "metadata": {},
   "outputs": [
    {
     "data": {
      "text/plain": [
       "DatetimeIndex(['2020-12-22', '2020-12-29'], dtype='datetime64[ns]', freq='C')"
      ]
     },
     "execution_count": 30,
     "metadata": {},
     "output_type": "execute_result"
    }
   ],
   "source": [
    "ptJob = CustomBusinessDay(weekmask='Tue Fri', holidays=[\"2020-01-01\",\"2020-12-25\"])\n",
    "pd.date_range(start=\"2020-12-20\", end=\"12/31/2020\", freq=ptJob)"
   ]
  }
 ],
 "metadata": {
  "kernelspec": {
   "display_name": "Python 3",
   "language": "python",
   "name": "python3"
  },
  "language_info": {
   "codemirror_mode": {
    "name": "ipython",
    "version": 3
   },
   "file_extension": ".py",
   "mimetype": "text/x-python",
   "name": "python",
   "nbconvert_exporter": "python",
   "pygments_lexer": "ipython3",
   "version": "3.7.4"
  }
 },
 "nbformat": 4,
 "nbformat_minor": 2
}
