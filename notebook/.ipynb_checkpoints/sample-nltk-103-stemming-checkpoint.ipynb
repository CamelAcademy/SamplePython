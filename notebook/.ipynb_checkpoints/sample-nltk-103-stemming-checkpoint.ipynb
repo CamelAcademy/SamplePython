{
 "cells": [
  {
   "cell_type": "code",
   "execution_count": 6,
   "metadata": {},
   "outputs": [],
   "source": [
    "from nltk.corpus import stopwords\n",
    "from nltk.tokenize import word_tokenize"
   ]
  },
  {
   "cell_type": "code",
   "execution_count": 3,
   "metadata": {},
   "outputs": [],
   "source": [
    "# stop word - just remove them as there is no meaning to it"
   ]
  },
  {
   "cell_type": "code",
   "execution_count": 10,
   "metadata": {},
   "outputs": [
    {
     "name": "stdout",
     "output_type": "stream",
     "text": [
      "{'between', 'mustn', 'then', \"hadn't\", 'when', 's', 'these', \"should've\", 'both', 'through', 'few', 'll', 'here', 'should', 'you', 'there', 'above', 'while', 'if', 'further', 'being', \"couldn't\", 'at', 'this', 'but', \"didn't\", \"you'll\", 'herself', 'into', \"weren't\", 'couldn', 'i', 'about', 'yourself', 'themselves', 'd', \"aren't\", 'hasn', 'any', 'yourselves', 'such', 'he', 'ain', 'during', 'each', 'just', 'wasn', \"isn't\", 'needn', 'can', 'don', \"that'll\", 'on', 'are', 'o', 'which', 'ma', 'down', 'she', 'those', \"shouldn't\", \"you'd\", 'myself', \"you're\", \"wouldn't\", \"it's\", 'wouldn', 'as', 'aren', 'was', 'to', 'once', \"won't\", 'theirs', 'yours', 'y', 'whom', 'it', 'shouldn', 'am', 'm', 'is', 've', 'under', 'what', 'been', 'how', 'an', \"you've\", \"she's\", \"don't\", \"doesn't\", 'very', 'why', 'itself', 'had', 'for', 'all', 'your', 'were', 'have', 'ours', \"haven't\", \"wasn't\", 'be', 'didn', 'his', 'himself', 'not', 'against', 'most', 'again', \"mustn't\", 'does', 'our', 'her', 'too', 'me', 'after', 't', 'won', 'my', 'them', 'its', 'haven', 'of', 'so', 'more', 'will', 'hadn', \"hasn't\", 'from', \"mightn't\", 're', 'up', 'hers', 'same', 'the', 'because', 'in', 'we', 'ourselves', 'having', 'doing', 'where', 'doesn', 'their', 'no', \"shan't\", 'by', 'or', 'with', 'over', 'than', 'they', 'did', 'until', 'only', 'shan', 'mightn', 'own', 'other', 'who', 'isn', 'before', 'below', \"needn't\", 'now', 'that', 'out', 'him', 'off', 'nor', 'a', 'some', 'weren', 'and', 'do', 'has'}\n"
     ]
    },
    {
     "name": "stderr",
     "output_type": "stream",
     "text": [
      "[nltk_data] Downloading package stopwords to\n",
      "[nltk_data]     /Users/pichappan/nltk_data...\n",
      "[nltk_data]   Package stopwords is already up-to-date!\n"
     ]
    }
   ],
   "source": [
    "import nltk\n",
    "nltk.download('stopwords')\n",
    "    \n",
    "sample_sentence = \"This is an example showing off stop word filtration.\"\n",
    "stop_words = set(stopwords.words(\"english\"))\n",
    "print(stop_words)"
   ]
  },
  {
   "cell_type": "code",
   "execution_count": 17,
   "metadata": {},
   "outputs": [],
   "source": [
    "# One liner logic below\n",
    "#filtered_sentence = [w for w in words if not w in stop_words]\n",
    "#print(filtered_sentence)"
   ]
  },
  {
   "cell_type": "code",
   "execution_count": 14,
   "metadata": {},
   "outputs": [
    {
     "name": "stdout",
     "output_type": "stream",
     "text": [
      "['This', 'example', 'showing', 'stop', 'word', 'filtration', '.']\n"
     ]
    }
   ],
   "source": [
    "words = word_tokenize(sample_sentence)\n",
    "filtered_sentence = []\n",
    "\n",
    "for each_word in words:\n",
    "    if each_word not in stop_words:\n",
    "        filtered_sentence.append(each_word)\n",
    "        \n",
    "print(filtered_sentence)"
   ]
  },
  {
   "cell_type": "code",
   "execution_count": 15,
   "metadata": {},
   "outputs": [
    {
     "name": "stdout",
     "output_type": "stream",
     "text": [
      "Hello\n",
      "Mr.\n",
      "Smith\n",
      ",\n",
      "how\n",
      "are\n",
      "you\n",
      "doing\n",
      "today\n",
      "?\n",
      "The\n",
      "weather\n",
      "is\n",
      "great\n",
      ",\n",
      "and\n",
      "Python\n",
      "is\n",
      "awesome\n",
      ".\n",
      "The\n",
      "sky\n",
      "is\n",
      "pinkish-blue\n",
      ".\n",
      "You\n",
      "should\n",
      "n't\n",
      "eat\n",
      "cardboard\n",
      ".\n"
     ]
    }
   ],
   "source": [
    "for each_word in word_tokenize(sample_text):\n",
    "                  print(each_word)"
   ]
  },
  {
   "cell_type": "code",
   "execution_count": null,
   "metadata": {},
   "outputs": [],
   "source": []
  },
  {
   "cell_type": "code",
   "execution_count": null,
   "metadata": {},
   "outputs": [],
   "source": []
  }
 ],
 "metadata": {
  "kernelspec": {
   "display_name": "Python 3",
   "language": "python",
   "name": "python3"
  },
  "language_info": {
   "codemirror_mode": {
    "name": "ipython",
    "version": 3
   },
   "file_extension": ".py",
   "mimetype": "text/x-python",
   "name": "python",
   "nbconvert_exporter": "python",
   "pygments_lexer": "ipython3",
   "version": "3.7.4"
  }
 },
 "nbformat": 4,
 "nbformat_minor": 2
}
