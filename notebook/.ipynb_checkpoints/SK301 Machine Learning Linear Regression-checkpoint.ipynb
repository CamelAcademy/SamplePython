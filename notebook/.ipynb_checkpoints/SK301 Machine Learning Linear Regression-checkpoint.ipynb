{
 "cells": [
  {
   "cell_type": "code",
   "execution_count": 1,
   "metadata": {},
   "outputs": [
    {
     "data": {
      "text/plain": [
       "<function dir>"
      ]
     },
     "execution_count": 1,
     "metadata": {},
     "output_type": "execute_result"
    }
   ],
   "source": [
    "dir"
   ]
  },
  {
   "cell_type": "code",
   "execution_count": 2,
   "metadata": {},
   "outputs": [
    {
     "data": {
      "text/plain": [
       "'C:\\\\Users\\\\pichappan\\\\Documents\\\\SamplePython\\\\notebook'"
      ]
     },
     "execution_count": 2,
     "metadata": {},
     "output_type": "execute_result"
    }
   ],
   "source": [
    "pwd"
   ]
  },
  {
   "cell_type": "code",
   "execution_count": 3,
   "metadata": {},
   "outputs": [
    {
     "name": "stdout",
     "output_type": "stream",
     "text": [
      "C:\\Users\\pichappan\\Documents\\SamplePython\\input\n"
     ]
    }
   ],
   "source": [
    "cd ../input"
   ]
  },
  {
   "cell_type": "code",
   "execution_count": 4,
   "metadata": {},
   "outputs": [],
   "source": [
    "import pandas as pd"
   ]
  },
  {
   "cell_type": "code",
   "execution_count": 5,
   "metadata": {},
   "outputs": [
    {
     "data": {
      "text/plain": [
       "DatetimeIndex(['1903-01-02 09:00:00', '1906-04-05 09:05:00',\n",
       "               '2008-09-07 13:45:00', '2011-12-10 03:20:45',\n",
       "               '2003-02-01 01:02:03', '2006-05-04 13:15:20',\n",
       "               '2008-09-07 11:20:40', '2011-12-10 17:00:00',\n",
       "               '2003-02-01 10:20:15', '2006-05-04 05:10:00',\n",
       "                               'NaT',                 'NaT'],\n",
       "              dtype='datetime64[ns]', freq=None)"
      ]
     },
     "execution_count": 5,
     "metadata": {},
     "output_type": "execute_result"
    }
   ],
   "source": [
    "# Transformation of Date Format. US mm/dd/yyyy, EU dd/mm/yyyy, TS yyyy-mm-dd\n",
    "date_samples = [\"02/01/1903 9am\", '05/04/1906 9:05', \n",
    "                \"08/07/09 13:45\", '11/10/12 032045',\n",
    "                \"20030201 010203\", '20060504 13:15:20',\n",
    "                \"080709 11:20:40\", '111012 5pm', \n",
    "                \"2003-02-01 10:20:15\", '2006-05-04 05:10',\n",
    "                \"2003-02-01 25:30:35\",'DateString']\n",
    "pd.to_datetime(date_samples, dayfirst=True, yearfirst=True, errors='coerce') # errors (ignore, raise, coerce)"
   ]
  },
  {
   "cell_type": "code",
   "execution_count": 6,
   "metadata": {},
   "outputs": [
    {
     "data": {
      "text/plain": [
       "Timestamp('2003-01-02 00:00:00')"
      ]
     },
     "execution_count": 6,
     "metadata": {},
     "output_type": "execute_result"
    }
   ],
   "source": [
    "# Custom Date Format - say from a CSV file\n",
    "pd.to_datetime('01,02,03', format='%m,%d,%y')"
   ]
  },
  {
   "cell_type": "code",
   "execution_count": 7,
   "metadata": {},
   "outputs": [
    {
     "name": "stdout",
     "output_type": "stream",
     "text": [
      "The Datatype of ts is: <class 'pandas._libs.tslibs.timestamps.Timestamp'>\n",
      "The content of ts is: 1971-07-02 12:00:00\n"
     ]
    }
   ],
   "source": [
    "# Formatting String Literals. We can also pass array as argument\n",
    "# Epoch Relative time from birth of Unix 1970-01-01, unit('s', 'ns' default)\n",
    "# pd.to_datetime(1.5*365*24*60*60*10**9) \n",
    "ts = pd.to_datetime(1.5*365*24*60*60, unit='s')\n",
    "print(f\"The Datatype of ts is: {type(ts)}\\nThe content of ts is: {ts}\")\n",
    "#dir(ts)"
   ]
  },
  {
   "cell_type": "code",
   "execution_count": 8,
   "metadata": {},
   "outputs": [
    {
     "name": "stdout",
     "output_type": "stream",
     "text": [
      "The Datatype of dti is: <class 'pandas.core.indexes.datetimes.DatetimeIndex'>\n",
      "The content of dti is: DatetimeIndex(['1971-01-01', '1972-01-01', '1972-12-31'], dtype='datetime64[ns]', freq=None)\n"
     ]
    },
    {
     "data": {
      "text/plain": [
       "array([31536000000000000, 63072000000000000, 94608000000000000],\n",
       "      dtype=int64)"
      ]
     },
     "execution_count": 8,
     "metadata": {},
     "output_type": "execute_result"
    }
   ],
   "source": [
    "# Formatting String Literals. We can also pass int64 as argument\n",
    "dti = pd.to_datetime([365*24*60*60, 2*365*24*60*60, 3*365*24*60*60], unit='s')\n",
    "print(f\"The Datatype of dti is: {type(dti)}\\nThe content of dti is: {dti}\")\n",
    "dti.view('int64')\n",
    "#dir(dti)"
   ]
  },
  {
   "cell_type": "code",
   "execution_count": 9,
   "metadata": {},
   "outputs": [
    {
     "name": "stdout",
     "output_type": "stream",
     "text": [
      "y2013 Start Time: 2013-01-01 00:00:00; End Time: 2013-12-31 23:59:59.999999999\n",
      "q3y11 Start Time: 2011-07-01 00:00:00; End Time: 2011-09-30 23:59:59.999999999\n",
      "q4y12 Start Time: 2011-11-01 00:00:00; End Time: 2012-01-31 23:59:59.999999999\n",
      "m2y10 Start Time: 2010-02-01 00:00:00; End Time: 2010-02-28 23:59:59.999999999\n",
      "d1474 Start Time: 2014-07-04 00:00:00; End Time: 2014-07-04 23:59:59.999999999\n",
      "h1536 Start Time: 2015-03-06 07:00:00; End Time: 2015-03-06 07:59:59.999999999\n"
     ]
    }
   ],
   "source": [
    "# https://pandas.pydata.org/pandas-docs/version/0.23.4/generated/pandas.Period.html\n",
    "\n",
    "y2013 = pd.Period('2013')\n",
    "print(f\"y2013 Start Time: {y2013.start_time}; End Time: {y2013.end_time}\")\n",
    "\n",
    "q3y11 = pd.Period('2011Q3') #both are same\n",
    "q3y11 = pd.Period('2011Q3', freq='Q-DEC')\n",
    "print(f\"q3y11 Start Time: {q3y11.start_time}; End Time: {q3y11.end_time}\")\n",
    "\n",
    "q4y12 = pd.Period(\"4Q2012\", freq='Q-JAN')\n",
    "print(f\"q4y12 Start Time: {q4y12.start_time}; End Time: {q4y12.end_time}\")\n",
    "\n",
    "m2y10 = pd.Period('2010-02')\n",
    "print(f\"m2y10 Start Time: {m2y10.start_time}; End Time: {m2y10.end_time}\")\n",
    "\n",
    "d1474 = pd.Period('2014-07-04') #both are same\n",
    "d1474 = pd.Period('2014-07-04', freq='D')\n",
    "print(f\"d1474 Start Time: {d1474.start_time}; End Time: {d1474.end_time}\")\n",
    "\n",
    "h1536 = pd.Period('2015-03-06 07:08:09', freq = 'H')\n",
    "print(f\"h1536 Start Time: {h1536.start_time}; End Time: {h1536.end_time}\")"
   ]
  },
  {
   "cell_type": "code",
   "execution_count": 10,
   "metadata": {},
   "outputs": [
    {
     "data": {
      "text/plain": [
       "Period('2015-03-06 05:00', 'H')"
      ]
     },
     "execution_count": 10,
     "metadata": {},
     "output_type": "execute_result"
    }
   ],
   "source": [
    "h1536 + 3000\n",
    "h1536 + pd.offsets.Hour(-2)"
   ]
  },
  {
   "cell_type": "code",
   "execution_count": 11,
   "metadata": {},
   "outputs": [
    {
     "data": {
      "text/plain": [
       "Period('2015-07-04', 'D')"
      ]
     },
     "execution_count": 11,
     "metadata": {},
     "output_type": "execute_result"
    }
   ],
   "source": [
    "d1474 + pd.offsets.Day(365)\n",
    "d1474 + 365"
   ]
  },
  {
   "cell_type": "code",
   "execution_count": 12,
   "metadata": {},
   "outputs": [
    {
     "name": "stdout",
     "output_type": "stream",
     "text": [
      "q2y13 Start Time: 2012-05-01 00:00:00; End Time: 2012-07-31 23:59:59.999999999\n"
     ]
    },
    {
     "data": {
      "text/plain": [
       "<2 * QuarterEnds: startingMonth=1>"
      ]
     },
     "execution_count": 12,
     "metadata": {},
     "output_type": "execute_result"
    }
   ],
   "source": [
    "q2y13 = q4y12 + 2\n",
    "print(f\"q2y13 Start Time: {q2y13.start_time}; End Time: {q2y13.end_time}\")\n",
    "q2y13 - q4y12 # both period should be of same kind"
   ]
  },
  {
   "cell_type": "code",
   "execution_count": 13,
   "metadata": {
    "scrolled": true
   },
   "outputs": [
    {
     "data": {
      "text/plain": [
       "Period('2012-05', 'M')"
      ]
     },
     "execution_count": 13,
     "metadata": {},
     "output_type": "execute_result"
    }
   ],
   "source": [
    "q2y13.asfreq('M', how=\"start\")"
   ]
  },
  {
   "cell_type": "code",
   "execution_count": 14,
   "metadata": {},
   "outputs": [
    {
     "data": {
      "text/plain": [
       "Timestamp('2012-07-31 23:59:59.999999999')"
      ]
     },
     "execution_count": 14,
     "metadata": {},
     "output_type": "execute_result"
    }
   ],
   "source": [
    "m7y13 = q2y13.asfreq('M', how=\"end\")\n",
    "m7y13.end_time"
   ]
  },
  {
   "cell_type": "code",
   "execution_count": 15,
   "metadata": {},
   "outputs": [
    {
     "data": {
      "text/plain": [
       "PeriodIndex(['2017-01', '2017-02', '2017-03', '2017-04', '2017-05', '2017-06',\n",
       "             '2017-07', '2017-08', '2017-09', '2017-10', '2017-11', '2017-12',\n",
       "             '2018-01'],\n",
       "            dtype='period[M]', freq='M')"
      ]
     },
     "execution_count": 15,
     "metadata": {},
     "output_type": "execute_result"
    }
   ],
   "source": [
    "#Time series https://pandas.pydata.org/pandas-docs/stable/user_guide/timeseries.html\n",
    "pd.period_range(start='2017-01-01', end='2018-01-15', freq='M')"
   ]
  },
  {
   "cell_type": "code",
   "execution_count": 16,
   "metadata": {},
   "outputs": [
    {
     "data": {
      "text/plain": [
       "PeriodIndex(['2010Q4', '2011Q1', '2011Q2', '2011Q3', '2011Q4', '2012Q1',\n",
       "             '2012Q2', '2012Q3', '2012Q4', '2013Q1'],\n",
       "            dtype='period[Q-JAN]', freq='Q-JAN')"
      ]
     },
     "execution_count": 16,
     "metadata": {},
     "output_type": "execute_result"
    }
   ],
   "source": [
    "idx = pd.period_range('2010', periods=10, freq='Q-Jan') # Jan ending is Q4, so start with 2010Q4\n",
    "idx"
   ]
  },
  {
   "cell_type": "code",
   "execution_count": 17,
   "metadata": {},
   "outputs": [],
   "source": [
    "# pytz Python Time Zone\n",
    "df1 = pd.read_csv('mit.csv', parse_dates=['DATE'], index_col='DATE')"
   ]
  },
  {
   "cell_type": "code",
   "execution_count": 18,
   "metadata": {
    "scrolled": true
   },
   "outputs": [
    {
     "data": {
      "text/plain": [
       "DatetimeIndex(['1932-01-01', '1932-01-02', '1932-01-03', '1932-01-04',\n",
       "               '1932-01-05', '1932-01-06', '1932-01-07', '1932-01-08',\n",
       "               '1932-01-09', '1932-01-10',\n",
       "               ...\n",
       "               '1932-12-22', '1932-12-23', '1932-12-24', '1932-12-25',\n",
       "               '1932-12-26', '1932-12-27', '1932-12-28', '1932-12-29',\n",
       "               '1932-12-30', '1932-12-31'],\n",
       "              dtype='datetime64[ns]', name='DATE', length=366, freq=None)"
      ]
     },
     "execution_count": 18,
     "metadata": {},
     "output_type": "execute_result"
    }
   ],
   "source": [
    "df1.index"
   ]
  },
  {
   "cell_type": "code",
   "execution_count": 19,
   "metadata": {},
   "outputs": [
    {
     "data": {
      "text/plain": [
       "DatetimeIndex(['1932-01-01 00:00:00-05:00', '1932-01-02 00:00:00-05:00',\n",
       "               '1932-01-03 00:00:00-05:00', '1932-01-04 00:00:00-05:00',\n",
       "               '1932-01-05 00:00:00-05:00', '1932-01-06 00:00:00-05:00',\n",
       "               '1932-01-07 00:00:00-05:00', '1932-01-08 00:00:00-05:00',\n",
       "               '1932-01-09 00:00:00-05:00', '1932-01-10 00:00:00-05:00',\n",
       "               ...\n",
       "               '1932-12-22 00:00:00-05:00', '1932-12-23 00:00:00-05:00',\n",
       "               '1932-12-24 00:00:00-05:00', '1932-12-25 00:00:00-05:00',\n",
       "               '1932-12-26 00:00:00-05:00', '1932-12-27 00:00:00-05:00',\n",
       "               '1932-12-28 00:00:00-05:00', '1932-12-29 00:00:00-05:00',\n",
       "               '1932-12-30 00:00:00-05:00', '1932-12-31 00:00:00-05:00'],\n",
       "              dtype='datetime64[ns, US/Eastern]', name='DATE', length=366, freq=None)"
      ]
     },
     "execution_count": 19,
     "metadata": {},
     "output_type": "execute_result"
    }
   ],
   "source": [
    "df2= df1.tz_localize(tz='US/Eastern')\n",
    "df2.index # EST is 5 or 4 hrs behind UTC/GMT"
   ]
  },
  {
   "cell_type": "code",
   "execution_count": 20,
   "metadata": {},
   "outputs": [
    {
     "data": {
      "text/plain": [
       "DatetimeIndex(['1931-12-31 21:00:00-08:00', '1932-01-01 21:00:00-08:00',\n",
       "               '1932-01-02 21:00:00-08:00', '1932-01-03 21:00:00-08:00',\n",
       "               '1932-01-04 21:00:00-08:00', '1932-01-05 21:00:00-08:00',\n",
       "               '1932-01-06 21:00:00-08:00', '1932-01-07 21:00:00-08:00',\n",
       "               '1932-01-08 21:00:00-08:00', '1932-01-09 21:00:00-08:00',\n",
       "               ...\n",
       "               '1932-12-21 21:00:00-08:00', '1932-12-22 21:00:00-08:00',\n",
       "               '1932-12-23 21:00:00-08:00', '1932-12-24 21:00:00-08:00',\n",
       "               '1932-12-25 21:00:00-08:00', '1932-12-26 21:00:00-08:00',\n",
       "               '1932-12-27 21:00:00-08:00', '1932-12-28 21:00:00-08:00',\n",
       "               '1932-12-29 21:00:00-08:00', '1932-12-30 21:00:00-08:00'],\n",
       "              dtype='datetime64[ns, America/Los_Angeles]', name='DATE', length=366, freq=None)"
      ]
     },
     "execution_count": 20,
     "metadata": {},
     "output_type": "execute_result"
    }
   ],
   "source": [
    "# Create a new DF with new time Zone\n",
    "df3= df2.tz_convert(tz='America/Los_Angeles')\n",
    "df3.index"
   ]
  },
  {
   "cell_type": "code",
   "execution_count": 21,
   "metadata": {},
   "outputs": [
    {
     "data": {
      "text/plain": [
       "DatetimeIndex(['1932-01-01 09:00:00+04:00', '1932-01-02 09:00:00+04:00',\n",
       "               '1932-01-03 09:00:00+04:00', '1932-01-04 09:00:00+04:00',\n",
       "               '1932-01-05 09:00:00+04:00', '1932-01-06 09:00:00+04:00',\n",
       "               '1932-01-07 09:00:00+04:00', '1932-01-08 09:00:00+04:00',\n",
       "               '1932-01-09 09:00:00+04:00', '1932-01-10 09:00:00+04:00',\n",
       "               ...\n",
       "               '1932-12-22 09:00:00+04:00', '1932-12-23 09:00:00+04:00',\n",
       "               '1932-12-24 09:00:00+04:00', '1932-12-25 09:00:00+04:00',\n",
       "               '1932-12-26 09:00:00+04:00', '1932-12-27 09:00:00+04:00',\n",
       "               '1932-12-28 09:00:00+04:00', '1932-12-29 09:00:00+04:00',\n",
       "               '1932-12-30 09:00:00+04:00', '1932-12-31 09:00:00+04:00'],\n",
       "              dtype='datetime64[ns, Asia/Dubai]', name='DATE', length=366, freq=None)"
      ]
     },
     "execution_count": 21,
     "metadata": {},
     "output_type": "execute_result"
    }
   ],
   "source": [
    "# from pytz import all_timezones # all_timezones\n",
    "# Update the old index with new time zone\n",
    "df3.index= df2.index.tz_convert(tz='Asia/Dubai')\n",
    "df3.index"
   ]
  },
  {
   "cell_type": "code",
   "execution_count": 22,
   "metadata": {},
   "outputs": [
    {
     "data": {
      "text/html": [
       "<div>\n",
       "<style scoped>\n",
       "    .dataframe tbody tr th:only-of-type {\n",
       "        vertical-align: middle;\n",
       "    }\n",
       "\n",
       "    .dataframe tbody tr th {\n",
       "        vertical-align: top;\n",
       "    }\n",
       "\n",
       "    .dataframe thead th {\n",
       "        text-align: right;\n",
       "    }\n",
       "</style>\n",
       "<table border=\"1\" class=\"dataframe\">\n",
       "  <thead>\n",
       "    <tr style=\"text-align: right;\">\n",
       "      <th></th>\n",
       "      <th>NAME</th>\n",
       "      <th>PRCP</th>\n",
       "      <th>TMAX</th>\n",
       "      <th>TMIN</th>\n",
       "    </tr>\n",
       "  </thead>\n",
       "  <tbody>\n",
       "    <tr>\n",
       "      <td>2020-01-01 00:00:00+04:00</td>\n",
       "      <td>CAMBRIDGE MIT, MA US</td>\n",
       "      <td>0.00</td>\n",
       "      <td>39.0</td>\n",
       "      <td>30.0</td>\n",
       "    </tr>\n",
       "    <tr>\n",
       "      <td>2020-01-02 00:00:00+04:00</td>\n",
       "      <td>CAMBRIDGE MIT, MA US</td>\n",
       "      <td>0.96</td>\n",
       "      <td>41.0</td>\n",
       "      <td>28.0</td>\n",
       "    </tr>\n",
       "    <tr>\n",
       "      <td>2020-01-03 00:00:00+04:00</td>\n",
       "      <td>CAMBRIDGE MIT, MA US</td>\n",
       "      <td>0.04</td>\n",
       "      <td>34.0</td>\n",
       "      <td>29.0</td>\n",
       "    </tr>\n",
       "    <tr>\n",
       "      <td>2020-01-04 00:00:00+04:00</td>\n",
       "      <td>CAMBRIDGE MIT, MA US</td>\n",
       "      <td>0.00</td>\n",
       "      <td>32.0</td>\n",
       "      <td>22.0</td>\n",
       "    </tr>\n",
       "    <tr>\n",
       "      <td>2020-01-05 00:00:00+04:00</td>\n",
       "      <td>CAMBRIDGE MIT, MA US</td>\n",
       "      <td>0.00</td>\n",
       "      <td>34.0</td>\n",
       "      <td>22.0</td>\n",
       "    </tr>\n",
       "    <tr>\n",
       "      <td>...</td>\n",
       "      <td>...</td>\n",
       "      <td>...</td>\n",
       "      <td>...</td>\n",
       "      <td>...</td>\n",
       "    </tr>\n",
       "    <tr>\n",
       "      <td>2020-12-27 00:00:00+04:00</td>\n",
       "      <td>CAMBRIDGE MIT, MA US</td>\n",
       "      <td>0.30</td>\n",
       "      <td>42.0</td>\n",
       "      <td>32.0</td>\n",
       "    </tr>\n",
       "    <tr>\n",
       "      <td>2020-12-28 00:00:00+04:00</td>\n",
       "      <td>CAMBRIDGE MIT, MA US</td>\n",
       "      <td>0.23</td>\n",
       "      <td>43.0</td>\n",
       "      <td>37.0</td>\n",
       "    </tr>\n",
       "    <tr>\n",
       "      <td>2020-12-29 00:00:00+04:00</td>\n",
       "      <td>CAMBRIDGE MIT, MA US</td>\n",
       "      <td>0.00</td>\n",
       "      <td>48.0</td>\n",
       "      <td>33.0</td>\n",
       "    </tr>\n",
       "    <tr>\n",
       "      <td>2020-12-30 00:00:00+04:00</td>\n",
       "      <td>CAMBRIDGE MIT, MA US</td>\n",
       "      <td>0.00</td>\n",
       "      <td>51.0</td>\n",
       "      <td>37.0</td>\n",
       "    </tr>\n",
       "    <tr>\n",
       "      <td>2020-12-31 00:00:00+04:00</td>\n",
       "      <td>CAMBRIDGE MIT, MA US</td>\n",
       "      <td>0.00</td>\n",
       "      <td>64.0</td>\n",
       "      <td>23.0</td>\n",
       "    </tr>\n",
       "  </tbody>\n",
       "</table>\n",
       "<p>366 rows × 4 columns</p>\n",
       "</div>"
      ],
      "text/plain": [
       "                                           NAME  PRCP  TMAX  TMIN\n",
       "2020-01-01 00:00:00+04:00  CAMBRIDGE MIT, MA US  0.00  39.0  30.0\n",
       "2020-01-02 00:00:00+04:00  CAMBRIDGE MIT, MA US  0.96  41.0  28.0\n",
       "2020-01-03 00:00:00+04:00  CAMBRIDGE MIT, MA US  0.04  34.0  29.0\n",
       "2020-01-04 00:00:00+04:00  CAMBRIDGE MIT, MA US  0.00  32.0  22.0\n",
       "2020-01-05 00:00:00+04:00  CAMBRIDGE MIT, MA US  0.00  34.0  22.0\n",
       "...                                         ...   ...   ...   ...\n",
       "2020-12-27 00:00:00+04:00  CAMBRIDGE MIT, MA US  0.30  42.0  32.0\n",
       "2020-12-28 00:00:00+04:00  CAMBRIDGE MIT, MA US  0.23  43.0  37.0\n",
       "2020-12-29 00:00:00+04:00  CAMBRIDGE MIT, MA US  0.00  48.0  33.0\n",
       "2020-12-30 00:00:00+04:00  CAMBRIDGE MIT, MA US  0.00  51.0  37.0\n",
       "2020-12-31 00:00:00+04:00  CAMBRIDGE MIT, MA US  0.00  64.0  23.0\n",
       "\n",
       "[366 rows x 4 columns]"
      ]
     },
     "execution_count": 22,
     "metadata": {},
     "output_type": "execute_result"
    }
   ],
   "source": [
    "dr1 = pd.date_range(start=\"1/1/2020\", periods=366 ,freq='D', tz='Asia/Dubai')\n",
    "df1.set_index(dr1,inplace=True)\n",
    "df1"
   ]
  },
  {
   "cell_type": "code",
   "execution_count": 23,
   "metadata": {},
   "outputs": [
    {
     "data": {
      "text/html": [
       "<div>\n",
       "<style scoped>\n",
       "    .dataframe tbody tr th:only-of-type {\n",
       "        vertical-align: middle;\n",
       "    }\n",
       "\n",
       "    .dataframe tbody tr th {\n",
       "        vertical-align: top;\n",
       "    }\n",
       "\n",
       "    .dataframe thead th {\n",
       "        text-align: right;\n",
       "    }\n",
       "</style>\n",
       "<table border=\"1\" class=\"dataframe\">\n",
       "  <thead>\n",
       "    <tr style=\"text-align: right;\">\n",
       "      <th></th>\n",
       "      <th>NAME</th>\n",
       "      <th>PRCP</th>\n",
       "      <th>TMAX</th>\n",
       "      <th>TMIN</th>\n",
       "    </tr>\n",
       "  </thead>\n",
       "  <tbody>\n",
       "    <tr>\n",
       "      <td>2020-01-01 00:00:00+04:00</td>\n",
       "      <td>NaN</td>\n",
       "      <td>NaN</td>\n",
       "      <td>NaN</td>\n",
       "      <td>NaN</td>\n",
       "    </tr>\n",
       "    <tr>\n",
       "      <td>2020-01-02 00:00:00+04:00</td>\n",
       "      <td>NaN</td>\n",
       "      <td>NaN</td>\n",
       "      <td>NaN</td>\n",
       "      <td>NaN</td>\n",
       "    </tr>\n",
       "    <tr>\n",
       "      <td>2020-01-03 00:00:00+04:00</td>\n",
       "      <td>CAMBRIDGE MIT, MA US</td>\n",
       "      <td>0.00</td>\n",
       "      <td>39.0</td>\n",
       "      <td>30.0</td>\n",
       "    </tr>\n",
       "    <tr>\n",
       "      <td>2020-01-04 00:00:00+04:00</td>\n",
       "      <td>CAMBRIDGE MIT, MA US</td>\n",
       "      <td>0.96</td>\n",
       "      <td>41.0</td>\n",
       "      <td>28.0</td>\n",
       "    </tr>\n",
       "    <tr>\n",
       "      <td>2020-01-05 00:00:00+04:00</td>\n",
       "      <td>CAMBRIDGE MIT, MA US</td>\n",
       "      <td>0.04</td>\n",
       "      <td>34.0</td>\n",
       "      <td>29.0</td>\n",
       "    </tr>\n",
       "    <tr>\n",
       "      <td>...</td>\n",
       "      <td>...</td>\n",
       "      <td>...</td>\n",
       "      <td>...</td>\n",
       "      <td>...</td>\n",
       "    </tr>\n",
       "    <tr>\n",
       "      <td>2020-12-27 00:00:00+04:00</td>\n",
       "      <td>CAMBRIDGE MIT, MA US</td>\n",
       "      <td>0.05</td>\n",
       "      <td>57.0</td>\n",
       "      <td>39.0</td>\n",
       "    </tr>\n",
       "    <tr>\n",
       "      <td>2020-12-28 00:00:00+04:00</td>\n",
       "      <td>CAMBRIDGE MIT, MA US</td>\n",
       "      <td>0.00</td>\n",
       "      <td>55.0</td>\n",
       "      <td>35.0</td>\n",
       "    </tr>\n",
       "    <tr>\n",
       "      <td>2020-12-29 00:00:00+04:00</td>\n",
       "      <td>CAMBRIDGE MIT, MA US</td>\n",
       "      <td>0.30</td>\n",
       "      <td>42.0</td>\n",
       "      <td>32.0</td>\n",
       "    </tr>\n",
       "    <tr>\n",
       "      <td>2020-12-30 00:00:00+04:00</td>\n",
       "      <td>CAMBRIDGE MIT, MA US</td>\n",
       "      <td>0.23</td>\n",
       "      <td>43.0</td>\n",
       "      <td>37.0</td>\n",
       "    </tr>\n",
       "    <tr>\n",
       "      <td>2020-12-31 00:00:00+04:00</td>\n",
       "      <td>CAMBRIDGE MIT, MA US</td>\n",
       "      <td>0.00</td>\n",
       "      <td>48.0</td>\n",
       "      <td>33.0</td>\n",
       "    </tr>\n",
       "  </tbody>\n",
       "</table>\n",
       "<p>366 rows × 4 columns</p>\n",
       "</div>"
      ],
      "text/plain": [
       "                                           NAME  PRCP  TMAX  TMIN\n",
       "2020-01-01 00:00:00+04:00                   NaN   NaN   NaN   NaN\n",
       "2020-01-02 00:00:00+04:00                   NaN   NaN   NaN   NaN\n",
       "2020-01-03 00:00:00+04:00  CAMBRIDGE MIT, MA US  0.00  39.0  30.0\n",
       "2020-01-04 00:00:00+04:00  CAMBRIDGE MIT, MA US  0.96  41.0  28.0\n",
       "2020-01-05 00:00:00+04:00  CAMBRIDGE MIT, MA US  0.04  34.0  29.0\n",
       "...                                         ...   ...   ...   ...\n",
       "2020-12-27 00:00:00+04:00  CAMBRIDGE MIT, MA US  0.05  57.0  39.0\n",
       "2020-12-28 00:00:00+04:00  CAMBRIDGE MIT, MA US  0.00  55.0  35.0\n",
       "2020-12-29 00:00:00+04:00  CAMBRIDGE MIT, MA US  0.30  42.0  32.0\n",
       "2020-12-30 00:00:00+04:00  CAMBRIDGE MIT, MA US  0.23  43.0  37.0\n",
       "2020-12-31 00:00:00+04:00  CAMBRIDGE MIT, MA US  0.00  48.0  33.0\n",
       "\n",
       "[366 rows x 4 columns]"
      ]
     },
     "execution_count": 23,
     "metadata": {},
     "output_type": "execute_result"
    }
   ],
   "source": [
    "df1.shift(2) # Will shift data down"
   ]
  },
  {
   "cell_type": "code",
   "execution_count": 24,
   "metadata": {},
   "outputs": [
    {
     "data": {
      "text/html": [
       "<div>\n",
       "<style scoped>\n",
       "    .dataframe tbody tr th:only-of-type {\n",
       "        vertical-align: middle;\n",
       "    }\n",
       "\n",
       "    .dataframe tbody tr th {\n",
       "        vertical-align: top;\n",
       "    }\n",
       "\n",
       "    .dataframe thead th {\n",
       "        text-align: right;\n",
       "    }\n",
       "</style>\n",
       "<table border=\"1\" class=\"dataframe\">\n",
       "  <thead>\n",
       "    <tr style=\"text-align: right;\">\n",
       "      <th></th>\n",
       "      <th>NAME</th>\n",
       "      <th>PRCP</th>\n",
       "      <th>TMAX</th>\n",
       "      <th>TMIN</th>\n",
       "      <th>prcp_5dma</th>\n",
       "    </tr>\n",
       "  </thead>\n",
       "  <tbody>\n",
       "    <tr>\n",
       "      <td>2020-01-01 00:00:00+04:00</td>\n",
       "      <td>CAMBRIDGE MIT, MA US</td>\n",
       "      <td>0.00</td>\n",
       "      <td>39.0</td>\n",
       "      <td>30.0</td>\n",
       "      <td>NaN</td>\n",
       "    </tr>\n",
       "    <tr>\n",
       "      <td>2020-01-02 00:00:00+04:00</td>\n",
       "      <td>CAMBRIDGE MIT, MA US</td>\n",
       "      <td>0.96</td>\n",
       "      <td>41.0</td>\n",
       "      <td>28.0</td>\n",
       "      <td>NaN</td>\n",
       "    </tr>\n",
       "    <tr>\n",
       "      <td>2020-01-03 00:00:00+04:00</td>\n",
       "      <td>CAMBRIDGE MIT, MA US</td>\n",
       "      <td>0.04</td>\n",
       "      <td>34.0</td>\n",
       "      <td>29.0</td>\n",
       "      <td>NaN</td>\n",
       "    </tr>\n",
       "    <tr>\n",
       "      <td>2020-01-04 00:00:00+04:00</td>\n",
       "      <td>CAMBRIDGE MIT, MA US</td>\n",
       "      <td>0.00</td>\n",
       "      <td>32.0</td>\n",
       "      <td>22.0</td>\n",
       "      <td>NaN</td>\n",
       "    </tr>\n",
       "    <tr>\n",
       "      <td>2020-01-05 00:00:00+04:00</td>\n",
       "      <td>CAMBRIDGE MIT, MA US</td>\n",
       "      <td>0.00</td>\n",
       "      <td>34.0</td>\n",
       "      <td>22.0</td>\n",
       "      <td>0.200</td>\n",
       "    </tr>\n",
       "    <tr>\n",
       "      <td>...</td>\n",
       "      <td>...</td>\n",
       "      <td>...</td>\n",
       "      <td>...</td>\n",
       "      <td>...</td>\n",
       "      <td>...</td>\n",
       "    </tr>\n",
       "    <tr>\n",
       "      <td>2020-12-27 00:00:00+04:00</td>\n",
       "      <td>CAMBRIDGE MIT, MA US</td>\n",
       "      <td>0.30</td>\n",
       "      <td>42.0</td>\n",
       "      <td>32.0</td>\n",
       "      <td>0.094</td>\n",
       "    </tr>\n",
       "    <tr>\n",
       "      <td>2020-12-28 00:00:00+04:00</td>\n",
       "      <td>CAMBRIDGE MIT, MA US</td>\n",
       "      <td>0.23</td>\n",
       "      <td>43.0</td>\n",
       "      <td>37.0</td>\n",
       "      <td>0.118</td>\n",
       "    </tr>\n",
       "    <tr>\n",
       "      <td>2020-12-29 00:00:00+04:00</td>\n",
       "      <td>CAMBRIDGE MIT, MA US</td>\n",
       "      <td>0.00</td>\n",
       "      <td>48.0</td>\n",
       "      <td>33.0</td>\n",
       "      <td>0.116</td>\n",
       "    </tr>\n",
       "    <tr>\n",
       "      <td>2020-12-30 00:00:00+04:00</td>\n",
       "      <td>CAMBRIDGE MIT, MA US</td>\n",
       "      <td>0.00</td>\n",
       "      <td>51.0</td>\n",
       "      <td>37.0</td>\n",
       "      <td>0.106</td>\n",
       "    </tr>\n",
       "    <tr>\n",
       "      <td>2020-12-31 00:00:00+04:00</td>\n",
       "      <td>CAMBRIDGE MIT, MA US</td>\n",
       "      <td>0.00</td>\n",
       "      <td>64.0</td>\n",
       "      <td>23.0</td>\n",
       "      <td>0.106</td>\n",
       "    </tr>\n",
       "  </tbody>\n",
       "</table>\n",
       "<p>366 rows × 5 columns</p>\n",
       "</div>"
      ],
      "text/plain": [
       "                                           NAME  PRCP  TMAX  TMIN  prcp_5dma\n",
       "2020-01-01 00:00:00+04:00  CAMBRIDGE MIT, MA US  0.00  39.0  30.0        NaN\n",
       "2020-01-02 00:00:00+04:00  CAMBRIDGE MIT, MA US  0.96  41.0  28.0        NaN\n",
       "2020-01-03 00:00:00+04:00  CAMBRIDGE MIT, MA US  0.04  34.0  29.0        NaN\n",
       "2020-01-04 00:00:00+04:00  CAMBRIDGE MIT, MA US  0.00  32.0  22.0        NaN\n",
       "2020-01-05 00:00:00+04:00  CAMBRIDGE MIT, MA US  0.00  34.0  22.0      0.200\n",
       "...                                         ...   ...   ...   ...        ...\n",
       "2020-12-27 00:00:00+04:00  CAMBRIDGE MIT, MA US  0.30  42.0  32.0      0.094\n",
       "2020-12-28 00:00:00+04:00  CAMBRIDGE MIT, MA US  0.23  43.0  37.0      0.118\n",
       "2020-12-29 00:00:00+04:00  CAMBRIDGE MIT, MA US  0.00  48.0  33.0      0.116\n",
       "2020-12-30 00:00:00+04:00  CAMBRIDGE MIT, MA US  0.00  51.0  37.0      0.106\n",
       "2020-12-31 00:00:00+04:00  CAMBRIDGE MIT, MA US  0.00  64.0  23.0      0.106\n",
       "\n",
       "[366 rows x 5 columns]"
      ]
     },
     "execution_count": 24,
     "metadata": {},
     "output_type": "execute_result"
    }
   ],
   "source": [
    "# 5 days moving average\n",
    "df1['prcp_5dma']=(df1['PRCP'] + df1['PRCP'].shift(1) + \n",
    "                  df1['PRCP'].shift(2) + df1['PRCP'].shift(3) + \n",
    "                  df1['PRCP'].shift(4))/5\n",
    "df1"
   ]
  },
  {
   "cell_type": "code",
   "execution_count": 25,
   "metadata": {},
   "outputs": [],
   "source": [
    "df_5dma = df1[['prcp_5dma']]"
   ]
  },
  {
   "cell_type": "code",
   "execution_count": 26,
   "metadata": {
    "scrolled": true
   },
   "outputs": [
    {
     "data": {
      "text/plain": [
       "DatetimeIndex(['2020-01-01 00:00:00+04:00', '2020-01-02 00:00:00+04:00',\n",
       "               '2020-01-03 00:00:00+04:00', '2020-01-04 00:00:00+04:00',\n",
       "               '2020-01-05 00:00:00+04:00', '2020-01-06 00:00:00+04:00',\n",
       "               '2020-01-07 00:00:00+04:00', '2020-01-08 00:00:00+04:00',\n",
       "               '2020-01-09 00:00:00+04:00', '2020-01-10 00:00:00+04:00',\n",
       "               ...\n",
       "               '2020-12-22 00:00:00+04:00', '2020-12-23 00:00:00+04:00',\n",
       "               '2020-12-24 00:00:00+04:00', '2020-12-25 00:00:00+04:00',\n",
       "               '2020-12-26 00:00:00+04:00', '2020-12-27 00:00:00+04:00',\n",
       "               '2020-12-28 00:00:00+04:00', '2020-12-29 00:00:00+04:00',\n",
       "               '2020-12-30 00:00:00+04:00', '2020-12-31 00:00:00+04:00'],\n",
       "              dtype='datetime64[ns, Asia/Dubai]', length=366, freq='D')"
      ]
     },
     "execution_count": 26,
     "metadata": {},
     "output_type": "execute_result"
    }
   ],
   "source": [
    "df_5dma.index"
   ]
  },
  {
   "cell_type": "code",
   "execution_count": 27,
   "metadata": {},
   "outputs": [
    {
     "data": {
      "text/html": [
       "<div>\n",
       "<style scoped>\n",
       "    .dataframe tbody tr th:only-of-type {\n",
       "        vertical-align: middle;\n",
       "    }\n",
       "\n",
       "    .dataframe tbody tr th {\n",
       "        vertical-align: top;\n",
       "    }\n",
       "\n",
       "    .dataframe thead th {\n",
       "        text-align: right;\n",
       "    }\n",
       "</style>\n",
       "<table border=\"1\" class=\"dataframe\">\n",
       "  <thead>\n",
       "    <tr style=\"text-align: right;\">\n",
       "      <th></th>\n",
       "      <th>prcp_5dma</th>\n",
       "    </tr>\n",
       "  </thead>\n",
       "  <tbody>\n",
       "    <tr>\n",
       "      <td>2020-01-01 00:00:00+04:00</td>\n",
       "      <td>NaN</td>\n",
       "    </tr>\n",
       "    <tr>\n",
       "      <td>2020-01-02 00:00:00+04:00</td>\n",
       "      <td>NaN</td>\n",
       "    </tr>\n",
       "    <tr>\n",
       "      <td>2020-01-03 00:00:00+04:00</td>\n",
       "      <td>NaN</td>\n",
       "    </tr>\n",
       "    <tr>\n",
       "      <td>2020-01-04 00:00:00+04:00</td>\n",
       "      <td>NaN</td>\n",
       "    </tr>\n",
       "    <tr>\n",
       "      <td>2020-01-05 00:00:00+04:00</td>\n",
       "      <td>0.200</td>\n",
       "    </tr>\n",
       "    <tr>\n",
       "      <td>...</td>\n",
       "      <td>...</td>\n",
       "    </tr>\n",
       "    <tr>\n",
       "      <td>2020-12-27 00:00:00+04:00</td>\n",
       "      <td>0.094</td>\n",
       "    </tr>\n",
       "    <tr>\n",
       "      <td>2020-12-28 00:00:00+04:00</td>\n",
       "      <td>0.118</td>\n",
       "    </tr>\n",
       "    <tr>\n",
       "      <td>2020-12-29 00:00:00+04:00</td>\n",
       "      <td>0.116</td>\n",
       "    </tr>\n",
       "    <tr>\n",
       "      <td>2020-12-30 00:00:00+04:00</td>\n",
       "      <td>0.106</td>\n",
       "    </tr>\n",
       "    <tr>\n",
       "      <td>2020-12-31 00:00:00+04:00</td>\n",
       "      <td>0.106</td>\n",
       "    </tr>\n",
       "  </tbody>\n",
       "</table>\n",
       "<p>366 rows × 1 columns</p>\n",
       "</div>"
      ],
      "text/plain": [
       "                           prcp_5dma\n",
       "2020-01-01 00:00:00+04:00        NaN\n",
       "2020-01-02 00:00:00+04:00        NaN\n",
       "2020-01-03 00:00:00+04:00        NaN\n",
       "2020-01-04 00:00:00+04:00        NaN\n",
       "2020-01-05 00:00:00+04:00      0.200\n",
       "...                              ...\n",
       "2020-12-27 00:00:00+04:00      0.094\n",
       "2020-12-28 00:00:00+04:00      0.118\n",
       "2020-12-29 00:00:00+04:00      0.116\n",
       "2020-12-30 00:00:00+04:00      0.106\n",
       "2020-12-31 00:00:00+04:00      0.106\n",
       "\n",
       "[366 rows x 1 columns]"
      ]
     },
     "execution_count": 27,
     "metadata": {},
     "output_type": "execute_result"
    }
   ],
   "source": [
    "df_5dma"
   ]
  },
  {
   "cell_type": "code",
   "execution_count": 28,
   "metadata": {},
   "outputs": [
    {
     "data": {
      "text/html": [
       "<div>\n",
       "<style scoped>\n",
       "    .dataframe tbody tr th:only-of-type {\n",
       "        vertical-align: middle;\n",
       "    }\n",
       "\n",
       "    .dataframe tbody tr th {\n",
       "        vertical-align: top;\n",
       "    }\n",
       "\n",
       "    .dataframe thead th {\n",
       "        text-align: right;\n",
       "    }\n",
       "</style>\n",
       "<table border=\"1\" class=\"dataframe\">\n",
       "  <thead>\n",
       "    <tr style=\"text-align: right;\">\n",
       "      <th></th>\n",
       "      <th>prcp_5dma</th>\n",
       "    </tr>\n",
       "  </thead>\n",
       "  <tbody>\n",
       "    <tr>\n",
       "      <td>2019-12-30 00:00:00+04:00</td>\n",
       "      <td>NaN</td>\n",
       "    </tr>\n",
       "    <tr>\n",
       "      <td>2019-12-31 00:00:00+04:00</td>\n",
       "      <td>NaN</td>\n",
       "    </tr>\n",
       "    <tr>\n",
       "      <td>2020-01-01 00:00:00+04:00</td>\n",
       "      <td>NaN</td>\n",
       "    </tr>\n",
       "    <tr>\n",
       "      <td>2020-01-02 00:00:00+04:00</td>\n",
       "      <td>NaN</td>\n",
       "    </tr>\n",
       "    <tr>\n",
       "      <td>2020-01-03 00:00:00+04:00</td>\n",
       "      <td>0.200</td>\n",
       "    </tr>\n",
       "    <tr>\n",
       "      <td>...</td>\n",
       "      <td>...</td>\n",
       "    </tr>\n",
       "    <tr>\n",
       "      <td>2020-12-25 00:00:00+04:00</td>\n",
       "      <td>0.094</td>\n",
       "    </tr>\n",
       "    <tr>\n",
       "      <td>2020-12-26 00:00:00+04:00</td>\n",
       "      <td>0.118</td>\n",
       "    </tr>\n",
       "    <tr>\n",
       "      <td>2020-12-27 00:00:00+04:00</td>\n",
       "      <td>0.116</td>\n",
       "    </tr>\n",
       "    <tr>\n",
       "      <td>2020-12-28 00:00:00+04:00</td>\n",
       "      <td>0.106</td>\n",
       "    </tr>\n",
       "    <tr>\n",
       "      <td>2020-12-29 00:00:00+04:00</td>\n",
       "      <td>0.106</td>\n",
       "    </tr>\n",
       "  </tbody>\n",
       "</table>\n",
       "<p>366 rows × 1 columns</p>\n",
       "</div>"
      ],
      "text/plain": [
       "                           prcp_5dma\n",
       "2019-12-30 00:00:00+04:00        NaN\n",
       "2019-12-31 00:00:00+04:00        NaN\n",
       "2020-01-01 00:00:00+04:00        NaN\n",
       "2020-01-02 00:00:00+04:00        NaN\n",
       "2020-01-03 00:00:00+04:00      0.200\n",
       "...                              ...\n",
       "2020-12-25 00:00:00+04:00      0.094\n",
       "2020-12-26 00:00:00+04:00      0.118\n",
       "2020-12-27 00:00:00+04:00      0.116\n",
       "2020-12-28 00:00:00+04:00      0.106\n",
       "2020-12-29 00:00:00+04:00      0.106\n",
       "\n",
       "[366 rows x 1 columns]"
      ]
     },
     "execution_count": 28,
     "metadata": {},
     "output_type": "execute_result"
    }
   ],
   "source": [
    "df_5dma.tshift(-2)"
   ]
  }
 ],
 "metadata": {
  "kernelspec": {
   "display_name": "Python 3",
   "language": "python",
   "name": "python3"
  },
  "language_info": {
   "codemirror_mode": {
    "name": "ipython",
    "version": 3
   },
   "file_extension": ".py",
   "mimetype": "text/x-python",
   "name": "python",
   "nbconvert_exporter": "python",
   "pygments_lexer": "ipython3",
   "version": "3.7.4"
  }
 },
 "nbformat": 4,
 "nbformat_minor": 2
}
