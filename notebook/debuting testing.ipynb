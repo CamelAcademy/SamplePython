{
 "cells": [
  {
   "cell_type": "code",
   "execution_count": 1,
   "metadata": {},
   "outputs": [],
   "source": [
    "import pdb\n",
    "import math"
   ]
  },
  {
   "cell_type": "code",
   "execution_count": 3,
   "metadata": {},
   "outputs": [
    {
     "name": "stdout",
     "output_type": "stream",
     "text": [
      "10.0\n",
      "--Return--\n",
      "> <ipython-input-3-0546cbfe7438>(12)<module>()->None\n",
      "-> pdb.set_trace()\n",
      "(Pdb) n\n",
      "> /opt/anaconda3/lib/python3.7/site-packages/IPython/core/interactiveshell.py(3329)run_code()\n",
      "-> sys.excepthook = old_excepthook\n",
      "(Pdb) n\n",
      "> /opt/anaconda3/lib/python3.7/site-packages/IPython/core/interactiveshell.py(3345)run_code()\n",
      "-> outflag = False\n",
      "(Pdb) n\n",
      "> /opt/anaconda3/lib/python3.7/site-packages/IPython/core/interactiveshell.py(3346)run_code()\n",
      "-> return outflag\n",
      "(Pdb) n\n",
      "Internal StopIteration: False\n",
      "> /opt/anaconda3/lib/python3.7/site-packages/IPython/core/interactiveshell.py(3249)run_ast_nodes()\n",
      "-> if (await self.run_code(code, result,  async_=asy)):\n",
      "(Pdb) n\n",
      "> /opt/anaconda3/lib/python3.7/site-packages/IPython/core/interactiveshell.py(3241)run_ast_nodes()\n",
      "-> for node,mode in to_run:\n",
      "(Pdb) c\n",
      "10.0\n",
      "10.0\n",
      "3.141592653589793\n",
      "12.566370614359172\n",
      "28.274333882308138\n",
      "4.0\n",
      "9.0\n"
     ]
    }
   ],
   "source": [
    "def triangle_area(b,h):\n",
    "    return b*h/2\n",
    "\n",
    "def circle_area(r):\n",
    "    rsq = r**2\n",
    "    return math.pi*rsq\n",
    "\n",
    "b1 = 4\n",
    "h1 = 5\n",
    "print(triangle_area(b1,h1))\n",
    "\n",
    "pdb.set_trace()\n",
    "b2 = 5\n",
    "h2 = 4\n",
    "print(triangle_area(b2,h2))\n",
    "\n",
    "b3 = 10\n",
    "h3 = 2\n",
    "print(triangle_area(b3,h3))\n",
    "\n",
    "r1 = 1\n",
    "print(circle_area(r1))\n",
    "\n",
    "r2 = 2\n",
    "print(circle_area(r2))\n",
    "\n",
    "r3 = 3\n",
    "print(circle_area(r3))\n",
    "\n",
    "ratio21 = circle_area(r2)/circle_area(r1)\n",
    "print(ratio21)\n",
    "\n",
    "ratio31 = circle_area(r3)/circle_area(r1)\n",
    "print(ratio31)"
   ]
  },
  {
   "cell_type": "code",
   "execution_count": null,
   "metadata": {},
   "outputs": [],
   "source": [
    "b1 = 4\n",
    "h1 = 5\n",
    "print(triangle_area(b1,h1))\n",
    "\n",
    "pdb.set_trace()\n",
    "b2 = 5\n",
    "h2 = 4\n",
    "print(triangle_area(b2,h2))\n",
    "\n",
    "b3 = 10\n",
    "h3 = 2\n",
    "print(triangle_area(b3,h3))"
   ]
  },
  {
   "cell_type": "code",
   "execution_count": null,
   "metadata": {},
   "outputs": [],
   "source": [
    "r1 = 1\n",
    "print(circle_area(r1))\n",
    "\n",
    "r2 = 2\n",
    "print(circle_area(r2))\n",
    "\n",
    "r3 = 3\n",
    "print(circle_area(r3))\n",
    "\n",
    "ratio21 = circle_area(r2)/circle_area(r1)\n",
    "print(ratio21)\n",
    "\n",
    "ratio31 = circle_area(r3)/circle_area(r1)\n",
    "print(ratio31)"
   ]
  }
 ],
 "metadata": {
  "kernelspec": {
   "display_name": "Python 3",
   "language": "python",
   "name": "python3"
  },
  "language_info": {
   "codemirror_mode": {
    "name": "ipython",
    "version": 3
   },
   "file_extension": ".py",
   "mimetype": "text/x-python",
   "name": "python",
   "nbconvert_exporter": "python",
   "pygments_lexer": "ipython3",
   "version": "3.7.4"
  }
 },
 "nbformat": 4,
 "nbformat_minor": 2
}
