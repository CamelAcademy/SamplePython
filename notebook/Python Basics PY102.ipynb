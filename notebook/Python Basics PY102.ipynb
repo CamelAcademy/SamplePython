{
 "cells": [
  {
   "cell_type": "code",
   "execution_count": 1,
   "metadata": {},
   "outputs": [
    {
     "data": {
      "text/plain": [
       "' for Multiple line comment\\n1. Anaconda Jupyter Notebook,\\n2. Anaconda Spyder,\\n3. Jetbrains Pycharm\\n'"
      ]
     },
     "execution_count": 1,
     "metadata": {},
     "output_type": "execute_result"
    }
   ],
   "source": [
    "# Integrated Developement Environment(IDE) - use # for single line Comment\n",
    "\n",
    "\"\"\" for Multiple line comment\n",
    "1. Anaconda Jupyter Notebook,\n",
    "2. Anaconda Spyder,\n",
    "3. Jetbrains Pycharm\n",
    "\"\"\""
   ]
  },
  {
   "cell_type": "code",
   "execution_count": 2,
   "metadata": {},
   "outputs": [
    {
     "name": "stdout",
     "output_type": "stream",
     "text": [
      "3.141592653589793\n"
     ]
    }
   ],
   "source": [
    "#include another module in python\n",
    "\n",
    "import math\n",
    "print(math.pi)"
   ]
  },
  {
   "cell_type": "code",
   "execution_count": 3,
   "metadata": {},
   "outputs": [
    {
     "name": "stdout",
     "output_type": "stream",
     "text": [
      "3.141592653589793\n"
     ]
    }
   ],
   "source": [
    "from math import pi\n",
    "print(pi)"
   ]
  },
  {
   "cell_type": "code",
   "execution_count": 110,
   "metadata": {},
   "outputs": [
    {
     "name": "stdout",
     "output_type": "stream",
     "text": [
      "Addition:\t\t7       \n",
      "Subtraction:\t\t3       \n",
      "Multiplication:\t\t10       \n",
      "Division:\t\t2.5       \n",
      "Division & Floor:\t2       \n",
      "Modulus:\t\t1       \n",
      "Exponent Power:\t\t25\n"
     ]
    }
   ],
   "source": [
    "\"\"\" Python Assignment Operators \n",
    "c = a + b assigns value of a + b into c\n",
    "c += a is equivalent to c = c + a\n",
    "c -= a is equivalent to c = c - a\n",
    "c *= a is equivalent to c = c * a\n",
    "c /= a is equivalent to c = c / a\n",
    "c %= a is equivalent to c = c % a\n",
    "c **= a is equivalent to c = c ** a\n",
    "c //= a is equivalent to c = c // a\n",
    "\"\"\"\n",
    "a = 5\n",
    "b = 2\n",
    "\n",
    "# Python Arithmetic Operators\n",
    "print('Addition:\\t\\t{} \\\n",
    "      \\nSubtraction:\\t\\t{} \\\n",
    "      \\nMultiplication:\\t\\t{} \\\n",
    "      \\nDivision:\\t\\t{} \\\n",
    "      \\nDivision & Floor:\\t{} \\\n",
    "      \\nModulus:\\t\\t{} \\\n",
    "      \\nExponent Power:\\t\\t{}'.format(a+b, a-b, a*b, a/b, a//b, a%b, a**b))"
   ]
  },
  {
   "cell_type": "code",
   "execution_count": 112,
   "metadata": {},
   "outputs": [
    {
     "name": "stdout",
     "output_type": "stream",
     "text": [
      "c & d contain same values\n",
      "d & e contain different values\n",
      "value in e is less than c\n",
      "value in d is greater than e\n",
      "value in c is less than or equal to c\n",
      "value in c is greater than or equal to e\n",
      "\n",
      "binary g:\t111100       \n",
      "binary h:\t1101       \n",
      "binary AND:\t1100       \n",
      "binary OR:\t111101       \n",
      "binary XOR:\t110001       \n",
      "1s Complement:\t-111101       \n",
      "Left Shift:\t11110000       \n",
      "Right Shift:\t1111\n",
      "\n",
      "AND False \n",
      "OR  True \n",
      "NOT True\n",
      "\n",
      "Integer:\tTrue\n",
      "String:\t\tTrue\n",
      "Array:\t\tTrue\n",
      "In Array:\tTrue\n",
      "\n",
      "In String:\tTrue\n",
      "Not in String:\tTrue\n",
      "Key in:\t\tTrue\n",
      "Value in:\tTrue\n"
     ]
    }
   ],
   "source": [
    "#Python Comparison Operators\n",
    "\n",
    "c = 5\n",
    "d = 5\n",
    "e = 3\n",
    "\n",
    "if (c == d): print(\"c & d contain same values\")\n",
    "if (d != e): print(\"d & e contain different values\")\n",
    "if (e < c): print(\"value in e is less than c\")\n",
    "if (d > e): print(\"value in d is greater than e\")    \n",
    "if (c <= d): print(\"value in c is less than or equal to c\")\n",
    "if (c >= d): print(\"value in c is greater than or equal to e\")  \n",
    "\n",
    "# Python Bitwise Operators\n",
    "g = 60\n",
    "h = 13\n",
    "print('\\nbinary g:\\t{:b} \\\n",
    "      \\nbinary h:\\t{:b} \\\n",
    "      \\nbinary AND:\\t{:b} \\\n",
    "      \\nbinary OR:\\t{:b} \\\n",
    "      \\nbinary XOR:\\t{:b} \\\n",
    "      \\n1s Complement:\\t{:b} \\\n",
    "      \\nLeft Shift:\\t{:b} \\\n",
    "      \\nRight Shift:\\t{:b}'.format(g, h, g&h, g|h, g^h, ~g, g<<2, g>>2))\n",
    "\n",
    "# Python Logical Operators\n",
    "i = True\n",
    "j = False\n",
    "k = False\n",
    "print(\"\\nAND {} \\nOR  {} \\nNOT {}\".format(j and k, i or j, not k))\n",
    "\n",
    "# Identity operator - is & is not\n",
    "a = 2\n",
    "b = 2\n",
    "print('\\nInteger:\\t{}'.format(a is b))\n",
    "\n",
    "c = 'Newton'\n",
    "d = 'Newton'\n",
    "print('String:\\t\\t{}'.format(c is d))\n",
    "\n",
    "e = [1, 2, 3, 4]\n",
    "f = [1, 2, 3, 4]\n",
    "print('Array:\\t\\t{}'.format(e is not f))\n",
    "print('In Array:\\t{}'.format(4 in f))\n",
    "\n",
    "# membership operators - in & not in\n",
    "g = 'Trinity College, Cambridge'\n",
    "h = {1 : 'January', 3:'March', 5:'May'}\n",
    "print('\\nIn String:\\t{}'.format('Col' in g))\n",
    "print('Not in String:\\t{}'.format('Apple' not in g))\n",
    "print('Key in:\\t\\t{}'.format(3 in h))\n",
    "print('Value in:\\t{}'.format('May' not in h))"
   ]
  },
  {
   "cell_type": "code",
   "execution_count": 126,
   "metadata": {},
   "outputs": [
    {
     "name": "stdout",
     "output_type": "stream",
     "text": [
      "Enter any Number:weqw\n"
     ]
    },
    {
     "ename": "ValueError",
     "evalue": "invalid literal for int() with base 10: 'weqw'",
     "output_type": "error",
     "traceback": [
      "\u001b[1;31m---------------------------------------------------------------------------\u001b[0m",
      "\u001b[1;31mValueError\u001b[0m                                Traceback (most recent call last)",
      "\u001b[1;32m<ipython-input-126-84c11742db0e>\u001b[0m in \u001b[0;36m<module>\u001b[1;34m\u001b[0m\n\u001b[0;32m      2\u001b[0m \u001b[1;31m#    statement(s)\u001b[0m\u001b[1;33m\u001b[0m\u001b[1;33m\u001b[0m\u001b[1;33m\u001b[0m\u001b[0m\n\u001b[0;32m      3\u001b[0m \u001b[1;33m\u001b[0m\u001b[0m\n\u001b[1;32m----> 4\u001b[1;33m \u001b[0mi\u001b[0m \u001b[1;33m=\u001b[0m \u001b[0mint\u001b[0m\u001b[1;33m(\u001b[0m\u001b[0minput\u001b[0m\u001b[1;33m(\u001b[0m\u001b[1;34m\"Enter any Number:\"\u001b[0m\u001b[1;33m)\u001b[0m\u001b[1;33m)\u001b[0m\u001b[1;33m\u001b[0m\u001b[1;33m\u001b[0m\u001b[0m\n\u001b[0m\u001b[0;32m      5\u001b[0m \u001b[1;33m\u001b[0m\u001b[0m\n\u001b[0;32m      6\u001b[0m \u001b[1;32mif\u001b[0m \u001b[0mi\u001b[0m\u001b[1;33m%\u001b[0m\u001b[1;36m2\u001b[0m \u001b[1;33m==\u001b[0m \u001b[1;36m0\u001b[0m\u001b[1;33m:\u001b[0m\u001b[1;33m\u001b[0m\u001b[1;33m\u001b[0m\u001b[0m\n",
      "\u001b[1;31mValueError\u001b[0m: invalid literal for int() with base 10: 'weqw'"
     ]
    }
   ],
   "source": [
    "# if test expression:\n",
    "#    statement(s)\n",
    "\n",
    "i = int(input(\"Enter any Number:\"))\n",
    "\n",
    "if i%2 == 0:\n",
    "    print(i,\" is an EVEN number\")\n",
    "    \n",
    "if i%2 == 1:\n",
    "    print(i,\" is an ODD Number \")\n",
    "    \n",
    "print(\"This is out of if statement\")"
   ]
  },
  {
   "cell_type": "code",
   "execution_count": 121,
   "metadata": {},
   "outputs": [
    {
     "name": "stdout",
     "output_type": "stream",
     "text": [
      "Enter any Number:32321\n",
      "32321  is an ODD Number \n",
      "This is out of if statement\n"
     ]
    }
   ],
   "source": [
    "# if test expression:\n",
    "#    Body of if\n",
    "# else:\n",
    "#    Body of else   \n",
    "\n",
    "i = int(input(\"Enter any Number:\"))\n",
    "\n",
    "if i%2 == 0:\n",
    "    print(i,\" is an EVEN number\")\n",
    "else:\n",
    "    print(i,\" is an ODD Number \")\n",
    "    \n",
    "print(\"This is out of if statement\")"
   ]
  },
  {
   "cell_type": "code",
   "execution_count": 133,
   "metadata": {},
   "outputs": [
    {
     "name": "stdout",
     "output_type": "stream",
     "text": [
      "Enter any Number:321\n",
      "321  is an Odd number \n"
     ]
    }
   ],
   "source": [
    "# if test expression:\n",
    "#    Body of if\n",
    "# elif test expresion\n",
    "#    Body of elif\n",
    "# else:\n",
    "#    Body of else\n",
    "\n",
    "i = int(input(\"Enter any Number:\"))\n",
    "\n",
    "if i%4 == 0:\n",
    "    print(i,\" is multiple of 4\")\n",
    "elif i%2 == 0:\n",
    "    print(i,\" is multiple of 2 but not 4 \")\n",
    "else:    \n",
    "    print(i,\" is an Odd number \")"
   ]
  },
  {
   "cell_type": "code",
   "execution_count": 158,
   "metadata": {},
   "outputs": [
    {
     "name": "stdout",
     "output_type": "stream",
     "text": [
      "The sum of num list is  65\n"
     ]
    }
   ],
   "source": [
    "# for val in sequence:\n",
    "#    body of for\n",
    "\n",
    "s = 0\n",
    "arr = [6,3,4,5,6,8,5,6,4,3,1,2,3,9]\n",
    "\n",
    "for n in arr:\n",
    "    s += n\n",
    "print (\"The sum of num list is \", s)"
   ]
  },
  {
   "cell_type": "code",
   "execution_count": 160,
   "metadata": {},
   "outputs": [
    {
     "name": "stdout",
     "output_type": "stream",
     "text": [
      "[1, 2, 3, 4, 5, 6, 7, 8, 9, 10, 11]\n",
      "[3, 4, 5, 6, 7, 8]\n",
      "[2, 5, 8, 11]\n",
      "Do you like Chocolate ?\n",
      "Do you like Vanilla ?\n",
      "Do you like Strawberry ?\n",
      "Do you like Cookies ?\n",
      "Do you like Mint ?\n"
     ]
    }
   ],
   "source": [
    "# Range to List then for loop\n",
    "\n",
    "print(list(range(1,12)))\n",
    "print(list(range(3,9)))\n",
    "print(list(range(2,13,3)))\n",
    "\n",
    "ice = ['Chocolate', 'Vanilla', 'Strawberry', 'Cookies', 'Mint']\n",
    "for i in ice:\n",
    "    print ('Do you like',i, '?')"
   ]
  },
  {
   "cell_type": "code",
   "execution_count": 4,
   "metadata": {},
   "outputs": [
    {
     "name": "stdout",
     "output_type": "stream",
     "text": [
      "Enter a Number:17\n",
      "Is it Prime?  True\n"
     ]
    }
   ],
   "source": [
    "# While test:\n",
    "#    Body of while\n",
    "\n",
    "num = int(input(\"Enter a Number:\"))\n",
    "\n",
    "i = 2\n",
    "isPrime = True\n",
    "\n",
    "while i < num:\n",
    "    if(num%i == 0):\n",
    "        isPrime = False\n",
    "        break\n",
    "    else:\n",
    "        i += 1\n",
    "print(\"Is it Prime? \",isPrime)"
   ]
  },
  {
   "cell_type": "code",
   "execution_count": 13,
   "metadata": {},
   "outputs": [
    {
     "name": "stdout",
     "output_type": "stream",
     "text": [
      "Yes found the char in the String: j\n"
     ]
    }
   ],
   "source": [
    "# break Statement\n",
    "\n",
    "for char in 'Srinivasa Ramanujan':\n",
    "    if char == 'j':\n",
    "        break\n",
    "        \n",
    "print(\"Yes found the char in the String:\", char)"
   ]
  },
  {
   "cell_type": "code",
   "execution_count": 22,
   "metadata": {
    "scrolled": true
   },
   "outputs": [
    {
     "name": "stdout",
     "output_type": "stream",
     "text": [
      "Total number of H 2\n"
     ]
    }
   ],
   "source": [
    "# Continue Statement\n",
    "i=0\n",
    "for char in 'Godfrey Harold Hardy':\n",
    "    if char == 'H':\n",
    "        i += 1\n",
    "        continue\n",
    "print(\"Total number of H\", i)"
   ]
  },
  {
   "cell_type": "code",
   "execution_count": null,
   "metadata": {},
   "outputs": [],
   "source": [
    "#Pass \n",
    "\n",
    "#we use pass statement to construct a body that does not do anything\n",
    "\n",
    "sequence = {'p','a','s','s'}\n",
    "for val in sequence:\n",
    "    pass\n",
    "\n",
    "def function(args):\n",
    "    pass\n",
    "    \n",
    "\n",
    "class example:\n",
    "    pass\n",
    "    "
   ]
  }
 ],
 "metadata": {
  "kernelspec": {
   "display_name": "Python 3",
   "language": "python",
   "name": "python3"
  },
  "language_info": {
   "codemirror_mode": {
    "name": "ipython",
    "version": 3
   },
   "file_extension": ".py",
   "mimetype": "text/x-python",
   "name": "python",
   "nbconvert_exporter": "python",
   "pygments_lexer": "ipython3",
   "version": "3.7.4"
  }
 },
 "nbformat": 4,
 "nbformat_minor": 2
}
