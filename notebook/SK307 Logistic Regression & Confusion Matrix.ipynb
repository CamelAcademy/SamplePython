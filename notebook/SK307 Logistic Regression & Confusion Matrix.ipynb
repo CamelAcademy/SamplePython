{
 "cells": [
  {
   "cell_type": "code",
   "execution_count": 1,
   "metadata": {},
   "outputs": [
    {
     "name": "stdout",
     "output_type": "stream",
     "text": [
      "<class 'sklearn.utils.Bunch'>\n",
      "['DESCR', 'data', 'images', 'target', 'target_names']\n",
      "1797\n",
      "\n",
      "type(digits.DESCR) ........... : <class 'str'>\n",
      "type(digits.data) ............ : <class 'numpy.ndarray'>\n",
      "type(digits.images) .......... : <class 'numpy.ndarray'>\n",
      "type(digits.target) .......... : <class 'numpy.ndarray'>\n",
      "type(digits.target_names) .... : <class 'numpy.ndarray'>\n",
      "\n",
      "type(digits.DESCR[2026]) ..... : <class 'str'>\n",
      "type(digits.data[1796]) ...... : <class 'numpy.ndarray'>\n",
      "type(digits.images[1796]) .... : <class 'numpy.ndarray'>\n",
      "type(digits.target[1796]) .....: <class 'numpy.int32'>\n",
      "type(digits.target_names[9]) ..: <class 'numpy.int32'>\n",
      "\n",
      "type(digits.data[1796][63]) .. : <class 'numpy.float64'>\n",
      "type(digits.images[1796][7][7]): <class 'numpy.float64'>\n"
     ]
    }
   ],
   "source": [
    "from sklearn.datasets import load_digits\n",
    "digits = load_digits()\n",
    "\n",
    "print(type(digits)) # type is Bunch\n",
    "print(dir(digits)) # return all attributes of this object\n",
    "print(len(digits.target)) # lenght of the array\n",
    "\n",
    "print('\\ntype(digits.DESCR) ........... : '+ str(type(digits.DESCR)) + # digits.DESCR +\n",
    "      '\\ntype(digits.data) ............ : ' + str(type(digits.data)) +  # multidimensional homogeneous array of fixed size items\n",
    "      '\\ntype(digits.images) .......... : ' + str(type(digits.images)) +\n",
    "      '\\ntype(digits.target) .......... : '+ str(type(digits.target)) + \n",
    "      '\\ntype(digits.target_names) .... : ' + str(type(digits.target_names)))\n",
    "\n",
    "print('\\ntype(digits.DESCR[2026]) ..... : '+ str(type(digits.DESCR[2026])) + \n",
    "      '\\ntype(digits.data[1796]) ...... : ' + str(type(digits.data[1796])) +      \n",
    "      '\\ntype(digits.images[1796]) .... : ' + str(type(digits.images[1796])) +\n",
    "      '\\ntype(digits.target[1796]) .....: '+ str(type(digits.target[1796])) + # Target or Y Variable\n",
    "      '\\ntype(digits.target_names[9]) ..: ' + str(type(digits.target_names[9])))\n",
    "\n",
    "print('\\ntype(digits.data[1796][63]) .. : '+ str(type(digits.data[1796][63])) + # Feature or X Variable\n",
    "      '\\ntype(digits.images[1796][7][7]): ' + str(type(digits.images[1796][7][7])))"
   ]
  },
  {
   "cell_type": "code",
   "execution_count": 2,
   "metadata": {},
   "outputs": [
    {
     "name": "stdout",
     "output_type": "stream",
     "text": [
      "digits.data[i] ....... : [ 0.  0. 11. 12.  0.  0.  0.  0.  0.  2. 16. 16. 16. 13.  0.  0.  0.  3.\n",
      " 16. 12. 10. 14.  0.  0.  0.  1. 16.  1. 12. 15.  0.  0.  0.  0. 13. 16.\n",
      "  9. 15.  2.  0.  0.  0.  0.  3.  0.  9. 11.  0.  0.  0.  0.  0.  9. 15.\n",
      "  4.  0.  0.  0.  9. 12. 13.  3.  0.  0.]\n",
      "\n",
      "digits.data[i][j] .... : 11.0\n",
      "digits.target[i] ..... : 9\n",
      "digits.target_names[i] : 9\n"
     ]
    },
    {
     "data": {
      "text/plain": [
       "<matplotlib.image.AxesImage at 0x26aa22a5cc8>"
      ]
     },
     "execution_count": 2,
     "metadata": {},
     "output_type": "execute_result"
    },
    {
     "data": {
      "text/plain": [
       "<Figure size 432x288 with 0 Axes>"
      ]
     },
     "metadata": {},
     "output_type": "display_data"
    },
    {
     "data": {
      "image/png": "[encoded data removed]",
      "text/plain": [
       "<Figure size 288x288 with 1 Axes>"
      ]
     },
     "metadata": {
      "needs_background": "light"
     },
     "output_type": "display_data"
    }
   ],
   "source": [
    "import matplotlib.pyplot as plt\n",
    "%matplotlib inline\n",
    "plt.gray()\n",
    "\n",
    "i=9\n",
    "j=2\n",
    "\n",
    "print('digits.data[i] ....... : ' + str(digits.data[i]) + # Feature or X Variable\n",
    "      '\\n\\ndigits.data[i][j] .... : '+ str(digits.data[i][j]) + \n",
    "      '\\ndigits.target[i] ..... : '+ str(digits.target[i]) + # Target or Y Variable\n",
    "      '\\ndigits.target_names[i] : ' + str(digits.target_names[i]))\n",
    "\n",
    "plt.matshow(digits.images[i])"
   ]
  },
  {
   "cell_type": "code",
   "execution_count": 3,
   "metadata": {},
   "outputs": [],
   "source": [
    "from sklearn.linear_model import LogisticRegression\n",
    "LogModel = LogisticRegression()"
   ]
  },
  {
   "cell_type": "code",
   "execution_count": 4,
   "metadata": {},
   "outputs": [],
   "source": [
    "from sklearn.model_selection import train_test_split\n",
    "X_learn, X_actual, y_learn, y_actual = train_test_split(digits.data, digits.target, test_size=0.25)"
   ]
  },
  {
   "cell_type": "code",
   "execution_count": 5,
   "metadata": {},
   "outputs": [
    {
     "name": "stderr",
     "output_type": "stream",
     "text": [
      "C:\\Users\\pichappan\\Anaconda3\\lib\\site-packages\\sklearn\\linear_model\\logistic.py:432: FutureWarning: Default solver will be changed to 'lbfgs' in 0.22. Specify a solver to silence this warning.\n",
      "  FutureWarning)\n",
      "C:\\Users\\pichappan\\Anaconda3\\lib\\site-packages\\sklearn\\linear_model\\logistic.py:469: FutureWarning: Default multi_class will be changed to 'auto' in 0.22. Specify the multi_class option to silence this warning.\n",
      "  \"this warning.\", FutureWarning)\n"
     ]
    },
    {
     "data": {
      "text/plain": [
       "LogisticRegression(C=1.0, class_weight=None, dual=False, fit_intercept=True,\n",
       "                   intercept_scaling=1, l1_ratio=None, max_iter=100,\n",
       "                   multi_class='warn', n_jobs=None, penalty='l2',\n",
       "                   random_state=None, solver='warn', tol=0.0001, verbose=0,\n",
       "                   warm_start=False)"
      ]
     },
     "execution_count": 5,
     "metadata": {},
     "output_type": "execute_result"
    }
   ],
   "source": [
    "LogModel.fit(X_learn, y_learn)"
   ]
  },
  {
   "cell_type": "code",
   "execution_count": 6,
   "metadata": {},
   "outputs": [
    {
     "data": {
      "text/plain": [
       "0.9577777777777777"
      ]
     },
     "execution_count": 6,
     "metadata": {},
     "output_type": "execute_result"
    }
   ],
   "source": [
    "LogModel.score(X_actual, y_actual)"
   ]
  },
  {
   "cell_type": "code",
   "execution_count": 7,
   "metadata": {},
   "outputs": [
    {
     "data": {
      "text/plain": [
       "array([9])"
      ]
     },
     "execution_count": 7,
     "metadata": {},
     "output_type": "execute_result"
    }
   ],
   "source": [
    "LogModel.predict([digits.data[1795]])"
   ]
  },
  {
   "cell_type": "code",
   "execution_count": 8,
   "metadata": {},
   "outputs": [
    {
     "data": {
      "text/plain": [
       "<matplotlib.image.AxesImage at 0x26aa355c2c8>"
      ]
     },
     "execution_count": 8,
     "metadata": {},
     "output_type": "execute_result"
    },
    {
     "data": {
      "image/png": "[encoded data removed]",
      "text/plain": [
       "<Figure size 288x288 with 1 Axes>"
      ]
     },
     "metadata": {
      "needs_background": "light"
     },
     "output_type": "display_data"
    }
   ],
   "source": [
    "plt.matshow(digits.images[1795])"
   ]
  },
  {
   "cell_type": "code",
   "execution_count": 9,
   "metadata": {},
   "outputs": [],
   "source": [
    "y_predict = LogModel.predict(X_actual)"
   ]
  },
  {
   "cell_type": "code",
   "execution_count": 10,
   "metadata": {},
   "outputs": [
    {
     "data": {
      "text/plain": [
       "array([[50,  0,  0,  0,  1,  0,  0,  0,  1,  0],\n",
       "       [ 0, 37,  0,  2,  0,  0,  0,  0,  0,  0],\n",
       "       [ 0,  0, 41,  1,  0,  0,  0,  0,  0,  0],\n",
       "       [ 0,  0,  0, 44,  0,  1,  0,  0,  2,  0],\n",
       "       [ 0,  0,  0,  0, 32,  0,  0,  0,  0,  0],\n",
       "       [ 0,  0,  0,  0,  0, 45,  1,  0,  0,  0],\n",
       "       [ 0,  0,  0,  0,  0,  0, 47,  0,  0,  0],\n",
       "       [ 0,  0,  0,  0,  0,  0,  0, 51,  0,  1],\n",
       "       [ 0,  3,  0,  1,  0,  0,  0,  0, 36,  1],\n",
       "       [ 0,  0,  0,  1,  0,  0,  0,  0,  3, 48]], dtype=int64)"
      ]
     },
     "execution_count": 10,
     "metadata": {},
     "output_type": "execute_result"
    }
   ],
   "source": [
    "# confused? where is it failing? \n",
    "from sklearn.metrics import confusion_matrix\n",
    "confuse = confusion_matrix(y_actual, y_predict)\n",
    "confuse"
   ]
  },
  {
   "cell_type": "code",
   "execution_count": 11,
   "metadata": {},
   "outputs": [
    {
     "data": {
      "text/plain": [
       "Text(24.0, 0.5, 'Actual')"
      ]
     },
     "execution_count": 11,
     "metadata": {},
     "output_type": "execute_result"
    },
    {
     "data": {
      "image/png": "[encoded data removed]",
      "text/plain": [
       "<Figure size 360x288 with 2 Axes>"
      ]
     },
     "metadata": {
      "needs_background": "light"
     },
     "output_type": "display_data"
    }
   ],
   "source": [
    "import seaborn as sn\n",
    "plt.figure(figsize = (5,4))\n",
    "sn.heatmap(confuse, annot=True)\n",
    "plt.xlabel('Predicted')\n",
    "plt.ylabel('Actual')"
   ]
  },
  {
   "cell_type": "code",
   "execution_count": 12,
   "metadata": {},
   "outputs": [
    {
     "name": "stdout",
     "output_type": "stream",
     "text": [
      "Mean Square Error between Actual and Predicted Y values........ : 0.80000000\n",
      "Coefficient of Determination between Actual & Predicted R2 Score: 0.90771881\n"
     ]
    },
    {
     "ename": "NameError",
     "evalue": "name 'lrModel' is not defined",
     "output_type": "error",
     "traceback": [
      "\u001b[1;31m---------------------------------------------------------------------------\u001b[0m",
      "\u001b[1;31mNameError\u001b[0m                                 Traceback (most recent call last)",
      "\u001b[1;32m<ipython-input-12-1a2ebe8a0299>\u001b[0m in \u001b[0;36m<module>\u001b[1;34m\u001b[0m\n\u001b[0;32m      5\u001b[0m \u001b[0mprint\u001b[0m \u001b[1;33m(\u001b[0m\u001b[1;34m'Mean Square Error between Actual and Predicted Y values........ : %8.8f'\u001b[0m \u001b[1;33m%\u001b[0m \u001b[0mmean_squared_error\u001b[0m\u001b[1;33m(\u001b[0m\u001b[0my_actual\u001b[0m\u001b[1;33m,\u001b[0m \u001b[0my_predict\u001b[0m\u001b[1;33m)\u001b[0m\u001b[1;33m)\u001b[0m\u001b[1;33m\u001b[0m\u001b[1;33m\u001b[0m\u001b[0m\n\u001b[0;32m      6\u001b[0m \u001b[0mprint\u001b[0m \u001b[1;33m(\u001b[0m\u001b[1;34m'Coefficient of Determination between Actual & Predicted R2 Score: %8.8f'\u001b[0m \u001b[1;33m%\u001b[0m \u001b[0mr2_score\u001b[0m\u001b[1;33m(\u001b[0m\u001b[0my_actual\u001b[0m\u001b[1;33m,\u001b[0m \u001b[0my_predict\u001b[0m\u001b[1;33m)\u001b[0m\u001b[1;33m)\u001b[0m\u001b[1;33m\u001b[0m\u001b[1;33m\u001b[0m\u001b[0m\n\u001b[1;32m----> 7\u001b[1;33m \u001b[0mprint\u001b[0m \u001b[1;33m(\u001b[0m\u001b[1;34m'Logistic Regression Model Score with Actual X & Y valuse ........ : %8.8f'\u001b[0m \u001b[1;33m%\u001b[0m \u001b[0mlrModel\u001b[0m\u001b[1;33m.\u001b[0m\u001b[0mscore\u001b[0m\u001b[1;33m(\u001b[0m\u001b[0mX_actual\u001b[0m\u001b[1;33m,\u001b[0m \u001b[0my_actual\u001b[0m\u001b[1;33m)\u001b[0m\u001b[1;33m)\u001b[0m\u001b[1;33m\u001b[0m\u001b[1;33m\u001b[0m\u001b[0m\n\u001b[0m",
      "\u001b[1;31mNameError\u001b[0m: name 'lrModel' is not defined"
     ]
    }
   ],
   "source": [
    "# Feature Variable - Independent - X variable\n",
    "# Target Variable  - Dependent   - Y variable\n",
    "\n",
    "from sklearn.metrics import mean_squared_error, r2_score\n",
    "print ('Mean Square Error between Actual and Predicted Y values........ : %8.8f' % mean_squared_error(y_actual, y_predict))\n",
    "print ('Coefficient of Determination between Actual & Predicted R2 Score: %8.8f' % r2_score(y_actual, y_predict))\n",
    "print ('Logistic Regression Model Score with Actual X & Y valuse ........ : %8.8f' % lrModel.score(X_actual, y_actual))"
   ]
  }
 ],
 "metadata": {
  "kernelspec": {
   "display_name": "Python 3",
   "language": "python",
   "name": "python3"
  }
 },
 "nbformat": 4,
 "nbformat_minor": 2
}
