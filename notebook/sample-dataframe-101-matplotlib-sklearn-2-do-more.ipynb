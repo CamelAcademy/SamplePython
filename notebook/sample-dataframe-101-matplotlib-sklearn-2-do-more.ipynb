{
 "cells": [
  {
   "cell_type": "code",
   "execution_count": 4,
   "metadata": {},
   "outputs": [
    {
     "data": {
      "text/plain": [
       "<function dir>"
      ]
     },
     "execution_count": 4,
     "metadata": {},
     "output_type": "execute_result"
    }
   ],
   "source": [
    "dir"
   ]
  },
  {
   "cell_type": "code",
   "execution_count": 5,
   "metadata": {},
   "outputs": [
    {
     "data": {
      "text/plain": [
       "'/Users/pichappan/Documents/SamplePython/notebook'"
      ]
     },
     "execution_count": 5,
     "metadata": {},
     "output_type": "execute_result"
    }
   ],
   "source": [
    "pwd"
   ]
  },
  {
   "cell_type": "code",
   "execution_count": 7,
   "metadata": {},
   "outputs": [
    {
     "name": "stdout",
     "output_type": "stream",
     "text": [
      "/Users/pichappan/Documents/SamplePython/input\n"
     ]
    }
   ],
   "source": [
    "cd ../input"
   ]
  },
  {
   "cell_type": "code",
   "execution_count": 10,
   "metadata": {},
   "outputs": [
    {
     "name": "stdout",
     "output_type": "stream",
     "text": [
      "2_Sales_Product_Price_by_Store.csv  listings-Odie-Pichappan.csv\r\n",
      "app_info.csv                        new_york_city_property_price.csv\r\n",
      "app_reviews.csv                     sample_data.csv\r\n",
      "countries.csv\r\n"
     ]
    }
   ],
   "source": [
    "ls *.csv"
   ]
  },
  {
   "cell_type": "code",
   "execution_count": 15,
   "metadata": {},
   "outputs": [],
   "source": [
    "import pandas as pd\n",
    "import matplotlib.pyplot as plt\n",
    "%matplotlib inline\n",
    "import seaborn as sns\n",
    "from sklearn import linear_model\n",
    "from sklearn.metrics import mean_squared_error,r2_score"
   ]
  },
  {
   "cell_type": "code",
   "execution_count": 18,
   "metadata": {},
   "outputs": [
    {
     "data": {
      "text/html": [
       "<style type=\"text/css\">\n",
       "table.dataframe td, table.dataframe th{\n",
       "    border-style : solid;\n",
       "}\n"
      ],
      "text/plain": [
       "<IPython.core.display.HTML object>"
      ]
     },
     "metadata": {},
     "output_type": "display_data"
    }
   ],
   "source": [
    "%%HTML \n",
    "<style type=\"text/css\">\n",
    "table.dataframe td, table.dataframe th{\n",
    "    border-style : solid;\n",
    "}"
   ]
  },
  {
   "cell_type": "code",
   "execution_count": 23,
   "metadata": {
    "scrolled": true
   },
   "outputs": [
    {
     "data": {
      "text/html": [
       "<div>\n",
       "<style scoped>\n",
       "    .dataframe tbody tr th:only-of-type {\n",
       "        vertical-align: middle;\n",
       "    }\n",
       "\n",
       "    .dataframe tbody tr th {\n",
       "        vertical-align: top;\n",
       "    }\n",
       "\n",
       "    .dataframe thead th {\n",
       "        text-align: right;\n",
       "    }\n",
       "</style>\n",
       "<table border=\"1\" class=\"dataframe\">\n",
       "  <thead>\n",
       "    <tr style=\"text-align: right;\">\n",
       "      <th></th>\n",
       "      <th>Brooklyn</th>\n",
       "      <th>Manhattan</th>\n",
       "      <th>Staten Island</th>\n",
       "      <th>latitude</th>\n",
       "      <th>longitude</th>\n",
       "      <th>Entire home/apt</th>\n",
       "      <th>Private room</th>\n",
       "      <th>Shared room</th>\n",
       "      <th>minimum_nights</th>\n",
       "      <th>calculated_host_listings_count</th>\n",
       "      <th>availability_365</th>\n",
       "      <th>number_of_reviews</th>\n",
       "      <th>reviews_per_month</th>\n",
       "      <th>price</th>\n",
       "    </tr>\n",
       "  </thead>\n",
       "  <tbody>\n",
       "    <tr>\n",
       "      <td>0</td>\n",
       "      <td>0</td>\n",
       "      <td>1</td>\n",
       "      <td>0</td>\n",
       "      <td>40.75362</td>\n",
       "      <td>-73.98377</td>\n",
       "      <td>1</td>\n",
       "      <td>0</td>\n",
       "      <td>0</td>\n",
       "      <td>1</td>\n",
       "      <td>2</td>\n",
       "      <td>288</td>\n",
       "      <td>46</td>\n",
       "      <td>0.39</td>\n",
       "      <td>225</td>\n",
       "    </tr>\n",
       "    <tr>\n",
       "      <td>1</td>\n",
       "      <td>0</td>\n",
       "      <td>1</td>\n",
       "      <td>0</td>\n",
       "      <td>40.80902</td>\n",
       "      <td>-73.94190</td>\n",
       "      <td>0</td>\n",
       "      <td>1</td>\n",
       "      <td>0</td>\n",
       "      <td>3</td>\n",
       "      <td>1</td>\n",
       "      <td>365</td>\n",
       "      <td>0</td>\n",
       "      <td>0.00</td>\n",
       "      <td>150</td>\n",
       "    </tr>\n",
       "    <tr>\n",
       "      <td>2</td>\n",
       "      <td>1</td>\n",
       "      <td>0</td>\n",
       "      <td>0</td>\n",
       "      <td>40.68514</td>\n",
       "      <td>-73.95976</td>\n",
       "      <td>1</td>\n",
       "      <td>0</td>\n",
       "      <td>0</td>\n",
       "      <td>1</td>\n",
       "      <td>1</td>\n",
       "      <td>212</td>\n",
       "      <td>274</td>\n",
       "      <td>4.64</td>\n",
       "      <td>89</td>\n",
       "    </tr>\n",
       "    <tr>\n",
       "      <td>3</td>\n",
       "      <td>0</td>\n",
       "      <td>1</td>\n",
       "      <td>0</td>\n",
       "      <td>40.79851</td>\n",
       "      <td>-73.94399</td>\n",
       "      <td>1</td>\n",
       "      <td>0</td>\n",
       "      <td>0</td>\n",
       "      <td>10</td>\n",
       "      <td>1</td>\n",
       "      <td>0</td>\n",
       "      <td>9</td>\n",
       "      <td>0.10</td>\n",
       "      <td>80</td>\n",
       "    </tr>\n",
       "    <tr>\n",
       "      <td>4</td>\n",
       "      <td>0</td>\n",
       "      <td>1</td>\n",
       "      <td>0</td>\n",
       "      <td>40.74767</td>\n",
       "      <td>-73.97500</td>\n",
       "      <td>1</td>\n",
       "      <td>0</td>\n",
       "      <td>0</td>\n",
       "      <td>3</td>\n",
       "      <td>1</td>\n",
       "      <td>127</td>\n",
       "      <td>75</td>\n",
       "      <td>0.60</td>\n",
       "      <td>200</td>\n",
       "    </tr>\n",
       "  </tbody>\n",
       "</table>\n",
       "</div>"
      ],
      "text/plain": [
       "   Brooklyn  Manhattan  Staten Island  latitude  longitude  Entire home/apt  \\\n",
       "0         0          1              0  40.75362  -73.98377                1   \n",
       "1         0          1              0  40.80902  -73.94190                0   \n",
       "2         1          0              0  40.68514  -73.95976                1   \n",
       "3         0          1              0  40.79851  -73.94399                1   \n",
       "4         0          1              0  40.74767  -73.97500                1   \n",
       "\n",
       "   Private room  Shared room  minimum_nights  calculated_host_listings_count  \\\n",
       "0             0            0               1                               2   \n",
       "1             1            0               3                               1   \n",
       "2             0            0               1                               1   \n",
       "3             0            0              10                               1   \n",
       "4             0            0               3                               1   \n",
       "\n",
       "   availability_365  number_of_reviews  reviews_per_month  price  \n",
       "0               288                 46               0.39    225  \n",
       "1               365                  0               0.00    150  \n",
       "2               212                274               4.64     89  \n",
       "3                 0                  9               0.10     80  \n",
       "4               127                 75               0.60    200  "
      ]
     },
     "execution_count": 23,
     "metadata": {},
     "output_type": "execute_result"
    }
   ],
   "source": [
    "df_nyc = pd.read_csv('new_york_city_property_price.csv')\n",
    "df_nyc.head()"
   ]
  },
  {
   "cell_type": "code",
   "execution_count": 24,
   "metadata": {},
   "outputs": [
    {
     "data": {
      "text/plain": [
       "Index(['Brooklyn', 'Manhattan', 'Staten Island', 'latitude', 'longitude',\n",
       "       'Entire home/apt', 'Private room', 'Shared room', 'minimum_nights',\n",
       "       'calculated_host_listings_count', 'availability_365',\n",
       "       'number_of_reviews', 'reviews_per_month', 'price'],\n",
       "      dtype='object')"
      ]
     },
     "execution_count": 24,
     "metadata": {},
     "output_type": "execute_result"
    }
   ],
   "source": [
    "df_nyc.columns"
   ]
  },
  {
   "cell_type": "code",
   "execution_count": 26,
   "metadata": {},
   "outputs": [
    {
     "data": {
      "text/html": [
       "<div>\n",
       "<style scoped>\n",
       "    .dataframe tbody tr th:only-of-type {\n",
       "        vertical-align: middle;\n",
       "    }\n",
       "\n",
       "    .dataframe tbody tr th {\n",
       "        vertical-align: top;\n",
       "    }\n",
       "\n",
       "    .dataframe thead th {\n",
       "        text-align: right;\n",
       "    }\n",
       "</style>\n",
       "<table border=\"1\" class=\"dataframe\">\n",
       "  <thead>\n",
       "    <tr style=\"text-align: right;\">\n",
       "      <th></th>\n",
       "      <th>Brooklyn</th>\n",
       "      <th>Manhattan</th>\n",
       "      <th>Staten Island</th>\n",
       "      <th>latitude</th>\n",
       "      <th>longitude</th>\n",
       "      <th>Entire home/apt</th>\n",
       "      <th>Private room</th>\n",
       "      <th>Shared room</th>\n",
       "      <th>minimum_nights</th>\n",
       "      <th>calculated_host_listings_count</th>\n",
       "      <th>availability_365</th>\n",
       "      <th>number_of_reviews</th>\n",
       "      <th>reviews_per_month</th>\n",
       "    </tr>\n",
       "  </thead>\n",
       "  <tbody>\n",
       "    <tr>\n",
       "      <td>0</td>\n",
       "      <td>0</td>\n",
       "      <td>1</td>\n",
       "      <td>0</td>\n",
       "      <td>40.75362</td>\n",
       "      <td>-73.98377</td>\n",
       "      <td>1</td>\n",
       "      <td>0</td>\n",
       "      <td>0</td>\n",
       "      <td>1</td>\n",
       "      <td>2</td>\n",
       "      <td>288</td>\n",
       "      <td>46</td>\n",
       "      <td>0.39</td>\n",
       "    </tr>\n",
       "    <tr>\n",
       "      <td>1</td>\n",
       "      <td>0</td>\n",
       "      <td>1</td>\n",
       "      <td>0</td>\n",
       "      <td>40.80902</td>\n",
       "      <td>-73.94190</td>\n",
       "      <td>0</td>\n",
       "      <td>1</td>\n",
       "      <td>0</td>\n",
       "      <td>3</td>\n",
       "      <td>1</td>\n",
       "      <td>365</td>\n",
       "      <td>0</td>\n",
       "      <td>0.00</td>\n",
       "    </tr>\n",
       "    <tr>\n",
       "      <td>2</td>\n",
       "      <td>1</td>\n",
       "      <td>0</td>\n",
       "      <td>0</td>\n",
       "      <td>40.68514</td>\n",
       "      <td>-73.95976</td>\n",
       "      <td>1</td>\n",
       "      <td>0</td>\n",
       "      <td>0</td>\n",
       "      <td>1</td>\n",
       "      <td>1</td>\n",
       "      <td>212</td>\n",
       "      <td>274</td>\n",
       "      <td>4.64</td>\n",
       "    </tr>\n",
       "    <tr>\n",
       "      <td>3</td>\n",
       "      <td>0</td>\n",
       "      <td>1</td>\n",
       "      <td>0</td>\n",
       "      <td>40.79851</td>\n",
       "      <td>-73.94399</td>\n",
       "      <td>1</td>\n",
       "      <td>0</td>\n",
       "      <td>0</td>\n",
       "      <td>10</td>\n",
       "      <td>1</td>\n",
       "      <td>0</td>\n",
       "      <td>9</td>\n",
       "      <td>0.10</td>\n",
       "    </tr>\n",
       "    <tr>\n",
       "      <td>4</td>\n",
       "      <td>0</td>\n",
       "      <td>1</td>\n",
       "      <td>0</td>\n",
       "      <td>40.74767</td>\n",
       "      <td>-73.97500</td>\n",
       "      <td>1</td>\n",
       "      <td>0</td>\n",
       "      <td>0</td>\n",
       "      <td>3</td>\n",
       "      <td>1</td>\n",
       "      <td>127</td>\n",
       "      <td>75</td>\n",
       "      <td>0.60</td>\n",
       "    </tr>\n",
       "  </tbody>\n",
       "</table>\n",
       "</div>"
      ],
      "text/plain": [
       "   Brooklyn  Manhattan  Staten Island  latitude  longitude  Entire home/apt  \\\n",
       "0         0          1              0  40.75362  -73.98377                1   \n",
       "1         0          1              0  40.80902  -73.94190                0   \n",
       "2         1          0              0  40.68514  -73.95976                1   \n",
       "3         0          1              0  40.79851  -73.94399                1   \n",
       "4         0          1              0  40.74767  -73.97500                1   \n",
       "\n",
       "   Private room  Shared room  minimum_nights  calculated_host_listings_count  \\\n",
       "0             0            0               1                               2   \n",
       "1             1            0               3                               1   \n",
       "2             0            0               1                               1   \n",
       "3             0            0              10                               1   \n",
       "4             0            0               3                               1   \n",
       "\n",
       "   availability_365  number_of_reviews  reviews_per_month  \n",
       "0               288                 46               0.39  \n",
       "1               365                  0               0.00  \n",
       "2               212                274               4.64  \n",
       "3                 0                  9               0.10  \n",
       "4               127                 75               0.60  "
      ]
     },
     "execution_count": 26,
     "metadata": {},
     "output_type": "execute_result"
    }
   ],
   "source": [
    "df_nyc_2=df_nyc[['Brooklyn', 'Manhattan', 'Staten Island', 'latitude', 'longitude',\n",
    "       'Entire home/apt', 'Private room', 'Shared room', 'minimum_nights',\n",
    "       'calculated_host_listings_count', 'availability_365',\n",
    "       'number_of_reviews', 'reviews_per_month']]\n",
    "df_nyc_2.head()"
   ]
  },
  {
   "cell_type": "code",
   "execution_count": 27,
   "metadata": {},
   "outputs": [
    {
     "data": {
      "text/plain": [
       "Index(['Brooklyn', 'Manhattan', 'Staten Island', 'latitude', 'longitude',\n",
       "       'Entire home/apt', 'Private room', 'Shared room', 'minimum_nights',\n",
       "       'calculated_host_listings_count', 'availability_365',\n",
       "       'number_of_reviews', 'reviews_per_month'],\n",
       "      dtype='object')"
      ]
     },
     "execution_count": 27,
     "metadata": {},
     "output_type": "execute_result"
    }
   ],
   "source": [
    "df_nyc_2.columns"
   ]
  },
  {
   "cell_type": "code",
   "execution_count": 28,
   "metadata": {},
   "outputs": [
    {
     "data": {
      "text/html": [
       "<div>\n",
       "<style scoped>\n",
       "    .dataframe tbody tr th:only-of-type {\n",
       "        vertical-align: middle;\n",
       "    }\n",
       "\n",
       "    .dataframe tbody tr th {\n",
       "        vertical-align: top;\n",
       "    }\n",
       "\n",
       "    .dataframe thead th {\n",
       "        text-align: right;\n",
       "    }\n",
       "</style>\n",
       "<table border=\"1\" class=\"dataframe\">\n",
       "  <thead>\n",
       "    <tr style=\"text-align: right;\">\n",
       "      <th></th>\n",
       "      <th>Brooklyn</th>\n",
       "      <th>Manhattan</th>\n",
       "      <th>Staten Island</th>\n",
       "      <th>latitude</th>\n",
       "      <th>longitude</th>\n",
       "      <th>Entire home/apt</th>\n",
       "      <th>Private room</th>\n",
       "      <th>Shared room</th>\n",
       "      <th>minimum_nights</th>\n",
       "      <th>calculated_host_listings_count</th>\n",
       "      <th>availability_365</th>\n",
       "      <th>number_of_reviews</th>\n",
       "      <th>reviews_per_month</th>\n",
       "    </tr>\n",
       "  </thead>\n",
       "  <tbody>\n",
       "    <tr>\n",
       "      <td>count</td>\n",
       "      <td>48864.000000</td>\n",
       "      <td>48864.000000</td>\n",
       "      <td>48864.000000</td>\n",
       "      <td>48864.000000</td>\n",
       "      <td>48864.000000</td>\n",
       "      <td>48864.000000</td>\n",
       "      <td>48864.000000</td>\n",
       "      <td>48864.000000</td>\n",
       "      <td>48864.000000</td>\n",
       "      <td>48864.000000</td>\n",
       "      <td>48864.000000</td>\n",
       "      <td>48864.000000</td>\n",
       "      <td>48864.000000</td>\n",
       "    </tr>\n",
       "    <tr>\n",
       "      <td>mean</td>\n",
       "      <td>0.411632</td>\n",
       "      <td>0.439096</td>\n",
       "      <td>0.007736</td>\n",
       "      <td>40.728664</td>\n",
       "      <td>-73.951850</td>\n",
       "      <td>0.517682</td>\n",
       "      <td>0.458354</td>\n",
       "      <td>0.023964</td>\n",
       "      <td>7.093116</td>\n",
       "      <td>7.438278</td>\n",
       "      <td>112.483505</td>\n",
       "      <td>23.392191</td>\n",
       "      <td>1.082544</td>\n",
       "    </tr>\n",
       "    <tr>\n",
       "      <td>std</td>\n",
       "      <td>0.492134</td>\n",
       "      <td>0.496282</td>\n",
       "      <td>0.087613</td>\n",
       "      <td>0.054794</td>\n",
       "      <td>0.046440</td>\n",
       "      <td>0.499692</td>\n",
       "      <td>0.498268</td>\n",
       "      <td>0.152940</td>\n",
       "      <td>20.264170</td>\n",
       "      <td>34.949053</td>\n",
       "      <td>132.373994</td>\n",
       "      <td>44.939690</td>\n",
       "      <td>1.605681</td>\n",
       "    </tr>\n",
       "    <tr>\n",
       "      <td>min</td>\n",
       "      <td>0.000000</td>\n",
       "      <td>0.000000</td>\n",
       "      <td>0.000000</td>\n",
       "      <td>40.499790</td>\n",
       "      <td>-74.244420</td>\n",
       "      <td>0.000000</td>\n",
       "      <td>0.000000</td>\n",
       "      <td>0.000000</td>\n",
       "      <td>1.000000</td>\n",
       "      <td>1.000000</td>\n",
       "      <td>0.000000</td>\n",
       "      <td>0.000000</td>\n",
       "      <td>0.000000</td>\n",
       "    </tr>\n",
       "    <tr>\n",
       "      <td>25%</td>\n",
       "      <td>0.000000</td>\n",
       "      <td>0.000000</td>\n",
       "      <td>0.000000</td>\n",
       "      <td>40.689797</td>\n",
       "      <td>-73.982952</td>\n",
       "      <td>0.000000</td>\n",
       "      <td>0.000000</td>\n",
       "      <td>0.000000</td>\n",
       "      <td>1.000000</td>\n",
       "      <td>1.000000</td>\n",
       "      <td>0.000000</td>\n",
       "      <td>1.000000</td>\n",
       "      <td>0.040000</td>\n",
       "    </tr>\n",
       "    <tr>\n",
       "      <td>50%</td>\n",
       "      <td>0.000000</td>\n",
       "      <td>0.000000</td>\n",
       "      <td>0.000000</td>\n",
       "      <td>40.722880</td>\n",
       "      <td>-73.955510</td>\n",
       "      <td>1.000000</td>\n",
       "      <td>0.000000</td>\n",
       "      <td>0.000000</td>\n",
       "      <td>2.000000</td>\n",
       "      <td>1.000000</td>\n",
       "      <td>41.000000</td>\n",
       "      <td>5.000000</td>\n",
       "      <td>0.360000</td>\n",
       "    </tr>\n",
       "    <tr>\n",
       "      <td>75%</td>\n",
       "      <td>1.000000</td>\n",
       "      <td>1.000000</td>\n",
       "      <td>0.000000</td>\n",
       "      <td>40.762970</td>\n",
       "      <td>-73.935628</td>\n",
       "      <td>1.000000</td>\n",
       "      <td>1.000000</td>\n",
       "      <td>0.000000</td>\n",
       "      <td>5.000000</td>\n",
       "      <td>2.000000</td>\n",
       "      <td>232.000000</td>\n",
       "      <td>24.000000</td>\n",
       "      <td>1.550000</td>\n",
       "    </tr>\n",
       "    <tr>\n",
       "      <td>max</td>\n",
       "      <td>1.000000</td>\n",
       "      <td>1.000000</td>\n",
       "      <td>1.000000</td>\n",
       "      <td>40.912400</td>\n",
       "      <td>-73.712990</td>\n",
       "      <td>1.000000</td>\n",
       "      <td>1.000000</td>\n",
       "      <td>1.000000</td>\n",
       "      <td>1250.000000</td>\n",
       "      <td>343.000000</td>\n",
       "      <td>365.000000</td>\n",
       "      <td>639.000000</td>\n",
       "      <td>66.610000</td>\n",
       "    </tr>\n",
       "  </tbody>\n",
       "</table>\n",
       "</div>"
      ],
      "text/plain": [
       "           Brooklyn     Manhattan  Staten Island      latitude     longitude  \\\n",
       "count  48864.000000  48864.000000   48864.000000  48864.000000  48864.000000   \n",
       "mean       0.411632      0.439096       0.007736     40.728664    -73.951850   \n",
       "std        0.492134      0.496282       0.087613      0.054794      0.046440   \n",
       "min        0.000000      0.000000       0.000000     40.499790    -74.244420   \n",
       "25%        0.000000      0.000000       0.000000     40.689797    -73.982952   \n",
       "50%        0.000000      0.000000       0.000000     40.722880    -73.955510   \n",
       "75%        1.000000      1.000000       0.000000     40.762970    -73.935628   \n",
       "max        1.000000      1.000000       1.000000     40.912400    -73.712990   \n",
       "\n",
       "       Entire home/apt  Private room   Shared room  minimum_nights  \\\n",
       "count     48864.000000  48864.000000  48864.000000    48864.000000   \n",
       "mean          0.517682      0.458354      0.023964        7.093116   \n",
       "std           0.499692      0.498268      0.152940       20.264170   \n",
       "min           0.000000      0.000000      0.000000        1.000000   \n",
       "25%           0.000000      0.000000      0.000000        1.000000   \n",
       "50%           1.000000      0.000000      0.000000        2.000000   \n",
       "75%           1.000000      1.000000      0.000000        5.000000   \n",
       "max           1.000000      1.000000      1.000000     1250.000000   \n",
       "\n",
       "       calculated_host_listings_count  availability_365  number_of_reviews  \\\n",
       "count                    48864.000000      48864.000000       48864.000000   \n",
       "mean                         7.438278        112.483505          23.392191   \n",
       "std                         34.949053        132.373994          44.939690   \n",
       "min                          1.000000          0.000000           0.000000   \n",
       "25%                          1.000000          0.000000           1.000000   \n",
       "50%                          1.000000         41.000000           5.000000   \n",
       "75%                          2.000000        232.000000          24.000000   \n",
       "max                        343.000000        365.000000         639.000000   \n",
       "\n",
       "       reviews_per_month  \n",
       "count       48864.000000  \n",
       "mean            1.082544  \n",
       "std             1.605681  \n",
       "min             0.000000  \n",
       "25%             0.040000  \n",
       "50%             0.360000  \n",
       "75%             1.550000  \n",
       "max            66.610000  "
      ]
     },
     "execution_count": 28,
     "metadata": {},
     "output_type": "execute_result"
    }
   ],
   "source": [
    "df_nyc_2.describe()"
   ]
  },
  {
   "cell_type": "code",
   "execution_count": 29,
   "metadata": {},
   "outputs": [
    {
     "data": {
      "text/plain": [
       "Brooklyn                            int64\n",
       "Manhattan                           int64\n",
       "Staten Island                       int64\n",
       "latitude                          float64\n",
       "longitude                         float64\n",
       "Entire home/apt                     int64\n",
       "Private room                        int64\n",
       "Shared room                         int64\n",
       "minimum_nights                      int64\n",
       "calculated_host_listings_count      int64\n",
       "availability_365                    int64\n",
       "number_of_reviews                   int64\n",
       "reviews_per_month                 float64\n",
       "dtype: object"
      ]
     },
     "execution_count": 29,
     "metadata": {},
     "output_type": "execute_result"
    }
   ],
   "source": [
    "df_nyc_2.dtypes"
   ]
  },
  {
   "cell_type": "code",
   "execution_count": 31,
   "metadata": {},
   "outputs": [
    {
     "data": {
      "text/plain": [
       "<matplotlib.axes._subplots.AxesSubplot at 0x1a179c4cd0>"
      ]
     },
     "execution_count": 31,
     "metadata": {},
     "output_type": "execute_result"
    },
    {
     "data": {
      "image/png": "[encoded data removed]",
      "text/plain": [
       "<Figure size 432x288 with 1 Axes>"
      ]
     },
     "metadata": {
      "needs_background": "light"
     },
     "output_type": "display_data"
    }
   ],
   "source": [
    "df_nyc_2['latitude'].plot(kind='hist')"
   ]
  },
  {
   "cell_type": "code",
   "execution_count": 38,
   "metadata": {},
   "outputs": [
    {
     "data": {
      "text/plain": [
       "<matplotlib.axes._subplots.AxesSubplot at 0x1a17ced310>"
      ]
     },
     "execution_count": 38,
     "metadata": {},
     "output_type": "execute_result"
    },
    {
     "data": {
      "image/png": "[encoded data removed]",
      "text/plain": [
       "<Figure size 432x288 with 1 Axes>"
      ]
     },
     "metadata": {
      "needs_background": "light"
     },
     "output_type": "display_data"
    }
   ],
   "source": [
    "df_nyc_2.plot(x='longitude',y='latitude',kind='scatter')"
   ]
  },
  {
   "cell_type": "code",
   "execution_count": 35,
   "metadata": {},
   "outputs": [],
   "source": [
    "df_nyc_2.columns=df_nyc_2.columns.str.replace('_365','').str.replace('calculated_host_listings_count','calc_host_list_cnt')"
   ]
  },
  {
   "cell_type": "code",
   "execution_count": 36,
   "metadata": {},
   "outputs": [
    {
     "data": {
      "text/plain": [
       "Brooklyn                int64\n",
       "Manhattan               int64\n",
       "Staten Island           int64\n",
       "latitude              float64\n",
       "longitude             float64\n",
       "Entire home/apt         int64\n",
       "Private room            int64\n",
       "Shared room             int64\n",
       "minimum_nights          int64\n",
       "calc_host_list_cnt      int64\n",
       "availability            int64\n",
       "number_of_reviews       int64\n",
       "reviews_per_month     float64\n",
       "dtype: object"
      ]
     },
     "execution_count": 36,
     "metadata": {},
     "output_type": "execute_result"
    }
   ],
   "source": [
    "df_nyc_2.dtypes"
   ]
  },
  {
   "cell_type": "code",
   "execution_count": 37,
   "metadata": {},
   "outputs": [],
   "source": [
    "df_nyc_3 = df_nyc_2.dropna(how='any')"
   ]
  }
 ],
 "metadata": {
  "kernelspec": {
   "display_name": "Python 3",
   "language": "python",
   "name": "python3"
  },
  "language_info": {
   "codemirror_mode": {
    "name": "ipython",
    "version": 3
   },
   "file_extension": ".py",
   "mimetype": "text/x-python",
   "name": "python",
   "nbconvert_exporter": "python",
   "pygments_lexer": "ipython3",
   "version": "3.7.4"
  }
 },
 "nbformat": 4,
 "nbformat_minor": 2
}
