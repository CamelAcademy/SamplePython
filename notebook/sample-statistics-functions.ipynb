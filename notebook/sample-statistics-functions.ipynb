{
 "cells": [
  {
   "cell_type": "code",
   "execution_count": 3,
   "metadata": {},
   "outputs": [],
   "source": [
    "from statistics import mean\n",
    "from statistics import median\n",
    "from statistics import mode\n",
    "from statistics import variance\n",
    "from statistics import stdev"
   ]
  },
  {
   "cell_type": "code",
   "execution_count": 9,
   "metadata": {},
   "outputs": [
    {
     "name": "stdout",
     "output_type": "stream",
     "text": [
      "18\n",
      "6\n",
      "4\n",
      "586.5\n",
      "24.21776207662467\n",
      "18\n"
     ]
    }
   ],
   "source": [
    "list1 = [2,3,4,32,-2,88,4,12,6,32,27,22,4]\n",
    "print(mean(list1))\n",
    "print(median(list1))\n",
    "print(mode(list1))\n",
    "print(variance(list1))\n",
    "print(stdev(list1))\n",
    "print(mean(list1))"
   ]
  }
 ],
 "metadata": {
  "kernelspec": {
   "display_name": "Python 3",
   "language": "python",
   "name": "python3"
  },
  "language_info": {
   "codemirror_mode": {
    "name": "ipython",
    "version": 3
   },
   "file_extension": ".py",
   "mimetype": "text/x-python",
   "name": "python",
   "nbconvert_exporter": "python",
   "pygments_lexer": "ipython3",
   "version": "3.7.4"
  }
 },
 "nbformat": 4,
 "nbformat_minor": 2
}
